{
  "nbformat": 4,
  "nbformat_minor": 0,
  "metadata": {
    "colab": {
      "name": "Faktöriyelyazdırma",
      "version": "0.3.2",
      "provenance": []
    },
    "kernelspec": {
      "name": "python3",
      "display_name": "Python 3"
    }
  },
  "cells": [
    {
      "cell_type": "markdown",
      "metadata": {
        "id": "WJfSqAgk13Dn",
        "colab_type": "text"
      },
      "source": [
        "Girilen sayının faktöriyelini hesaplayan bir fonksiyon yazınız."
      ]
    },
    {
      "cell_type": "code",
      "metadata": {
        "id": "auQRYkFzsMfP",
        "colab_type": "code",
        "outputId": "53a3ff81-7586-4021-dab8-37f17ddd54e9",
        "colab": {
          "base_uri": "https://localhost:8080/",
          "height": 52
        }
      },
      "source": [
        "sayı=int(input(\"Faktoriyeli almak istediğiniz sayıyı giriniz :\" ))\n",
        "carpım=1\n",
        "\n",
        "for x in range(sayı):\n",
        "  carpım*=x+1\n",
        "\n",
        "print(carpım)\n"
      ],
      "execution_count": 2,
      "outputs": [
        {
          "output_type": "stream",
          "text": [
            "Faktoriyeli almak istediğiniz sayıyı giriniz :5\n",
            "120\n"
          ],
          "name": "stdout"
        }
      ]
    }
  ]
}