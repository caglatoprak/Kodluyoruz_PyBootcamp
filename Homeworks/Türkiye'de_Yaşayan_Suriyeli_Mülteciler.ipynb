{
  "nbformat": 4,
  "nbformat_minor": 0,
  "metadata": {
    "colab": {
      "name": "Türkiye'de Yaşayan Suriyeli Mülteciler",
      "version": "0.3.2",
      "provenance": [],
      "collapsed_sections": []
    },
    "kernelspec": {
      "name": "python3",
      "display_name": "Python 3"
    }
  },
  "cells": [
    {
      "cell_type": "markdown",
      "metadata": {
        "id": "ZzeagIG6NQfw",
        "colab_type": "text"
      },
      "source": [
        "# **Türkiye'de Yaşayan Suriyeli Mülteciler**"
      ]
    },
    {
      "cell_type": "code",
      "metadata": {
        "id": "QyZbPurLiM_R",
        "colab_type": "code",
        "colab": {}
      },
      "source": [
        "import pandas as pd\n",
        "import numpy as np\n",
        "import matplotlib.pyplot as plt"
      ],
      "execution_count": 0,
      "outputs": []
    },
    {
      "cell_type": "code",
      "metadata": {
        "id": "f7_IpTZqiqSE",
        "colab_type": "code",
        "colab": {}
      },
      "source": [
        "multeci = pd.read_html(\"https://multeciler.org.tr/turkiyedeki-suriyeli-sayisi/\", header=0)"
      ],
      "execution_count": 0,
      "outputs": []
    },
    {
      "cell_type": "code",
      "metadata": {
        "id": "Lc-g6BdEjsf3",
        "colab_type": "code",
        "outputId": "ea6cd3f3-0866-4413-e82c-7e920547d398",
        "colab": {
          "base_uri": "https://localhost:8080/",
          "height": 545
        }
      },
      "source": [
        "multeci[0]"
      ],
      "execution_count": 0,
      "outputs": [
        {
          "output_type": "execute_result",
          "data": {
            "text/html": [
              "<div>\n",
              "<style scoped>\n",
              "    .dataframe tbody tr th:only-of-type {\n",
              "        vertical-align: middle;\n",
              "    }\n",
              "\n",
              "    .dataframe tbody tr th {\n",
              "        vertical-align: top;\n",
              "    }\n",
              "\n",
              "    .dataframe thead th {\n",
              "        text-align: right;\n",
              "    }\n",
              "</style>\n",
              "<table border=\"1\" class=\"dataframe\">\n",
              "  <thead>\n",
              "    <tr style=\"text-align: right;\">\n",
              "      <th></th>\n",
              "      <th>YAŞ</th>\n",
              "      <th>ERKEK</th>\n",
              "      <th>KADIN</th>\n",
              "      <th>TOPLAM</th>\n",
              "    </tr>\n",
              "  </thead>\n",
              "  <tbody>\n",
              "    <tr>\n",
              "      <th>0</th>\n",
              "      <td>TOPLAM</td>\n",
              "      <td>1.953.126</td>\n",
              "      <td>1.653.611</td>\n",
              "      <td>3.606.737</td>\n",
              "    </tr>\n",
              "    <tr>\n",
              "      <th>1</th>\n",
              "      <td>0-4</td>\n",
              "      <td>265.260</td>\n",
              "      <td>247.790</td>\n",
              "      <td>513.050</td>\n",
              "    </tr>\n",
              "    <tr>\n",
              "      <th>2</th>\n",
              "      <td>5-9</td>\n",
              "      <td>254.669</td>\n",
              "      <td>239.734</td>\n",
              "      <td>494.403</td>\n",
              "    </tr>\n",
              "    <tr>\n",
              "      <th>3</th>\n",
              "      <td>10-14</td>\n",
              "      <td>199.361</td>\n",
              "      <td>184.917</td>\n",
              "      <td>384.278</td>\n",
              "    </tr>\n",
              "    <tr>\n",
              "      <th>4</th>\n",
              "      <td>15-18</td>\n",
              "      <td>148.466</td>\n",
              "      <td>122.556</td>\n",
              "      <td>271.022</td>\n",
              "    </tr>\n",
              "    <tr>\n",
              "      <th>5</th>\n",
              "      <td>19-24</td>\n",
              "      <td>316.095</td>\n",
              "      <td>228.011</td>\n",
              "      <td>544.106</td>\n",
              "    </tr>\n",
              "    <tr>\n",
              "      <th>6</th>\n",
              "      <td>25-29</td>\n",
              "      <td>204.929</td>\n",
              "      <td>146.151</td>\n",
              "      <td>351.080</td>\n",
              "    </tr>\n",
              "    <tr>\n",
              "      <th>7</th>\n",
              "      <td>30-34</td>\n",
              "      <td>169.451</td>\n",
              "      <td>124.377</td>\n",
              "      <td>293.828</td>\n",
              "    </tr>\n",
              "    <tr>\n",
              "      <th>8</th>\n",
              "      <td>35-39</td>\n",
              "      <td>119.941</td>\n",
              "      <td>94.623</td>\n",
              "      <td>214.564</td>\n",
              "    </tr>\n",
              "    <tr>\n",
              "      <th>9</th>\n",
              "      <td>40-44</td>\n",
              "      <td>79.265</td>\n",
              "      <td>69.943</td>\n",
              "      <td>149.208</td>\n",
              "    </tr>\n",
              "    <tr>\n",
              "      <th>10</th>\n",
              "      <td>45-49</td>\n",
              "      <td>58.715</td>\n",
              "      <td>55.796</td>\n",
              "      <td>114.511</td>\n",
              "    </tr>\n",
              "    <tr>\n",
              "      <th>11</th>\n",
              "      <td>50-54</td>\n",
              "      <td>47.484</td>\n",
              "      <td>45.391</td>\n",
              "      <td>92.875</td>\n",
              "    </tr>\n",
              "    <tr>\n",
              "      <th>12</th>\n",
              "      <td>55-59</td>\n",
              "      <td>33.021</td>\n",
              "      <td>33.357</td>\n",
              "      <td>66.378</td>\n",
              "    </tr>\n",
              "    <tr>\n",
              "      <th>13</th>\n",
              "      <td>60-64</td>\n",
              "      <td>23.082</td>\n",
              "      <td>23.790</td>\n",
              "      <td>46.872</td>\n",
              "    </tr>\n",
              "    <tr>\n",
              "      <th>14</th>\n",
              "      <td>65-74</td>\n",
              "      <td>23.753</td>\n",
              "      <td>25.026</td>\n",
              "      <td>48.779</td>\n",
              "    </tr>\n",
              "    <tr>\n",
              "      <th>15</th>\n",
              "      <td>75+</td>\n",
              "      <td>9.634</td>\n",
              "      <td>12.149</td>\n",
              "      <td>21.783</td>\n",
              "    </tr>\n",
              "  </tbody>\n",
              "</table>\n",
              "</div>"
            ],
            "text/plain": [
              "       YAŞ      ERKEK      KADIN     TOPLAM\n",
              "0   TOPLAM  1.953.126  1.653.611  3.606.737\n",
              "1      0-4    265.260    247.790    513.050\n",
              "2      5-9    254.669    239.734    494.403\n",
              "3    10-14    199.361    184.917    384.278\n",
              "4    15-18    148.466    122.556    271.022\n",
              "5    19-24    316.095    228.011    544.106\n",
              "6    25-29    204.929    146.151    351.080\n",
              "7    30-34    169.451    124.377    293.828\n",
              "8    35-39    119.941     94.623    214.564\n",
              "9    40-44     79.265     69.943    149.208\n",
              "10   45-49     58.715     55.796    114.511\n",
              "11   50-54     47.484     45.391     92.875\n",
              "12   55-59     33.021     33.357     66.378\n",
              "13   60-64     23.082     23.790     46.872\n",
              "14   65-74     23.753     25.026     48.779\n",
              "15     75+      9.634     12.149     21.783"
            ]
          },
          "metadata": {
            "tags": []
          },
          "execution_count": 299
        }
      ]
    },
    {
      "cell_type": "code",
      "metadata": {
        "id": "hJrJxcKUjviS",
        "colab_type": "code",
        "outputId": "4a257019-fb2c-4ee9-dc66-e8b1f4055dcf",
        "colab": {
          "base_uri": "https://localhost:8080/",
          "height": 638
        }
      },
      "source": [
        "multeci[1]"
      ],
      "execution_count": 0,
      "outputs": [
        {
          "output_type": "execute_result",
          "data": {
            "text/html": [
              "<div>\n",
              "<style scoped>\n",
              "    .dataframe tbody tr th:only-of-type {\n",
              "        vertical-align: middle;\n",
              "    }\n",
              "\n",
              "    .dataframe tbody tr th {\n",
              "        vertical-align: top;\n",
              "    }\n",
              "\n",
              "    .dataframe thead th {\n",
              "        text-align: right;\n",
              "    }\n",
              "</style>\n",
              "<table border=\"1\" class=\"dataframe\">\n",
              "  <thead>\n",
              "    <tr style=\"text-align: right;\">\n",
              "      <th></th>\n",
              "      <th>ŞEHİR</th>\n",
              "      <th>SAYI</th>\n",
              "      <th>İL NÜFUSU İLE KARŞILAŞTIRMA</th>\n",
              "    </tr>\n",
              "  </thead>\n",
              "  <tbody>\n",
              "    <tr>\n",
              "      <th>0</th>\n",
              "      <td>İstanbul</td>\n",
              "      <td>546 bin 238</td>\n",
              "      <td>%3,63</td>\n",
              "    </tr>\n",
              "    <tr>\n",
              "      <th>1</th>\n",
              "      <td>*Şanlıurfa</td>\n",
              "      <td>441 bin 792</td>\n",
              "      <td>%21,7</td>\n",
              "    </tr>\n",
              "    <tr>\n",
              "      <th>2</th>\n",
              "      <td>*Gaziantep</td>\n",
              "      <td>433 bin 664</td>\n",
              "      <td>%21,38</td>\n",
              "    </tr>\n",
              "    <tr>\n",
              "      <th>3</th>\n",
              "      <td>*Hatay</td>\n",
              "      <td>426 bin 869</td>\n",
              "      <td>%26,52</td>\n",
              "    </tr>\n",
              "    <tr>\n",
              "      <th>4</th>\n",
              "      <td>*Adana</td>\n",
              "      <td>237 bin 280</td>\n",
              "      <td>%10,69</td>\n",
              "    </tr>\n",
              "    <tr>\n",
              "      <th>5</th>\n",
              "      <td>Mersin</td>\n",
              "      <td>201 bin 189</td>\n",
              "      <td>%11,09</td>\n",
              "    </tr>\n",
              "    <tr>\n",
              "      <th>6</th>\n",
              "      <td>Bursa</td>\n",
              "      <td>170 bin 705</td>\n",
              "      <td>%5,70</td>\n",
              "    </tr>\n",
              "    <tr>\n",
              "      <th>7</th>\n",
              "      <td>İzmir</td>\n",
              "      <td>142 bin 995</td>\n",
              "      <td>%3,31</td>\n",
              "    </tr>\n",
              "    <tr>\n",
              "      <th>8</th>\n",
              "      <td>*Kilis</td>\n",
              "      <td>114 bin 797</td>\n",
              "      <td>%80,54</td>\n",
              "    </tr>\n",
              "    <tr>\n",
              "      <th>9</th>\n",
              "      <td>Konya</td>\n",
              "      <td>106 bin 312</td>\n",
              "      <td>%4,82</td>\n",
              "    </tr>\n",
              "    <tr>\n",
              "      <th>10</th>\n",
              "      <td>Ankara</td>\n",
              "      <td>91 bin 422</td>\n",
              "      <td>%1,66</td>\n",
              "    </tr>\n",
              "    <tr>\n",
              "      <th>11</th>\n",
              "      <td>*Kahramanmaraş</td>\n",
              "      <td>87 bin 201</td>\n",
              "      <td>%7,62</td>\n",
              "    </tr>\n",
              "    <tr>\n",
              "      <th>12</th>\n",
              "      <td>*Mardin</td>\n",
              "      <td>87 bin 96</td>\n",
              "      <td>%10,50</td>\n",
              "    </tr>\n",
              "    <tr>\n",
              "      <th>13</th>\n",
              "      <td>Kayseri</td>\n",
              "      <td>77 bin 781</td>\n",
              "      <td>%5,60</td>\n",
              "    </tr>\n",
              "    <tr>\n",
              "      <th>14</th>\n",
              "      <td>Kocaeli</td>\n",
              "      <td>56 bin 684</td>\n",
              "      <td>%2,97</td>\n",
              "    </tr>\n",
              "    <tr>\n",
              "      <th>15</th>\n",
              "      <td>*Osmaniye</td>\n",
              "      <td>48 bin 572</td>\n",
              "      <td>%9,09</td>\n",
              "    </tr>\n",
              "    <tr>\n",
              "      <th>16</th>\n",
              "      <td>Diyarbakır</td>\n",
              "      <td>33 bin 547</td>\n",
              "      <td>%1,94</td>\n",
              "    </tr>\n",
              "    <tr>\n",
              "      <th>17</th>\n",
              "      <td>*Malatya</td>\n",
              "      <td>29 bin 713</td>\n",
              "      <td>%3,73</td>\n",
              "    </tr>\n",
              "    <tr>\n",
              "      <th>18</th>\n",
              "      <td>Adıyaman</td>\n",
              "      <td>24 bin 477</td>\n",
              "      <td>%3,92</td>\n",
              "    </tr>\n",
              "  </tbody>\n",
              "</table>\n",
              "</div>"
            ],
            "text/plain": [
              "             ŞEHİR         SAYI İL NÜFUSU İLE KARŞILAŞTIRMA\n",
              "0         İstanbul  546 bin 238                       %3,63\n",
              "1       *Şanlıurfa  441 bin 792                       %21,7\n",
              "2       *Gaziantep  433 bin 664                      %21,38\n",
              "3           *Hatay  426 bin 869                      %26,52\n",
              "4           *Adana  237 bin 280                      %10,69\n",
              "5           Mersin  201 bin 189                      %11,09\n",
              "6            Bursa  170 bin 705                       %5,70\n",
              "7            İzmir  142 bin 995                       %3,31\n",
              "8           *Kilis  114 bin 797                      %80,54\n",
              "9            Konya  106 bin 312                       %4,82\n",
              "10          Ankara   91 bin 422                       %1,66\n",
              "11  *Kahramanmaraş   87 bin 201                       %7,62\n",
              "12         *Mardin    87 bin 96                      %10,50\n",
              "13         Kayseri   77 bin 781                       %5,60\n",
              "14         Kocaeli   56 bin 684                       %2,97\n",
              "15       *Osmaniye   48 bin 572                       %9,09\n",
              "16      Diyarbakır   33 bin 547                       %1,94\n",
              "17        *Malatya   29 bin 713                       %3,73\n",
              "18        Adıyaman   24 bin 477                       %3,92"
            ]
          },
          "metadata": {
            "tags": []
          },
          "execution_count": 300
        }
      ]
    },
    {
      "cell_type": "code",
      "metadata": {
        "id": "mqY3ERVqkqZB",
        "colab_type": "code",
        "colab": {}
      },
      "source": [
        "df1=multeci[0]\n",
        "df2=multeci[1]"
      ],
      "execution_count": 0,
      "outputs": []
    },
    {
      "cell_type": "code",
      "metadata": {
        "id": "2T5wt4BLkxnx",
        "colab_type": "code",
        "outputId": "6ab4ead7-9df2-449a-c891-12e74b3a332e",
        "colab": {
          "base_uri": "https://localhost:8080/",
          "height": 323
        }
      },
      "source": [
        "\n",
        "df1.info()\n",
        "print(\"***************************************\")\n",
        "df2.info()"
      ],
      "execution_count": 0,
      "outputs": [
        {
          "output_type": "stream",
          "text": [
            "<class 'pandas.core.frame.DataFrame'>\n",
            "RangeIndex: 16 entries, 0 to 15\n",
            "Data columns (total 4 columns):\n",
            "YAŞ       16 non-null object\n",
            "ERKEK     16 non-null object\n",
            "KADIN     16 non-null object\n",
            "TOPLAM    16 non-null object\n",
            "dtypes: object(4)\n",
            "memory usage: 592.0+ bytes\n",
            "***************************************\n",
            "<class 'pandas.core.frame.DataFrame'>\n",
            "RangeIndex: 19 entries, 0 to 18\n",
            "Data columns (total 3 columns):\n",
            "ŞEHİR                          19 non-null object\n",
            "SAYI                           19 non-null object\n",
            "İL NÜFUSU İLE KARŞILAŞTIRMA    19 non-null object\n",
            "dtypes: object(3)\n",
            "memory usage: 536.0+ bytes\n"
          ],
          "name": "stdout"
        }
      ]
    },
    {
      "cell_type": "code",
      "metadata": {
        "id": "uR9CfASs2Nar",
        "colab_type": "code",
        "colab": {}
      },
      "source": [
        "df1 = df1.apply(lambda x: x.str.replace('.',''))"
      ],
      "execution_count": 0,
      "outputs": []
    },
    {
      "cell_type": "code",
      "metadata": {
        "id": "a6p78lmFmc-f",
        "colab_type": "code",
        "colab": {}
      },
      "source": [
        "df1[\"ERKEK\"]=df1['ERKEK'].astype(int)\n",
        "df1[\"KADIN\"]=df1['KADIN'].astype(int)\n",
        "df1[\"TOPLAM\"]=df1['TOPLAM'].astype(int)"
      ],
      "execution_count": 0,
      "outputs": []
    },
    {
      "cell_type": "code",
      "metadata": {
        "id": "uGPhk4PWnSvA",
        "colab_type": "code",
        "outputId": "c56e4d8d-df5d-4aad-cb87-751cb3b10b90",
        "colab": {
          "base_uri": "https://localhost:8080/",
          "height": 170
        }
      },
      "source": [
        "df1.info()"
      ],
      "execution_count": 0,
      "outputs": [
        {
          "output_type": "stream",
          "text": [
            "<class 'pandas.core.frame.DataFrame'>\n",
            "RangeIndex: 16 entries, 0 to 15\n",
            "Data columns (total 4 columns):\n",
            "YAŞ       16 non-null object\n",
            "ERKEK     16 non-null int64\n",
            "KADIN     16 non-null int64\n",
            "TOPLAM    16 non-null int64\n",
            "dtypes: int64(3), object(1)\n",
            "memory usage: 592.0+ bytes\n"
          ],
          "name": "stdout"
        }
      ]
    },
    {
      "cell_type": "code",
      "metadata": {
        "id": "8NjZmaIZnsfO",
        "colab_type": "code",
        "outputId": "df570ff5-105c-437e-f652-7360b2efa5bc",
        "colab": {
          "base_uri": "https://localhost:8080/",
          "height": 68
        }
      },
      "source": [
        "print(\"0-18 yaş\")\n",
        "pd.DataFrame(df1['TOPLAM'].loc[1:4]).astype(int).sum()\n"
      ],
      "execution_count": 0,
      "outputs": [
        {
          "output_type": "stream",
          "text": [
            "0-18 yaş\n"
          ],
          "name": "stdout"
        },
        {
          "output_type": "execute_result",
          "data": {
            "text/plain": [
              "TOPLAM    1662753\n",
              "dtype: int64"
            ]
          },
          "metadata": {
            "tags": []
          },
          "execution_count": 306
        }
      ]
    },
    {
      "cell_type": "code",
      "metadata": {
        "id": "qE3-wl2Mpgoc",
        "colab_type": "code",
        "outputId": "68fb3d5c-d768-43d9-c365-f97e43de7f89",
        "colab": {
          "base_uri": "https://localhost:8080/",
          "height": 68
        }
      },
      "source": [
        "print(\"19-35 yaş\")\n",
        "pd.DataFrame(df1['TOPLAM'].loc[5:7]).astype(int).sum()\n"
      ],
      "execution_count": 0,
      "outputs": [
        {
          "output_type": "stream",
          "text": [
            "19-35 yaş\n"
          ],
          "name": "stdout"
        },
        {
          "output_type": "execute_result",
          "data": {
            "text/plain": [
              "TOPLAM    1189014\n",
              "dtype: int64"
            ]
          },
          "metadata": {
            "tags": []
          },
          "execution_count": 307
        }
      ]
    },
    {
      "cell_type": "code",
      "metadata": {
        "id": "W5ulUOSQpjTF",
        "colab_type": "code",
        "outputId": "aa5d128a-fd69-4aff-b086-cc217c747687",
        "colab": {
          "base_uri": "https://localhost:8080/",
          "height": 68
        }
      },
      "source": [
        "print(\"36-55 yaş\")\n",
        "pd.DataFrame(df1['TOPLAM'].loc[8:11]).astype(int).sum()"
      ],
      "execution_count": 0,
      "outputs": [
        {
          "output_type": "stream",
          "text": [
            "36-55 yaş\n"
          ],
          "name": "stdout"
        },
        {
          "output_type": "execute_result",
          "data": {
            "text/plain": [
              "TOPLAM    571158\n",
              "dtype: int64"
            ]
          },
          "metadata": {
            "tags": []
          },
          "execution_count": 308
        }
      ]
    },
    {
      "cell_type": "code",
      "metadata": {
        "id": "DVez8X_Npz8U",
        "colab_type": "code",
        "outputId": "7bdf8955-c0bf-4859-b285-b80f8509fd5c",
        "colab": {
          "base_uri": "https://localhost:8080/",
          "height": 68
        }
      },
      "source": [
        "print(\"56-75+ yaş\")\n",
        "pd.DataFrame(df1['TOPLAM'].loc[12:15]).astype(int).sum()"
      ],
      "execution_count": 0,
      "outputs": [
        {
          "output_type": "stream",
          "text": [
            "56-75+ yaş\n"
          ],
          "name": "stdout"
        },
        {
          "output_type": "execute_result",
          "data": {
            "text/plain": [
              "TOPLAM    183812\n",
              "dtype: int64"
            ]
          },
          "metadata": {
            "tags": []
          },
          "execution_count": 309
        }
      ]
    },
    {
      "cell_type": "code",
      "metadata": {
        "id": "tkCyc-eEp6ns",
        "colab_type": "code",
        "outputId": "46f4076a-fe68-49b6-b2ec-9d54bef9b79e",
        "colab": {
          "base_uri": "https://localhost:8080/",
          "height": 390
        }
      },
      "source": [
        "\n",
        "\n",
        "f=plt.figure(figsize=(12,6))\n",
        "plt.bar(df1[\"YAŞ\"].loc[1:15],df1[\"KADIN\"].loc[1:15],label=\"KADIN BİREY\")\n",
        "plt.legend()\n",
        "#başlık koymak için\n",
        "plt.title(\"Yaşa Göre Kadın Birey Dağılımı\")\n",
        "plt.show()\n",
        "\n"
      ],
      "execution_count": 0,
      "outputs": [
        {
          "output_type": "display_data",
          "data": {
            "image/png": "[encoded data removed]",
            "text/plain": [
              "<Figure size 864x432 with 1 Axes>"
            ]
          },
          "metadata": {
            "tags": []
          }
        }
      ]
    },
    {
      "cell_type": "code",
      "metadata": {
        "id": "gPBx6DRZvoPO",
        "colab_type": "code",
        "outputId": "11331226-8cc9-40be-ed27-6ff4efb2122c",
        "colab": {
          "base_uri": "https://localhost:8080/",
          "height": 390
        }
      },
      "source": [
        "f=plt.figure(figsize=(12,6))\n",
        "plt.bar(df1[\"YAŞ\"].loc[1:15],df1[\"ERKEK\"].loc[1:15],label=\"ERKEK BİREY\")\n",
        "plt.legend()\n",
        "plt.title(\"Yaşa Göre ERKEK Birey Dağılımı\")\n",
        "plt.show()"
      ],
      "execution_count": 0,
      "outputs": [
        {
          "output_type": "display_data",
          "data": {
            "image/png": "[encoded data removed]",
            "text/plain": [
              "<Figure size 864x432 with 1 Axes>"
            ]
          },
          "metadata": {
            "tags": []
          }
        }
      ]
    },
    {
      "cell_type": "code",
      "metadata": {
        "id": "a_bTiSyNyFAX",
        "colab_type": "code",
        "outputId": "8e53c8f3-1372-434c-9e8c-7fb399149609",
        "colab": {
          "base_uri": "https://localhost:8080/",
          "height": 390
        }
      },
      "source": [
        "f=plt.figure(figsize=(12,6))\n",
        "plt.bar(df1[\"YAŞ\"].loc[1:15],df1[\"KADIN\"].loc[1:15],label=\"KADIN BİREY\")\n",
        "plt.bar(df1[\"YAŞ\"].loc[1:15],df1[\"ERKEK\"].loc[1:15],label=\"ERKEK BİREY\")\n",
        "plt.legend()\n",
        "plt.title(\"KADIN VE ERKEK BİREY DAĞILIMLARI\")\n",
        "\n",
        "plt.show()"
      ],
      "execution_count": 0,
      "outputs": [
        {
          "output_type": "display_data",
          "data": {
            "image/png": "[encoded data removed]",
            "text/plain": [
              "<Figure size 864x432 with 1 Axes>"
            ]
          },
          "metadata": {
            "tags": []
          }
        }
      ]
    }
  ]
}