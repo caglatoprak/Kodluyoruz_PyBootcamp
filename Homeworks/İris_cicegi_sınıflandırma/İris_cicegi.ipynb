{
  "nbformat": 4,
  "nbformat_minor": 0,
  "metadata": {
    "colab": {
      "name": "Bitki_Sınıflandırma.ipynb",
      "version": "0.3.2",
      "provenance": [],
      "collapsed_sections": []
    },
    "kernelspec": {
      "name": "python3",
      "display_name": "Python 3"
    }
  },
  "cells": [
    {
      "cell_type": "markdown",
      "metadata": {
        "id": "hmuvQg7CmkSO",
        "colab_type": "text"
      },
      "source": [
        "# Kütüphanelerin Çağırılması\n",
        "\n",
        "Kodlarımızı çalıştırmak için gerekli olan Python kütüphanelerini dahil etmek edelim."
      ]
    },
    {
      "cell_type": "code",
      "metadata": {
        "id": "apfqQUPxCCKU",
        "colab_type": "code",
        "colab": {}
      },
      "source": [
        "import pandas as pd\n",
        "import numpy as np\n",
        "import matplotlib.pyplot as plt\n",
        "import seaborn as sns\n",
        "\n",
        "import warnings\n",
        "warnings.filterwarnings(\"ignore\")"
      ],
      "execution_count": 0,
      "outputs": []
    },
    {
      "cell_type": "code",
      "metadata": {
        "id": "zqZ2NlYMgbyD",
        "colab_type": "code",
        "colab": {}
      },
      "source": [
        "%matplotlib inline\n",
        "%config InlineBackend.figure_format = 'svg'"
      ],
      "execution_count": 0,
      "outputs": []
    },
    {
      "cell_type": "markdown",
      "metadata": {
        "id": "7RHbU7YcocT8",
        "colab_type": "text"
      },
      "source": [
        "Veri kümemizi internetten indirelim ve `iris` isimli bir veri çerçevesine atayalım."
      ]
    },
    {
      "cell_type": "code",
      "metadata": {
        "id": "dtRjIxxHeScw",
        "colab_type": "code",
        "colab": {}
      },
      "source": [
        "#iris = pd.read_csv(\"https://raw.githubusercontent.com/uiuc-cse/data-fa14/gh-pages/data/iris.csv\")\n",
        "\n",
        "iris = pd.read_csv(\"https://bit.ly/2oKcw7S\")"
      ],
      "execution_count": 0,
      "outputs": []
    },
    {
      "cell_type": "code",
      "metadata": {
        "id": "cY1WW1A5rKil",
        "colab_type": "code",
        "outputId": "315251cc-c9fe-4b3c-8751-4f3f152b7eca",
        "colab": {
          "base_uri": "https://localhost:8080/",
          "height": 1906
        }
      },
      "source": [
        "iris"
      ],
      "execution_count": 4,
      "outputs": [
        {
          "output_type": "execute_result",
          "data": {
            "text/html": [
              "<div>\n",
              "<style scoped>\n",
              "    .dataframe tbody tr th:only-of-type {\n",
              "        vertical-align: middle;\n",
              "    }\n",
              "\n",
              "    .dataframe tbody tr th {\n",
              "        vertical-align: top;\n",
              "    }\n",
              "\n",
              "    .dataframe thead th {\n",
              "        text-align: right;\n",
              "    }\n",
              "</style>\n",
              "<table border=\"1\" class=\"dataframe\">\n",
              "  <thead>\n",
              "    <tr style=\"text-align: right;\">\n",
              "      <th></th>\n",
              "      <th>sepal_length</th>\n",
              "      <th>sepal_width</th>\n",
              "      <th>petal_length</th>\n",
              "      <th>petal_width</th>\n",
              "      <th>species</th>\n",
              "    </tr>\n",
              "  </thead>\n",
              "  <tbody>\n",
              "    <tr>\n",
              "      <th>0</th>\n",
              "      <td>5.1</td>\n",
              "      <td>3.5</td>\n",
              "      <td>1.4</td>\n",
              "      <td>0.2</td>\n",
              "      <td>setosa</td>\n",
              "    </tr>\n",
              "    <tr>\n",
              "      <th>1</th>\n",
              "      <td>4.9</td>\n",
              "      <td>3.0</td>\n",
              "      <td>1.4</td>\n",
              "      <td>0.2</td>\n",
              "      <td>setosa</td>\n",
              "    </tr>\n",
              "    <tr>\n",
              "      <th>2</th>\n",
              "      <td>4.7</td>\n",
              "      <td>3.2</td>\n",
              "      <td>1.3</td>\n",
              "      <td>0.2</td>\n",
              "      <td>setosa</td>\n",
              "    </tr>\n",
              "    <tr>\n",
              "      <th>3</th>\n",
              "      <td>4.6</td>\n",
              "      <td>3.1</td>\n",
              "      <td>1.5</td>\n",
              "      <td>0.2</td>\n",
              "      <td>setosa</td>\n",
              "    </tr>\n",
              "    <tr>\n",
              "      <th>4</th>\n",
              "      <td>5.0</td>\n",
              "      <td>3.6</td>\n",
              "      <td>1.4</td>\n",
              "      <td>0.2</td>\n",
              "      <td>setosa</td>\n",
              "    </tr>\n",
              "    <tr>\n",
              "      <th>5</th>\n",
              "      <td>5.4</td>\n",
              "      <td>3.9</td>\n",
              "      <td>1.7</td>\n",
              "      <td>0.4</td>\n",
              "      <td>setosa</td>\n",
              "    </tr>\n",
              "    <tr>\n",
              "      <th>6</th>\n",
              "      <td>4.6</td>\n",
              "      <td>3.4</td>\n",
              "      <td>1.4</td>\n",
              "      <td>0.3</td>\n",
              "      <td>setosa</td>\n",
              "    </tr>\n",
              "    <tr>\n",
              "      <th>7</th>\n",
              "      <td>5.0</td>\n",
              "      <td>3.4</td>\n",
              "      <td>1.5</td>\n",
              "      <td>0.2</td>\n",
              "      <td>setosa</td>\n",
              "    </tr>\n",
              "    <tr>\n",
              "      <th>8</th>\n",
              "      <td>4.4</td>\n",
              "      <td>2.9</td>\n",
              "      <td>1.4</td>\n",
              "      <td>0.2</td>\n",
              "      <td>setosa</td>\n",
              "    </tr>\n",
              "    <tr>\n",
              "      <th>9</th>\n",
              "      <td>4.9</td>\n",
              "      <td>3.1</td>\n",
              "      <td>1.5</td>\n",
              "      <td>0.1</td>\n",
              "      <td>setosa</td>\n",
              "    </tr>\n",
              "    <tr>\n",
              "      <th>10</th>\n",
              "      <td>5.4</td>\n",
              "      <td>3.7</td>\n",
              "      <td>1.5</td>\n",
              "      <td>0.2</td>\n",
              "      <td>setosa</td>\n",
              "    </tr>\n",
              "    <tr>\n",
              "      <th>11</th>\n",
              "      <td>4.8</td>\n",
              "      <td>3.4</td>\n",
              "      <td>1.6</td>\n",
              "      <td>0.2</td>\n",
              "      <td>setosa</td>\n",
              "    </tr>\n",
              "    <tr>\n",
              "      <th>12</th>\n",
              "      <td>4.8</td>\n",
              "      <td>3.0</td>\n",
              "      <td>1.4</td>\n",
              "      <td>0.1</td>\n",
              "      <td>setosa</td>\n",
              "    </tr>\n",
              "    <tr>\n",
              "      <th>13</th>\n",
              "      <td>4.3</td>\n",
              "      <td>3.0</td>\n",
              "      <td>1.1</td>\n",
              "      <td>0.1</td>\n",
              "      <td>setosa</td>\n",
              "    </tr>\n",
              "    <tr>\n",
              "      <th>14</th>\n",
              "      <td>5.8</td>\n",
              "      <td>4.0</td>\n",
              "      <td>1.2</td>\n",
              "      <td>0.2</td>\n",
              "      <td>setosa</td>\n",
              "    </tr>\n",
              "    <tr>\n",
              "      <th>15</th>\n",
              "      <td>5.7</td>\n",
              "      <td>4.4</td>\n",
              "      <td>1.5</td>\n",
              "      <td>0.4</td>\n",
              "      <td>setosa</td>\n",
              "    </tr>\n",
              "    <tr>\n",
              "      <th>16</th>\n",
              "      <td>5.4</td>\n",
              "      <td>3.9</td>\n",
              "      <td>1.3</td>\n",
              "      <td>0.4</td>\n",
              "      <td>setosa</td>\n",
              "    </tr>\n",
              "    <tr>\n",
              "      <th>17</th>\n",
              "      <td>5.1</td>\n",
              "      <td>3.5</td>\n",
              "      <td>1.4</td>\n",
              "      <td>0.3</td>\n",
              "      <td>setosa</td>\n",
              "    </tr>\n",
              "    <tr>\n",
              "      <th>18</th>\n",
              "      <td>5.7</td>\n",
              "      <td>3.8</td>\n",
              "      <td>1.7</td>\n",
              "      <td>0.3</td>\n",
              "      <td>setosa</td>\n",
              "    </tr>\n",
              "    <tr>\n",
              "      <th>19</th>\n",
              "      <td>5.1</td>\n",
              "      <td>3.8</td>\n",
              "      <td>1.5</td>\n",
              "      <td>0.3</td>\n",
              "      <td>setosa</td>\n",
              "    </tr>\n",
              "    <tr>\n",
              "      <th>20</th>\n",
              "      <td>5.4</td>\n",
              "      <td>3.4</td>\n",
              "      <td>1.7</td>\n",
              "      <td>0.2</td>\n",
              "      <td>setosa</td>\n",
              "    </tr>\n",
              "    <tr>\n",
              "      <th>21</th>\n",
              "      <td>5.1</td>\n",
              "      <td>3.7</td>\n",
              "      <td>1.5</td>\n",
              "      <td>0.4</td>\n",
              "      <td>setosa</td>\n",
              "    </tr>\n",
              "    <tr>\n",
              "      <th>22</th>\n",
              "      <td>4.6</td>\n",
              "      <td>3.6</td>\n",
              "      <td>1.0</td>\n",
              "      <td>0.2</td>\n",
              "      <td>setosa</td>\n",
              "    </tr>\n",
              "    <tr>\n",
              "      <th>23</th>\n",
              "      <td>5.1</td>\n",
              "      <td>3.3</td>\n",
              "      <td>1.7</td>\n",
              "      <td>0.5</td>\n",
              "      <td>setosa</td>\n",
              "    </tr>\n",
              "    <tr>\n",
              "      <th>24</th>\n",
              "      <td>4.8</td>\n",
              "      <td>3.4</td>\n",
              "      <td>1.9</td>\n",
              "      <td>0.2</td>\n",
              "      <td>setosa</td>\n",
              "    </tr>\n",
              "    <tr>\n",
              "      <th>25</th>\n",
              "      <td>5.0</td>\n",
              "      <td>3.0</td>\n",
              "      <td>1.6</td>\n",
              "      <td>0.2</td>\n",
              "      <td>setosa</td>\n",
              "    </tr>\n",
              "    <tr>\n",
              "      <th>26</th>\n",
              "      <td>5.0</td>\n",
              "      <td>3.4</td>\n",
              "      <td>1.6</td>\n",
              "      <td>0.4</td>\n",
              "      <td>setosa</td>\n",
              "    </tr>\n",
              "    <tr>\n",
              "      <th>27</th>\n",
              "      <td>5.2</td>\n",
              "      <td>3.5</td>\n",
              "      <td>1.5</td>\n",
              "      <td>0.2</td>\n",
              "      <td>setosa</td>\n",
              "    </tr>\n",
              "    <tr>\n",
              "      <th>28</th>\n",
              "      <td>5.2</td>\n",
              "      <td>3.4</td>\n",
              "      <td>1.4</td>\n",
              "      <td>0.2</td>\n",
              "      <td>setosa</td>\n",
              "    </tr>\n",
              "    <tr>\n",
              "      <th>29</th>\n",
              "      <td>4.7</td>\n",
              "      <td>3.2</td>\n",
              "      <td>1.6</td>\n",
              "      <td>0.2</td>\n",
              "      <td>setosa</td>\n",
              "    </tr>\n",
              "    <tr>\n",
              "      <th>...</th>\n",
              "      <td>...</td>\n",
              "      <td>...</td>\n",
              "      <td>...</td>\n",
              "      <td>...</td>\n",
              "      <td>...</td>\n",
              "    </tr>\n",
              "    <tr>\n",
              "      <th>120</th>\n",
              "      <td>6.9</td>\n",
              "      <td>3.2</td>\n",
              "      <td>5.7</td>\n",
              "      <td>2.3</td>\n",
              "      <td>virginica</td>\n",
              "    </tr>\n",
              "    <tr>\n",
              "      <th>121</th>\n",
              "      <td>5.6</td>\n",
              "      <td>2.8</td>\n",
              "      <td>4.9</td>\n",
              "      <td>2.0</td>\n",
              "      <td>virginica</td>\n",
              "    </tr>\n",
              "    <tr>\n",
              "      <th>122</th>\n",
              "      <td>7.7</td>\n",
              "      <td>2.8</td>\n",
              "      <td>6.7</td>\n",
              "      <td>2.0</td>\n",
              "      <td>virginica</td>\n",
              "    </tr>\n",
              "    <tr>\n",
              "      <th>123</th>\n",
              "      <td>6.3</td>\n",
              "      <td>2.7</td>\n",
              "      <td>4.9</td>\n",
              "      <td>1.8</td>\n",
              "      <td>virginica</td>\n",
              "    </tr>\n",
              "    <tr>\n",
              "      <th>124</th>\n",
              "      <td>6.7</td>\n",
              "      <td>3.3</td>\n",
              "      <td>5.7</td>\n",
              "      <td>2.1</td>\n",
              "      <td>virginica</td>\n",
              "    </tr>\n",
              "    <tr>\n",
              "      <th>125</th>\n",
              "      <td>7.2</td>\n",
              "      <td>3.2</td>\n",
              "      <td>6.0</td>\n",
              "      <td>1.8</td>\n",
              "      <td>virginica</td>\n",
              "    </tr>\n",
              "    <tr>\n",
              "      <th>126</th>\n",
              "      <td>6.2</td>\n",
              "      <td>2.8</td>\n",
              "      <td>4.8</td>\n",
              "      <td>1.8</td>\n",
              "      <td>virginica</td>\n",
              "    </tr>\n",
              "    <tr>\n",
              "      <th>127</th>\n",
              "      <td>6.1</td>\n",
              "      <td>3.0</td>\n",
              "      <td>4.9</td>\n",
              "      <td>1.8</td>\n",
              "      <td>virginica</td>\n",
              "    </tr>\n",
              "    <tr>\n",
              "      <th>128</th>\n",
              "      <td>6.4</td>\n",
              "      <td>2.8</td>\n",
              "      <td>5.6</td>\n",
              "      <td>2.1</td>\n",
              "      <td>virginica</td>\n",
              "    </tr>\n",
              "    <tr>\n",
              "      <th>129</th>\n",
              "      <td>7.2</td>\n",
              "      <td>3.0</td>\n",
              "      <td>5.8</td>\n",
              "      <td>1.6</td>\n",
              "      <td>virginica</td>\n",
              "    </tr>\n",
              "    <tr>\n",
              "      <th>130</th>\n",
              "      <td>7.4</td>\n",
              "      <td>2.8</td>\n",
              "      <td>6.1</td>\n",
              "      <td>1.9</td>\n",
              "      <td>virginica</td>\n",
              "    </tr>\n",
              "    <tr>\n",
              "      <th>131</th>\n",
              "      <td>7.9</td>\n",
              "      <td>3.8</td>\n",
              "      <td>6.4</td>\n",
              "      <td>2.0</td>\n",
              "      <td>virginica</td>\n",
              "    </tr>\n",
              "    <tr>\n",
              "      <th>132</th>\n",
              "      <td>6.4</td>\n",
              "      <td>2.8</td>\n",
              "      <td>5.6</td>\n",
              "      <td>2.2</td>\n",
              "      <td>virginica</td>\n",
              "    </tr>\n",
              "    <tr>\n",
              "      <th>133</th>\n",
              "      <td>6.3</td>\n",
              "      <td>2.8</td>\n",
              "      <td>5.1</td>\n",
              "      <td>1.5</td>\n",
              "      <td>virginica</td>\n",
              "    </tr>\n",
              "    <tr>\n",
              "      <th>134</th>\n",
              "      <td>6.1</td>\n",
              "      <td>2.6</td>\n",
              "      <td>5.6</td>\n",
              "      <td>1.4</td>\n",
              "      <td>virginica</td>\n",
              "    </tr>\n",
              "    <tr>\n",
              "      <th>135</th>\n",
              "      <td>7.7</td>\n",
              "      <td>3.0</td>\n",
              "      <td>6.1</td>\n",
              "      <td>2.3</td>\n",
              "      <td>virginica</td>\n",
              "    </tr>\n",
              "    <tr>\n",
              "      <th>136</th>\n",
              "      <td>6.3</td>\n",
              "      <td>3.4</td>\n",
              "      <td>5.6</td>\n",
              "      <td>2.4</td>\n",
              "      <td>virginica</td>\n",
              "    </tr>\n",
              "    <tr>\n",
              "      <th>137</th>\n",
              "      <td>6.4</td>\n",
              "      <td>3.1</td>\n",
              "      <td>5.5</td>\n",
              "      <td>1.8</td>\n",
              "      <td>virginica</td>\n",
              "    </tr>\n",
              "    <tr>\n",
              "      <th>138</th>\n",
              "      <td>6.0</td>\n",
              "      <td>3.0</td>\n",
              "      <td>4.8</td>\n",
              "      <td>1.8</td>\n",
              "      <td>virginica</td>\n",
              "    </tr>\n",
              "    <tr>\n",
              "      <th>139</th>\n",
              "      <td>6.9</td>\n",
              "      <td>3.1</td>\n",
              "      <td>5.4</td>\n",
              "      <td>2.1</td>\n",
              "      <td>virginica</td>\n",
              "    </tr>\n",
              "    <tr>\n",
              "      <th>140</th>\n",
              "      <td>6.7</td>\n",
              "      <td>3.1</td>\n",
              "      <td>5.6</td>\n",
              "      <td>2.4</td>\n",
              "      <td>virginica</td>\n",
              "    </tr>\n",
              "    <tr>\n",
              "      <th>141</th>\n",
              "      <td>6.9</td>\n",
              "      <td>3.1</td>\n",
              "      <td>5.1</td>\n",
              "      <td>2.3</td>\n",
              "      <td>virginica</td>\n",
              "    </tr>\n",
              "    <tr>\n",
              "      <th>142</th>\n",
              "      <td>5.8</td>\n",
              "      <td>2.7</td>\n",
              "      <td>5.1</td>\n",
              "      <td>1.9</td>\n",
              "      <td>virginica</td>\n",
              "    </tr>\n",
              "    <tr>\n",
              "      <th>143</th>\n",
              "      <td>6.8</td>\n",
              "      <td>3.2</td>\n",
              "      <td>5.9</td>\n",
              "      <td>2.3</td>\n",
              "      <td>virginica</td>\n",
              "    </tr>\n",
              "    <tr>\n",
              "      <th>144</th>\n",
              "      <td>6.7</td>\n",
              "      <td>3.3</td>\n",
              "      <td>5.7</td>\n",
              "      <td>2.5</td>\n",
              "      <td>virginica</td>\n",
              "    </tr>\n",
              "    <tr>\n",
              "      <th>145</th>\n",
              "      <td>6.7</td>\n",
              "      <td>3.0</td>\n",
              "      <td>5.2</td>\n",
              "      <td>2.3</td>\n",
              "      <td>virginica</td>\n",
              "    </tr>\n",
              "    <tr>\n",
              "      <th>146</th>\n",
              "      <td>6.3</td>\n",
              "      <td>2.5</td>\n",
              "      <td>5.0</td>\n",
              "      <td>1.9</td>\n",
              "      <td>virginica</td>\n",
              "    </tr>\n",
              "    <tr>\n",
              "      <th>147</th>\n",
              "      <td>6.5</td>\n",
              "      <td>3.0</td>\n",
              "      <td>5.2</td>\n",
              "      <td>2.0</td>\n",
              "      <td>virginica</td>\n",
              "    </tr>\n",
              "    <tr>\n",
              "      <th>148</th>\n",
              "      <td>6.2</td>\n",
              "      <td>3.4</td>\n",
              "      <td>5.4</td>\n",
              "      <td>2.3</td>\n",
              "      <td>virginica</td>\n",
              "    </tr>\n",
              "    <tr>\n",
              "      <th>149</th>\n",
              "      <td>5.9</td>\n",
              "      <td>3.0</td>\n",
              "      <td>5.1</td>\n",
              "      <td>1.8</td>\n",
              "      <td>virginica</td>\n",
              "    </tr>\n",
              "  </tbody>\n",
              "</table>\n",
              "<p>150 rows × 5 columns</p>\n",
              "</div>"
            ],
            "text/plain": [
              "     sepal_length  sepal_width  petal_length  petal_width    species\n",
              "0             5.1          3.5           1.4          0.2     setosa\n",
              "1             4.9          3.0           1.4          0.2     setosa\n",
              "2             4.7          3.2           1.3          0.2     setosa\n",
              "3             4.6          3.1           1.5          0.2     setosa\n",
              "4             5.0          3.6           1.4          0.2     setosa\n",
              "5             5.4          3.9           1.7          0.4     setosa\n",
              "6             4.6          3.4           1.4          0.3     setosa\n",
              "7             5.0          3.4           1.5          0.2     setosa\n",
              "8             4.4          2.9           1.4          0.2     setosa\n",
              "9             4.9          3.1           1.5          0.1     setosa\n",
              "10            5.4          3.7           1.5          0.2     setosa\n",
              "11            4.8          3.4           1.6          0.2     setosa\n",
              "12            4.8          3.0           1.4          0.1     setosa\n",
              "13            4.3          3.0           1.1          0.1     setosa\n",
              "14            5.8          4.0           1.2          0.2     setosa\n",
              "15            5.7          4.4           1.5          0.4     setosa\n",
              "16            5.4          3.9           1.3          0.4     setosa\n",
              "17            5.1          3.5           1.4          0.3     setosa\n",
              "18            5.7          3.8           1.7          0.3     setosa\n",
              "19            5.1          3.8           1.5          0.3     setosa\n",
              "20            5.4          3.4           1.7          0.2     setosa\n",
              "21            5.1          3.7           1.5          0.4     setosa\n",
              "22            4.6          3.6           1.0          0.2     setosa\n",
              "23            5.1          3.3           1.7          0.5     setosa\n",
              "24            4.8          3.4           1.9          0.2     setosa\n",
              "25            5.0          3.0           1.6          0.2     setosa\n",
              "26            5.0          3.4           1.6          0.4     setosa\n",
              "27            5.2          3.5           1.5          0.2     setosa\n",
              "28            5.2          3.4           1.4          0.2     setosa\n",
              "29            4.7          3.2           1.6          0.2     setosa\n",
              "..            ...          ...           ...          ...        ...\n",
              "120           6.9          3.2           5.7          2.3  virginica\n",
              "121           5.6          2.8           4.9          2.0  virginica\n",
              "122           7.7          2.8           6.7          2.0  virginica\n",
              "123           6.3          2.7           4.9          1.8  virginica\n",
              "124           6.7          3.3           5.7          2.1  virginica\n",
              "125           7.2          3.2           6.0          1.8  virginica\n",
              "126           6.2          2.8           4.8          1.8  virginica\n",
              "127           6.1          3.0           4.9          1.8  virginica\n",
              "128           6.4          2.8           5.6          2.1  virginica\n",
              "129           7.2          3.0           5.8          1.6  virginica\n",
              "130           7.4          2.8           6.1          1.9  virginica\n",
              "131           7.9          3.8           6.4          2.0  virginica\n",
              "132           6.4          2.8           5.6          2.2  virginica\n",
              "133           6.3          2.8           5.1          1.5  virginica\n",
              "134           6.1          2.6           5.6          1.4  virginica\n",
              "135           7.7          3.0           6.1          2.3  virginica\n",
              "136           6.3          3.4           5.6          2.4  virginica\n",
              "137           6.4          3.1           5.5          1.8  virginica\n",
              "138           6.0          3.0           4.8          1.8  virginica\n",
              "139           6.9          3.1           5.4          2.1  virginica\n",
              "140           6.7          3.1           5.6          2.4  virginica\n",
              "141           6.9          3.1           5.1          2.3  virginica\n",
              "142           5.8          2.7           5.1          1.9  virginica\n",
              "143           6.8          3.2           5.9          2.3  virginica\n",
              "144           6.7          3.3           5.7          2.5  virginica\n",
              "145           6.7          3.0           5.2          2.3  virginica\n",
              "146           6.3          2.5           5.0          1.9  virginica\n",
              "147           6.5          3.0           5.2          2.0  virginica\n",
              "148           6.2          3.4           5.4          2.3  virginica\n",
              "149           5.9          3.0           5.1          1.8  virginica\n",
              "\n",
              "[150 rows x 5 columns]"
            ]
          },
          "metadata": {
            "tags": []
          },
          "execution_count": 4
        }
      ]
    },
    {
      "cell_type": "code",
      "metadata": {
        "id": "PlRP_VJoasyY",
        "colab_type": "code",
        "outputId": "8060d2f4-f8e0-4502-a74a-e981ee3e2347",
        "colab": {
          "base_uri": "https://localhost:8080/",
          "height": 257
        }
      },
      "source": [
        "iris.head(7)"
      ],
      "execution_count": 5,
      "outputs": [
        {
          "output_type": "execute_result",
          "data": {
            "text/html": [
              "<div>\n",
              "<style scoped>\n",
              "    .dataframe tbody tr th:only-of-type {\n",
              "        vertical-align: middle;\n",
              "    }\n",
              "\n",
              "    .dataframe tbody tr th {\n",
              "        vertical-align: top;\n",
              "    }\n",
              "\n",
              "    .dataframe thead th {\n",
              "        text-align: right;\n",
              "    }\n",
              "</style>\n",
              "<table border=\"1\" class=\"dataframe\">\n",
              "  <thead>\n",
              "    <tr style=\"text-align: right;\">\n",
              "      <th></th>\n",
              "      <th>sepal_length</th>\n",
              "      <th>sepal_width</th>\n",
              "      <th>petal_length</th>\n",
              "      <th>petal_width</th>\n",
              "      <th>species</th>\n",
              "    </tr>\n",
              "  </thead>\n",
              "  <tbody>\n",
              "    <tr>\n",
              "      <th>0</th>\n",
              "      <td>5.1</td>\n",
              "      <td>3.5</td>\n",
              "      <td>1.4</td>\n",
              "      <td>0.2</td>\n",
              "      <td>setosa</td>\n",
              "    </tr>\n",
              "    <tr>\n",
              "      <th>1</th>\n",
              "      <td>4.9</td>\n",
              "      <td>3.0</td>\n",
              "      <td>1.4</td>\n",
              "      <td>0.2</td>\n",
              "      <td>setosa</td>\n",
              "    </tr>\n",
              "    <tr>\n",
              "      <th>2</th>\n",
              "      <td>4.7</td>\n",
              "      <td>3.2</td>\n",
              "      <td>1.3</td>\n",
              "      <td>0.2</td>\n",
              "      <td>setosa</td>\n",
              "    </tr>\n",
              "    <tr>\n",
              "      <th>3</th>\n",
              "      <td>4.6</td>\n",
              "      <td>3.1</td>\n",
              "      <td>1.5</td>\n",
              "      <td>0.2</td>\n",
              "      <td>setosa</td>\n",
              "    </tr>\n",
              "    <tr>\n",
              "      <th>4</th>\n",
              "      <td>5.0</td>\n",
              "      <td>3.6</td>\n",
              "      <td>1.4</td>\n",
              "      <td>0.2</td>\n",
              "      <td>setosa</td>\n",
              "    </tr>\n",
              "    <tr>\n",
              "      <th>5</th>\n",
              "      <td>5.4</td>\n",
              "      <td>3.9</td>\n",
              "      <td>1.7</td>\n",
              "      <td>0.4</td>\n",
              "      <td>setosa</td>\n",
              "    </tr>\n",
              "    <tr>\n",
              "      <th>6</th>\n",
              "      <td>4.6</td>\n",
              "      <td>3.4</td>\n",
              "      <td>1.4</td>\n",
              "      <td>0.3</td>\n",
              "      <td>setosa</td>\n",
              "    </tr>\n",
              "  </tbody>\n",
              "</table>\n",
              "</div>"
            ],
            "text/plain": [
              "   sepal_length  sepal_width  petal_length  petal_width species\n",
              "0           5.1          3.5           1.4          0.2  setosa\n",
              "1           4.9          3.0           1.4          0.2  setosa\n",
              "2           4.7          3.2           1.3          0.2  setosa\n",
              "3           4.6          3.1           1.5          0.2  setosa\n",
              "4           5.0          3.6           1.4          0.2  setosa\n",
              "5           5.4          3.9           1.7          0.4  setosa\n",
              "6           4.6          3.4           1.4          0.3  setosa"
            ]
          },
          "metadata": {
            "tags": []
          },
          "execution_count": 5
        }
      ]
    },
    {
      "cell_type": "code",
      "metadata": {
        "id": "nBoOEX4kq6lU",
        "colab_type": "code",
        "outputId": "a8ac08fa-d885-4043-f34f-506ea0da8b33",
        "colab": {
          "base_uri": "https://localhost:8080/",
          "height": 34
        }
      },
      "source": [
        "type(iris)"
      ],
      "execution_count": 6,
      "outputs": [
        {
          "output_type": "execute_result",
          "data": {
            "text/plain": [
              "pandas.core.frame.DataFrame"
            ]
          },
          "metadata": {
            "tags": []
          },
          "execution_count": 6
        }
      ]
    },
    {
      "cell_type": "markdown",
      "metadata": {
        "id": "yRTnwI1Iok_2",
        "colab_type": "text"
      },
      "source": [
        "İlk 10 veriyi ekrana yazdıralım. \n",
        "\n",
        "**sepal** İngilizce'de **çanak yaprak**, \n",
        "\n",
        "**petal** ise **taç yaprak** anlamına gelmektedir. "
      ]
    },
    {
      "cell_type": "code",
      "metadata": {
        "id": "jtq16QvoeSfG",
        "colab_type": "code",
        "outputId": "1d6265c8-6e67-407d-870f-6944e3ee1bea",
        "colab": {
          "base_uri": "https://localhost:8080/",
          "height": 347
        }
      },
      "source": [
        "iris.head(10)"
      ],
      "execution_count": 7,
      "outputs": [
        {
          "output_type": "execute_result",
          "data": {
            "text/html": [
              "<div>\n",
              "<style scoped>\n",
              "    .dataframe tbody tr th:only-of-type {\n",
              "        vertical-align: middle;\n",
              "    }\n",
              "\n",
              "    .dataframe tbody tr th {\n",
              "        vertical-align: top;\n",
              "    }\n",
              "\n",
              "    .dataframe thead th {\n",
              "        text-align: right;\n",
              "    }\n",
              "</style>\n",
              "<table border=\"1\" class=\"dataframe\">\n",
              "  <thead>\n",
              "    <tr style=\"text-align: right;\">\n",
              "      <th></th>\n",
              "      <th>sepal_length</th>\n",
              "      <th>sepal_width</th>\n",
              "      <th>petal_length</th>\n",
              "      <th>petal_width</th>\n",
              "      <th>species</th>\n",
              "    </tr>\n",
              "  </thead>\n",
              "  <tbody>\n",
              "    <tr>\n",
              "      <th>0</th>\n",
              "      <td>5.1</td>\n",
              "      <td>3.5</td>\n",
              "      <td>1.4</td>\n",
              "      <td>0.2</td>\n",
              "      <td>setosa</td>\n",
              "    </tr>\n",
              "    <tr>\n",
              "      <th>1</th>\n",
              "      <td>4.9</td>\n",
              "      <td>3.0</td>\n",
              "      <td>1.4</td>\n",
              "      <td>0.2</td>\n",
              "      <td>setosa</td>\n",
              "    </tr>\n",
              "    <tr>\n",
              "      <th>2</th>\n",
              "      <td>4.7</td>\n",
              "      <td>3.2</td>\n",
              "      <td>1.3</td>\n",
              "      <td>0.2</td>\n",
              "      <td>setosa</td>\n",
              "    </tr>\n",
              "    <tr>\n",
              "      <th>3</th>\n",
              "      <td>4.6</td>\n",
              "      <td>3.1</td>\n",
              "      <td>1.5</td>\n",
              "      <td>0.2</td>\n",
              "      <td>setosa</td>\n",
              "    </tr>\n",
              "    <tr>\n",
              "      <th>4</th>\n",
              "      <td>5.0</td>\n",
              "      <td>3.6</td>\n",
              "      <td>1.4</td>\n",
              "      <td>0.2</td>\n",
              "      <td>setosa</td>\n",
              "    </tr>\n",
              "    <tr>\n",
              "      <th>5</th>\n",
              "      <td>5.4</td>\n",
              "      <td>3.9</td>\n",
              "      <td>1.7</td>\n",
              "      <td>0.4</td>\n",
              "      <td>setosa</td>\n",
              "    </tr>\n",
              "    <tr>\n",
              "      <th>6</th>\n",
              "      <td>4.6</td>\n",
              "      <td>3.4</td>\n",
              "      <td>1.4</td>\n",
              "      <td>0.3</td>\n",
              "      <td>setosa</td>\n",
              "    </tr>\n",
              "    <tr>\n",
              "      <th>7</th>\n",
              "      <td>5.0</td>\n",
              "      <td>3.4</td>\n",
              "      <td>1.5</td>\n",
              "      <td>0.2</td>\n",
              "      <td>setosa</td>\n",
              "    </tr>\n",
              "    <tr>\n",
              "      <th>8</th>\n",
              "      <td>4.4</td>\n",
              "      <td>2.9</td>\n",
              "      <td>1.4</td>\n",
              "      <td>0.2</td>\n",
              "      <td>setosa</td>\n",
              "    </tr>\n",
              "    <tr>\n",
              "      <th>9</th>\n",
              "      <td>4.9</td>\n",
              "      <td>3.1</td>\n",
              "      <td>1.5</td>\n",
              "      <td>0.1</td>\n",
              "      <td>setosa</td>\n",
              "    </tr>\n",
              "  </tbody>\n",
              "</table>\n",
              "</div>"
            ],
            "text/plain": [
              "   sepal_length  sepal_width  petal_length  petal_width species\n",
              "0           5.1          3.5           1.4          0.2  setosa\n",
              "1           4.9          3.0           1.4          0.2  setosa\n",
              "2           4.7          3.2           1.3          0.2  setosa\n",
              "3           4.6          3.1           1.5          0.2  setosa\n",
              "4           5.0          3.6           1.4          0.2  setosa\n",
              "5           5.4          3.9           1.7          0.4  setosa\n",
              "6           4.6          3.4           1.4          0.3  setosa\n",
              "7           5.0          3.4           1.5          0.2  setosa\n",
              "8           4.4          2.9           1.4          0.2  setosa\n",
              "9           4.9          3.1           1.5          0.1  setosa"
            ]
          },
          "metadata": {
            "tags": []
          },
          "execution_count": 7
        }
      ]
    },
    {
      "cell_type": "markdown",
      "metadata": {
        "id": "iC7FhbpxopqD",
        "colab_type": "text"
      },
      "source": [
        "Son 5 veriyi ekrana yazdıralım."
      ]
    },
    {
      "cell_type": "code",
      "metadata": {
        "id": "wx4BG5FEe0DG",
        "colab_type": "code",
        "outputId": "962900a5-3649-4e59-ddca-93ee9c18ca87",
        "colab": {
          "base_uri": "https://localhost:8080/",
          "height": 197
        }
      },
      "source": [
        "iris.tail(5)"
      ],
      "execution_count": 8,
      "outputs": [
        {
          "output_type": "execute_result",
          "data": {
            "text/html": [
              "<div>\n",
              "<style scoped>\n",
              "    .dataframe tbody tr th:only-of-type {\n",
              "        vertical-align: middle;\n",
              "    }\n",
              "\n",
              "    .dataframe tbody tr th {\n",
              "        vertical-align: top;\n",
              "    }\n",
              "\n",
              "    .dataframe thead th {\n",
              "        text-align: right;\n",
              "    }\n",
              "</style>\n",
              "<table border=\"1\" class=\"dataframe\">\n",
              "  <thead>\n",
              "    <tr style=\"text-align: right;\">\n",
              "      <th></th>\n",
              "      <th>sepal_length</th>\n",
              "      <th>sepal_width</th>\n",
              "      <th>petal_length</th>\n",
              "      <th>petal_width</th>\n",
              "      <th>species</th>\n",
              "    </tr>\n",
              "  </thead>\n",
              "  <tbody>\n",
              "    <tr>\n",
              "      <th>145</th>\n",
              "      <td>6.7</td>\n",
              "      <td>3.0</td>\n",
              "      <td>5.2</td>\n",
              "      <td>2.3</td>\n",
              "      <td>virginica</td>\n",
              "    </tr>\n",
              "    <tr>\n",
              "      <th>146</th>\n",
              "      <td>6.3</td>\n",
              "      <td>2.5</td>\n",
              "      <td>5.0</td>\n",
              "      <td>1.9</td>\n",
              "      <td>virginica</td>\n",
              "    </tr>\n",
              "    <tr>\n",
              "      <th>147</th>\n",
              "      <td>6.5</td>\n",
              "      <td>3.0</td>\n",
              "      <td>5.2</td>\n",
              "      <td>2.0</td>\n",
              "      <td>virginica</td>\n",
              "    </tr>\n",
              "    <tr>\n",
              "      <th>148</th>\n",
              "      <td>6.2</td>\n",
              "      <td>3.4</td>\n",
              "      <td>5.4</td>\n",
              "      <td>2.3</td>\n",
              "      <td>virginica</td>\n",
              "    </tr>\n",
              "    <tr>\n",
              "      <th>149</th>\n",
              "      <td>5.9</td>\n",
              "      <td>3.0</td>\n",
              "      <td>5.1</td>\n",
              "      <td>1.8</td>\n",
              "      <td>virginica</td>\n",
              "    </tr>\n",
              "  </tbody>\n",
              "</table>\n",
              "</div>"
            ],
            "text/plain": [
              "     sepal_length  sepal_width  petal_length  petal_width    species\n",
              "145           6.7          3.0           5.2          2.3  virginica\n",
              "146           6.3          2.5           5.0          1.9  virginica\n",
              "147           6.5          3.0           5.2          2.0  virginica\n",
              "148           6.2          3.4           5.4          2.3  virginica\n",
              "149           5.9          3.0           5.1          1.8  virginica"
            ]
          },
          "metadata": {
            "tags": []
          },
          "execution_count": 8
        }
      ]
    },
    {
      "cell_type": "markdown",
      "metadata": {
        "id": "vcwUKkW_otmP",
        "colab_type": "text"
      },
      "source": [
        "Verimizle ilgili temel istatistiksel bilgileri ekrana yazdıralım."
      ]
    },
    {
      "cell_type": "code",
      "metadata": {
        "id": "Jj7WBikTeShb",
        "colab_type": "code",
        "outputId": "c0a684af-315f-4b34-940c-bf3b9974661d",
        "colab": {
          "base_uri": "https://localhost:8080/",
          "height": 287
        }
      },
      "source": [
        "iris.describe()"
      ],
      "execution_count": 9,
      "outputs": [
        {
          "output_type": "execute_result",
          "data": {
            "text/html": [
              "<div>\n",
              "<style scoped>\n",
              "    .dataframe tbody tr th:only-of-type {\n",
              "        vertical-align: middle;\n",
              "    }\n",
              "\n",
              "    .dataframe tbody tr th {\n",
              "        vertical-align: top;\n",
              "    }\n",
              "\n",
              "    .dataframe thead th {\n",
              "        text-align: right;\n",
              "    }\n",
              "</style>\n",
              "<table border=\"1\" class=\"dataframe\">\n",
              "  <thead>\n",
              "    <tr style=\"text-align: right;\">\n",
              "      <th></th>\n",
              "      <th>sepal_length</th>\n",
              "      <th>sepal_width</th>\n",
              "      <th>petal_length</th>\n",
              "      <th>petal_width</th>\n",
              "    </tr>\n",
              "  </thead>\n",
              "  <tbody>\n",
              "    <tr>\n",
              "      <th>count</th>\n",
              "      <td>150.000000</td>\n",
              "      <td>150.000000</td>\n",
              "      <td>150.000000</td>\n",
              "      <td>150.000000</td>\n",
              "    </tr>\n",
              "    <tr>\n",
              "      <th>mean</th>\n",
              "      <td>5.843333</td>\n",
              "      <td>3.054000</td>\n",
              "      <td>3.758667</td>\n",
              "      <td>1.198667</td>\n",
              "    </tr>\n",
              "    <tr>\n",
              "      <th>std</th>\n",
              "      <td>0.828066</td>\n",
              "      <td>0.433594</td>\n",
              "      <td>1.764420</td>\n",
              "      <td>0.763161</td>\n",
              "    </tr>\n",
              "    <tr>\n",
              "      <th>min</th>\n",
              "      <td>4.300000</td>\n",
              "      <td>2.000000</td>\n",
              "      <td>1.000000</td>\n",
              "      <td>0.100000</td>\n",
              "    </tr>\n",
              "    <tr>\n",
              "      <th>25%</th>\n",
              "      <td>5.100000</td>\n",
              "      <td>2.800000</td>\n",
              "      <td>1.600000</td>\n",
              "      <td>0.300000</td>\n",
              "    </tr>\n",
              "    <tr>\n",
              "      <th>50%</th>\n",
              "      <td>5.800000</td>\n",
              "      <td>3.000000</td>\n",
              "      <td>4.350000</td>\n",
              "      <td>1.300000</td>\n",
              "    </tr>\n",
              "    <tr>\n",
              "      <th>75%</th>\n",
              "      <td>6.400000</td>\n",
              "      <td>3.300000</td>\n",
              "      <td>5.100000</td>\n",
              "      <td>1.800000</td>\n",
              "    </tr>\n",
              "    <tr>\n",
              "      <th>max</th>\n",
              "      <td>7.900000</td>\n",
              "      <td>4.400000</td>\n",
              "      <td>6.900000</td>\n",
              "      <td>2.500000</td>\n",
              "    </tr>\n",
              "  </tbody>\n",
              "</table>\n",
              "</div>"
            ],
            "text/plain": [
              "       sepal_length  sepal_width  petal_length  petal_width\n",
              "count    150.000000   150.000000    150.000000   150.000000\n",
              "mean       5.843333     3.054000      3.758667     1.198667\n",
              "std        0.828066     0.433594      1.764420     0.763161\n",
              "min        4.300000     2.000000      1.000000     0.100000\n",
              "25%        5.100000     2.800000      1.600000     0.300000\n",
              "50%        5.800000     3.000000      4.350000     1.300000\n",
              "75%        6.400000     3.300000      5.100000     1.800000\n",
              "max        7.900000     4.400000      6.900000     2.500000"
            ]
          },
          "metadata": {
            "tags": []
          },
          "execution_count": 9
        }
      ]
    },
    {
      "cell_type": "markdown",
      "metadata": {
        "id": "u1ytN1UJo06h",
        "colab_type": "text"
      },
      "source": [
        "Özniteliklerin dağılımlarının nasıl olduğuna bakalım."
      ]
    },
    {
      "cell_type": "code",
      "metadata": {
        "id": "E0Wu1w4enxKo",
        "colab_type": "code",
        "outputId": "ba7affdd-c159-4fdc-f189-99e95e2eb285",
        "colab": {
          "base_uri": "https://localhost:8080/",
          "height": 373
        }
      },
      "source": [
        "iris.hist()\n",
        "plt.show()"
      ],
      "execution_count": 10,
      "outputs": [
        {
          "output_type": "display_data",
          "data": {
            "text/plain": [
              "<Figure size 432x288 with 4 Axes>"
            ],
            "image/svg+xml": "<?xml version=\"1.0\" encoding=\"utf-8\" standalone=\"no\"?>\n<!DOCTYPE svg PUBLIC \"-//W3C//DTD SVG 1.1//EN\"\n  \"http://www.w3.org/Graphics/SVG/1.1/DTD/svg11.dtd\">\n<!-- Created with matplotlib (https://matplotlib.org/) -->\n<svg height=\"263.63625pt\" version=\"1.1\" viewBox=\"0 0 372.425 263.63625\" width=\"372.425pt\" xmlns=\"http://www.w3.org/2000/svg\" xmlns:xlink=\"http://www.w3.org/1999/xlink\">\n <defs>\n  <style type=\"text/css\">\n*{stroke-linecap:butt;stroke-linejoin:round;}\n  </style>\n </defs>\n <g id=\"figure_1\">\n  <g id=\"patch_1\">\n   <path d=\"M -0 263.63625 \nL 372.425 263.63625 \nL 372.425 0 \nL -0 0 \nz\n\" style=\"fill:none;\"/>\n  </g>\n  <g id=\"axes_1\">\n   <g id=\"patch_2\">\n    <path d=\"M 26.925 116.857255 \nL 172.490217 116.857255 \nL 172.490217 22.318125 \nL 26.925 22.318125 \nz\n\" style=\"fill:#ffffff;\"/>\n   </g>\n   <g id=\"patch_3\">\n    <path clip-path=\"url(#p6bbe5c9f83)\" d=\"M 33.541601 116.857255 \nL 46.774802 116.857255 \nL 46.774802 26.819988 \nL 33.541601 26.819988 \nz\n\" style=\"fill:#1f77b4;\"/>\n   </g>\n   <g id=\"patch_4\">\n    <path clip-path=\"url(#p6bbe5c9f83)\" d=\"M 46.774802 116.857255 \nL 60.008004 116.857255 \nL 60.008004 85.22254 \nL 46.774802 85.22254 \nz\n\" style=\"fill:#1f77b4;\"/>\n   </g>\n   <g id=\"patch_5\">\n    <path clip-path=\"url(#p6bbe5c9f83)\" d=\"M 60.008004 116.857255 \nL 73.241206 116.857255 \nL 73.241206 116.857255 \nL 60.008004 116.857255 \nz\n\" style=\"fill:#1f77b4;\"/>\n   </g>\n   <g id=\"patch_6\">\n    <path clip-path=\"url(#p6bbe5c9f83)\" d=\"M 73.241206 116.857255 \nL 86.474407 116.857255 \nL 86.474407 109.556936 \nL 73.241206 109.556936 \nz\n\" style=\"fill:#1f77b4;\"/>\n   </g>\n   <g id=\"patch_7\">\n    <path clip-path=\"url(#p6bbe5c9f83)\" d=\"M 86.474407 116.857255 \nL 99.707609 116.857255 \nL 99.707609 97.389738 \nL 86.474407 97.389738 \nz\n\" style=\"fill:#1f77b4;\"/>\n   </g>\n   <g id=\"patch_8\">\n    <path clip-path=\"url(#p6bbe5c9f83)\" d=\"M 99.707609 116.857255 \nL 112.94081 116.857255 \nL 112.94081 53.587825 \nL 99.707609 53.587825 \nz\n\" style=\"fill:#1f77b4;\"/>\n   </g>\n   <g id=\"patch_9\">\n    <path clip-path=\"url(#p6bbe5c9f83)\" d=\"M 112.94081 116.857255 \nL 126.174012 116.857255 \nL 126.174012 46.287506 \nL 112.94081 46.287506 \nz\n\" style=\"fill:#1f77b4;\"/>\n   </g>\n   <g id=\"patch_10\">\n    <path clip-path=\"url(#p6bbe5c9f83)\" d=\"M 126.174012 116.857255 \nL 139.407213 116.857255 \nL 139.407213 73.055342 \nL 126.174012 73.055342 \nz\n\" style=\"fill:#1f77b4;\"/>\n   </g>\n   <g id=\"patch_11\">\n    <path clip-path=\"url(#p6bbe5c9f83)\" d=\"M 139.407213 116.857255 \nL 152.640415 116.857255 \nL 152.640415 90.089419 \nL 139.407213 90.089419 \nz\n\" style=\"fill:#1f77b4;\"/>\n   </g>\n   <g id=\"patch_12\">\n    <path clip-path=\"url(#p6bbe5c9f83)\" d=\"M 152.640415 116.857255 \nL 165.873617 116.857255 \nL 165.873617 104.690057 \nL 152.640415 104.690057 \nz\n\" style=\"fill:#1f77b4;\"/>\n   </g>\n   <g id=\"matplotlib.axis_1\">\n    <g id=\"xtick_1\">\n     <g id=\"line2d_1\">\n      <path clip-path=\"url(#p6bbe5c9f83)\" d=\"M 55.970756 116.857255 \nL 55.970756 22.318125 \n\" style=\"fill:none;stroke:#b0b0b0;stroke-linecap:square;stroke-width:0.8;\"/>\n     </g>\n     <g id=\"line2d_2\">\n      <defs>\n       <path d=\"M 0 0 \nL 0 3.5 \n\" id=\"m4c7c8ea1a3\" style=\"stroke:#000000;stroke-width:0.8;\"/>\n      </defs>\n      <g>\n       <use style=\"stroke:#000000;stroke-width:0.8;\" x=\"55.970756\" xlink:href=\"#m4c7c8ea1a3\" y=\"116.857255\"/>\n      </g>\n     </g>\n     <g id=\"text_1\">\n      <!-- 2 -->\n      <defs>\n       <path d=\"M 19.1875 8.296875 \nL 53.609375 8.296875 \nL 53.609375 0 \nL 7.328125 0 \nL 7.328125 8.296875 \nQ 12.9375 14.109375 22.625 23.890625 \nQ 32.328125 33.6875 34.8125 36.53125 \nQ 39.546875 41.84375 41.421875 45.53125 \nQ 43.3125 49.21875 43.3125 52.78125 \nQ 43.3125 58.59375 39.234375 62.25 \nQ 35.15625 65.921875 28.609375 65.921875 \nQ 23.96875 65.921875 18.8125 64.3125 \nQ 13.671875 62.703125 7.8125 59.421875 \nL 7.8125 69.390625 \nQ 13.765625 71.78125 18.9375 73 \nQ 24.125 74.21875 28.421875 74.21875 \nQ 39.75 74.21875 46.484375 68.546875 \nQ 53.21875 62.890625 53.21875 53.421875 \nQ 53.21875 48.921875 51.53125 44.890625 \nQ 49.859375 40.875 45.40625 35.40625 \nQ 44.1875 33.984375 37.640625 27.21875 \nQ 31.109375 20.453125 19.1875 8.296875 \nz\n\" id=\"DejaVuSans-50\"/>\n      </defs>\n      <g transform=\"translate(52.789506 131.455693)scale(0.1 -0.1)\">\n       <use xlink:href=\"#DejaVuSans-50\"/>\n      </g>\n     </g>\n    </g>\n    <g id=\"xtick_2\">\n     <g id=\"line2d_3\">\n      <path clip-path=\"url(#p6bbe5c9f83)\" d=\"M 100.829066 116.857255 \nL 100.829066 22.318125 \n\" style=\"fill:none;stroke:#b0b0b0;stroke-linecap:square;stroke-width:0.8;\"/>\n     </g>\n     <g id=\"line2d_4\">\n      <g>\n       <use style=\"stroke:#000000;stroke-width:0.8;\" x=\"100.829066\" xlink:href=\"#m4c7c8ea1a3\" y=\"116.857255\"/>\n      </g>\n     </g>\n     <g id=\"text_2\">\n      <!-- 4 -->\n      <defs>\n       <path d=\"M 37.796875 64.3125 \nL 12.890625 25.390625 \nL 37.796875 25.390625 \nz\nM 35.203125 72.90625 \nL 47.609375 72.90625 \nL 47.609375 25.390625 \nL 58.015625 25.390625 \nL 58.015625 17.1875 \nL 47.609375 17.1875 \nL 47.609375 0 \nL 37.796875 0 \nL 37.796875 17.1875 \nL 4.890625 17.1875 \nL 4.890625 26.703125 \nz\n\" id=\"DejaVuSans-52\"/>\n      </defs>\n      <g transform=\"translate(97.647816 131.455693)scale(0.1 -0.1)\">\n       <use xlink:href=\"#DejaVuSans-52\"/>\n      </g>\n     </g>\n    </g>\n    <g id=\"xtick_3\">\n     <g id=\"line2d_5\">\n      <path clip-path=\"url(#p6bbe5c9f83)\" d=\"M 145.687377 116.857255 \nL 145.687377 22.318125 \n\" style=\"fill:none;stroke:#b0b0b0;stroke-linecap:square;stroke-width:0.8;\"/>\n     </g>\n     <g id=\"line2d_6\">\n      <g>\n       <use style=\"stroke:#000000;stroke-width:0.8;\" x=\"145.687377\" xlink:href=\"#m4c7c8ea1a3\" y=\"116.857255\"/>\n      </g>\n     </g>\n     <g id=\"text_3\">\n      <!-- 6 -->\n      <defs>\n       <path d=\"M 33.015625 40.375 \nQ 26.375 40.375 22.484375 35.828125 \nQ 18.609375 31.296875 18.609375 23.390625 \nQ 18.609375 15.53125 22.484375 10.953125 \nQ 26.375 6.390625 33.015625 6.390625 \nQ 39.65625 6.390625 43.53125 10.953125 \nQ 47.40625 15.53125 47.40625 23.390625 \nQ 47.40625 31.296875 43.53125 35.828125 \nQ 39.65625 40.375 33.015625 40.375 \nz\nM 52.59375 71.296875 \nL 52.59375 62.3125 \nQ 48.875 64.0625 45.09375 64.984375 \nQ 41.3125 65.921875 37.59375 65.921875 \nQ 27.828125 65.921875 22.671875 59.328125 \nQ 17.53125 52.734375 16.796875 39.40625 \nQ 19.671875 43.65625 24.015625 45.921875 \nQ 28.375 48.1875 33.59375 48.1875 \nQ 44.578125 48.1875 50.953125 41.515625 \nQ 57.328125 34.859375 57.328125 23.390625 \nQ 57.328125 12.15625 50.6875 5.359375 \nQ 44.046875 -1.421875 33.015625 -1.421875 \nQ 20.359375 -1.421875 13.671875 8.265625 \nQ 6.984375 17.96875 6.984375 36.375 \nQ 6.984375 53.65625 15.1875 63.9375 \nQ 23.390625 74.21875 37.203125 74.21875 \nQ 40.921875 74.21875 44.703125 73.484375 \nQ 48.484375 72.75 52.59375 71.296875 \nz\n\" id=\"DejaVuSans-54\"/>\n      </defs>\n      <g transform=\"translate(142.506127 131.455693)scale(0.1 -0.1)\">\n       <use xlink:href=\"#DejaVuSans-54\"/>\n      </g>\n     </g>\n    </g>\n   </g>\n   <g id=\"matplotlib.axis_2\">\n    <g id=\"ytick_1\">\n     <g id=\"line2d_7\">\n      <path clip-path=\"url(#p6bbe5c9f83)\" d=\"M 26.925 116.857255 \nL 172.490217 116.857255 \n\" style=\"fill:none;stroke:#b0b0b0;stroke-linecap:square;stroke-width:0.8;\"/>\n     </g>\n     <g id=\"line2d_8\">\n      <defs>\n       <path d=\"M 0 0 \nL -3.5 0 \n\" id=\"mcf0678db84\" style=\"stroke:#000000;stroke-width:0.8;\"/>\n      </defs>\n      <g>\n       <use style=\"stroke:#000000;stroke-width:0.8;\" x=\"26.925\" xlink:href=\"#mcf0678db84\" y=\"116.857255\"/>\n      </g>\n     </g>\n     <g id=\"text_4\">\n      <!-- 0 -->\n      <defs>\n       <path d=\"M 31.78125 66.40625 \nQ 24.171875 66.40625 20.328125 58.90625 \nQ 16.5 51.421875 16.5 36.375 \nQ 16.5 21.390625 20.328125 13.890625 \nQ 24.171875 6.390625 31.78125 6.390625 \nQ 39.453125 6.390625 43.28125 13.890625 \nQ 47.125 21.390625 47.125 36.375 \nQ 47.125 51.421875 43.28125 58.90625 \nQ 39.453125 66.40625 31.78125 66.40625 \nz\nM 31.78125 74.21875 \nQ 44.046875 74.21875 50.515625 64.515625 \nQ 56.984375 54.828125 56.984375 36.375 \nQ 56.984375 17.96875 50.515625 8.265625 \nQ 44.046875 -1.421875 31.78125 -1.421875 \nQ 19.53125 -1.421875 13.0625 8.265625 \nQ 6.59375 17.96875 6.59375 36.375 \nQ 6.59375 54.828125 13.0625 64.515625 \nQ 19.53125 74.21875 31.78125 74.21875 \nz\n\" id=\"DejaVuSans-48\"/>\n      </defs>\n      <g transform=\"translate(13.5625 120.656474)scale(0.1 -0.1)\">\n       <use xlink:href=\"#DejaVuSans-48\"/>\n      </g>\n     </g>\n    </g>\n    <g id=\"ytick_2\">\n     <g id=\"line2d_9\">\n      <path clip-path=\"url(#p6bbe5c9f83)\" d=\"M 26.925 92.522859 \nL 172.490217 92.522859 \n\" style=\"fill:none;stroke:#b0b0b0;stroke-linecap:square;stroke-width:0.8;\"/>\n     </g>\n     <g id=\"line2d_10\">\n      <g>\n       <use style=\"stroke:#000000;stroke-width:0.8;\" x=\"26.925\" xlink:href=\"#mcf0678db84\" y=\"92.522859\"/>\n      </g>\n     </g>\n     <g id=\"text_5\">\n      <!-- 10 -->\n      <defs>\n       <path d=\"M 12.40625 8.296875 \nL 28.515625 8.296875 \nL 28.515625 63.921875 \nL 10.984375 60.40625 \nL 10.984375 69.390625 \nL 28.421875 72.90625 \nL 38.28125 72.90625 \nL 38.28125 8.296875 \nL 54.390625 8.296875 \nL 54.390625 0 \nL 12.40625 0 \nz\n\" id=\"DejaVuSans-49\"/>\n      </defs>\n      <g transform=\"translate(7.2 96.322078)scale(0.1 -0.1)\">\n       <use xlink:href=\"#DejaVuSans-49\"/>\n       <use x=\"63.623047\" xlink:href=\"#DejaVuSans-48\"/>\n      </g>\n     </g>\n    </g>\n    <g id=\"ytick_3\">\n     <g id=\"line2d_11\">\n      <path clip-path=\"url(#p6bbe5c9f83)\" d=\"M 26.925 68.188462 \nL 172.490217 68.188462 \n\" style=\"fill:none;stroke:#b0b0b0;stroke-linecap:square;stroke-width:0.8;\"/>\n     </g>\n     <g id=\"line2d_12\">\n      <g>\n       <use style=\"stroke:#000000;stroke-width:0.8;\" x=\"26.925\" xlink:href=\"#mcf0678db84\" y=\"68.188462\"/>\n      </g>\n     </g>\n     <g id=\"text_6\">\n      <!-- 20 -->\n      <g transform=\"translate(7.2 71.987681)scale(0.1 -0.1)\">\n       <use xlink:href=\"#DejaVuSans-50\"/>\n       <use x=\"63.623047\" xlink:href=\"#DejaVuSans-48\"/>\n      </g>\n     </g>\n    </g>\n    <g id=\"ytick_4\">\n     <g id=\"line2d_13\">\n      <path clip-path=\"url(#p6bbe5c9f83)\" d=\"M 26.925 43.854066 \nL 172.490217 43.854066 \n\" style=\"fill:none;stroke:#b0b0b0;stroke-linecap:square;stroke-width:0.8;\"/>\n     </g>\n     <g id=\"line2d_14\">\n      <g>\n       <use style=\"stroke:#000000;stroke-width:0.8;\" x=\"26.925\" xlink:href=\"#mcf0678db84\" y=\"43.854066\"/>\n      </g>\n     </g>\n     <g id=\"text_7\">\n      <!-- 30 -->\n      <defs>\n       <path d=\"M 40.578125 39.3125 \nQ 47.65625 37.796875 51.625 33 \nQ 55.609375 28.21875 55.609375 21.1875 \nQ 55.609375 10.40625 48.1875 4.484375 \nQ 40.765625 -1.421875 27.09375 -1.421875 \nQ 22.515625 -1.421875 17.65625 -0.515625 \nQ 12.796875 0.390625 7.625 2.203125 \nL 7.625 11.71875 \nQ 11.71875 9.328125 16.59375 8.109375 \nQ 21.484375 6.890625 26.8125 6.890625 \nQ 36.078125 6.890625 40.9375 10.546875 \nQ 45.796875 14.203125 45.796875 21.1875 \nQ 45.796875 27.640625 41.28125 31.265625 \nQ 36.765625 34.90625 28.71875 34.90625 \nL 20.21875 34.90625 \nL 20.21875 43.015625 \nL 29.109375 43.015625 \nQ 36.375 43.015625 40.234375 45.921875 \nQ 44.09375 48.828125 44.09375 54.296875 \nQ 44.09375 59.90625 40.109375 62.90625 \nQ 36.140625 65.921875 28.71875 65.921875 \nQ 24.65625 65.921875 20.015625 65.03125 \nQ 15.375 64.15625 9.8125 62.3125 \nL 9.8125 71.09375 \nQ 15.4375 72.65625 20.34375 73.4375 \nQ 25.25 74.21875 29.59375 74.21875 \nQ 40.828125 74.21875 47.359375 69.109375 \nQ 53.90625 64.015625 53.90625 55.328125 \nQ 53.90625 49.265625 50.4375 45.09375 \nQ 46.96875 40.921875 40.578125 39.3125 \nz\n\" id=\"DejaVuSans-51\"/>\n      </defs>\n      <g transform=\"translate(7.2 47.653285)scale(0.1 -0.1)\">\n       <use xlink:href=\"#DejaVuSans-51\"/>\n       <use x=\"63.623047\" xlink:href=\"#DejaVuSans-48\"/>\n      </g>\n     </g>\n    </g>\n   </g>\n   <g id=\"patch_13\">\n    <path d=\"M 26.925 116.857255 \nL 26.925 22.318125 \n\" style=\"fill:none;stroke:#000000;stroke-linecap:square;stroke-linejoin:miter;stroke-width:0.8;\"/>\n   </g>\n   <g id=\"patch_14\">\n    <path d=\"M 172.490217 116.857255 \nL 172.490217 22.318125 \n\" style=\"fill:none;stroke:#000000;stroke-linecap:square;stroke-linejoin:miter;stroke-width:0.8;\"/>\n   </g>\n   <g id=\"patch_15\">\n    <path d=\"M 26.925 116.857255 \nL 172.490217 116.857255 \n\" style=\"fill:none;stroke:#000000;stroke-linecap:square;stroke-linejoin:miter;stroke-width:0.8;\"/>\n   </g>\n   <g id=\"patch_16\">\n    <path d=\"M 26.925 22.318125 \nL 172.490217 22.318125 \n\" style=\"fill:none;stroke:#000000;stroke-linecap:square;stroke-linejoin:miter;stroke-width:0.8;\"/>\n   </g>\n   <g id=\"text_8\">\n    <!-- petal_length -->\n    <defs>\n     <path d=\"M 18.109375 8.203125 \nL 18.109375 -20.796875 \nL 9.078125 -20.796875 \nL 9.078125 54.6875 \nL 18.109375 54.6875 \nL 18.109375 46.390625 \nQ 20.953125 51.265625 25.265625 53.625 \nQ 29.59375 56 35.59375 56 \nQ 45.5625 56 51.78125 48.09375 \nQ 58.015625 40.1875 58.015625 27.296875 \nQ 58.015625 14.40625 51.78125 6.484375 \nQ 45.5625 -1.421875 35.59375 -1.421875 \nQ 29.59375 -1.421875 25.265625 0.953125 \nQ 20.953125 3.328125 18.109375 8.203125 \nz\nM 48.6875 27.296875 \nQ 48.6875 37.203125 44.609375 42.84375 \nQ 40.53125 48.484375 33.40625 48.484375 \nQ 26.265625 48.484375 22.1875 42.84375 \nQ 18.109375 37.203125 18.109375 27.296875 \nQ 18.109375 17.390625 22.1875 11.75 \nQ 26.265625 6.109375 33.40625 6.109375 \nQ 40.53125 6.109375 44.609375 11.75 \nQ 48.6875 17.390625 48.6875 27.296875 \nz\n\" id=\"DejaVuSans-112\"/>\n     <path d=\"M 56.203125 29.59375 \nL 56.203125 25.203125 \nL 14.890625 25.203125 \nQ 15.484375 15.921875 20.484375 11.0625 \nQ 25.484375 6.203125 34.421875 6.203125 \nQ 39.59375 6.203125 44.453125 7.46875 \nQ 49.3125 8.734375 54.109375 11.28125 \nL 54.109375 2.78125 \nQ 49.265625 0.734375 44.1875 -0.34375 \nQ 39.109375 -1.421875 33.890625 -1.421875 \nQ 20.796875 -1.421875 13.15625 6.1875 \nQ 5.515625 13.8125 5.515625 26.8125 \nQ 5.515625 40.234375 12.765625 48.109375 \nQ 20.015625 56 32.328125 56 \nQ 43.359375 56 49.78125 48.890625 \nQ 56.203125 41.796875 56.203125 29.59375 \nz\nM 47.21875 32.234375 \nQ 47.125 39.59375 43.09375 43.984375 \nQ 39.0625 48.390625 32.421875 48.390625 \nQ 24.90625 48.390625 20.390625 44.140625 \nQ 15.875 39.890625 15.1875 32.171875 \nz\n\" id=\"DejaVuSans-101\"/>\n     <path d=\"M 18.3125 70.21875 \nL 18.3125 54.6875 \nL 36.8125 54.6875 \nL 36.8125 47.703125 \nL 18.3125 47.703125 \nL 18.3125 18.015625 \nQ 18.3125 11.328125 20.140625 9.421875 \nQ 21.96875 7.515625 27.59375 7.515625 \nL 36.8125 7.515625 \nL 36.8125 0 \nL 27.59375 0 \nQ 17.1875 0 13.234375 3.875 \nQ 9.28125 7.765625 9.28125 18.015625 \nL 9.28125 47.703125 \nL 2.6875 47.703125 \nL 2.6875 54.6875 \nL 9.28125 54.6875 \nL 9.28125 70.21875 \nz\n\" id=\"DejaVuSans-116\"/>\n     <path d=\"M 34.28125 27.484375 \nQ 23.390625 27.484375 19.1875 25 \nQ 14.984375 22.515625 14.984375 16.5 \nQ 14.984375 11.71875 18.140625 8.90625 \nQ 21.296875 6.109375 26.703125 6.109375 \nQ 34.1875 6.109375 38.703125 11.40625 \nQ 43.21875 16.703125 43.21875 25.484375 \nL 43.21875 27.484375 \nz\nM 52.203125 31.203125 \nL 52.203125 0 \nL 43.21875 0 \nL 43.21875 8.296875 \nQ 40.140625 3.328125 35.546875 0.953125 \nQ 30.953125 -1.421875 24.3125 -1.421875 \nQ 15.921875 -1.421875 10.953125 3.296875 \nQ 6 8.015625 6 15.921875 \nQ 6 25.140625 12.171875 29.828125 \nQ 18.359375 34.515625 30.609375 34.515625 \nL 43.21875 34.515625 \nL 43.21875 35.40625 \nQ 43.21875 41.609375 39.140625 45 \nQ 35.0625 48.390625 27.6875 48.390625 \nQ 23 48.390625 18.546875 47.265625 \nQ 14.109375 46.140625 10.015625 43.890625 \nL 10.015625 52.203125 \nQ 14.9375 54.109375 19.578125 55.046875 \nQ 24.21875 56 28.609375 56 \nQ 40.484375 56 46.34375 49.84375 \nQ 52.203125 43.703125 52.203125 31.203125 \nz\n\" id=\"DejaVuSans-97\"/>\n     <path d=\"M 9.421875 75.984375 \nL 18.40625 75.984375 \nL 18.40625 0 \nL 9.421875 0 \nz\n\" id=\"DejaVuSans-108\"/>\n     <path d=\"M 50.984375 -16.609375 \nL 50.984375 -23.578125 \nL -0.984375 -23.578125 \nL -0.984375 -16.609375 \nz\n\" id=\"DejaVuSans-95\"/>\n     <path d=\"M 54.890625 33.015625 \nL 54.890625 0 \nL 45.90625 0 \nL 45.90625 32.71875 \nQ 45.90625 40.484375 42.875 44.328125 \nQ 39.84375 48.1875 33.796875 48.1875 \nQ 26.515625 48.1875 22.3125 43.546875 \nQ 18.109375 38.921875 18.109375 30.90625 \nL 18.109375 0 \nL 9.078125 0 \nL 9.078125 54.6875 \nL 18.109375 54.6875 \nL 18.109375 46.1875 \nQ 21.34375 51.125 25.703125 53.5625 \nQ 30.078125 56 35.796875 56 \nQ 45.21875 56 50.046875 50.171875 \nQ 54.890625 44.34375 54.890625 33.015625 \nz\n\" id=\"DejaVuSans-110\"/>\n     <path d=\"M 45.40625 27.984375 \nQ 45.40625 37.75 41.375 43.109375 \nQ 37.359375 48.484375 30.078125 48.484375 \nQ 22.859375 48.484375 18.828125 43.109375 \nQ 14.796875 37.75 14.796875 27.984375 \nQ 14.796875 18.265625 18.828125 12.890625 \nQ 22.859375 7.515625 30.078125 7.515625 \nQ 37.359375 7.515625 41.375 12.890625 \nQ 45.40625 18.265625 45.40625 27.984375 \nz\nM 54.390625 6.78125 \nQ 54.390625 -7.171875 48.1875 -13.984375 \nQ 42 -20.796875 29.203125 -20.796875 \nQ 24.46875 -20.796875 20.265625 -20.09375 \nQ 16.0625 -19.390625 12.109375 -17.921875 \nL 12.109375 -9.1875 \nQ 16.0625 -11.328125 19.921875 -12.34375 \nQ 23.78125 -13.375 27.78125 -13.375 \nQ 36.625 -13.375 41.015625 -8.765625 \nQ 45.40625 -4.15625 45.40625 5.171875 \nL 45.40625 9.625 \nQ 42.625 4.78125 38.28125 2.390625 \nQ 33.9375 0 27.875 0 \nQ 17.828125 0 11.671875 7.65625 \nQ 5.515625 15.328125 5.515625 27.984375 \nQ 5.515625 40.671875 11.671875 48.328125 \nQ 17.828125 56 27.875 56 \nQ 33.9375 56 38.28125 53.609375 \nQ 42.625 51.21875 45.40625 46.390625 \nL 45.40625 54.6875 \nL 54.390625 54.6875 \nz\n\" id=\"DejaVuSans-103\"/>\n     <path d=\"M 54.890625 33.015625 \nL 54.890625 0 \nL 45.90625 0 \nL 45.90625 32.71875 \nQ 45.90625 40.484375 42.875 44.328125 \nQ 39.84375 48.1875 33.796875 48.1875 \nQ 26.515625 48.1875 22.3125 43.546875 \nQ 18.109375 38.921875 18.109375 30.90625 \nL 18.109375 0 \nL 9.078125 0 \nL 9.078125 75.984375 \nL 18.109375 75.984375 \nL 18.109375 46.1875 \nQ 21.34375 51.125 25.703125 53.5625 \nQ 30.078125 56 35.796875 56 \nQ 45.21875 56 50.046875 50.171875 \nQ 54.890625 44.34375 54.890625 33.015625 \nz\n\" id=\"DejaVuSans-104\"/>\n    </defs>\n    <g transform=\"translate(62.385734 16.318125)scale(0.12 -0.12)\">\n     <use xlink:href=\"#DejaVuSans-112\"/>\n     <use x=\"63.476562\" xlink:href=\"#DejaVuSans-101\"/>\n     <use x=\"125\" xlink:href=\"#DejaVuSans-116\"/>\n     <use x=\"164.208984\" xlink:href=\"#DejaVuSans-97\"/>\n     <use x=\"225.488281\" xlink:href=\"#DejaVuSans-108\"/>\n     <use x=\"253.271484\" xlink:href=\"#DejaVuSans-95\"/>\n     <use x=\"303.271484\" xlink:href=\"#DejaVuSans-108\"/>\n     <use x=\"331.054688\" xlink:href=\"#DejaVuSans-101\"/>\n     <use x=\"392.578125\" xlink:href=\"#DejaVuSans-110\"/>\n     <use x=\"455.957031\" xlink:href=\"#DejaVuSans-103\"/>\n     <use x=\"519.433594\" xlink:href=\"#DejaVuSans-116\"/>\n     <use x=\"558.642578\" xlink:href=\"#DejaVuSans-104\"/>\n    </g>\n   </g>\n  </g>\n  <g id=\"axes_2\">\n   <g id=\"patch_17\">\n    <path d=\"M 216.159783 116.857255 \nL 361.725 116.857255 \nL 361.725 22.318125 \nL 216.159783 22.318125 \nz\n\" style=\"fill:#ffffff;\"/>\n   </g>\n   <g id=\"patch_18\">\n    <path clip-path=\"url(#pa7d28d5920)\" d=\"M 222.776383 116.857255 \nL 236.009585 116.857255 \nL 236.009585 26.819988 \nL 222.776383 26.819988 \nz\n\" style=\"fill:#1f77b4;\"/>\n   </g>\n   <g id=\"patch_19\">\n    <path clip-path=\"url(#pa7d28d5920)\" d=\"M 236.009585 116.857255 \nL 249.242787 116.857255 \nL 249.242787 99.289008 \nL 236.009585 99.289008 \nz\n\" style=\"fill:#1f77b4;\"/>\n   </g>\n   <g id=\"patch_20\">\n    <path clip-path=\"url(#pa7d28d5920)\" d=\"M 249.242787 116.857255 \nL 262.475988 116.857255 \nL 262.475988 114.661225 \nL 249.242787 114.661225 \nz\n\" style=\"fill:#1f77b4;\"/>\n   </g>\n   <g id=\"patch_21\">\n    <path clip-path=\"url(#pa7d28d5920)\" d=\"M 262.475988 116.857255 \nL 275.70919 116.857255 \nL 275.70919 101.485039 \nL 262.475988 101.485039 \nz\n\" style=\"fill:#1f77b4;\"/>\n   </g>\n   <g id=\"patch_22\">\n    <path clip-path=\"url(#pa7d28d5920)\" d=\"M 275.70919 116.857255 \nL 288.942391 116.857255 \nL 288.942391 99.289008 \nL 275.70919 99.289008 \nz\n\" style=\"fill:#1f77b4;\"/>\n   </g>\n   <g id=\"patch_23\">\n    <path clip-path=\"url(#pa7d28d5920)\" d=\"M 288.942391 116.857255 \nL 302.175593 116.857255 \nL 302.175593 44.388236 \nL 288.942391 44.388236 \nz\n\" style=\"fill:#1f77b4;\"/>\n   </g>\n   <g id=\"patch_24\">\n    <path clip-path=\"url(#pa7d28d5920)\" d=\"M 302.175593 116.857255 \nL 315.408794 116.857255 \nL 315.408794 103.68107 \nL 302.175593 103.68107 \nz\n\" style=\"fill:#1f77b4;\"/>\n   </g>\n   <g id=\"patch_25\">\n    <path clip-path=\"url(#pa7d28d5920)\" d=\"M 315.408794 116.857255 \nL 328.641996 116.857255 \nL 328.641996 66.348545 \nL 315.408794 66.348545 \nz\n\" style=\"fill:#1f77b4;\"/>\n   </g>\n   <g id=\"patch_26\">\n    <path clip-path=\"url(#pa7d28d5920)\" d=\"M 328.641996 116.857255 \nL 341.875198 116.857255 \nL 341.875198 97.092977 \nL 328.641996 97.092977 \nz\n\" style=\"fill:#1f77b4;\"/>\n   </g>\n   <g id=\"patch_27\">\n    <path clip-path=\"url(#pa7d28d5920)\" d=\"M 341.875198 116.857255 \nL 355.108399 116.857255 \nL 355.108399 86.112823 \nL 341.875198 86.112823 \nz\n\" style=\"fill:#1f77b4;\"/>\n   </g>\n   <g id=\"matplotlib.axis_3\">\n    <g id=\"xtick_4\">\n     <g id=\"line2d_15\">\n      <path clip-path=\"url(#pa7d28d5920)\" d=\"M 217.262549 116.857255 \nL 217.262549 22.318125 \n\" style=\"fill:none;stroke:#b0b0b0;stroke-linecap:square;stroke-width:0.8;\"/>\n     </g>\n     <g id=\"line2d_16\">\n      <g>\n       <use style=\"stroke:#000000;stroke-width:0.8;\" x=\"217.262549\" xlink:href=\"#m4c7c8ea1a3\" y=\"116.857255\"/>\n      </g>\n     </g>\n     <g id=\"text_9\">\n      <!-- 0 -->\n      <g transform=\"translate(214.081299 131.455693)scale(0.1 -0.1)\">\n       <use xlink:href=\"#DejaVuSans-48\"/>\n      </g>\n     </g>\n    </g>\n    <g id=\"xtick_5\">\n     <g id=\"line2d_17\">\n      <path clip-path=\"url(#pa7d28d5920)\" d=\"M 272.400889 116.857255 \nL 272.400889 22.318125 \n\" style=\"fill:none;stroke:#b0b0b0;stroke-linecap:square;stroke-width:0.8;\"/>\n     </g>\n     <g id=\"line2d_18\">\n      <g>\n       <use style=\"stroke:#000000;stroke-width:0.8;\" x=\"272.400889\" xlink:href=\"#m4c7c8ea1a3\" y=\"116.857255\"/>\n      </g>\n     </g>\n     <g id=\"text_10\">\n      <!-- 1 -->\n      <g transform=\"translate(269.219639 131.455693)scale(0.1 -0.1)\">\n       <use xlink:href=\"#DejaVuSans-49\"/>\n      </g>\n     </g>\n    </g>\n    <g id=\"xtick_6\">\n     <g id=\"line2d_19\">\n      <path clip-path=\"url(#pa7d28d5920)\" d=\"M 327.539229 116.857255 \nL 327.539229 22.318125 \n\" style=\"fill:none;stroke:#b0b0b0;stroke-linecap:square;stroke-width:0.8;\"/>\n     </g>\n     <g id=\"line2d_20\">\n      <g>\n       <use style=\"stroke:#000000;stroke-width:0.8;\" x=\"327.539229\" xlink:href=\"#m4c7c8ea1a3\" y=\"116.857255\"/>\n      </g>\n     </g>\n     <g id=\"text_11\">\n      <!-- 2 -->\n      <g transform=\"translate(324.357979 131.455693)scale(0.1 -0.1)\">\n       <use xlink:href=\"#DejaVuSans-50\"/>\n      </g>\n     </g>\n    </g>\n   </g>\n   <g id=\"matplotlib.axis_4\">\n    <g id=\"ytick_5\">\n     <g id=\"line2d_21\">\n      <path clip-path=\"url(#pa7d28d5920)\" d=\"M 216.159783 116.857255 \nL 361.725 116.857255 \n\" style=\"fill:none;stroke:#b0b0b0;stroke-linecap:square;stroke-width:0.8;\"/>\n     </g>\n     <g id=\"line2d_22\">\n      <g>\n       <use style=\"stroke:#000000;stroke-width:0.8;\" x=\"216.159783\" xlink:href=\"#mcf0678db84\" y=\"116.857255\"/>\n      </g>\n     </g>\n     <g id=\"text_12\">\n      <!-- 0 -->\n      <g transform=\"translate(202.797283 120.656474)scale(0.1 -0.1)\">\n       <use xlink:href=\"#DejaVuSans-48\"/>\n      </g>\n     </g>\n    </g>\n    <g id=\"ytick_6\">\n     <g id=\"line2d_23\">\n      <path clip-path=\"url(#pa7d28d5920)\" d=\"M 216.159783 72.936637 \nL 361.725 72.936637 \n\" style=\"fill:none;stroke:#b0b0b0;stroke-linecap:square;stroke-width:0.8;\"/>\n     </g>\n     <g id=\"line2d_24\">\n      <g>\n       <use style=\"stroke:#000000;stroke-width:0.8;\" x=\"216.159783\" xlink:href=\"#mcf0678db84\" y=\"72.936637\"/>\n      </g>\n     </g>\n     <g id=\"text_13\">\n      <!-- 20 -->\n      <g transform=\"translate(196.434783 76.735856)scale(0.1 -0.1)\">\n       <use xlink:href=\"#DejaVuSans-50\"/>\n       <use x=\"63.623047\" xlink:href=\"#DejaVuSans-48\"/>\n      </g>\n     </g>\n    </g>\n    <g id=\"ytick_7\">\n     <g id=\"line2d_25\">\n      <path clip-path=\"url(#pa7d28d5920)\" d=\"M 216.159783 29.016019 \nL 361.725 29.016019 \n\" style=\"fill:none;stroke:#b0b0b0;stroke-linecap:square;stroke-width:0.8;\"/>\n     </g>\n     <g id=\"line2d_26\">\n      <g>\n       <use style=\"stroke:#000000;stroke-width:0.8;\" x=\"216.159783\" xlink:href=\"#mcf0678db84\" y=\"29.016019\"/>\n      </g>\n     </g>\n     <g id=\"text_14\">\n      <!-- 40 -->\n      <g transform=\"translate(196.434783 32.815238)scale(0.1 -0.1)\">\n       <use xlink:href=\"#DejaVuSans-52\"/>\n       <use x=\"63.623047\" xlink:href=\"#DejaVuSans-48\"/>\n      </g>\n     </g>\n    </g>\n   </g>\n   <g id=\"patch_28\">\n    <path d=\"M 216.159783 116.857255 \nL 216.159783 22.318125 \n\" style=\"fill:none;stroke:#000000;stroke-linecap:square;stroke-linejoin:miter;stroke-width:0.8;\"/>\n   </g>\n   <g id=\"patch_29\">\n    <path d=\"M 361.725 116.857255 \nL 361.725 22.318125 \n\" style=\"fill:none;stroke:#000000;stroke-linecap:square;stroke-linejoin:miter;stroke-width:0.8;\"/>\n   </g>\n   <g id=\"patch_30\">\n    <path d=\"M 216.159783 116.857255 \nL 361.725 116.857255 \n\" style=\"fill:none;stroke:#000000;stroke-linecap:square;stroke-linejoin:miter;stroke-width:0.8;\"/>\n   </g>\n   <g id=\"patch_31\">\n    <path d=\"M 216.159783 22.318125 \nL 361.725 22.318125 \n\" style=\"fill:none;stroke:#000000;stroke-linecap:square;stroke-linejoin:miter;stroke-width:0.8;\"/>\n   </g>\n   <g id=\"text_15\">\n    <!-- petal_width -->\n    <defs>\n     <path d=\"M 4.203125 54.6875 \nL 13.1875 54.6875 \nL 24.421875 12.015625 \nL 35.59375 54.6875 \nL 46.1875 54.6875 \nL 57.421875 12.015625 \nL 68.609375 54.6875 \nL 77.59375 54.6875 \nL 63.28125 0 \nL 52.6875 0 \nL 40.921875 44.828125 \nL 29.109375 0 \nL 18.5 0 \nz\n\" id=\"DejaVuSans-119\"/>\n     <path d=\"M 9.421875 54.6875 \nL 18.40625 54.6875 \nL 18.40625 0 \nL 9.421875 0 \nz\nM 9.421875 75.984375 \nL 18.40625 75.984375 \nL 18.40625 64.59375 \nL 9.421875 64.59375 \nz\n\" id=\"DejaVuSans-105\"/>\n     <path d=\"M 45.40625 46.390625 \nL 45.40625 75.984375 \nL 54.390625 75.984375 \nL 54.390625 0 \nL 45.40625 0 \nL 45.40625 8.203125 \nQ 42.578125 3.328125 38.25 0.953125 \nQ 33.9375 -1.421875 27.875 -1.421875 \nQ 17.96875 -1.421875 11.734375 6.484375 \nQ 5.515625 14.40625 5.515625 27.296875 \nQ 5.515625 40.1875 11.734375 48.09375 \nQ 17.96875 56 27.875 56 \nQ 33.9375 56 38.25 53.625 \nQ 42.578125 51.265625 45.40625 46.390625 \nz\nM 14.796875 27.296875 \nQ 14.796875 17.390625 18.875 11.75 \nQ 22.953125 6.109375 30.078125 6.109375 \nQ 37.203125 6.109375 41.296875 11.75 \nQ 45.40625 17.390625 45.40625 27.296875 \nQ 45.40625 37.203125 41.296875 42.84375 \nQ 37.203125 48.484375 30.078125 48.484375 \nQ 22.953125 48.484375 18.875 42.84375 \nQ 14.796875 37.203125 14.796875 27.296875 \nz\n\" id=\"DejaVuSans-100\"/>\n    </defs>\n    <g transform=\"translate(254.208016 16.318125)scale(0.12 -0.12)\">\n     <use xlink:href=\"#DejaVuSans-112\"/>\n     <use x=\"63.476562\" xlink:href=\"#DejaVuSans-101\"/>\n     <use x=\"125\" xlink:href=\"#DejaVuSans-116\"/>\n     <use x=\"164.208984\" xlink:href=\"#DejaVuSans-97\"/>\n     <use x=\"225.488281\" xlink:href=\"#DejaVuSans-108\"/>\n     <use x=\"253.271484\" xlink:href=\"#DejaVuSans-95\"/>\n     <use x=\"303.271484\" xlink:href=\"#DejaVuSans-119\"/>\n     <use x=\"385.058594\" xlink:href=\"#DejaVuSans-105\"/>\n     <use x=\"412.841797\" xlink:href=\"#DejaVuSans-100\"/>\n     <use x=\"476.318359\" xlink:href=\"#DejaVuSans-116\"/>\n     <use x=\"515.527344\" xlink:href=\"#DejaVuSans-104\"/>\n    </g>\n   </g>\n  </g>\n  <g id=\"axes_3\">\n   <g id=\"patch_32\">\n    <path d=\"M 26.925 239.758125 \nL 172.490217 239.758125 \nL 172.490217 145.218995 \nL 26.925 145.218995 \nz\n\" style=\"fill:#ffffff;\"/>\n   </g>\n   <g id=\"patch_33\">\n    <path clip-path=\"url(#p669c6be842)\" d=\"M 33.541601 239.758125 \nL 46.774802 239.758125 \nL 46.774802 209.745703 \nL 33.541601 209.745703 \nz\n\" style=\"fill:#1f77b4;\"/>\n   </g>\n   <g id=\"patch_34\">\n    <path clip-path=\"url(#p669c6be842)\" d=\"M 46.774802 239.758125 \nL 60.008004 239.758125 \nL 60.008004 163.059712 \nL 46.774802 163.059712 \nz\n\" style=\"fill:#1f77b4;\"/>\n   </g>\n   <g id=\"patch_35\">\n    <path clip-path=\"url(#p669c6be842)\" d=\"M 60.008004 239.758125 \nL 73.241206 239.758125 \nL 73.241206 193.072135 \nL 60.008004 193.072135 \nz\n\" style=\"fill:#1f77b4;\"/>\n   </g>\n   <g id=\"patch_36\">\n    <path clip-path=\"url(#p669c6be842)\" d=\"M 73.241206 239.758125 \nL 86.474407 239.758125 \nL 86.474407 149.720858 \nL 73.241206 149.720858 \nz\n\" style=\"fill:#1f77b4;\"/>\n   </g>\n   <g id=\"patch_37\">\n    <path clip-path=\"url(#p669c6be842)\" d=\"M 86.474407 239.758125 \nL 99.707609 239.758125 \nL 99.707609 186.402707 \nL 86.474407 186.402707 \nz\n\" style=\"fill:#1f77b4;\"/>\n   </g>\n   <g id=\"patch_38\">\n    <path clip-path=\"url(#p669c6be842)\" d=\"M 99.707609 239.758125 \nL 112.94081 239.758125 \nL 112.94081 153.055572 \nL 99.707609 153.055572 \nz\n\" style=\"fill:#1f77b4;\"/>\n   </g>\n   <g id=\"patch_39\">\n    <path clip-path=\"url(#p669c6be842)\" d=\"M 112.94081 239.758125 \nL 126.174012 239.758125 \nL 126.174012 179.73328 \nL 112.94081 179.73328 \nz\n\" style=\"fill:#1f77b4;\"/>\n   </g>\n   <g id=\"patch_40\">\n    <path clip-path=\"url(#p669c6be842)\" d=\"M 126.174012 239.758125 \nL 139.407213 239.758125 \nL 139.407213 219.749843 \nL 126.174012 219.749843 \nz\n\" style=\"fill:#1f77b4;\"/>\n   </g>\n   <g id=\"patch_41\">\n    <path clip-path=\"url(#p669c6be842)\" d=\"M 139.407213 239.758125 \nL 152.640415 239.758125 \nL 152.640415 223.084557 \nL 139.407213 223.084557 \nz\n\" style=\"fill:#1f77b4;\"/>\n   </g>\n   <g id=\"patch_42\">\n    <path clip-path=\"url(#p669c6be842)\" d=\"M 152.640415 239.758125 \nL 165.873617 239.758125 \nL 165.873617 219.749843 \nL 152.640415 219.749843 \nz\n\" style=\"fill:#1f77b4;\"/>\n   </g>\n   <g id=\"matplotlib.axis_5\">\n    <g id=\"xtick_7\">\n     <g id=\"line2d_27\">\n      <path clip-path=\"url(#p669c6be842)\" d=\"M 59.272826 239.758125 \nL 59.272826 145.218995 \n\" style=\"fill:none;stroke:#b0b0b0;stroke-linecap:square;stroke-width:0.8;\"/>\n     </g>\n     <g id=\"line2d_28\">\n      <g>\n       <use style=\"stroke:#000000;stroke-width:0.8;\" x=\"59.272826\" xlink:href=\"#m4c7c8ea1a3\" y=\"239.758125\"/>\n      </g>\n     </g>\n     <g id=\"text_16\">\n      <!-- 5 -->\n      <defs>\n       <path d=\"M 10.796875 72.90625 \nL 49.515625 72.90625 \nL 49.515625 64.59375 \nL 19.828125 64.59375 \nL 19.828125 46.734375 \nQ 21.96875 47.46875 24.109375 47.828125 \nQ 26.265625 48.1875 28.421875 48.1875 \nQ 40.625 48.1875 47.75 41.5 \nQ 54.890625 34.8125 54.890625 23.390625 \nQ 54.890625 11.625 47.5625 5.09375 \nQ 40.234375 -1.421875 26.90625 -1.421875 \nQ 22.3125 -1.421875 17.546875 -0.640625 \nQ 12.796875 0.140625 7.71875 1.703125 \nL 7.71875 11.625 \nQ 12.109375 9.234375 16.796875 8.0625 \nQ 21.484375 6.890625 26.703125 6.890625 \nQ 35.15625 6.890625 40.078125 11.328125 \nQ 45.015625 15.765625 45.015625 23.390625 \nQ 45.015625 31 40.078125 35.4375 \nQ 35.15625 39.890625 26.703125 39.890625 \nQ 22.75 39.890625 18.8125 39.015625 \nQ 14.890625 38.140625 10.796875 36.28125 \nz\n\" id=\"DejaVuSans-53\"/>\n      </defs>\n      <g transform=\"translate(56.091576 254.356563)scale(0.1 -0.1)\">\n       <use xlink:href=\"#DejaVuSans-53\"/>\n      </g>\n     </g>\n    </g>\n    <g id=\"xtick_8\">\n     <g id=\"line2d_29\">\n      <path clip-path=\"url(#p669c6be842)\" d=\"M 96.031719 239.758125 \nL 96.031719 145.218995 \n\" style=\"fill:none;stroke:#b0b0b0;stroke-linecap:square;stroke-width:0.8;\"/>\n     </g>\n     <g id=\"line2d_30\">\n      <g>\n       <use style=\"stroke:#000000;stroke-width:0.8;\" x=\"96.031719\" xlink:href=\"#m4c7c8ea1a3\" y=\"239.758125\"/>\n      </g>\n     </g>\n     <g id=\"text_17\">\n      <!-- 6 -->\n      <g transform=\"translate(92.850469 254.356563)scale(0.1 -0.1)\">\n       <use xlink:href=\"#DejaVuSans-54\"/>\n      </g>\n     </g>\n    </g>\n    <g id=\"xtick_9\">\n     <g id=\"line2d_31\">\n      <path clip-path=\"url(#p669c6be842)\" d=\"M 132.790613 239.758125 \nL 132.790613 145.218995 \n\" style=\"fill:none;stroke:#b0b0b0;stroke-linecap:square;stroke-width:0.8;\"/>\n     </g>\n     <g id=\"line2d_32\">\n      <g>\n       <use style=\"stroke:#000000;stroke-width:0.8;\" x=\"132.790613\" xlink:href=\"#m4c7c8ea1a3\" y=\"239.758125\"/>\n      </g>\n     </g>\n     <g id=\"text_18\">\n      <!-- 7 -->\n      <defs>\n       <path d=\"M 8.203125 72.90625 \nL 55.078125 72.90625 \nL 55.078125 68.703125 \nL 28.609375 0 \nL 18.3125 0 \nL 43.21875 64.59375 \nL 8.203125 64.59375 \nz\n\" id=\"DejaVuSans-55\"/>\n      </defs>\n      <g transform=\"translate(129.609363 254.356563)scale(0.1 -0.1)\">\n       <use xlink:href=\"#DejaVuSans-55\"/>\n      </g>\n     </g>\n    </g>\n    <g id=\"xtick_10\">\n     <g id=\"line2d_33\">\n      <path clip-path=\"url(#p669c6be842)\" d=\"M 169.549506 239.758125 \nL 169.549506 145.218995 \n\" style=\"fill:none;stroke:#b0b0b0;stroke-linecap:square;stroke-width:0.8;\"/>\n     </g>\n     <g id=\"line2d_34\">\n      <g>\n       <use style=\"stroke:#000000;stroke-width:0.8;\" x=\"169.549506\" xlink:href=\"#m4c7c8ea1a3\" y=\"239.758125\"/>\n      </g>\n     </g>\n     <g id=\"text_19\">\n      <!-- 8 -->\n      <defs>\n       <path d=\"M 31.78125 34.625 \nQ 24.75 34.625 20.71875 30.859375 \nQ 16.703125 27.09375 16.703125 20.515625 \nQ 16.703125 13.921875 20.71875 10.15625 \nQ 24.75 6.390625 31.78125 6.390625 \nQ 38.8125 6.390625 42.859375 10.171875 \nQ 46.921875 13.96875 46.921875 20.515625 \nQ 46.921875 27.09375 42.890625 30.859375 \nQ 38.875 34.625 31.78125 34.625 \nz\nM 21.921875 38.8125 \nQ 15.578125 40.375 12.03125 44.71875 \nQ 8.5 49.078125 8.5 55.328125 \nQ 8.5 64.0625 14.71875 69.140625 \nQ 20.953125 74.21875 31.78125 74.21875 \nQ 42.671875 74.21875 48.875 69.140625 \nQ 55.078125 64.0625 55.078125 55.328125 \nQ 55.078125 49.078125 51.53125 44.71875 \nQ 48 40.375 41.703125 38.8125 \nQ 48.828125 37.15625 52.796875 32.3125 \nQ 56.78125 27.484375 56.78125 20.515625 \nQ 56.78125 9.90625 50.3125 4.234375 \nQ 43.84375 -1.421875 31.78125 -1.421875 \nQ 19.734375 -1.421875 13.25 4.234375 \nQ 6.78125 9.90625 6.78125 20.515625 \nQ 6.78125 27.484375 10.78125 32.3125 \nQ 14.796875 37.15625 21.921875 38.8125 \nz\nM 18.3125 54.390625 \nQ 18.3125 48.734375 21.84375 45.5625 \nQ 25.390625 42.390625 31.78125 42.390625 \nQ 38.140625 42.390625 41.71875 45.5625 \nQ 45.3125 48.734375 45.3125 54.390625 \nQ 45.3125 60.0625 41.71875 63.234375 \nQ 38.140625 66.40625 31.78125 66.40625 \nQ 25.390625 66.40625 21.84375 63.234375 \nQ 18.3125 60.0625 18.3125 54.390625 \nz\n\" id=\"DejaVuSans-56\"/>\n      </defs>\n      <g transform=\"translate(166.368256 254.356563)scale(0.1 -0.1)\">\n       <use xlink:href=\"#DejaVuSans-56\"/>\n      </g>\n     </g>\n    </g>\n   </g>\n   <g id=\"matplotlib.axis_6\">\n    <g id=\"ytick_8\">\n     <g id=\"line2d_35\">\n      <path clip-path=\"url(#p669c6be842)\" d=\"M 26.925 239.758125 \nL 172.490217 239.758125 \n\" style=\"fill:none;stroke:#b0b0b0;stroke-linecap:square;stroke-width:0.8;\"/>\n     </g>\n     <g id=\"line2d_36\">\n      <g>\n       <use style=\"stroke:#000000;stroke-width:0.8;\" x=\"26.925\" xlink:href=\"#mcf0678db84\" y=\"239.758125\"/>\n      </g>\n     </g>\n     <g id=\"text_20\">\n      <!-- 0 -->\n      <g transform=\"translate(13.5625 243.557344)scale(0.1 -0.1)\">\n       <use xlink:href=\"#DejaVuSans-48\"/>\n      </g>\n     </g>\n    </g>\n    <g id=\"ytick_9\">\n     <g id=\"line2d_37\">\n      <path clip-path=\"url(#p669c6be842)\" d=\"M 26.925 206.410989 \nL 172.490217 206.410989 \n\" style=\"fill:none;stroke:#b0b0b0;stroke-linecap:square;stroke-width:0.8;\"/>\n     </g>\n     <g id=\"line2d_38\">\n      <g>\n       <use style=\"stroke:#000000;stroke-width:0.8;\" x=\"26.925\" xlink:href=\"#mcf0678db84\" y=\"206.410989\"/>\n      </g>\n     </g>\n     <g id=\"text_21\">\n      <!-- 10 -->\n      <g transform=\"translate(7.2 210.210208)scale(0.1 -0.1)\">\n       <use xlink:href=\"#DejaVuSans-49\"/>\n       <use x=\"63.623047\" xlink:href=\"#DejaVuSans-48\"/>\n      </g>\n     </g>\n    </g>\n    <g id=\"ytick_10\">\n     <g id=\"line2d_39\">\n      <path clip-path=\"url(#p669c6be842)\" d=\"M 26.925 173.063853 \nL 172.490217 173.063853 \n\" style=\"fill:none;stroke:#b0b0b0;stroke-linecap:square;stroke-width:0.8;\"/>\n     </g>\n     <g id=\"line2d_40\">\n      <g>\n       <use style=\"stroke:#000000;stroke-width:0.8;\" x=\"26.925\" xlink:href=\"#mcf0678db84\" y=\"173.063853\"/>\n      </g>\n     </g>\n     <g id=\"text_22\">\n      <!-- 20 -->\n      <g transform=\"translate(7.2 176.863072)scale(0.1 -0.1)\">\n       <use xlink:href=\"#DejaVuSans-50\"/>\n       <use x=\"63.623047\" xlink:href=\"#DejaVuSans-48\"/>\n      </g>\n     </g>\n    </g>\n   </g>\n   <g id=\"patch_43\">\n    <path d=\"M 26.925 239.758125 \nL 26.925 145.218995 \n\" style=\"fill:none;stroke:#000000;stroke-linecap:square;stroke-linejoin:miter;stroke-width:0.8;\"/>\n   </g>\n   <g id=\"patch_44\">\n    <path d=\"M 172.490217 239.758125 \nL 172.490217 145.218995 \n\" style=\"fill:none;stroke:#000000;stroke-linecap:square;stroke-linejoin:miter;stroke-width:0.8;\"/>\n   </g>\n   <g id=\"patch_45\">\n    <path d=\"M 26.925 239.758125 \nL 172.490217 239.758125 \n\" style=\"fill:none;stroke:#000000;stroke-linecap:square;stroke-linejoin:miter;stroke-width:0.8;\"/>\n   </g>\n   <g id=\"patch_46\">\n    <path d=\"M 26.925 145.218995 \nL 172.490217 145.218995 \n\" style=\"fill:none;stroke:#000000;stroke-linecap:square;stroke-linejoin:miter;stroke-width:0.8;\"/>\n   </g>\n   <g id=\"text_23\">\n    <!-- sepal_length -->\n    <defs>\n     <path d=\"M 44.28125 53.078125 \nL 44.28125 44.578125 \nQ 40.484375 46.53125 36.375 47.5 \nQ 32.28125 48.484375 27.875 48.484375 \nQ 21.1875 48.484375 17.84375 46.4375 \nQ 14.5 44.390625 14.5 40.28125 \nQ 14.5 37.15625 16.890625 35.375 \nQ 19.28125 33.59375 26.515625 31.984375 \nL 29.59375 31.296875 \nQ 39.15625 29.25 43.1875 25.515625 \nQ 47.21875 21.78125 47.21875 15.09375 \nQ 47.21875 7.46875 41.1875 3.015625 \nQ 35.15625 -1.421875 24.609375 -1.421875 \nQ 20.21875 -1.421875 15.453125 -0.5625 \nQ 10.6875 0.296875 5.421875 2 \nL 5.421875 11.28125 \nQ 10.40625 8.6875 15.234375 7.390625 \nQ 20.0625 6.109375 24.8125 6.109375 \nQ 31.15625 6.109375 34.5625 8.28125 \nQ 37.984375 10.453125 37.984375 14.40625 \nQ 37.984375 18.0625 35.515625 20.015625 \nQ 33.0625 21.96875 24.703125 23.78125 \nL 21.578125 24.515625 \nQ 13.234375 26.265625 9.515625 29.90625 \nQ 5.8125 33.546875 5.8125 39.890625 \nQ 5.8125 47.609375 11.28125 51.796875 \nQ 16.75 56 26.8125 56 \nQ 31.78125 56 36.171875 55.265625 \nQ 40.578125 54.546875 44.28125 53.078125 \nz\n\" id=\"DejaVuSans-115\"/>\n    </defs>\n    <g transform=\"translate(61.612296 139.218995)scale(0.12 -0.12)\">\n     <use xlink:href=\"#DejaVuSans-115\"/>\n     <use x=\"52.099609\" xlink:href=\"#DejaVuSans-101\"/>\n     <use x=\"113.623047\" xlink:href=\"#DejaVuSans-112\"/>\n     <use x=\"177.099609\" xlink:href=\"#DejaVuSans-97\"/>\n     <use x=\"238.378906\" xlink:href=\"#DejaVuSans-108\"/>\n     <use x=\"266.162109\" xlink:href=\"#DejaVuSans-95\"/>\n     <use x=\"316.162109\" xlink:href=\"#DejaVuSans-108\"/>\n     <use x=\"343.945312\" xlink:href=\"#DejaVuSans-101\"/>\n     <use x=\"405.46875\" xlink:href=\"#DejaVuSans-110\"/>\n     <use x=\"468.847656\" xlink:href=\"#DejaVuSans-103\"/>\n     <use x=\"532.324219\" xlink:href=\"#DejaVuSans-116\"/>\n     <use x=\"571.533203\" xlink:href=\"#DejaVuSans-104\"/>\n    </g>\n   </g>\n  </g>\n  <g id=\"axes_4\">\n   <g id=\"patch_47\">\n    <path d=\"M 216.159783 239.758125 \nL 361.725 239.758125 \nL 361.725 145.218995 \nL 216.159783 145.218995 \nz\n\" style=\"fill:#ffffff;\"/>\n   </g>\n   <g id=\"patch_48\">\n    <path clip-path=\"url(#p8d672eb15f)\" d=\"M 222.776383 239.758125 \nL 236.009585 239.758125 \nL 236.009585 230.280518 \nL 222.776383 230.280518 \nz\n\" style=\"fill:#1f77b4;\"/>\n   </g>\n   <g id=\"patch_49\">\n    <path clip-path=\"url(#p8d672eb15f)\" d=\"M 236.009585 239.758125 \nL 249.242787 239.758125 \nL 249.242787 223.172313 \nL 236.009585 223.172313 \nz\n\" style=\"fill:#1f77b4;\"/>\n   </g>\n   <g id=\"patch_50\">\n    <path clip-path=\"url(#p8d672eb15f)\" d=\"M 249.242787 239.758125 \nL 262.475988 239.758125 \nL 262.475988 187.631286 \nL 249.242787 187.631286 \nz\n\" style=\"fill:#1f77b4;\"/>\n   </g>\n   <g id=\"patch_51\">\n    <path clip-path=\"url(#p8d672eb15f)\" d=\"M 262.475988 239.758125 \nL 275.70919 239.758125 \nL 275.70919 182.892483 \nL 262.475988 182.892483 \nz\n\" style=\"fill:#1f77b4;\"/>\n   </g>\n   <g id=\"patch_52\">\n    <path clip-path=\"url(#p8d672eb15f)\" d=\"M 275.70919 239.758125 \nL 288.942391 239.758125 \nL 288.942391 149.720858 \nL 275.70919 149.720858 \nz\n\" style=\"fill:#1f77b4;\"/>\n   </g>\n   <g id=\"patch_53\">\n    <path clip-path=\"url(#p8d672eb15f)\" d=\"M 288.942391 239.758125 \nL 302.175593 239.758125 \nL 302.175593 166.30667 \nL 288.942391 166.30667 \nz\n\" style=\"fill:#1f77b4;\"/>\n   </g>\n   <g id=\"patch_54\">\n    <path clip-path=\"url(#p8d672eb15f)\" d=\"M 302.175593 239.758125 \nL 315.408794 239.758125 \nL 315.408794 218.433509 \nL 302.175593 218.433509 \nz\n\" style=\"fill:#1f77b4;\"/>\n   </g>\n   <g id=\"patch_55\">\n    <path clip-path=\"url(#p8d672eb15f)\" d=\"M 315.408794 239.758125 \nL 328.641996 239.758125 \nL 328.641996 213.694706 \nL 315.408794 213.694706 \nz\n\" style=\"fill:#1f77b4;\"/>\n   </g>\n   <g id=\"patch_56\">\n    <path clip-path=\"url(#p8d672eb15f)\" d=\"M 328.641996 239.758125 \nL 341.875198 239.758125 \nL 341.875198 235.019321 \nL 328.641996 235.019321 \nz\n\" style=\"fill:#1f77b4;\"/>\n   </g>\n   <g id=\"patch_57\">\n    <path clip-path=\"url(#p8d672eb15f)\" d=\"M 341.875198 239.758125 \nL 355.108399 239.758125 \nL 355.108399 235.019321 \nL 341.875198 235.019321 \nz\n\" style=\"fill:#1f77b4;\"/>\n   </g>\n   <g id=\"matplotlib.axis_7\">\n    <g id=\"xtick_11\">\n     <g id=\"line2d_41\">\n      <path clip-path=\"url(#p8d672eb15f)\" d=\"M 222.776383 239.758125 \nL 222.776383 145.218995 \n\" style=\"fill:none;stroke:#b0b0b0;stroke-linecap:square;stroke-width:0.8;\"/>\n     </g>\n     <g id=\"line2d_42\">\n      <g>\n       <use style=\"stroke:#000000;stroke-width:0.8;\" x=\"222.776383\" xlink:href=\"#m4c7c8ea1a3\" y=\"239.758125\"/>\n      </g>\n     </g>\n     <g id=\"text_24\">\n      <!-- 2 -->\n      <g transform=\"translate(219.595133 254.356563)scale(0.1 -0.1)\">\n       <use xlink:href=\"#DejaVuSans-50\"/>\n      </g>\n     </g>\n    </g>\n    <g id=\"xtick_12\">\n     <g id=\"line2d_43\">\n      <path clip-path=\"url(#p8d672eb15f)\" d=\"M 277.914723 239.758125 \nL 277.914723 145.218995 \n\" style=\"fill:none;stroke:#b0b0b0;stroke-linecap:square;stroke-width:0.8;\"/>\n     </g>\n     <g id=\"line2d_44\">\n      <g>\n       <use style=\"stroke:#000000;stroke-width:0.8;\" x=\"277.914723\" xlink:href=\"#m4c7c8ea1a3\" y=\"239.758125\"/>\n      </g>\n     </g>\n     <g id=\"text_25\">\n      <!-- 3 -->\n      <g transform=\"translate(274.733473 254.356563)scale(0.1 -0.1)\">\n       <use xlink:href=\"#DejaVuSans-51\"/>\n      </g>\n     </g>\n    </g>\n    <g id=\"xtick_13\">\n     <g id=\"line2d_45\">\n      <path clip-path=\"url(#p8d672eb15f)\" d=\"M 333.053063 239.758125 \nL 333.053063 145.218995 \n\" style=\"fill:none;stroke:#b0b0b0;stroke-linecap:square;stroke-width:0.8;\"/>\n     </g>\n     <g id=\"line2d_46\">\n      <g>\n       <use style=\"stroke:#000000;stroke-width:0.8;\" x=\"333.053063\" xlink:href=\"#m4c7c8ea1a3\" y=\"239.758125\"/>\n      </g>\n     </g>\n     <g id=\"text_26\">\n      <!-- 4 -->\n      <g transform=\"translate(329.871813 254.356563)scale(0.1 -0.1)\">\n       <use xlink:href=\"#DejaVuSans-52\"/>\n      </g>\n     </g>\n    </g>\n   </g>\n   <g id=\"matplotlib.axis_8\">\n    <g id=\"ytick_11\">\n     <g id=\"line2d_47\">\n      <path clip-path=\"url(#p8d672eb15f)\" d=\"M 216.159783 239.758125 \nL 361.725 239.758125 \n\" style=\"fill:none;stroke:#b0b0b0;stroke-linecap:square;stroke-width:0.8;\"/>\n     </g>\n     <g id=\"line2d_48\">\n      <g>\n       <use style=\"stroke:#000000;stroke-width:0.8;\" x=\"216.159783\" xlink:href=\"#mcf0678db84\" y=\"239.758125\"/>\n      </g>\n     </g>\n     <g id=\"text_27\">\n      <!-- 0 -->\n      <g transform=\"translate(202.797283 243.557344)scale(0.1 -0.1)\">\n       <use xlink:href=\"#DejaVuSans-48\"/>\n      </g>\n     </g>\n    </g>\n    <g id=\"ytick_12\">\n     <g id=\"line2d_49\">\n      <path clip-path=\"url(#p8d672eb15f)\" d=\"M 216.159783 216.064107 \nL 361.725 216.064107 \n\" style=\"fill:none;stroke:#b0b0b0;stroke-linecap:square;stroke-width:0.8;\"/>\n     </g>\n     <g id=\"line2d_50\">\n      <g>\n       <use style=\"stroke:#000000;stroke-width:0.8;\" x=\"216.159783\" xlink:href=\"#mcf0678db84\" y=\"216.064107\"/>\n      </g>\n     </g>\n     <g id=\"text_28\">\n      <!-- 10 -->\n      <g transform=\"translate(196.434783 219.863326)scale(0.1 -0.1)\">\n       <use xlink:href=\"#DejaVuSans-49\"/>\n       <use x=\"63.623047\" xlink:href=\"#DejaVuSans-48\"/>\n      </g>\n     </g>\n    </g>\n    <g id=\"ytick_13\">\n     <g id=\"line2d_51\">\n      <path clip-path=\"url(#p8d672eb15f)\" d=\"M 216.159783 192.37009 \nL 361.725 192.37009 \n\" style=\"fill:none;stroke:#b0b0b0;stroke-linecap:square;stroke-width:0.8;\"/>\n     </g>\n     <g id=\"line2d_52\">\n      <g>\n       <use style=\"stroke:#000000;stroke-width:0.8;\" x=\"216.159783\" xlink:href=\"#mcf0678db84\" y=\"192.37009\"/>\n      </g>\n     </g>\n     <g id=\"text_29\">\n      <!-- 20 -->\n      <g transform=\"translate(196.434783 196.169308)scale(0.1 -0.1)\">\n       <use xlink:href=\"#DejaVuSans-50\"/>\n       <use x=\"63.623047\" xlink:href=\"#DejaVuSans-48\"/>\n      </g>\n     </g>\n    </g>\n    <g id=\"ytick_14\">\n     <g id=\"line2d_53\">\n      <path clip-path=\"url(#p8d672eb15f)\" d=\"M 216.159783 168.676072 \nL 361.725 168.676072 \n\" style=\"fill:none;stroke:#b0b0b0;stroke-linecap:square;stroke-width:0.8;\"/>\n     </g>\n     <g id=\"line2d_54\">\n      <g>\n       <use style=\"stroke:#000000;stroke-width:0.8;\" x=\"216.159783\" xlink:href=\"#mcf0678db84\" y=\"168.676072\"/>\n      </g>\n     </g>\n     <g id=\"text_30\">\n      <!-- 30 -->\n      <g transform=\"translate(196.434783 172.475291)scale(0.1 -0.1)\">\n       <use xlink:href=\"#DejaVuSans-51\"/>\n       <use x=\"63.623047\" xlink:href=\"#DejaVuSans-48\"/>\n      </g>\n     </g>\n    </g>\n    <g id=\"ytick_15\">\n     <g id=\"line2d_55\">\n      <path clip-path=\"url(#p8d672eb15f)\" d=\"M 216.159783 144.982054 \nL 361.725 144.982054 \n\" style=\"fill:none;stroke:#b0b0b0;stroke-linecap:square;stroke-width:0.8;\"/>\n     </g>\n     <g id=\"line2d_56\">\n      <g>\n       <use style=\"stroke:#000000;stroke-width:0.8;\" x=\"216.159783\" xlink:href=\"#mcf0678db84\" y=\"144.982054\"/>\n      </g>\n     </g>\n     <g id=\"text_31\">\n      <!-- 40 -->\n      <g transform=\"translate(196.434783 148.781273)scale(0.1 -0.1)\">\n       <use xlink:href=\"#DejaVuSans-52\"/>\n       <use x=\"63.623047\" xlink:href=\"#DejaVuSans-48\"/>\n      </g>\n     </g>\n    </g>\n   </g>\n   <g id=\"patch_58\">\n    <path d=\"M 216.159783 239.758125 \nL 216.159783 145.218995 \n\" style=\"fill:none;stroke:#000000;stroke-linecap:square;stroke-linejoin:miter;stroke-width:0.8;\"/>\n   </g>\n   <g id=\"patch_59\">\n    <path d=\"M 361.725 239.758125 \nL 361.725 145.218995 \n\" style=\"fill:none;stroke:#000000;stroke-linecap:square;stroke-linejoin:miter;stroke-width:0.8;\"/>\n   </g>\n   <g id=\"patch_60\">\n    <path d=\"M 216.159783 239.758125 \nL 361.725 239.758125 \n\" style=\"fill:none;stroke:#000000;stroke-linecap:square;stroke-linejoin:miter;stroke-width:0.8;\"/>\n   </g>\n   <g id=\"patch_61\">\n    <path d=\"M 216.159783 145.218995 \nL 361.725 145.218995 \n\" style=\"fill:none;stroke:#000000;stroke-linecap:square;stroke-linejoin:miter;stroke-width:0.8;\"/>\n   </g>\n   <g id=\"text_32\">\n    <!-- sepal_width -->\n    <g transform=\"translate(253.434579 139.218995)scale(0.12 -0.12)\">\n     <use xlink:href=\"#DejaVuSans-115\"/>\n     <use x=\"52.099609\" xlink:href=\"#DejaVuSans-101\"/>\n     <use x=\"113.623047\" xlink:href=\"#DejaVuSans-112\"/>\n     <use x=\"177.099609\" xlink:href=\"#DejaVuSans-97\"/>\n     <use x=\"238.378906\" xlink:href=\"#DejaVuSans-108\"/>\n     <use x=\"266.162109\" xlink:href=\"#DejaVuSans-95\"/>\n     <use x=\"316.162109\" xlink:href=\"#DejaVuSans-119\"/>\n     <use x=\"397.949219\" xlink:href=\"#DejaVuSans-105\"/>\n     <use x=\"425.732422\" xlink:href=\"#DejaVuSans-100\"/>\n     <use x=\"489.208984\" xlink:href=\"#DejaVuSans-116\"/>\n     <use x=\"528.417969\" xlink:href=\"#DejaVuSans-104\"/>\n    </g>\n   </g>\n  </g>\n </g>\n <defs>\n  <clipPath id=\"p6bbe5c9f83\">\n   <rect height=\"94.53913\" width=\"145.565217\" x=\"26.925\" y=\"22.318125\"/>\n  </clipPath>\n  <clipPath id=\"pa7d28d5920\">\n   <rect height=\"94.53913\" width=\"145.565217\" x=\"216.159783\" y=\"22.318125\"/>\n  </clipPath>\n  <clipPath id=\"p669c6be842\">\n   <rect height=\"94.53913\" width=\"145.565217\" x=\"26.925\" y=\"145.218995\"/>\n  </clipPath>\n  <clipPath id=\"p8d672eb15f\">\n   <rect height=\"94.53913\" width=\"145.565217\" x=\"216.159783\" y=\"145.218995\"/>\n  </clipPath>\n </defs>\n</svg>\n"
          },
          "metadata": {
            "tags": []
          }
        }
      ]
    },
    {
      "cell_type": "markdown",
      "metadata": {
        "id": "1kA4HZzQpvHP",
        "colab_type": "text"
      },
      "source": [
        "Çanak yaprak uzunluk ve genişliklerini grafik üzerinde çizdirelim."
      ]
    },
    {
      "cell_type": "code",
      "metadata": {
        "id": "ItLtxvIxeSjx",
        "colab_type": "code",
        "outputId": "fce7ee14-f8a5-4ca4-e7f9-80f8a5f599d5",
        "colab": {
          "base_uri": "https://localhost:8080/",
          "height": 375
        }
      },
      "source": [
        "iris.plot.scatter(x = \"sepal_length\", y = \"sepal_width\")\n",
        "\n",
        "plt.show()"
      ],
      "execution_count": 11,
      "outputs": [
        {
          "output_type": "display_data",
          "data": {
            "text/plain": [
              "<Figure size 432x288 with 1 Axes>"
            ],
            "image/svg+xml": "<?xml version=\"1.0\" encoding=\"utf-8\" standalone=\"no\"?>\n<!DOCTYPE svg PUBLIC \"-//W3C//DTD SVG 1.1//EN\"\n  \"http://www.w3.org/Graphics/SVG/1.1/DTD/svg11.dtd\">\n<!-- Created with matplotlib (https://matplotlib.org/) -->\n<svg height=\"265.974375pt\" version=\"1.1\" viewBox=\"0 0 389.559375 265.974375\" width=\"389.559375pt\" xmlns=\"http://www.w3.org/2000/svg\" xmlns:xlink=\"http://www.w3.org/1999/xlink\">\n <defs>\n  <style type=\"text/css\">\n*{stroke-linecap:butt;stroke-linejoin:round;}\n  </style>\n </defs>\n <g id=\"figure_1\">\n  <g id=\"patch_1\">\n   <path d=\"M 0 265.974375 \nL 389.559375 265.974375 \nL 389.559375 0 \nL 0 0 \nz\n\" style=\"fill:none;\"/>\n  </g>\n  <g id=\"axes_1\">\n   <g id=\"patch_2\">\n    <path d=\"M 44.059375 228.14 \nL 378.859375 228.14 \nL 378.859375 10.7 \nL 44.059375 10.7 \nz\n\" style=\"fill:#ffffff;\"/>\n   </g>\n   <g id=\"PathCollection_1\">\n    <defs>\n     <path d=\"M 0 2.236068 \nC 0.593012 2.236068 1.161816 2.000462 1.581139 1.581139 \nC 2.000462 1.161816 2.236068 0.593012 2.236068 0 \nC 2.236068 -0.593012 2.000462 -1.161816 1.581139 -1.581139 \nC 1.161816 -2.000462 0.593012 -2.236068 0 -2.236068 \nC -0.593012 -2.236068 -1.161816 -2.000462 -1.581139 -1.581139 \nC -2.000462 -1.161816 -2.236068 -0.593012 -2.236068 0 \nC -2.236068 0.593012 -2.000462 1.161816 -1.581139 1.581139 \nC -1.161816 2.000462 -0.593012 2.236068 0 2.236068 \nz\n\" id=\"md72536756c\" style=\"stroke:#1f77b4;\"/>\n    </defs>\n    <g clip-path=\"url(#p434232f395)\">\n     <use style=\"fill:#1f77b4;stroke:#1f77b4;\" x=\"127.226463\" xlink:href=\"#md72536756c\" y=\"94.920859\"/>\n     <use style=\"fill:#1f77b4;stroke:#1f77b4;\" x=\"110.37988\" xlink:href=\"#md72536756c\" y=\"135.752761\"/>\n     <use style=\"fill:#1f77b4;stroke:#1f77b4;\" x=\"93.533298\" xlink:href=\"#md72536756c\" y=\"119.42\"/>\n     <use style=\"fill:#1f77b4;stroke:#1f77b4;\" x=\"85.110007\" xlink:href=\"#md72536756c\" y=\"127.58638\"/>\n     <use style=\"fill:#1f77b4;stroke:#1f77b4;\" x=\"118.803172\" xlink:href=\"#md72536756c\" y=\"86.754478\"/>\n     <use style=\"fill:#1f77b4;stroke:#1f77b4;\" x=\"152.496336\" xlink:href=\"#md72536756c\" y=\"62.255337\"/>\n     <use style=\"fill:#1f77b4;stroke:#1f77b4;\" x=\"85.110007\" xlink:href=\"#md72536756c\" y=\"103.087239\"/>\n     <use style=\"fill:#1f77b4;stroke:#1f77b4;\" x=\"118.803172\" xlink:href=\"#md72536756c\" y=\"103.087239\"/>\n     <use style=\"fill:#1f77b4;stroke:#1f77b4;\" x=\"68.263424\" xlink:href=\"#md72536756c\" y=\"143.919141\"/>\n     <use style=\"fill:#1f77b4;stroke:#1f77b4;\" x=\"110.37988\" xlink:href=\"#md72536756c\" y=\"127.58638\"/>\n     <use style=\"fill:#1f77b4;stroke:#1f77b4;\" x=\"152.496336\" xlink:href=\"#md72536756c\" y=\"78.588098\"/>\n     <use style=\"fill:#1f77b4;stroke:#1f77b4;\" x=\"101.956589\" xlink:href=\"#md72536756c\" y=\"103.087239\"/>\n     <use style=\"fill:#1f77b4;stroke:#1f77b4;\" x=\"101.956589\" xlink:href=\"#md72536756c\" y=\"135.752761\"/>\n     <use style=\"fill:#1f77b4;stroke:#1f77b4;\" x=\"59.840133\" xlink:href=\"#md72536756c\" y=\"135.752761\"/>\n     <use style=\"fill:#1f77b4;stroke:#1f77b4;\" x=\"186.189501\" xlink:href=\"#md72536756c\" y=\"54.088957\"/>\n     <use style=\"fill:#1f77b4;stroke:#1f77b4;\" x=\"177.76621\" xlink:href=\"#md72536756c\" y=\"21.423435\"/>\n     <use style=\"fill:#1f77b4;stroke:#1f77b4;\" x=\"152.496336\" xlink:href=\"#md72536756c\" y=\"62.255337\"/>\n     <use style=\"fill:#1f77b4;stroke:#1f77b4;\" x=\"127.226463\" xlink:href=\"#md72536756c\" y=\"94.920859\"/>\n     <use style=\"fill:#1f77b4;stroke:#1f77b4;\" x=\"177.76621\" xlink:href=\"#md72536756c\" y=\"70.421718\"/>\n     <use style=\"fill:#1f77b4;stroke:#1f77b4;\" x=\"127.226463\" xlink:href=\"#md72536756c\" y=\"70.421718\"/>\n     <use style=\"fill:#1f77b4;stroke:#1f77b4;\" x=\"152.496336\" xlink:href=\"#md72536756c\" y=\"103.087239\"/>\n     <use style=\"fill:#1f77b4;stroke:#1f77b4;\" x=\"127.226463\" xlink:href=\"#md72536756c\" y=\"78.588098\"/>\n     <use style=\"fill:#1f77b4;stroke:#1f77b4;\" x=\"85.110007\" xlink:href=\"#md72536756c\" y=\"86.754478\"/>\n     <use style=\"fill:#1f77b4;stroke:#1f77b4;\" x=\"127.226463\" xlink:href=\"#md72536756c\" y=\"111.25362\"/>\n     <use style=\"fill:#1f77b4;stroke:#1f77b4;\" x=\"101.956589\" xlink:href=\"#md72536756c\" y=\"103.087239\"/>\n     <use style=\"fill:#1f77b4;stroke:#1f77b4;\" x=\"118.803172\" xlink:href=\"#md72536756c\" y=\"135.752761\"/>\n     <use style=\"fill:#1f77b4;stroke:#1f77b4;\" x=\"118.803172\" xlink:href=\"#md72536756c\" y=\"103.087239\"/>\n     <use style=\"fill:#1f77b4;stroke:#1f77b4;\" x=\"135.649754\" xlink:href=\"#md72536756c\" y=\"94.920859\"/>\n     <use style=\"fill:#1f77b4;stroke:#1f77b4;\" x=\"135.649754\" xlink:href=\"#md72536756c\" y=\"103.087239\"/>\n     <use style=\"fill:#1f77b4;stroke:#1f77b4;\" x=\"93.533298\" xlink:href=\"#md72536756c\" y=\"119.42\"/>\n     <use style=\"fill:#1f77b4;stroke:#1f77b4;\" x=\"101.956589\" xlink:href=\"#md72536756c\" y=\"127.58638\"/>\n     <use style=\"fill:#1f77b4;stroke:#1f77b4;\" x=\"152.496336\" xlink:href=\"#md72536756c\" y=\"103.087239\"/>\n     <use style=\"fill:#1f77b4;stroke:#1f77b4;\" x=\"135.649754\" xlink:href=\"#md72536756c\" y=\"45.922576\"/>\n     <use style=\"fill:#1f77b4;stroke:#1f77b4;\" x=\"160.919628\" xlink:href=\"#md72536756c\" y=\"37.756196\"/>\n     <use style=\"fill:#1f77b4;stroke:#1f77b4;\" x=\"110.37988\" xlink:href=\"#md72536756c\" y=\"127.58638\"/>\n     <use style=\"fill:#1f77b4;stroke:#1f77b4;\" x=\"118.803172\" xlink:href=\"#md72536756c\" y=\"119.42\"/>\n     <use style=\"fill:#1f77b4;stroke:#1f77b4;\" x=\"160.919628\" xlink:href=\"#md72536756c\" y=\"94.920859\"/>\n     <use style=\"fill:#1f77b4;stroke:#1f77b4;\" x=\"110.37988\" xlink:href=\"#md72536756c\" y=\"127.58638\"/>\n     <use style=\"fill:#1f77b4;stroke:#1f77b4;\" x=\"68.263424\" xlink:href=\"#md72536756c\" y=\"135.752761\"/>\n     <use style=\"fill:#1f77b4;stroke:#1f77b4;\" x=\"127.226463\" xlink:href=\"#md72536756c\" y=\"103.087239\"/>\n     <use style=\"fill:#1f77b4;stroke:#1f77b4;\" x=\"118.803172\" xlink:href=\"#md72536756c\" y=\"94.920859\"/>\n     <use style=\"fill:#1f77b4;stroke:#1f77b4;\" x=\"76.686715\" xlink:href=\"#md72536756c\" y=\"192.917424\"/>\n     <use style=\"fill:#1f77b4;stroke:#1f77b4;\" x=\"68.263424\" xlink:href=\"#md72536756c\" y=\"119.42\"/>\n     <use style=\"fill:#1f77b4;stroke:#1f77b4;\" x=\"118.803172\" xlink:href=\"#md72536756c\" y=\"94.920859\"/>\n     <use style=\"fill:#1f77b4;stroke:#1f77b4;\" x=\"127.226463\" xlink:href=\"#md72536756c\" y=\"70.421718\"/>\n     <use style=\"fill:#1f77b4;stroke:#1f77b4;\" x=\"101.956589\" xlink:href=\"#md72536756c\" y=\"135.752761\"/>\n     <use style=\"fill:#1f77b4;stroke:#1f77b4;\" x=\"127.226463\" xlink:href=\"#md72536756c\" y=\"70.421718\"/>\n     <use style=\"fill:#1f77b4;stroke:#1f77b4;\" x=\"85.110007\" xlink:href=\"#md72536756c\" y=\"119.42\"/>\n     <use style=\"fill:#1f77b4;stroke:#1f77b4;\" x=\"144.073045\" xlink:href=\"#md72536756c\" y=\"78.588098\"/>\n     <use style=\"fill:#1f77b4;stroke:#1f77b4;\" x=\"118.803172\" xlink:href=\"#md72536756c\" y=\"111.25362\"/>\n     <use style=\"fill:#1f77b4;stroke:#1f77b4;\" x=\"287.268996\" xlink:href=\"#md72536756c\" y=\"119.42\"/>\n     <use style=\"fill:#1f77b4;stroke:#1f77b4;\" x=\"236.729249\" xlink:href=\"#md72536756c\" y=\"119.42\"/>\n     <use style=\"fill:#1f77b4;stroke:#1f77b4;\" x=\"278.845705\" xlink:href=\"#md72536756c\" y=\"127.58638\"/>\n     <use style=\"fill:#1f77b4;stroke:#1f77b4;\" x=\"160.919628\" xlink:href=\"#md72536756c\" y=\"192.917424\"/>\n     <use style=\"fill:#1f77b4;stroke:#1f77b4;\" x=\"245.15254\" xlink:href=\"#md72536756c\" y=\"152.085522\"/>\n     <use style=\"fill:#1f77b4;stroke:#1f77b4;\" x=\"177.76621\" xlink:href=\"#md72536756c\" y=\"152.085522\"/>\n     <use style=\"fill:#1f77b4;stroke:#1f77b4;\" x=\"228.305957\" xlink:href=\"#md72536756c\" y=\"111.25362\"/>\n     <use style=\"fill:#1f77b4;stroke:#1f77b4;\" x=\"110.37988\" xlink:href=\"#md72536756c\" y=\"184.751043\"/>\n     <use style=\"fill:#1f77b4;stroke:#1f77b4;\" x=\"253.575831\" xlink:href=\"#md72536756c\" y=\"143.919141\"/>\n     <use style=\"fill:#1f77b4;stroke:#1f77b4;\" x=\"135.649754\" xlink:href=\"#md72536756c\" y=\"160.251902\"/>\n     <use style=\"fill:#1f77b4;stroke:#1f77b4;\" x=\"118.803172\" xlink:href=\"#md72536756c\" y=\"217.416565\"/>\n     <use style=\"fill:#1f77b4;stroke:#1f77b4;\" x=\"194.612793\" xlink:href=\"#md72536756c\" y=\"135.752761\"/>\n     <use style=\"fill:#1f77b4;stroke:#1f77b4;\" x=\"203.036084\" xlink:href=\"#md72536756c\" y=\"201.083804\"/>\n     <use style=\"fill:#1f77b4;stroke:#1f77b4;\" x=\"211.459375\" xlink:href=\"#md72536756c\" y=\"143.919141\"/>\n     <use style=\"fill:#1f77b4;stroke:#1f77b4;\" x=\"169.342919\" xlink:href=\"#md72536756c\" y=\"143.919141\"/>\n     <use style=\"fill:#1f77b4;stroke:#1f77b4;\" x=\"261.999122\" xlink:href=\"#md72536756c\" y=\"127.58638\"/>\n     <use style=\"fill:#1f77b4;stroke:#1f77b4;\" x=\"169.342919\" xlink:href=\"#md72536756c\" y=\"135.752761\"/>\n     <use style=\"fill:#1f77b4;stroke:#1f77b4;\" x=\"186.189501\" xlink:href=\"#md72536756c\" y=\"160.251902\"/>\n     <use style=\"fill:#1f77b4;stroke:#1f77b4;\" x=\"219.882666\" xlink:href=\"#md72536756c\" y=\"201.083804\"/>\n     <use style=\"fill:#1f77b4;stroke:#1f77b4;\" x=\"169.342919\" xlink:href=\"#md72536756c\" y=\"176.584663\"/>\n     <use style=\"fill:#1f77b4;stroke:#1f77b4;\" x=\"194.612793\" xlink:href=\"#md72536756c\" y=\"119.42\"/>\n     <use style=\"fill:#1f77b4;stroke:#1f77b4;\" x=\"211.459375\" xlink:href=\"#md72536756c\" y=\"152.085522\"/>\n     <use style=\"fill:#1f77b4;stroke:#1f77b4;\" x=\"228.305957\" xlink:href=\"#md72536756c\" y=\"176.584663\"/>\n     <use style=\"fill:#1f77b4;stroke:#1f77b4;\" x=\"211.459375\" xlink:href=\"#md72536756c\" y=\"152.085522\"/>\n     <use style=\"fill:#1f77b4;stroke:#1f77b4;\" x=\"236.729249\" xlink:href=\"#md72536756c\" y=\"143.919141\"/>\n     <use style=\"fill:#1f77b4;stroke:#1f77b4;\" x=\"253.575831\" xlink:href=\"#md72536756c\" y=\"135.752761\"/>\n     <use style=\"fill:#1f77b4;stroke:#1f77b4;\" x=\"270.422414\" xlink:href=\"#md72536756c\" y=\"152.085522\"/>\n     <use style=\"fill:#1f77b4;stroke:#1f77b4;\" x=\"261.999122\" xlink:href=\"#md72536756c\" y=\"135.752761\"/>\n     <use style=\"fill:#1f77b4;stroke:#1f77b4;\" x=\"203.036084\" xlink:href=\"#md72536756c\" y=\"143.919141\"/>\n     <use style=\"fill:#1f77b4;stroke:#1f77b4;\" x=\"177.76621\" xlink:href=\"#md72536756c\" y=\"168.418282\"/>\n     <use style=\"fill:#1f77b4;stroke:#1f77b4;\" x=\"160.919628\" xlink:href=\"#md72536756c\" y=\"184.751043\"/>\n     <use style=\"fill:#1f77b4;stroke:#1f77b4;\" x=\"160.919628\" xlink:href=\"#md72536756c\" y=\"184.751043\"/>\n     <use style=\"fill:#1f77b4;stroke:#1f77b4;\" x=\"186.189501\" xlink:href=\"#md72536756c\" y=\"160.251902\"/>\n     <use style=\"fill:#1f77b4;stroke:#1f77b4;\" x=\"203.036084\" xlink:href=\"#md72536756c\" y=\"160.251902\"/>\n     <use style=\"fill:#1f77b4;stroke:#1f77b4;\" x=\"152.496336\" xlink:href=\"#md72536756c\" y=\"135.752761\"/>\n     <use style=\"fill:#1f77b4;stroke:#1f77b4;\" x=\"203.036084\" xlink:href=\"#md72536756c\" y=\"103.087239\"/>\n     <use style=\"fill:#1f77b4;stroke:#1f77b4;\" x=\"261.999122\" xlink:href=\"#md72536756c\" y=\"127.58638\"/>\n     <use style=\"fill:#1f77b4;stroke:#1f77b4;\" x=\"228.305957\" xlink:href=\"#md72536756c\" y=\"192.917424\"/>\n     <use style=\"fill:#1f77b4;stroke:#1f77b4;\" x=\"169.342919\" xlink:href=\"#md72536756c\" y=\"135.752761\"/>\n     <use style=\"fill:#1f77b4;stroke:#1f77b4;\" x=\"160.919628\" xlink:href=\"#md72536756c\" y=\"176.584663\"/>\n     <use style=\"fill:#1f77b4;stroke:#1f77b4;\" x=\"160.919628\" xlink:href=\"#md72536756c\" y=\"168.418282\"/>\n     <use style=\"fill:#1f77b4;stroke:#1f77b4;\" x=\"211.459375\" xlink:href=\"#md72536756c\" y=\"135.752761\"/>\n     <use style=\"fill:#1f77b4;stroke:#1f77b4;\" x=\"186.189501\" xlink:href=\"#md72536756c\" y=\"168.418282\"/>\n     <use style=\"fill:#1f77b4;stroke:#1f77b4;\" x=\"118.803172\" xlink:href=\"#md72536756c\" y=\"192.917424\"/>\n     <use style=\"fill:#1f77b4;stroke:#1f77b4;\" x=\"169.342919\" xlink:href=\"#md72536756c\" y=\"160.251902\"/>\n     <use style=\"fill:#1f77b4;stroke:#1f77b4;\" x=\"177.76621\" xlink:href=\"#md72536756c\" y=\"135.752761\"/>\n     <use style=\"fill:#1f77b4;stroke:#1f77b4;\" x=\"177.76621\" xlink:href=\"#md72536756c\" y=\"143.919141\"/>\n     <use style=\"fill:#1f77b4;stroke:#1f77b4;\" x=\"219.882666\" xlink:href=\"#md72536756c\" y=\"143.919141\"/>\n     <use style=\"fill:#1f77b4;stroke:#1f77b4;\" x=\"127.226463\" xlink:href=\"#md72536756c\" y=\"176.584663\"/>\n     <use style=\"fill:#1f77b4;stroke:#1f77b4;\" x=\"177.76621\" xlink:href=\"#md72536756c\" y=\"152.085522\"/>\n     <use style=\"fill:#1f77b4;stroke:#1f77b4;\" x=\"228.305957\" xlink:href=\"#md72536756c\" y=\"111.25362\"/>\n     <use style=\"fill:#1f77b4;stroke:#1f77b4;\" x=\"186.189501\" xlink:href=\"#md72536756c\" y=\"160.251902\"/>\n     <use style=\"fill:#1f77b4;stroke:#1f77b4;\" x=\"295.692287\" xlink:href=\"#md72536756c\" y=\"135.752761\"/>\n     <use style=\"fill:#1f77b4;stroke:#1f77b4;\" x=\"228.305957\" xlink:href=\"#md72536756c\" y=\"143.919141\"/>\n     <use style=\"fill:#1f77b4;stroke:#1f77b4;\" x=\"245.15254\" xlink:href=\"#md72536756c\" y=\"135.752761\"/>\n     <use style=\"fill:#1f77b4;stroke:#1f77b4;\" x=\"337.808743\" xlink:href=\"#md72536756c\" y=\"135.752761\"/>\n     <use style=\"fill:#1f77b4;stroke:#1f77b4;\" x=\"110.37988\" xlink:href=\"#md72536756c\" y=\"176.584663\"/>\n     <use style=\"fill:#1f77b4;stroke:#1f77b4;\" x=\"312.53887\" xlink:href=\"#md72536756c\" y=\"143.919141\"/>\n     <use style=\"fill:#1f77b4;stroke:#1f77b4;\" x=\"261.999122\" xlink:href=\"#md72536756c\" y=\"176.584663\"/>\n     <use style=\"fill:#1f77b4;stroke:#1f77b4;\" x=\"304.115578\" xlink:href=\"#md72536756c\" y=\"86.754478\"/>\n     <use style=\"fill:#1f77b4;stroke:#1f77b4;\" x=\"245.15254\" xlink:href=\"#md72536756c\" y=\"119.42\"/>\n     <use style=\"fill:#1f77b4;stroke:#1f77b4;\" x=\"236.729249\" xlink:href=\"#md72536756c\" y=\"160.251902\"/>\n     <use style=\"fill:#1f77b4;stroke:#1f77b4;\" x=\"270.422414\" xlink:href=\"#md72536756c\" y=\"135.752761\"/>\n     <use style=\"fill:#1f77b4;stroke:#1f77b4;\" x=\"177.76621\" xlink:href=\"#md72536756c\" y=\"176.584663\"/>\n     <use style=\"fill:#1f77b4;stroke:#1f77b4;\" x=\"186.189501\" xlink:href=\"#md72536756c\" y=\"152.085522\"/>\n     <use style=\"fill:#1f77b4;stroke:#1f77b4;\" x=\"236.729249\" xlink:href=\"#md72536756c\" y=\"119.42\"/>\n     <use style=\"fill:#1f77b4;stroke:#1f77b4;\" x=\"245.15254\" xlink:href=\"#md72536756c\" y=\"135.752761\"/>\n     <use style=\"fill:#1f77b4;stroke:#1f77b4;\" x=\"346.232035\" xlink:href=\"#md72536756c\" y=\"70.421718\"/>\n     <use style=\"fill:#1f77b4;stroke:#1f77b4;\" x=\"346.232035\" xlink:href=\"#md72536756c\" y=\"168.418282\"/>\n     <use style=\"fill:#1f77b4;stroke:#1f77b4;\" x=\"203.036084\" xlink:href=\"#md72536756c\" y=\"201.083804\"/>\n     <use style=\"fill:#1f77b4;stroke:#1f77b4;\" x=\"278.845705\" xlink:href=\"#md72536756c\" y=\"119.42\"/>\n     <use style=\"fill:#1f77b4;stroke:#1f77b4;\" x=\"169.342919\" xlink:href=\"#md72536756c\" y=\"152.085522\"/>\n     <use style=\"fill:#1f77b4;stroke:#1f77b4;\" x=\"346.232035\" xlink:href=\"#md72536756c\" y=\"152.085522\"/>\n     <use style=\"fill:#1f77b4;stroke:#1f77b4;\" x=\"228.305957\" xlink:href=\"#md72536756c\" y=\"160.251902\"/>\n     <use style=\"fill:#1f77b4;stroke:#1f77b4;\" x=\"261.999122\" xlink:href=\"#md72536756c\" y=\"111.25362\"/>\n     <use style=\"fill:#1f77b4;stroke:#1f77b4;\" x=\"304.115578\" xlink:href=\"#md72536756c\" y=\"119.42\"/>\n     <use style=\"fill:#1f77b4;stroke:#1f77b4;\" x=\"219.882666\" xlink:href=\"#md72536756c\" y=\"152.085522\"/>\n     <use style=\"fill:#1f77b4;stroke:#1f77b4;\" x=\"211.459375\" xlink:href=\"#md72536756c\" y=\"135.752761\"/>\n     <use style=\"fill:#1f77b4;stroke:#1f77b4;\" x=\"236.729249\" xlink:href=\"#md72536756c\" y=\"152.085522\"/>\n     <use style=\"fill:#1f77b4;stroke:#1f77b4;\" x=\"304.115578\" xlink:href=\"#md72536756c\" y=\"135.752761\"/>\n     <use style=\"fill:#1f77b4;stroke:#1f77b4;\" x=\"320.962161\" xlink:href=\"#md72536756c\" y=\"152.085522\"/>\n     <use style=\"fill:#1f77b4;stroke:#1f77b4;\" x=\"363.078617\" xlink:href=\"#md72536756c\" y=\"70.421718\"/>\n     <use style=\"fill:#1f77b4;stroke:#1f77b4;\" x=\"236.729249\" xlink:href=\"#md72536756c\" y=\"152.085522\"/>\n     <use style=\"fill:#1f77b4;stroke:#1f77b4;\" x=\"228.305957\" xlink:href=\"#md72536756c\" y=\"152.085522\"/>\n     <use style=\"fill:#1f77b4;stroke:#1f77b4;\" x=\"211.459375\" xlink:href=\"#md72536756c\" y=\"168.418282\"/>\n     <use style=\"fill:#1f77b4;stroke:#1f77b4;\" x=\"346.232035\" xlink:href=\"#md72536756c\" y=\"135.752761\"/>\n     <use style=\"fill:#1f77b4;stroke:#1f77b4;\" x=\"228.305957\" xlink:href=\"#md72536756c\" y=\"103.087239\"/>\n     <use style=\"fill:#1f77b4;stroke:#1f77b4;\" x=\"236.729249\" xlink:href=\"#md72536756c\" y=\"127.58638\"/>\n     <use style=\"fill:#1f77b4;stroke:#1f77b4;\" x=\"203.036084\" xlink:href=\"#md72536756c\" y=\"135.752761\"/>\n     <use style=\"fill:#1f77b4;stroke:#1f77b4;\" x=\"278.845705\" xlink:href=\"#md72536756c\" y=\"127.58638\"/>\n     <use style=\"fill:#1f77b4;stroke:#1f77b4;\" x=\"261.999122\" xlink:href=\"#md72536756c\" y=\"127.58638\"/>\n     <use style=\"fill:#1f77b4;stroke:#1f77b4;\" x=\"278.845705\" xlink:href=\"#md72536756c\" y=\"127.58638\"/>\n     <use style=\"fill:#1f77b4;stroke:#1f77b4;\" x=\"186.189501\" xlink:href=\"#md72536756c\" y=\"160.251902\"/>\n     <use style=\"fill:#1f77b4;stroke:#1f77b4;\" x=\"270.422414\" xlink:href=\"#md72536756c\" y=\"119.42\"/>\n     <use style=\"fill:#1f77b4;stroke:#1f77b4;\" x=\"261.999122\" xlink:href=\"#md72536756c\" y=\"111.25362\"/>\n     <use style=\"fill:#1f77b4;stroke:#1f77b4;\" x=\"261.999122\" xlink:href=\"#md72536756c\" y=\"135.752761\"/>\n     <use style=\"fill:#1f77b4;stroke:#1f77b4;\" x=\"228.305957\" xlink:href=\"#md72536756c\" y=\"176.584663\"/>\n     <use style=\"fill:#1f77b4;stroke:#1f77b4;\" x=\"245.15254\" xlink:href=\"#md72536756c\" y=\"135.752761\"/>\n     <use style=\"fill:#1f77b4;stroke:#1f77b4;\" x=\"219.882666\" xlink:href=\"#md72536756c\" y=\"103.087239\"/>\n     <use style=\"fill:#1f77b4;stroke:#1f77b4;\" x=\"194.612793\" xlink:href=\"#md72536756c\" y=\"135.752761\"/>\n    </g>\n   </g>\n   <g id=\"matplotlib.axis_1\">\n    <g id=\"xtick_1\">\n     <g id=\"line2d_1\">\n      <defs>\n       <path d=\"M 0 0 \nL 0 3.5 \n\" id=\"m7f83fe3d29\" style=\"stroke:#000000;stroke-width:0.8;\"/>\n      </defs>\n      <g>\n       <use style=\"stroke:#000000;stroke-width:0.8;\" x=\"76.686715\" xlink:href=\"#m7f83fe3d29\" y=\"228.14\"/>\n      </g>\n     </g>\n     <g id=\"text_1\">\n      <!-- 4.5 -->\n      <defs>\n       <path d=\"M 37.796875 64.3125 \nL 12.890625 25.390625 \nL 37.796875 25.390625 \nz\nM 35.203125 72.90625 \nL 47.609375 72.90625 \nL 47.609375 25.390625 \nL 58.015625 25.390625 \nL 58.015625 17.1875 \nL 47.609375 17.1875 \nL 47.609375 0 \nL 37.796875 0 \nL 37.796875 17.1875 \nL 4.890625 17.1875 \nL 4.890625 26.703125 \nz\n\" id=\"DejaVuSans-52\"/>\n       <path d=\"M 10.6875 12.40625 \nL 21 12.40625 \nL 21 0 \nL 10.6875 0 \nz\n\" id=\"DejaVuSans-46\"/>\n       <path d=\"M 10.796875 72.90625 \nL 49.515625 72.90625 \nL 49.515625 64.59375 \nL 19.828125 64.59375 \nL 19.828125 46.734375 \nQ 21.96875 47.46875 24.109375 47.828125 \nQ 26.265625 48.1875 28.421875 48.1875 \nQ 40.625 48.1875 47.75 41.5 \nQ 54.890625 34.8125 54.890625 23.390625 \nQ 54.890625 11.625 47.5625 5.09375 \nQ 40.234375 -1.421875 26.90625 -1.421875 \nQ 22.3125 -1.421875 17.546875 -0.640625 \nQ 12.796875 0.140625 7.71875 1.703125 \nL 7.71875 11.625 \nQ 12.109375 9.234375 16.796875 8.0625 \nQ 21.484375 6.890625 26.703125 6.890625 \nQ 35.15625 6.890625 40.078125 11.328125 \nQ 45.015625 15.765625 45.015625 23.390625 \nQ 45.015625 31 40.078125 35.4375 \nQ 35.15625 39.890625 26.703125 39.890625 \nQ 22.75 39.890625 18.8125 39.015625 \nQ 14.890625 38.140625 10.796875 36.28125 \nz\n\" id=\"DejaVuSans-53\"/>\n      </defs>\n      <g transform=\"translate(68.735153 242.738438)scale(0.1 -0.1)\">\n       <use xlink:href=\"#DejaVuSans-52\"/>\n       <use x=\"63.623047\" xlink:href=\"#DejaVuSans-46\"/>\n       <use x=\"95.410156\" xlink:href=\"#DejaVuSans-53\"/>\n      </g>\n     </g>\n    </g>\n    <g id=\"xtick_2\">\n     <g id=\"line2d_2\">\n      <g>\n       <use style=\"stroke:#000000;stroke-width:0.8;\" x=\"118.803172\" xlink:href=\"#m7f83fe3d29\" y=\"228.14\"/>\n      </g>\n     </g>\n     <g id=\"text_2\">\n      <!-- 5.0 -->\n      <defs>\n       <path d=\"M 31.78125 66.40625 \nQ 24.171875 66.40625 20.328125 58.90625 \nQ 16.5 51.421875 16.5 36.375 \nQ 16.5 21.390625 20.328125 13.890625 \nQ 24.171875 6.390625 31.78125 6.390625 \nQ 39.453125 6.390625 43.28125 13.890625 \nQ 47.125 21.390625 47.125 36.375 \nQ 47.125 51.421875 43.28125 58.90625 \nQ 39.453125 66.40625 31.78125 66.40625 \nz\nM 31.78125 74.21875 \nQ 44.046875 74.21875 50.515625 64.515625 \nQ 56.984375 54.828125 56.984375 36.375 \nQ 56.984375 17.96875 50.515625 8.265625 \nQ 44.046875 -1.421875 31.78125 -1.421875 \nQ 19.53125 -1.421875 13.0625 8.265625 \nQ 6.59375 17.96875 6.59375 36.375 \nQ 6.59375 54.828125 13.0625 64.515625 \nQ 19.53125 74.21875 31.78125 74.21875 \nz\n\" id=\"DejaVuSans-48\"/>\n      </defs>\n      <g transform=\"translate(110.851609 242.738438)scale(0.1 -0.1)\">\n       <use xlink:href=\"#DejaVuSans-53\"/>\n       <use x=\"63.623047\" xlink:href=\"#DejaVuSans-46\"/>\n       <use x=\"95.410156\" xlink:href=\"#DejaVuSans-48\"/>\n      </g>\n     </g>\n    </g>\n    <g id=\"xtick_3\">\n     <g id=\"line2d_3\">\n      <g>\n       <use style=\"stroke:#000000;stroke-width:0.8;\" x=\"160.919628\" xlink:href=\"#m7f83fe3d29\" y=\"228.14\"/>\n      </g>\n     </g>\n     <g id=\"text_3\">\n      <!-- 5.5 -->\n      <g transform=\"translate(152.968065 242.738438)scale(0.1 -0.1)\">\n       <use xlink:href=\"#DejaVuSans-53\"/>\n       <use x=\"63.623047\" xlink:href=\"#DejaVuSans-46\"/>\n       <use x=\"95.410156\" xlink:href=\"#DejaVuSans-53\"/>\n      </g>\n     </g>\n    </g>\n    <g id=\"xtick_4\">\n     <g id=\"line2d_4\">\n      <g>\n       <use style=\"stroke:#000000;stroke-width:0.8;\" x=\"203.036084\" xlink:href=\"#m7f83fe3d29\" y=\"228.14\"/>\n      </g>\n     </g>\n     <g id=\"text_4\">\n      <!-- 6.0 -->\n      <defs>\n       <path d=\"M 33.015625 40.375 \nQ 26.375 40.375 22.484375 35.828125 \nQ 18.609375 31.296875 18.609375 23.390625 \nQ 18.609375 15.53125 22.484375 10.953125 \nQ 26.375 6.390625 33.015625 6.390625 \nQ 39.65625 6.390625 43.53125 10.953125 \nQ 47.40625 15.53125 47.40625 23.390625 \nQ 47.40625 31.296875 43.53125 35.828125 \nQ 39.65625 40.375 33.015625 40.375 \nz\nM 52.59375 71.296875 \nL 52.59375 62.3125 \nQ 48.875 64.0625 45.09375 64.984375 \nQ 41.3125 65.921875 37.59375 65.921875 \nQ 27.828125 65.921875 22.671875 59.328125 \nQ 17.53125 52.734375 16.796875 39.40625 \nQ 19.671875 43.65625 24.015625 45.921875 \nQ 28.375 48.1875 33.59375 48.1875 \nQ 44.578125 48.1875 50.953125 41.515625 \nQ 57.328125 34.859375 57.328125 23.390625 \nQ 57.328125 12.15625 50.6875 5.359375 \nQ 44.046875 -1.421875 33.015625 -1.421875 \nQ 20.359375 -1.421875 13.671875 8.265625 \nQ 6.984375 17.96875 6.984375 36.375 \nQ 6.984375 53.65625 15.1875 63.9375 \nQ 23.390625 74.21875 37.203125 74.21875 \nQ 40.921875 74.21875 44.703125 73.484375 \nQ 48.484375 72.75 52.59375 71.296875 \nz\n\" id=\"DejaVuSans-54\"/>\n      </defs>\n      <g transform=\"translate(195.084521 242.738438)scale(0.1 -0.1)\">\n       <use xlink:href=\"#DejaVuSans-54\"/>\n       <use x=\"63.623047\" xlink:href=\"#DejaVuSans-46\"/>\n       <use x=\"95.410156\" xlink:href=\"#DejaVuSans-48\"/>\n      </g>\n     </g>\n    </g>\n    <g id=\"xtick_5\">\n     <g id=\"line2d_5\">\n      <g>\n       <use style=\"stroke:#000000;stroke-width:0.8;\" x=\"245.15254\" xlink:href=\"#m7f83fe3d29\" y=\"228.14\"/>\n      </g>\n     </g>\n     <g id=\"text_5\">\n      <!-- 6.5 -->\n      <g transform=\"translate(237.200977 242.738438)scale(0.1 -0.1)\">\n       <use xlink:href=\"#DejaVuSans-54\"/>\n       <use x=\"63.623047\" xlink:href=\"#DejaVuSans-46\"/>\n       <use x=\"95.410156\" xlink:href=\"#DejaVuSans-53\"/>\n      </g>\n     </g>\n    </g>\n    <g id=\"xtick_6\">\n     <g id=\"line2d_6\">\n      <g>\n       <use style=\"stroke:#000000;stroke-width:0.8;\" x=\"287.268996\" xlink:href=\"#m7f83fe3d29\" y=\"228.14\"/>\n      </g>\n     </g>\n     <g id=\"text_6\">\n      <!-- 7.0 -->\n      <defs>\n       <path d=\"M 8.203125 72.90625 \nL 55.078125 72.90625 \nL 55.078125 68.703125 \nL 28.609375 0 \nL 18.3125 0 \nL 43.21875 64.59375 \nL 8.203125 64.59375 \nz\n\" id=\"DejaVuSans-55\"/>\n      </defs>\n      <g transform=\"translate(279.317433 242.738438)scale(0.1 -0.1)\">\n       <use xlink:href=\"#DejaVuSans-55\"/>\n       <use x=\"63.623047\" xlink:href=\"#DejaVuSans-46\"/>\n       <use x=\"95.410156\" xlink:href=\"#DejaVuSans-48\"/>\n      </g>\n     </g>\n    </g>\n    <g id=\"xtick_7\">\n     <g id=\"line2d_7\">\n      <g>\n       <use style=\"stroke:#000000;stroke-width:0.8;\" x=\"329.385452\" xlink:href=\"#m7f83fe3d29\" y=\"228.14\"/>\n      </g>\n     </g>\n     <g id=\"text_7\">\n      <!-- 7.5 -->\n      <g transform=\"translate(321.43389 242.738438)scale(0.1 -0.1)\">\n       <use xlink:href=\"#DejaVuSans-55\"/>\n       <use x=\"63.623047\" xlink:href=\"#DejaVuSans-46\"/>\n       <use x=\"95.410156\" xlink:href=\"#DejaVuSans-53\"/>\n      </g>\n     </g>\n    </g>\n    <g id=\"xtick_8\">\n     <g id=\"line2d_8\">\n      <g>\n       <use style=\"stroke:#000000;stroke-width:0.8;\" x=\"371.501908\" xlink:href=\"#m7f83fe3d29\" y=\"228.14\"/>\n      </g>\n     </g>\n     <g id=\"text_8\">\n      <!-- 8.0 -->\n      <defs>\n       <path d=\"M 31.78125 34.625 \nQ 24.75 34.625 20.71875 30.859375 \nQ 16.703125 27.09375 16.703125 20.515625 \nQ 16.703125 13.921875 20.71875 10.15625 \nQ 24.75 6.390625 31.78125 6.390625 \nQ 38.8125 6.390625 42.859375 10.171875 \nQ 46.921875 13.96875 46.921875 20.515625 \nQ 46.921875 27.09375 42.890625 30.859375 \nQ 38.875 34.625 31.78125 34.625 \nz\nM 21.921875 38.8125 \nQ 15.578125 40.375 12.03125 44.71875 \nQ 8.5 49.078125 8.5 55.328125 \nQ 8.5 64.0625 14.71875 69.140625 \nQ 20.953125 74.21875 31.78125 74.21875 \nQ 42.671875 74.21875 48.875 69.140625 \nQ 55.078125 64.0625 55.078125 55.328125 \nQ 55.078125 49.078125 51.53125 44.71875 \nQ 48 40.375 41.703125 38.8125 \nQ 48.828125 37.15625 52.796875 32.3125 \nQ 56.78125 27.484375 56.78125 20.515625 \nQ 56.78125 9.90625 50.3125 4.234375 \nQ 43.84375 -1.421875 31.78125 -1.421875 \nQ 19.734375 -1.421875 13.25 4.234375 \nQ 6.78125 9.90625 6.78125 20.515625 \nQ 6.78125 27.484375 10.78125 32.3125 \nQ 14.796875 37.15625 21.921875 38.8125 \nz\nM 18.3125 54.390625 \nQ 18.3125 48.734375 21.84375 45.5625 \nQ 25.390625 42.390625 31.78125 42.390625 \nQ 38.140625 42.390625 41.71875 45.5625 \nQ 45.3125 48.734375 45.3125 54.390625 \nQ 45.3125 60.0625 41.71875 63.234375 \nQ 38.140625 66.40625 31.78125 66.40625 \nQ 25.390625 66.40625 21.84375 63.234375 \nQ 18.3125 60.0625 18.3125 54.390625 \nz\n\" id=\"DejaVuSans-56\"/>\n      </defs>\n      <g transform=\"translate(363.550346 242.738438)scale(0.1 -0.1)\">\n       <use xlink:href=\"#DejaVuSans-56\"/>\n       <use x=\"63.623047\" xlink:href=\"#DejaVuSans-46\"/>\n       <use x=\"95.410156\" xlink:href=\"#DejaVuSans-48\"/>\n      </g>\n     </g>\n    </g>\n    <g id=\"text_9\">\n     <!-- sepal_length -->\n     <defs>\n      <path d=\"M 44.28125 53.078125 \nL 44.28125 44.578125 \nQ 40.484375 46.53125 36.375 47.5 \nQ 32.28125 48.484375 27.875 48.484375 \nQ 21.1875 48.484375 17.84375 46.4375 \nQ 14.5 44.390625 14.5 40.28125 \nQ 14.5 37.15625 16.890625 35.375 \nQ 19.28125 33.59375 26.515625 31.984375 \nL 29.59375 31.296875 \nQ 39.15625 29.25 43.1875 25.515625 \nQ 47.21875 21.78125 47.21875 15.09375 \nQ 47.21875 7.46875 41.1875 3.015625 \nQ 35.15625 -1.421875 24.609375 -1.421875 \nQ 20.21875 -1.421875 15.453125 -0.5625 \nQ 10.6875 0.296875 5.421875 2 \nL 5.421875 11.28125 \nQ 10.40625 8.6875 15.234375 7.390625 \nQ 20.0625 6.109375 24.8125 6.109375 \nQ 31.15625 6.109375 34.5625 8.28125 \nQ 37.984375 10.453125 37.984375 14.40625 \nQ 37.984375 18.0625 35.515625 20.015625 \nQ 33.0625 21.96875 24.703125 23.78125 \nL 21.578125 24.515625 \nQ 13.234375 26.265625 9.515625 29.90625 \nQ 5.8125 33.546875 5.8125 39.890625 \nQ 5.8125 47.609375 11.28125 51.796875 \nQ 16.75 56 26.8125 56 \nQ 31.78125 56 36.171875 55.265625 \nQ 40.578125 54.546875 44.28125 53.078125 \nz\n\" id=\"DejaVuSans-115\"/>\n      <path d=\"M 56.203125 29.59375 \nL 56.203125 25.203125 \nL 14.890625 25.203125 \nQ 15.484375 15.921875 20.484375 11.0625 \nQ 25.484375 6.203125 34.421875 6.203125 \nQ 39.59375 6.203125 44.453125 7.46875 \nQ 49.3125 8.734375 54.109375 11.28125 \nL 54.109375 2.78125 \nQ 49.265625 0.734375 44.1875 -0.34375 \nQ 39.109375 -1.421875 33.890625 -1.421875 \nQ 20.796875 -1.421875 13.15625 6.1875 \nQ 5.515625 13.8125 5.515625 26.8125 \nQ 5.515625 40.234375 12.765625 48.109375 \nQ 20.015625 56 32.328125 56 \nQ 43.359375 56 49.78125 48.890625 \nQ 56.203125 41.796875 56.203125 29.59375 \nz\nM 47.21875 32.234375 \nQ 47.125 39.59375 43.09375 43.984375 \nQ 39.0625 48.390625 32.421875 48.390625 \nQ 24.90625 48.390625 20.390625 44.140625 \nQ 15.875 39.890625 15.1875 32.171875 \nz\n\" id=\"DejaVuSans-101\"/>\n      <path d=\"M 18.109375 8.203125 \nL 18.109375 -20.796875 \nL 9.078125 -20.796875 \nL 9.078125 54.6875 \nL 18.109375 54.6875 \nL 18.109375 46.390625 \nQ 20.953125 51.265625 25.265625 53.625 \nQ 29.59375 56 35.59375 56 \nQ 45.5625 56 51.78125 48.09375 \nQ 58.015625 40.1875 58.015625 27.296875 \nQ 58.015625 14.40625 51.78125 6.484375 \nQ 45.5625 -1.421875 35.59375 -1.421875 \nQ 29.59375 -1.421875 25.265625 0.953125 \nQ 20.953125 3.328125 18.109375 8.203125 \nz\nM 48.6875 27.296875 \nQ 48.6875 37.203125 44.609375 42.84375 \nQ 40.53125 48.484375 33.40625 48.484375 \nQ 26.265625 48.484375 22.1875 42.84375 \nQ 18.109375 37.203125 18.109375 27.296875 \nQ 18.109375 17.390625 22.1875 11.75 \nQ 26.265625 6.109375 33.40625 6.109375 \nQ 40.53125 6.109375 44.609375 11.75 \nQ 48.6875 17.390625 48.6875 27.296875 \nz\n\" id=\"DejaVuSans-112\"/>\n      <path d=\"M 34.28125 27.484375 \nQ 23.390625 27.484375 19.1875 25 \nQ 14.984375 22.515625 14.984375 16.5 \nQ 14.984375 11.71875 18.140625 8.90625 \nQ 21.296875 6.109375 26.703125 6.109375 \nQ 34.1875 6.109375 38.703125 11.40625 \nQ 43.21875 16.703125 43.21875 25.484375 \nL 43.21875 27.484375 \nz\nM 52.203125 31.203125 \nL 52.203125 0 \nL 43.21875 0 \nL 43.21875 8.296875 \nQ 40.140625 3.328125 35.546875 0.953125 \nQ 30.953125 -1.421875 24.3125 -1.421875 \nQ 15.921875 -1.421875 10.953125 3.296875 \nQ 6 8.015625 6 15.921875 \nQ 6 25.140625 12.171875 29.828125 \nQ 18.359375 34.515625 30.609375 34.515625 \nL 43.21875 34.515625 \nL 43.21875 35.40625 \nQ 43.21875 41.609375 39.140625 45 \nQ 35.0625 48.390625 27.6875 48.390625 \nQ 23 48.390625 18.546875 47.265625 \nQ 14.109375 46.140625 10.015625 43.890625 \nL 10.015625 52.203125 \nQ 14.9375 54.109375 19.578125 55.046875 \nQ 24.21875 56 28.609375 56 \nQ 40.484375 56 46.34375 49.84375 \nQ 52.203125 43.703125 52.203125 31.203125 \nz\n\" id=\"DejaVuSans-97\"/>\n      <path d=\"M 9.421875 75.984375 \nL 18.40625 75.984375 \nL 18.40625 0 \nL 9.421875 0 \nz\n\" id=\"DejaVuSans-108\"/>\n      <path d=\"M 50.984375 -16.609375 \nL 50.984375 -23.578125 \nL -0.984375 -23.578125 \nL -0.984375 -16.609375 \nz\n\" id=\"DejaVuSans-95\"/>\n      <path d=\"M 54.890625 33.015625 \nL 54.890625 0 \nL 45.90625 0 \nL 45.90625 32.71875 \nQ 45.90625 40.484375 42.875 44.328125 \nQ 39.84375 48.1875 33.796875 48.1875 \nQ 26.515625 48.1875 22.3125 43.546875 \nQ 18.109375 38.921875 18.109375 30.90625 \nL 18.109375 0 \nL 9.078125 0 \nL 9.078125 54.6875 \nL 18.109375 54.6875 \nL 18.109375 46.1875 \nQ 21.34375 51.125 25.703125 53.5625 \nQ 30.078125 56 35.796875 56 \nQ 45.21875 56 50.046875 50.171875 \nQ 54.890625 44.34375 54.890625 33.015625 \nz\n\" id=\"DejaVuSans-110\"/>\n      <path d=\"M 45.40625 27.984375 \nQ 45.40625 37.75 41.375 43.109375 \nQ 37.359375 48.484375 30.078125 48.484375 \nQ 22.859375 48.484375 18.828125 43.109375 \nQ 14.796875 37.75 14.796875 27.984375 \nQ 14.796875 18.265625 18.828125 12.890625 \nQ 22.859375 7.515625 30.078125 7.515625 \nQ 37.359375 7.515625 41.375 12.890625 \nQ 45.40625 18.265625 45.40625 27.984375 \nz\nM 54.390625 6.78125 \nQ 54.390625 -7.171875 48.1875 -13.984375 \nQ 42 -20.796875 29.203125 -20.796875 \nQ 24.46875 -20.796875 20.265625 -20.09375 \nQ 16.0625 -19.390625 12.109375 -17.921875 \nL 12.109375 -9.1875 \nQ 16.0625 -11.328125 19.921875 -12.34375 \nQ 23.78125 -13.375 27.78125 -13.375 \nQ 36.625 -13.375 41.015625 -8.765625 \nQ 45.40625 -4.15625 45.40625 5.171875 \nL 45.40625 9.625 \nQ 42.625 4.78125 38.28125 2.390625 \nQ 33.9375 0 27.875 0 \nQ 17.828125 0 11.671875 7.65625 \nQ 5.515625 15.328125 5.515625 27.984375 \nQ 5.515625 40.671875 11.671875 48.328125 \nQ 17.828125 56 27.875 56 \nQ 33.9375 56 38.28125 53.609375 \nQ 42.625 51.21875 45.40625 46.390625 \nL 45.40625 54.6875 \nL 54.390625 54.6875 \nz\n\" id=\"DejaVuSans-103\"/>\n      <path d=\"M 18.3125 70.21875 \nL 18.3125 54.6875 \nL 36.8125 54.6875 \nL 36.8125 47.703125 \nL 18.3125 47.703125 \nL 18.3125 18.015625 \nQ 18.3125 11.328125 20.140625 9.421875 \nQ 21.96875 7.515625 27.59375 7.515625 \nL 36.8125 7.515625 \nL 36.8125 0 \nL 27.59375 0 \nQ 17.1875 0 13.234375 3.875 \nQ 9.28125 7.765625 9.28125 18.015625 \nL 9.28125 47.703125 \nL 2.6875 47.703125 \nL 2.6875 54.6875 \nL 9.28125 54.6875 \nL 9.28125 70.21875 \nz\n\" id=\"DejaVuSans-116\"/>\n      <path d=\"M 54.890625 33.015625 \nL 54.890625 0 \nL 45.90625 0 \nL 45.90625 32.71875 \nQ 45.90625 40.484375 42.875 44.328125 \nQ 39.84375 48.1875 33.796875 48.1875 \nQ 26.515625 48.1875 22.3125 43.546875 \nQ 18.109375 38.921875 18.109375 30.90625 \nL 18.109375 0 \nL 9.078125 0 \nL 9.078125 75.984375 \nL 18.109375 75.984375 \nL 18.109375 46.1875 \nQ 21.34375 51.125 25.703125 53.5625 \nQ 30.078125 56 35.796875 56 \nQ 45.21875 56 50.046875 50.171875 \nQ 54.890625 44.34375 54.890625 33.015625 \nz\n\" id=\"DejaVuSans-104\"/>\n     </defs>\n     <g transform=\"translate(179.713281 256.416562)scale(0.1 -0.1)\">\n      <use xlink:href=\"#DejaVuSans-115\"/>\n      <use x=\"52.099609\" xlink:href=\"#DejaVuSans-101\"/>\n      <use x=\"113.623047\" xlink:href=\"#DejaVuSans-112\"/>\n      <use x=\"177.099609\" xlink:href=\"#DejaVuSans-97\"/>\n      <use x=\"238.378906\" xlink:href=\"#DejaVuSans-108\"/>\n      <use x=\"266.162109\" xlink:href=\"#DejaVuSans-95\"/>\n      <use x=\"316.162109\" xlink:href=\"#DejaVuSans-108\"/>\n      <use x=\"343.945312\" xlink:href=\"#DejaVuSans-101\"/>\n      <use x=\"405.46875\" xlink:href=\"#DejaVuSans-110\"/>\n      <use x=\"468.847656\" xlink:href=\"#DejaVuSans-103\"/>\n      <use x=\"532.324219\" xlink:href=\"#DejaVuSans-116\"/>\n      <use x=\"571.533203\" xlink:href=\"#DejaVuSans-104\"/>\n     </g>\n    </g>\n   </g>\n   <g id=\"matplotlib.axis_2\">\n    <g id=\"ytick_1\">\n     <g id=\"line2d_9\">\n      <defs>\n       <path d=\"M 0 0 \nL -3.5 0 \n\" id=\"me70fddc9d7\" style=\"stroke:#000000;stroke-width:0.8;\"/>\n      </defs>\n      <g>\n       <use style=\"stroke:#000000;stroke-width:0.8;\" x=\"44.059375\" xlink:href=\"#me70fddc9d7\" y=\"217.416565\"/>\n      </g>\n     </g>\n     <g id=\"text_10\">\n      <!-- 2.0 -->\n      <defs>\n       <path d=\"M 19.1875 8.296875 \nL 53.609375 8.296875 \nL 53.609375 0 \nL 7.328125 0 \nL 7.328125 8.296875 \nQ 12.9375 14.109375 22.625 23.890625 \nQ 32.328125 33.6875 34.8125 36.53125 \nQ 39.546875 41.84375 41.421875 45.53125 \nQ 43.3125 49.21875 43.3125 52.78125 \nQ 43.3125 58.59375 39.234375 62.25 \nQ 35.15625 65.921875 28.609375 65.921875 \nQ 23.96875 65.921875 18.8125 64.3125 \nQ 13.671875 62.703125 7.8125 59.421875 \nL 7.8125 69.390625 \nQ 13.765625 71.78125 18.9375 73 \nQ 24.125 74.21875 28.421875 74.21875 \nQ 39.75 74.21875 46.484375 68.546875 \nQ 53.21875 62.890625 53.21875 53.421875 \nQ 53.21875 48.921875 51.53125 44.890625 \nQ 49.859375 40.875 45.40625 35.40625 \nQ 44.1875 33.984375 37.640625 27.21875 \nQ 31.109375 20.453125 19.1875 8.296875 \nz\n\" id=\"DejaVuSans-50\"/>\n      </defs>\n      <g transform=\"translate(21.15625 221.215784)scale(0.1 -0.1)\">\n       <use xlink:href=\"#DejaVuSans-50\"/>\n       <use x=\"63.623047\" xlink:href=\"#DejaVuSans-46\"/>\n       <use x=\"95.410156\" xlink:href=\"#DejaVuSans-48\"/>\n      </g>\n     </g>\n    </g>\n    <g id=\"ytick_2\">\n     <g id=\"line2d_10\">\n      <g>\n       <use style=\"stroke:#000000;stroke-width:0.8;\" x=\"44.059375\" xlink:href=\"#me70fddc9d7\" y=\"176.584663\"/>\n      </g>\n     </g>\n     <g id=\"text_11\">\n      <!-- 2.5 -->\n      <g transform=\"translate(21.15625 180.383882)scale(0.1 -0.1)\">\n       <use xlink:href=\"#DejaVuSans-50\"/>\n       <use x=\"63.623047\" xlink:href=\"#DejaVuSans-46\"/>\n       <use x=\"95.410156\" xlink:href=\"#DejaVuSans-53\"/>\n      </g>\n     </g>\n    </g>\n    <g id=\"ytick_3\">\n     <g id=\"line2d_11\">\n      <g>\n       <use style=\"stroke:#000000;stroke-width:0.8;\" x=\"44.059375\" xlink:href=\"#me70fddc9d7\" y=\"135.752761\"/>\n      </g>\n     </g>\n     <g id=\"text_12\">\n      <!-- 3.0 -->\n      <defs>\n       <path d=\"M 40.578125 39.3125 \nQ 47.65625 37.796875 51.625 33 \nQ 55.609375 28.21875 55.609375 21.1875 \nQ 55.609375 10.40625 48.1875 4.484375 \nQ 40.765625 -1.421875 27.09375 -1.421875 \nQ 22.515625 -1.421875 17.65625 -0.515625 \nQ 12.796875 0.390625 7.625 2.203125 \nL 7.625 11.71875 \nQ 11.71875 9.328125 16.59375 8.109375 \nQ 21.484375 6.890625 26.8125 6.890625 \nQ 36.078125 6.890625 40.9375 10.546875 \nQ 45.796875 14.203125 45.796875 21.1875 \nQ 45.796875 27.640625 41.28125 31.265625 \nQ 36.765625 34.90625 28.71875 34.90625 \nL 20.21875 34.90625 \nL 20.21875 43.015625 \nL 29.109375 43.015625 \nQ 36.375 43.015625 40.234375 45.921875 \nQ 44.09375 48.828125 44.09375 54.296875 \nQ 44.09375 59.90625 40.109375 62.90625 \nQ 36.140625 65.921875 28.71875 65.921875 \nQ 24.65625 65.921875 20.015625 65.03125 \nQ 15.375 64.15625 9.8125 62.3125 \nL 9.8125 71.09375 \nQ 15.4375 72.65625 20.34375 73.4375 \nQ 25.25 74.21875 29.59375 74.21875 \nQ 40.828125 74.21875 47.359375 69.109375 \nQ 53.90625 64.015625 53.90625 55.328125 \nQ 53.90625 49.265625 50.4375 45.09375 \nQ 46.96875 40.921875 40.578125 39.3125 \nz\n\" id=\"DejaVuSans-51\"/>\n      </defs>\n      <g transform=\"translate(21.15625 139.55198)scale(0.1 -0.1)\">\n       <use xlink:href=\"#DejaVuSans-51\"/>\n       <use x=\"63.623047\" xlink:href=\"#DejaVuSans-46\"/>\n       <use x=\"95.410156\" xlink:href=\"#DejaVuSans-48\"/>\n      </g>\n     </g>\n    </g>\n    <g id=\"ytick_4\">\n     <g id=\"line2d_12\">\n      <g>\n       <use style=\"stroke:#000000;stroke-width:0.8;\" x=\"44.059375\" xlink:href=\"#me70fddc9d7\" y=\"94.920859\"/>\n      </g>\n     </g>\n     <g id=\"text_13\">\n      <!-- 3.5 -->\n      <g transform=\"translate(21.15625 98.720078)scale(0.1 -0.1)\">\n       <use xlink:href=\"#DejaVuSans-51\"/>\n       <use x=\"63.623047\" xlink:href=\"#DejaVuSans-46\"/>\n       <use x=\"95.410156\" xlink:href=\"#DejaVuSans-53\"/>\n      </g>\n     </g>\n    </g>\n    <g id=\"ytick_5\">\n     <g id=\"line2d_13\">\n      <g>\n       <use style=\"stroke:#000000;stroke-width:0.8;\" x=\"44.059375\" xlink:href=\"#me70fddc9d7\" y=\"54.088957\"/>\n      </g>\n     </g>\n     <g id=\"text_14\">\n      <!-- 4.0 -->\n      <g transform=\"translate(21.15625 57.888175)scale(0.1 -0.1)\">\n       <use xlink:href=\"#DejaVuSans-52\"/>\n       <use x=\"63.623047\" xlink:href=\"#DejaVuSans-46\"/>\n       <use x=\"95.410156\" xlink:href=\"#DejaVuSans-48\"/>\n      </g>\n     </g>\n    </g>\n    <g id=\"ytick_6\">\n     <g id=\"line2d_14\">\n      <g>\n       <use style=\"stroke:#000000;stroke-width:0.8;\" x=\"44.059375\" xlink:href=\"#me70fddc9d7\" y=\"13.257055\"/>\n      </g>\n     </g>\n     <g id=\"text_15\">\n      <!-- 4.5 -->\n      <g transform=\"translate(21.15625 17.056273)scale(0.1 -0.1)\">\n       <use xlink:href=\"#DejaVuSans-52\"/>\n       <use x=\"63.623047\" xlink:href=\"#DejaVuSans-46\"/>\n       <use x=\"95.410156\" xlink:href=\"#DejaVuSans-53\"/>\n      </g>\n     </g>\n    </g>\n    <g id=\"text_16\">\n     <!-- sepal_width -->\n     <defs>\n      <path d=\"M 4.203125 54.6875 \nL 13.1875 54.6875 \nL 24.421875 12.015625 \nL 35.59375 54.6875 \nL 46.1875 54.6875 \nL 57.421875 12.015625 \nL 68.609375 54.6875 \nL 77.59375 54.6875 \nL 63.28125 0 \nL 52.6875 0 \nL 40.921875 44.828125 \nL 29.109375 0 \nL 18.5 0 \nz\n\" id=\"DejaVuSans-119\"/>\n      <path d=\"M 9.421875 54.6875 \nL 18.40625 54.6875 \nL 18.40625 0 \nL 9.421875 0 \nz\nM 9.421875 75.984375 \nL 18.40625 75.984375 \nL 18.40625 64.59375 \nL 9.421875 64.59375 \nz\n\" id=\"DejaVuSans-105\"/>\n      <path d=\"M 45.40625 46.390625 \nL 45.40625 75.984375 \nL 54.390625 75.984375 \nL 54.390625 0 \nL 45.40625 0 \nL 45.40625 8.203125 \nQ 42.578125 3.328125 38.25 0.953125 \nQ 33.9375 -1.421875 27.875 -1.421875 \nQ 17.96875 -1.421875 11.734375 6.484375 \nQ 5.515625 14.40625 5.515625 27.296875 \nQ 5.515625 40.1875 11.734375 48.09375 \nQ 17.96875 56 27.875 56 \nQ 33.9375 56 38.25 53.625 \nQ 42.578125 51.265625 45.40625 46.390625 \nz\nM 14.796875 27.296875 \nQ 14.796875 17.390625 18.875 11.75 \nQ 22.953125 6.109375 30.078125 6.109375 \nQ 37.203125 6.109375 41.296875 11.75 \nQ 45.40625 17.390625 45.40625 27.296875 \nQ 45.40625 37.203125 41.296875 42.84375 \nQ 37.203125 48.484375 30.078125 48.484375 \nQ 22.953125 48.484375 18.875 42.84375 \nQ 14.796875 37.203125 14.796875 27.296875 \nz\n\" id=\"DejaVuSans-100\"/>\n     </defs>\n     <g transform=\"translate(14.798438 149.009844)rotate(-90)scale(0.1 -0.1)\">\n      <use xlink:href=\"#DejaVuSans-115\"/>\n      <use x=\"52.099609\" xlink:href=\"#DejaVuSans-101\"/>\n      <use x=\"113.623047\" xlink:href=\"#DejaVuSans-112\"/>\n      <use x=\"177.099609\" xlink:href=\"#DejaVuSans-97\"/>\n      <use x=\"238.378906\" xlink:href=\"#DejaVuSans-108\"/>\n      <use x=\"266.162109\" xlink:href=\"#DejaVuSans-95\"/>\n      <use x=\"316.162109\" xlink:href=\"#DejaVuSans-119\"/>\n      <use x=\"397.949219\" xlink:href=\"#DejaVuSans-105\"/>\n      <use x=\"425.732422\" xlink:href=\"#DejaVuSans-100\"/>\n      <use x=\"489.208984\" xlink:href=\"#DejaVuSans-116\"/>\n      <use x=\"528.417969\" xlink:href=\"#DejaVuSans-104\"/>\n     </g>\n    </g>\n   </g>\n   <g id=\"patch_3\">\n    <path d=\"M 44.059375 228.14 \nL 44.059375 10.7 \n\" style=\"fill:none;stroke:#000000;stroke-linecap:square;stroke-linejoin:miter;stroke-width:0.8;\"/>\n   </g>\n   <g id=\"patch_4\">\n    <path d=\"M 378.859375 228.14 \nL 378.859375 10.7 \n\" style=\"fill:none;stroke:#000000;stroke-linecap:square;stroke-linejoin:miter;stroke-width:0.8;\"/>\n   </g>\n   <g id=\"patch_5\">\n    <path d=\"M 44.059375 228.14 \nL 378.859375 228.14 \n\" style=\"fill:none;stroke:#000000;stroke-linecap:square;stroke-linejoin:miter;stroke-width:0.8;\"/>\n   </g>\n   <g id=\"patch_6\">\n    <path d=\"M 44.059375 10.7 \nL 378.859375 10.7 \n\" style=\"fill:none;stroke:#000000;stroke-linecap:square;stroke-linejoin:miter;stroke-width:0.8;\"/>\n   </g>\n  </g>\n </g>\n <defs>\n  <clipPath id=\"p434232f395\">\n   <rect height=\"217.44\" width=\"334.8\" x=\"44.059375\" y=\"10.7\"/>\n  </clipPath>\n </defs>\n</svg>\n"
          },
          "metadata": {
            "tags": []
          }
        }
      ]
    },
    {
      "cell_type": "markdown",
      "metadata": {
        "id": "iSEzj_J2p2es",
        "colab_type": "text"
      },
      "source": [
        "Bitki türlerini görmeden yukarıdaki grafik bizim için çok anlamlı olmayabilir. Bitki türlerini farklı renklerde olacak şekilde grafiği yeniden çizdirelim."
      ]
    },
    {
      "cell_type": "code",
      "metadata": {
        "id": "V4gotUaYhBdf",
        "colab_type": "code",
        "outputId": "066fa05b-36d4-460f-a3bd-5d52aee55f9a",
        "colab": {
          "base_uri": "https://localhost:8080/",
          "height": 197
        }
      },
      "source": [
        "iris.head()"
      ],
      "execution_count": 12,
      "outputs": [
        {
          "output_type": "execute_result",
          "data": {
            "text/html": [
              "<div>\n",
              "<style scoped>\n",
              "    .dataframe tbody tr th:only-of-type {\n",
              "        vertical-align: middle;\n",
              "    }\n",
              "\n",
              "    .dataframe tbody tr th {\n",
              "        vertical-align: top;\n",
              "    }\n",
              "\n",
              "    .dataframe thead th {\n",
              "        text-align: right;\n",
              "    }\n",
              "</style>\n",
              "<table border=\"1\" class=\"dataframe\">\n",
              "  <thead>\n",
              "    <tr style=\"text-align: right;\">\n",
              "      <th></th>\n",
              "      <th>sepal_length</th>\n",
              "      <th>sepal_width</th>\n",
              "      <th>petal_length</th>\n",
              "      <th>petal_width</th>\n",
              "      <th>species</th>\n",
              "    </tr>\n",
              "  </thead>\n",
              "  <tbody>\n",
              "    <tr>\n",
              "      <th>0</th>\n",
              "      <td>5.1</td>\n",
              "      <td>3.5</td>\n",
              "      <td>1.4</td>\n",
              "      <td>0.2</td>\n",
              "      <td>setosa</td>\n",
              "    </tr>\n",
              "    <tr>\n",
              "      <th>1</th>\n",
              "      <td>4.9</td>\n",
              "      <td>3.0</td>\n",
              "      <td>1.4</td>\n",
              "      <td>0.2</td>\n",
              "      <td>setosa</td>\n",
              "    </tr>\n",
              "    <tr>\n",
              "      <th>2</th>\n",
              "      <td>4.7</td>\n",
              "      <td>3.2</td>\n",
              "      <td>1.3</td>\n",
              "      <td>0.2</td>\n",
              "      <td>setosa</td>\n",
              "    </tr>\n",
              "    <tr>\n",
              "      <th>3</th>\n",
              "      <td>4.6</td>\n",
              "      <td>3.1</td>\n",
              "      <td>1.5</td>\n",
              "      <td>0.2</td>\n",
              "      <td>setosa</td>\n",
              "    </tr>\n",
              "    <tr>\n",
              "      <th>4</th>\n",
              "      <td>5.0</td>\n",
              "      <td>3.6</td>\n",
              "      <td>1.4</td>\n",
              "      <td>0.2</td>\n",
              "      <td>setosa</td>\n",
              "    </tr>\n",
              "  </tbody>\n",
              "</table>\n",
              "</div>"
            ],
            "text/plain": [
              "   sepal_length  sepal_width  petal_length  petal_width species\n",
              "0           5.1          3.5           1.4          0.2  setosa\n",
              "1           4.9          3.0           1.4          0.2  setosa\n",
              "2           4.7          3.2           1.3          0.2  setosa\n",
              "3           4.6          3.1           1.5          0.2  setosa\n",
              "4           5.0          3.6           1.4          0.2  setosa"
            ]
          },
          "metadata": {
            "tags": []
          },
          "execution_count": 12
        }
      ]
    },
    {
      "cell_type": "code",
      "metadata": {
        "id": "2IARzti-eSmG",
        "colab_type": "code",
        "outputId": "3d748eb0-a6c1-4c24-aeb0-0f7799f9e608",
        "colab": {
          "base_uri": "https://localhost:8080/",
          "height": 297
        }
      },
      "source": [
        "sns.FacetGrid(iris, hue = \"species\").map(plt.scatter, \n",
        "                                     \"sepal_length\", \n",
        "                                     \"sepal_width\").add_legend()\n",
        "plt.show()"
      ],
      "execution_count": 13,
      "outputs": [
        {
          "output_type": "display_data",
          "data": {
            "text/plain": [
              "<Figure size 300.75x216 with 1 Axes>"
            ],
            "image/svg+xml": "<?xml version=\"1.0\" encoding=\"utf-8\" standalone=\"no\"?>\n<!DOCTYPE svg PUBLIC \"-//W3C//DTD SVG 1.1//EN\"\n  \"http://www.w3.org/Graphics/SVG/1.1/DTD/svg11.dtd\">\n<!-- Created with matplotlib (https://matplotlib.org/) -->\n<svg height=\"207.528125pt\" version=\"1.1\" viewBox=\"0 0 279.192687 207.528125\" width=\"279.192687pt\" xmlns=\"http://www.w3.org/2000/svg\" xmlns:xlink=\"http://www.w3.org/1999/xlink\">\n <defs>\n  <style type=\"text/css\">\n*{stroke-linecap:butt;stroke-linejoin:round;}\n  </style>\n </defs>\n <g id=\"figure_1\">\n  <g id=\"patch_1\">\n   <path d=\"M 0 207.528125 \nL 279.192687 207.528125 \nL 279.192687 0 \nL 0 0 \nz\n\" style=\"fill:none;\"/>\n  </g>\n  <g id=\"axes_1\">\n   <g id=\"patch_2\">\n    <path d=\"M 44.059375 169.69375 \nL 189.235187 169.69375 \nL 189.235187 10.7 \nL 44.059375 10.7 \nz\n\" style=\"fill:#ffffff;\"/>\n   </g>\n   <g id=\"PathCollection_1\">\n    <defs>\n     <path d=\"M 0 3 \nC 0.795609 3 1.55874 2.683901 2.12132 2.12132 \nC 2.683901 1.55874 3 0.795609 3 0 \nC 3 -0.795609 2.683901 -1.55874 2.12132 -2.12132 \nC 1.55874 -2.683901 0.795609 -3 0 -3 \nC -0.795609 -3 -1.55874 -2.683901 -2.12132 -2.12132 \nC -2.683901 -1.55874 -3 -0.795609 -3 0 \nC -3 0.795609 -2.683901 1.55874 -2.12132 2.12132 \nC -1.55874 2.683901 -0.795609 3 0 3 \nz\n\" id=\"m37d724d56a\" style=\"stroke:#1f77b4;\"/>\n    </defs>\n    <g clip-path=\"url(#p2d6dea7ae5)\">\n     <use style=\"fill:#1f77b4;stroke:#1f77b4;\" x=\"80.05637\" xlink:href=\"#m37d724d56a\" y=\"71.869434\"/>\n     <use style=\"fill:#1f77b4;stroke:#1f77b4;\" x=\"72.871547\" xlink:href=\"#m37d724d56a\" y=\"101.272239\"/>\n     <use style=\"fill:#1f77b4;stroke:#1f77b4;\" x=\"65.686725\" xlink:href=\"#m37d724d56a\" y=\"89.511117\"/>\n     <use style=\"fill:#1f77b4;stroke:#1f77b4;\" x=\"62.094314\" xlink:href=\"#m37d724d56a\" y=\"95.391678\"/>\n     <use style=\"fill:#1f77b4;stroke:#1f77b4;\" x=\"76.463958\" xlink:href=\"#m37d724d56a\" y=\"65.988874\"/>\n     <use style=\"fill:#1f77b4;stroke:#1f77b4;\" x=\"90.833603\" xlink:href=\"#m37d724d56a\" y=\"48.347191\"/>\n     <use style=\"fill:#1f77b4;stroke:#1f77b4;\" x=\"62.094314\" xlink:href=\"#m37d724d56a\" y=\"77.749995\"/>\n     <use style=\"fill:#1f77b4;stroke:#1f77b4;\" x=\"76.463958\" xlink:href=\"#m37d724d56a\" y=\"77.749995\"/>\n     <use style=\"fill:#1f77b4;stroke:#1f77b4;\" x=\"54.909492\" xlink:href=\"#m37d724d56a\" y=\"107.1528\"/>\n     <use style=\"fill:#1f77b4;stroke:#1f77b4;\" x=\"72.871547\" xlink:href=\"#m37d724d56a\" y=\"95.391678\"/>\n     <use style=\"fill:#1f77b4;stroke:#1f77b4;\" x=\"90.833603\" xlink:href=\"#m37d724d56a\" y=\"60.108313\"/>\n     <use style=\"fill:#1f77b4;stroke:#1f77b4;\" x=\"69.279136\" xlink:href=\"#m37d724d56a\" y=\"77.749995\"/>\n     <use style=\"fill:#1f77b4;stroke:#1f77b4;\" x=\"69.279136\" xlink:href=\"#m37d724d56a\" y=\"101.272239\"/>\n     <use style=\"fill:#1f77b4;stroke:#1f77b4;\" x=\"51.317081\" xlink:href=\"#m37d724d56a\" y=\"101.272239\"/>\n     <use style=\"fill:#1f77b4;stroke:#1f77b4;\" x=\"105.203247\" xlink:href=\"#m37d724d56a\" y=\"42.46663\"/>\n     <use style=\"fill:#1f77b4;stroke:#1f77b4;\" x=\"101.610836\" xlink:href=\"#m37d724d56a\" y=\"18.944387\"/>\n     <use style=\"fill:#1f77b4;stroke:#1f77b4;\" x=\"90.833603\" xlink:href=\"#m37d724d56a\" y=\"48.347191\"/>\n     <use style=\"fill:#1f77b4;stroke:#1f77b4;\" x=\"80.05637\" xlink:href=\"#m37d724d56a\" y=\"71.869434\"/>\n     <use style=\"fill:#1f77b4;stroke:#1f77b4;\" x=\"101.610836\" xlink:href=\"#m37d724d56a\" y=\"54.227752\"/>\n     <use style=\"fill:#1f77b4;stroke:#1f77b4;\" x=\"80.05637\" xlink:href=\"#m37d724d56a\" y=\"54.227752\"/>\n     <use style=\"fill:#1f77b4;stroke:#1f77b4;\" x=\"90.833603\" xlink:href=\"#m37d724d56a\" y=\"77.749995\"/>\n     <use style=\"fill:#1f77b4;stroke:#1f77b4;\" x=\"80.05637\" xlink:href=\"#m37d724d56a\" y=\"60.108313\"/>\n     <use style=\"fill:#1f77b4;stroke:#1f77b4;\" x=\"62.094314\" xlink:href=\"#m37d724d56a\" y=\"65.988874\"/>\n     <use style=\"fill:#1f77b4;stroke:#1f77b4;\" x=\"80.05637\" xlink:href=\"#m37d724d56a\" y=\"83.630556\"/>\n     <use style=\"fill:#1f77b4;stroke:#1f77b4;\" x=\"69.279136\" xlink:href=\"#m37d724d56a\" y=\"77.749995\"/>\n     <use style=\"fill:#1f77b4;stroke:#1f77b4;\" x=\"76.463958\" xlink:href=\"#m37d724d56a\" y=\"101.272239\"/>\n     <use style=\"fill:#1f77b4;stroke:#1f77b4;\" x=\"76.463958\" xlink:href=\"#m37d724d56a\" y=\"77.749995\"/>\n     <use style=\"fill:#1f77b4;stroke:#1f77b4;\" x=\"83.648781\" xlink:href=\"#m37d724d56a\" y=\"71.869434\"/>\n     <use style=\"fill:#1f77b4;stroke:#1f77b4;\" x=\"83.648781\" xlink:href=\"#m37d724d56a\" y=\"77.749995\"/>\n     <use style=\"fill:#1f77b4;stroke:#1f77b4;\" x=\"65.686725\" xlink:href=\"#m37d724d56a\" y=\"89.511117\"/>\n     <use style=\"fill:#1f77b4;stroke:#1f77b4;\" x=\"69.279136\" xlink:href=\"#m37d724d56a\" y=\"95.391678\"/>\n     <use style=\"fill:#1f77b4;stroke:#1f77b4;\" x=\"90.833603\" xlink:href=\"#m37d724d56a\" y=\"77.749995\"/>\n     <use style=\"fill:#1f77b4;stroke:#1f77b4;\" x=\"83.648781\" xlink:href=\"#m37d724d56a\" y=\"36.586069\"/>\n     <use style=\"fill:#1f77b4;stroke:#1f77b4;\" x=\"94.426014\" xlink:href=\"#m37d724d56a\" y=\"30.705508\"/>\n     <use style=\"fill:#1f77b4;stroke:#1f77b4;\" x=\"72.871547\" xlink:href=\"#m37d724d56a\" y=\"95.391678\"/>\n     <use style=\"fill:#1f77b4;stroke:#1f77b4;\" x=\"76.463958\" xlink:href=\"#m37d724d56a\" y=\"89.511117\"/>\n     <use style=\"fill:#1f77b4;stroke:#1f77b4;\" x=\"94.426014\" xlink:href=\"#m37d724d56a\" y=\"71.869434\"/>\n     <use style=\"fill:#1f77b4;stroke:#1f77b4;\" x=\"72.871547\" xlink:href=\"#m37d724d56a\" y=\"95.391678\"/>\n     <use style=\"fill:#1f77b4;stroke:#1f77b4;\" x=\"54.909492\" xlink:href=\"#m37d724d56a\" y=\"101.272239\"/>\n     <use style=\"fill:#1f77b4;stroke:#1f77b4;\" x=\"80.05637\" xlink:href=\"#m37d724d56a\" y=\"77.749995\"/>\n     <use style=\"fill:#1f77b4;stroke:#1f77b4;\" x=\"76.463958\" xlink:href=\"#m37d724d56a\" y=\"71.869434\"/>\n     <use style=\"fill:#1f77b4;stroke:#1f77b4;\" x=\"58.501903\" xlink:href=\"#m37d724d56a\" y=\"142.436165\"/>\n     <use style=\"fill:#1f77b4;stroke:#1f77b4;\" x=\"54.909492\" xlink:href=\"#m37d724d56a\" y=\"89.511117\"/>\n     <use style=\"fill:#1f77b4;stroke:#1f77b4;\" x=\"76.463958\" xlink:href=\"#m37d724d56a\" y=\"71.869434\"/>\n     <use style=\"fill:#1f77b4;stroke:#1f77b4;\" x=\"80.05637\" xlink:href=\"#m37d724d56a\" y=\"54.227752\"/>\n     <use style=\"fill:#1f77b4;stroke:#1f77b4;\" x=\"69.279136\" xlink:href=\"#m37d724d56a\" y=\"101.272239\"/>\n     <use style=\"fill:#1f77b4;stroke:#1f77b4;\" x=\"80.05637\" xlink:href=\"#m37d724d56a\" y=\"54.227752\"/>\n     <use style=\"fill:#1f77b4;stroke:#1f77b4;\" x=\"62.094314\" xlink:href=\"#m37d724d56a\" y=\"89.511117\"/>\n     <use style=\"fill:#1f77b4;stroke:#1f77b4;\" x=\"87.241192\" xlink:href=\"#m37d724d56a\" y=\"60.108313\"/>\n     <use style=\"fill:#1f77b4;stroke:#1f77b4;\" x=\"76.463958\" xlink:href=\"#m37d724d56a\" y=\"83.630556\"/>\n    </g>\n   </g>\n   <g id=\"PathCollection_2\">\n    <defs>\n     <path d=\"M 0 3 \nC 0.795609 3 1.55874 2.683901 2.12132 2.12132 \nC 2.683901 1.55874 3 0.795609 3 0 \nC 3 -0.795609 2.683901 -1.55874 2.12132 -2.12132 \nC 1.55874 -2.683901 0.795609 -3 0 -3 \nC -0.795609 -3 -1.55874 -2.683901 -2.12132 -2.12132 \nC -2.683901 -1.55874 -3 -0.795609 -3 0 \nC -3 0.795609 -2.683901 1.55874 -2.12132 2.12132 \nC -1.55874 2.683901 -0.795609 3 0 3 \nz\n\" id=\"mf9482d3c1b\" style=\"stroke:#ff7f0e;\"/>\n    </defs>\n    <g clip-path=\"url(#p2d6dea7ae5)\">\n     <use style=\"fill:#ff7f0e;stroke:#ff7f0e;\" x=\"148.31218\" xlink:href=\"#mf9482d3c1b\" y=\"89.511117\"/>\n     <use style=\"fill:#ff7f0e;stroke:#ff7f0e;\" x=\"126.757714\" xlink:href=\"#mf9482d3c1b\" y=\"89.511117\"/>\n     <use style=\"fill:#ff7f0e;stroke:#ff7f0e;\" x=\"144.719769\" xlink:href=\"#mf9482d3c1b\" y=\"95.391678\"/>\n     <use style=\"fill:#ff7f0e;stroke:#ff7f0e;\" x=\"94.426014\" xlink:href=\"#mf9482d3c1b\" y=\"142.436165\"/>\n     <use style=\"fill:#ff7f0e;stroke:#ff7f0e;\" x=\"130.350125\" xlink:href=\"#mf9482d3c1b\" y=\"113.03336\"/>\n     <use style=\"fill:#ff7f0e;stroke:#ff7f0e;\" x=\"101.610836\" xlink:href=\"#mf9482d3c1b\" y=\"113.03336\"/>\n     <use style=\"fill:#ff7f0e;stroke:#ff7f0e;\" x=\"123.165302\" xlink:href=\"#mf9482d3c1b\" y=\"83.630556\"/>\n     <use style=\"fill:#ff7f0e;stroke:#ff7f0e;\" x=\"72.871547\" xlink:href=\"#mf9482d3c1b\" y=\"136.555604\"/>\n     <use style=\"fill:#ff7f0e;stroke:#ff7f0e;\" x=\"133.942536\" xlink:href=\"#mf9482d3c1b\" y=\"107.1528\"/>\n     <use style=\"fill:#ff7f0e;stroke:#ff7f0e;\" x=\"83.648781\" xlink:href=\"#mf9482d3c1b\" y=\"118.913921\"/>\n     <use style=\"fill:#ff7f0e;stroke:#ff7f0e;\" x=\"76.463958\" xlink:href=\"#mf9482d3c1b\" y=\"160.077847\"/>\n     <use style=\"fill:#ff7f0e;stroke:#ff7f0e;\" x=\"108.795658\" xlink:href=\"#mf9482d3c1b\" y=\"101.272239\"/>\n     <use style=\"fill:#ff7f0e;stroke:#ff7f0e;\" x=\"112.388069\" xlink:href=\"#mf9482d3c1b\" y=\"148.316726\"/>\n     <use style=\"fill:#ff7f0e;stroke:#ff7f0e;\" x=\"115.98048\" xlink:href=\"#mf9482d3c1b\" y=\"107.1528\"/>\n     <use style=\"fill:#ff7f0e;stroke:#ff7f0e;\" x=\"98.018425\" xlink:href=\"#mf9482d3c1b\" y=\"107.1528\"/>\n     <use style=\"fill:#ff7f0e;stroke:#ff7f0e;\" x=\"137.534947\" xlink:href=\"#mf9482d3c1b\" y=\"95.391678\"/>\n     <use style=\"fill:#ff7f0e;stroke:#ff7f0e;\" x=\"98.018425\" xlink:href=\"#mf9482d3c1b\" y=\"101.272239\"/>\n     <use style=\"fill:#ff7f0e;stroke:#ff7f0e;\" x=\"105.203247\" xlink:href=\"#mf9482d3c1b\" y=\"118.913921\"/>\n     <use style=\"fill:#ff7f0e;stroke:#ff7f0e;\" x=\"119.572891\" xlink:href=\"#mf9482d3c1b\" y=\"148.316726\"/>\n     <use style=\"fill:#ff7f0e;stroke:#ff7f0e;\" x=\"98.018425\" xlink:href=\"#mf9482d3c1b\" y=\"130.675043\"/>\n     <use style=\"fill:#ff7f0e;stroke:#ff7f0e;\" x=\"108.795658\" xlink:href=\"#mf9482d3c1b\" y=\"89.511117\"/>\n     <use style=\"fill:#ff7f0e;stroke:#ff7f0e;\" x=\"115.98048\" xlink:href=\"#mf9482d3c1b\" y=\"113.03336\"/>\n     <use style=\"fill:#ff7f0e;stroke:#ff7f0e;\" x=\"123.165302\" xlink:href=\"#mf9482d3c1b\" y=\"130.675043\"/>\n     <use style=\"fill:#ff7f0e;stroke:#ff7f0e;\" x=\"115.98048\" xlink:href=\"#mf9482d3c1b\" y=\"113.03336\"/>\n     <use style=\"fill:#ff7f0e;stroke:#ff7f0e;\" x=\"126.757714\" xlink:href=\"#mf9482d3c1b\" y=\"107.1528\"/>\n     <use style=\"fill:#ff7f0e;stroke:#ff7f0e;\" x=\"133.942536\" xlink:href=\"#mf9482d3c1b\" y=\"101.272239\"/>\n     <use style=\"fill:#ff7f0e;stroke:#ff7f0e;\" x=\"141.127358\" xlink:href=\"#mf9482d3c1b\" y=\"113.03336\"/>\n     <use style=\"fill:#ff7f0e;stroke:#ff7f0e;\" x=\"137.534947\" xlink:href=\"#mf9482d3c1b\" y=\"101.272239\"/>\n     <use style=\"fill:#ff7f0e;stroke:#ff7f0e;\" x=\"112.388069\" xlink:href=\"#mf9482d3c1b\" y=\"107.1528\"/>\n     <use style=\"fill:#ff7f0e;stroke:#ff7f0e;\" x=\"101.610836\" xlink:href=\"#mf9482d3c1b\" y=\"124.794482\"/>\n     <use style=\"fill:#ff7f0e;stroke:#ff7f0e;\" x=\"94.426014\" xlink:href=\"#mf9482d3c1b\" y=\"136.555604\"/>\n     <use style=\"fill:#ff7f0e;stroke:#ff7f0e;\" x=\"94.426014\" xlink:href=\"#mf9482d3c1b\" y=\"136.555604\"/>\n     <use style=\"fill:#ff7f0e;stroke:#ff7f0e;\" x=\"105.203247\" xlink:href=\"#mf9482d3c1b\" y=\"118.913921\"/>\n     <use style=\"fill:#ff7f0e;stroke:#ff7f0e;\" x=\"112.388069\" xlink:href=\"#mf9482d3c1b\" y=\"118.913921\"/>\n     <use style=\"fill:#ff7f0e;stroke:#ff7f0e;\" x=\"90.833603\" xlink:href=\"#mf9482d3c1b\" y=\"101.272239\"/>\n     <use style=\"fill:#ff7f0e;stroke:#ff7f0e;\" x=\"112.388069\" xlink:href=\"#mf9482d3c1b\" y=\"77.749995\"/>\n     <use style=\"fill:#ff7f0e;stroke:#ff7f0e;\" x=\"137.534947\" xlink:href=\"#mf9482d3c1b\" y=\"95.391678\"/>\n     <use style=\"fill:#ff7f0e;stroke:#ff7f0e;\" x=\"123.165302\" xlink:href=\"#mf9482d3c1b\" y=\"142.436165\"/>\n     <use style=\"fill:#ff7f0e;stroke:#ff7f0e;\" x=\"98.018425\" xlink:href=\"#mf9482d3c1b\" y=\"101.272239\"/>\n     <use style=\"fill:#ff7f0e;stroke:#ff7f0e;\" x=\"94.426014\" xlink:href=\"#mf9482d3c1b\" y=\"130.675043\"/>\n     <use style=\"fill:#ff7f0e;stroke:#ff7f0e;\" x=\"94.426014\" xlink:href=\"#mf9482d3c1b\" y=\"124.794482\"/>\n     <use style=\"fill:#ff7f0e;stroke:#ff7f0e;\" x=\"115.98048\" xlink:href=\"#mf9482d3c1b\" y=\"101.272239\"/>\n     <use style=\"fill:#ff7f0e;stroke:#ff7f0e;\" x=\"105.203247\" xlink:href=\"#mf9482d3c1b\" y=\"124.794482\"/>\n     <use style=\"fill:#ff7f0e;stroke:#ff7f0e;\" x=\"76.463958\" xlink:href=\"#mf9482d3c1b\" y=\"142.436165\"/>\n     <use style=\"fill:#ff7f0e;stroke:#ff7f0e;\" x=\"98.018425\" xlink:href=\"#mf9482d3c1b\" y=\"118.913921\"/>\n     <use style=\"fill:#ff7f0e;stroke:#ff7f0e;\" x=\"101.610836\" xlink:href=\"#mf9482d3c1b\" y=\"101.272239\"/>\n     <use style=\"fill:#ff7f0e;stroke:#ff7f0e;\" x=\"101.610836\" xlink:href=\"#mf9482d3c1b\" y=\"107.1528\"/>\n     <use style=\"fill:#ff7f0e;stroke:#ff7f0e;\" x=\"119.572891\" xlink:href=\"#mf9482d3c1b\" y=\"107.1528\"/>\n     <use style=\"fill:#ff7f0e;stroke:#ff7f0e;\" x=\"80.05637\" xlink:href=\"#mf9482d3c1b\" y=\"130.675043\"/>\n     <use style=\"fill:#ff7f0e;stroke:#ff7f0e;\" x=\"101.610836\" xlink:href=\"#mf9482d3c1b\" y=\"113.03336\"/>\n    </g>\n   </g>\n   <g id=\"PathCollection_3\">\n    <defs>\n     <path d=\"M 0 3 \nC 0.795609 3 1.55874 2.683901 2.12132 2.12132 \nC 2.683901 1.55874 3 0.795609 3 0 \nC 3 -0.795609 2.683901 -1.55874 2.12132 -2.12132 \nC 1.55874 -2.683901 0.795609 -3 0 -3 \nC -0.795609 -3 -1.55874 -2.683901 -2.12132 -2.12132 \nC -2.683901 -1.55874 -3 -0.795609 -3 0 \nC -3 0.795609 -2.683901 1.55874 -2.12132 2.12132 \nC -1.55874 2.683901 -0.795609 3 0 3 \nz\n\" id=\"m2c27eecdac\" style=\"stroke:#2ca02c;\"/>\n    </defs>\n    <g clip-path=\"url(#p2d6dea7ae5)\">\n     <use style=\"fill:#2ca02c;stroke:#2ca02c;\" x=\"123.165302\" xlink:href=\"#m2c27eecdac\" y=\"83.630556\"/>\n     <use style=\"fill:#2ca02c;stroke:#2ca02c;\" x=\"105.203247\" xlink:href=\"#m2c27eecdac\" y=\"118.913921\"/>\n     <use style=\"fill:#2ca02c;stroke:#2ca02c;\" x=\"151.904591\" xlink:href=\"#m2c27eecdac\" y=\"101.272239\"/>\n     <use style=\"fill:#2ca02c;stroke:#2ca02c;\" x=\"123.165302\" xlink:href=\"#m2c27eecdac\" y=\"107.1528\"/>\n     <use style=\"fill:#2ca02c;stroke:#2ca02c;\" x=\"130.350125\" xlink:href=\"#m2c27eecdac\" y=\"101.272239\"/>\n     <use style=\"fill:#2ca02c;stroke:#2ca02c;\" x=\"169.866646\" xlink:href=\"#m2c27eecdac\" y=\"101.272239\"/>\n     <use style=\"fill:#2ca02c;stroke:#2ca02c;\" x=\"72.871547\" xlink:href=\"#m2c27eecdac\" y=\"130.675043\"/>\n     <use style=\"fill:#2ca02c;stroke:#2ca02c;\" x=\"159.089413\" xlink:href=\"#m2c27eecdac\" y=\"107.1528\"/>\n     <use style=\"fill:#2ca02c;stroke:#2ca02c;\" x=\"137.534947\" xlink:href=\"#m2c27eecdac\" y=\"130.675043\"/>\n     <use style=\"fill:#2ca02c;stroke:#2ca02c;\" x=\"155.497002\" xlink:href=\"#m2c27eecdac\" y=\"65.988874\"/>\n     <use style=\"fill:#2ca02c;stroke:#2ca02c;\" x=\"130.350125\" xlink:href=\"#m2c27eecdac\" y=\"89.511117\"/>\n     <use style=\"fill:#2ca02c;stroke:#2ca02c;\" x=\"126.757714\" xlink:href=\"#m2c27eecdac\" y=\"118.913921\"/>\n     <use style=\"fill:#2ca02c;stroke:#2ca02c;\" x=\"141.127358\" xlink:href=\"#m2c27eecdac\" y=\"101.272239\"/>\n     <use style=\"fill:#2ca02c;stroke:#2ca02c;\" x=\"101.610836\" xlink:href=\"#m2c27eecdac\" y=\"130.675043\"/>\n     <use style=\"fill:#2ca02c;stroke:#2ca02c;\" x=\"105.203247\" xlink:href=\"#m2c27eecdac\" y=\"113.03336\"/>\n     <use style=\"fill:#2ca02c;stroke:#2ca02c;\" x=\"126.757714\" xlink:href=\"#m2c27eecdac\" y=\"89.511117\"/>\n     <use style=\"fill:#2ca02c;stroke:#2ca02c;\" x=\"130.350125\" xlink:href=\"#m2c27eecdac\" y=\"101.272239\"/>\n     <use style=\"fill:#2ca02c;stroke:#2ca02c;\" x=\"173.459057\" xlink:href=\"#m2c27eecdac\" y=\"54.227752\"/>\n     <use style=\"fill:#2ca02c;stroke:#2ca02c;\" x=\"173.459057\" xlink:href=\"#m2c27eecdac\" y=\"124.794482\"/>\n     <use style=\"fill:#2ca02c;stroke:#2ca02c;\" x=\"112.388069\" xlink:href=\"#m2c27eecdac\" y=\"148.316726\"/>\n     <use style=\"fill:#2ca02c;stroke:#2ca02c;\" x=\"144.719769\" xlink:href=\"#m2c27eecdac\" y=\"89.511117\"/>\n     <use style=\"fill:#2ca02c;stroke:#2ca02c;\" x=\"98.018425\" xlink:href=\"#m2c27eecdac\" y=\"113.03336\"/>\n     <use style=\"fill:#2ca02c;stroke:#2ca02c;\" x=\"173.459057\" xlink:href=\"#m2c27eecdac\" y=\"113.03336\"/>\n     <use style=\"fill:#2ca02c;stroke:#2ca02c;\" x=\"123.165302\" xlink:href=\"#m2c27eecdac\" y=\"118.913921\"/>\n     <use style=\"fill:#2ca02c;stroke:#2ca02c;\" x=\"137.534947\" xlink:href=\"#m2c27eecdac\" y=\"83.630556\"/>\n     <use style=\"fill:#2ca02c;stroke:#2ca02c;\" x=\"155.497002\" xlink:href=\"#m2c27eecdac\" y=\"89.511117\"/>\n     <use style=\"fill:#2ca02c;stroke:#2ca02c;\" x=\"119.572891\" xlink:href=\"#m2c27eecdac\" y=\"113.03336\"/>\n     <use style=\"fill:#2ca02c;stroke:#2ca02c;\" x=\"115.98048\" xlink:href=\"#m2c27eecdac\" y=\"101.272239\"/>\n     <use style=\"fill:#2ca02c;stroke:#2ca02c;\" x=\"126.757714\" xlink:href=\"#m2c27eecdac\" y=\"113.03336\"/>\n     <use style=\"fill:#2ca02c;stroke:#2ca02c;\" x=\"155.497002\" xlink:href=\"#m2c27eecdac\" y=\"101.272239\"/>\n     <use style=\"fill:#2ca02c;stroke:#2ca02c;\" x=\"162.681824\" xlink:href=\"#m2c27eecdac\" y=\"113.03336\"/>\n     <use style=\"fill:#2ca02c;stroke:#2ca02c;\" x=\"180.64388\" xlink:href=\"#m2c27eecdac\" y=\"54.227752\"/>\n     <use style=\"fill:#2ca02c;stroke:#2ca02c;\" x=\"126.757714\" xlink:href=\"#m2c27eecdac\" y=\"113.03336\"/>\n     <use style=\"fill:#2ca02c;stroke:#2ca02c;\" x=\"123.165302\" xlink:href=\"#m2c27eecdac\" y=\"113.03336\"/>\n     <use style=\"fill:#2ca02c;stroke:#2ca02c;\" x=\"115.98048\" xlink:href=\"#m2c27eecdac\" y=\"124.794482\"/>\n     <use style=\"fill:#2ca02c;stroke:#2ca02c;\" x=\"173.459057\" xlink:href=\"#m2c27eecdac\" y=\"101.272239\"/>\n     <use style=\"fill:#2ca02c;stroke:#2ca02c;\" x=\"123.165302\" xlink:href=\"#m2c27eecdac\" y=\"77.749995\"/>\n     <use style=\"fill:#2ca02c;stroke:#2ca02c;\" x=\"126.757714\" xlink:href=\"#m2c27eecdac\" y=\"95.391678\"/>\n     <use style=\"fill:#2ca02c;stroke:#2ca02c;\" x=\"112.388069\" xlink:href=\"#m2c27eecdac\" y=\"101.272239\"/>\n     <use style=\"fill:#2ca02c;stroke:#2ca02c;\" x=\"144.719769\" xlink:href=\"#m2c27eecdac\" y=\"95.391678\"/>\n     <use style=\"fill:#2ca02c;stroke:#2ca02c;\" x=\"137.534947\" xlink:href=\"#m2c27eecdac\" y=\"95.391678\"/>\n     <use style=\"fill:#2ca02c;stroke:#2ca02c;\" x=\"144.719769\" xlink:href=\"#m2c27eecdac\" y=\"95.391678\"/>\n     <use style=\"fill:#2ca02c;stroke:#2ca02c;\" x=\"105.203247\" xlink:href=\"#m2c27eecdac\" y=\"118.913921\"/>\n     <use style=\"fill:#2ca02c;stroke:#2ca02c;\" x=\"141.127358\" xlink:href=\"#m2c27eecdac\" y=\"89.511117\"/>\n     <use style=\"fill:#2ca02c;stroke:#2ca02c;\" x=\"137.534947\" xlink:href=\"#m2c27eecdac\" y=\"83.630556\"/>\n     <use style=\"fill:#2ca02c;stroke:#2ca02c;\" x=\"137.534947\" xlink:href=\"#m2c27eecdac\" y=\"101.272239\"/>\n     <use style=\"fill:#2ca02c;stroke:#2ca02c;\" x=\"123.165302\" xlink:href=\"#m2c27eecdac\" y=\"130.675043\"/>\n     <use style=\"fill:#2ca02c;stroke:#2ca02c;\" x=\"130.350125\" xlink:href=\"#m2c27eecdac\" y=\"101.272239\"/>\n     <use style=\"fill:#2ca02c;stroke:#2ca02c;\" x=\"119.572891\" xlink:href=\"#m2c27eecdac\" y=\"77.749995\"/>\n     <use style=\"fill:#2ca02c;stroke:#2ca02c;\" x=\"108.795658\" xlink:href=\"#m2c27eecdac\" y=\"101.272239\"/>\n    </g>\n   </g>\n   <g id=\"matplotlib.axis_1\">\n    <g id=\"xtick_1\">\n     <g id=\"line2d_1\">\n      <defs>\n       <path d=\"M 0 0 \nL 0 3.5 \n\" id=\"mdfe88663c5\" style=\"stroke:#000000;stroke-width:0.8;\"/>\n      </defs>\n      <g>\n       <use style=\"stroke:#000000;stroke-width:0.8;\" x=\"112.388069\" xlink:href=\"#mdfe88663c5\" y=\"169.69375\"/>\n      </g>\n     </g>\n     <g id=\"text_1\">\n      <!-- 6 -->\n      <defs>\n       <path d=\"M 33.015625 40.375 \nQ 26.375 40.375 22.484375 35.828125 \nQ 18.609375 31.296875 18.609375 23.390625 \nQ 18.609375 15.53125 22.484375 10.953125 \nQ 26.375 6.390625 33.015625 6.390625 \nQ 39.65625 6.390625 43.53125 10.953125 \nQ 47.40625 15.53125 47.40625 23.390625 \nQ 47.40625 31.296875 43.53125 35.828125 \nQ 39.65625 40.375 33.015625 40.375 \nz\nM 52.59375 71.296875 \nL 52.59375 62.3125 \nQ 48.875 64.0625 45.09375 64.984375 \nQ 41.3125 65.921875 37.59375 65.921875 \nQ 27.828125 65.921875 22.671875 59.328125 \nQ 17.53125 52.734375 16.796875 39.40625 \nQ 19.671875 43.65625 24.015625 45.921875 \nQ 28.375 48.1875 33.59375 48.1875 \nQ 44.578125 48.1875 50.953125 41.515625 \nQ 57.328125 34.859375 57.328125 23.390625 \nQ 57.328125 12.15625 50.6875 5.359375 \nQ 44.046875 -1.421875 33.015625 -1.421875 \nQ 20.359375 -1.421875 13.671875 8.265625 \nQ 6.984375 17.96875 6.984375 36.375 \nQ 6.984375 53.65625 15.1875 63.9375 \nQ 23.390625 74.21875 37.203125 74.21875 \nQ 40.921875 74.21875 44.703125 73.484375 \nQ 48.484375 72.75 52.59375 71.296875 \nz\n\" id=\"DejaVuSans-54\"/>\n      </defs>\n      <g transform=\"translate(109.206819 184.292188)scale(0.1 -0.1)\">\n       <use xlink:href=\"#DejaVuSans-54\"/>\n      </g>\n     </g>\n    </g>\n    <g id=\"xtick_2\">\n     <g id=\"line2d_2\">\n      <g>\n       <use style=\"stroke:#000000;stroke-width:0.8;\" x=\"184.236291\" xlink:href=\"#mdfe88663c5\" y=\"169.69375\"/>\n      </g>\n     </g>\n     <g id=\"text_2\">\n      <!-- 8 -->\n      <defs>\n       <path d=\"M 31.78125 34.625 \nQ 24.75 34.625 20.71875 30.859375 \nQ 16.703125 27.09375 16.703125 20.515625 \nQ 16.703125 13.921875 20.71875 10.15625 \nQ 24.75 6.390625 31.78125 6.390625 \nQ 38.8125 6.390625 42.859375 10.171875 \nQ 46.921875 13.96875 46.921875 20.515625 \nQ 46.921875 27.09375 42.890625 30.859375 \nQ 38.875 34.625 31.78125 34.625 \nz\nM 21.921875 38.8125 \nQ 15.578125 40.375 12.03125 44.71875 \nQ 8.5 49.078125 8.5 55.328125 \nQ 8.5 64.0625 14.71875 69.140625 \nQ 20.953125 74.21875 31.78125 74.21875 \nQ 42.671875 74.21875 48.875 69.140625 \nQ 55.078125 64.0625 55.078125 55.328125 \nQ 55.078125 49.078125 51.53125 44.71875 \nQ 48 40.375 41.703125 38.8125 \nQ 48.828125 37.15625 52.796875 32.3125 \nQ 56.78125 27.484375 56.78125 20.515625 \nQ 56.78125 9.90625 50.3125 4.234375 \nQ 43.84375 -1.421875 31.78125 -1.421875 \nQ 19.734375 -1.421875 13.25 4.234375 \nQ 6.78125 9.90625 6.78125 20.515625 \nQ 6.78125 27.484375 10.78125 32.3125 \nQ 14.796875 37.15625 21.921875 38.8125 \nz\nM 18.3125 54.390625 \nQ 18.3125 48.734375 21.84375 45.5625 \nQ 25.390625 42.390625 31.78125 42.390625 \nQ 38.140625 42.390625 41.71875 45.5625 \nQ 45.3125 48.734375 45.3125 54.390625 \nQ 45.3125 60.0625 41.71875 63.234375 \nQ 38.140625 66.40625 31.78125 66.40625 \nQ 25.390625 66.40625 21.84375 63.234375 \nQ 18.3125 60.0625 18.3125 54.390625 \nz\n\" id=\"DejaVuSans-56\"/>\n      </defs>\n      <g transform=\"translate(181.055041 184.292188)scale(0.1 -0.1)\">\n       <use xlink:href=\"#DejaVuSans-56\"/>\n      </g>\n     </g>\n    </g>\n    <g id=\"text_3\">\n     <!-- sepal_length -->\n     <defs>\n      <path d=\"M 44.28125 53.078125 \nL 44.28125 44.578125 \nQ 40.484375 46.53125 36.375 47.5 \nQ 32.28125 48.484375 27.875 48.484375 \nQ 21.1875 48.484375 17.84375 46.4375 \nQ 14.5 44.390625 14.5 40.28125 \nQ 14.5 37.15625 16.890625 35.375 \nQ 19.28125 33.59375 26.515625 31.984375 \nL 29.59375 31.296875 \nQ 39.15625 29.25 43.1875 25.515625 \nQ 47.21875 21.78125 47.21875 15.09375 \nQ 47.21875 7.46875 41.1875 3.015625 \nQ 35.15625 -1.421875 24.609375 -1.421875 \nQ 20.21875 -1.421875 15.453125 -0.5625 \nQ 10.6875 0.296875 5.421875 2 \nL 5.421875 11.28125 \nQ 10.40625 8.6875 15.234375 7.390625 \nQ 20.0625 6.109375 24.8125 6.109375 \nQ 31.15625 6.109375 34.5625 8.28125 \nQ 37.984375 10.453125 37.984375 14.40625 \nQ 37.984375 18.0625 35.515625 20.015625 \nQ 33.0625 21.96875 24.703125 23.78125 \nL 21.578125 24.515625 \nQ 13.234375 26.265625 9.515625 29.90625 \nQ 5.8125 33.546875 5.8125 39.890625 \nQ 5.8125 47.609375 11.28125 51.796875 \nQ 16.75 56 26.8125 56 \nQ 31.78125 56 36.171875 55.265625 \nQ 40.578125 54.546875 44.28125 53.078125 \nz\n\" id=\"DejaVuSans-115\"/>\n      <path d=\"M 56.203125 29.59375 \nL 56.203125 25.203125 \nL 14.890625 25.203125 \nQ 15.484375 15.921875 20.484375 11.0625 \nQ 25.484375 6.203125 34.421875 6.203125 \nQ 39.59375 6.203125 44.453125 7.46875 \nQ 49.3125 8.734375 54.109375 11.28125 \nL 54.109375 2.78125 \nQ 49.265625 0.734375 44.1875 -0.34375 \nQ 39.109375 -1.421875 33.890625 -1.421875 \nQ 20.796875 -1.421875 13.15625 6.1875 \nQ 5.515625 13.8125 5.515625 26.8125 \nQ 5.515625 40.234375 12.765625 48.109375 \nQ 20.015625 56 32.328125 56 \nQ 43.359375 56 49.78125 48.890625 \nQ 56.203125 41.796875 56.203125 29.59375 \nz\nM 47.21875 32.234375 \nQ 47.125 39.59375 43.09375 43.984375 \nQ 39.0625 48.390625 32.421875 48.390625 \nQ 24.90625 48.390625 20.390625 44.140625 \nQ 15.875 39.890625 15.1875 32.171875 \nz\n\" id=\"DejaVuSans-101\"/>\n      <path d=\"M 18.109375 8.203125 \nL 18.109375 -20.796875 \nL 9.078125 -20.796875 \nL 9.078125 54.6875 \nL 18.109375 54.6875 \nL 18.109375 46.390625 \nQ 20.953125 51.265625 25.265625 53.625 \nQ 29.59375 56 35.59375 56 \nQ 45.5625 56 51.78125 48.09375 \nQ 58.015625 40.1875 58.015625 27.296875 \nQ 58.015625 14.40625 51.78125 6.484375 \nQ 45.5625 -1.421875 35.59375 -1.421875 \nQ 29.59375 -1.421875 25.265625 0.953125 \nQ 20.953125 3.328125 18.109375 8.203125 \nz\nM 48.6875 27.296875 \nQ 48.6875 37.203125 44.609375 42.84375 \nQ 40.53125 48.484375 33.40625 48.484375 \nQ 26.265625 48.484375 22.1875 42.84375 \nQ 18.109375 37.203125 18.109375 27.296875 \nQ 18.109375 17.390625 22.1875 11.75 \nQ 26.265625 6.109375 33.40625 6.109375 \nQ 40.53125 6.109375 44.609375 11.75 \nQ 48.6875 17.390625 48.6875 27.296875 \nz\n\" id=\"DejaVuSans-112\"/>\n      <path d=\"M 34.28125 27.484375 \nQ 23.390625 27.484375 19.1875 25 \nQ 14.984375 22.515625 14.984375 16.5 \nQ 14.984375 11.71875 18.140625 8.90625 \nQ 21.296875 6.109375 26.703125 6.109375 \nQ 34.1875 6.109375 38.703125 11.40625 \nQ 43.21875 16.703125 43.21875 25.484375 \nL 43.21875 27.484375 \nz\nM 52.203125 31.203125 \nL 52.203125 0 \nL 43.21875 0 \nL 43.21875 8.296875 \nQ 40.140625 3.328125 35.546875 0.953125 \nQ 30.953125 -1.421875 24.3125 -1.421875 \nQ 15.921875 -1.421875 10.953125 3.296875 \nQ 6 8.015625 6 15.921875 \nQ 6 25.140625 12.171875 29.828125 \nQ 18.359375 34.515625 30.609375 34.515625 \nL 43.21875 34.515625 \nL 43.21875 35.40625 \nQ 43.21875 41.609375 39.140625 45 \nQ 35.0625 48.390625 27.6875 48.390625 \nQ 23 48.390625 18.546875 47.265625 \nQ 14.109375 46.140625 10.015625 43.890625 \nL 10.015625 52.203125 \nQ 14.9375 54.109375 19.578125 55.046875 \nQ 24.21875 56 28.609375 56 \nQ 40.484375 56 46.34375 49.84375 \nQ 52.203125 43.703125 52.203125 31.203125 \nz\n\" id=\"DejaVuSans-97\"/>\n      <path d=\"M 9.421875 75.984375 \nL 18.40625 75.984375 \nL 18.40625 0 \nL 9.421875 0 \nz\n\" id=\"DejaVuSans-108\"/>\n      <path d=\"M 50.984375 -16.609375 \nL 50.984375 -23.578125 \nL -0.984375 -23.578125 \nL -0.984375 -16.609375 \nz\n\" id=\"DejaVuSans-95\"/>\n      <path d=\"M 54.890625 33.015625 \nL 54.890625 0 \nL 45.90625 0 \nL 45.90625 32.71875 \nQ 45.90625 40.484375 42.875 44.328125 \nQ 39.84375 48.1875 33.796875 48.1875 \nQ 26.515625 48.1875 22.3125 43.546875 \nQ 18.109375 38.921875 18.109375 30.90625 \nL 18.109375 0 \nL 9.078125 0 \nL 9.078125 54.6875 \nL 18.109375 54.6875 \nL 18.109375 46.1875 \nQ 21.34375 51.125 25.703125 53.5625 \nQ 30.078125 56 35.796875 56 \nQ 45.21875 56 50.046875 50.171875 \nQ 54.890625 44.34375 54.890625 33.015625 \nz\n\" id=\"DejaVuSans-110\"/>\n      <path d=\"M 45.40625 27.984375 \nQ 45.40625 37.75 41.375 43.109375 \nQ 37.359375 48.484375 30.078125 48.484375 \nQ 22.859375 48.484375 18.828125 43.109375 \nQ 14.796875 37.75 14.796875 27.984375 \nQ 14.796875 18.265625 18.828125 12.890625 \nQ 22.859375 7.515625 30.078125 7.515625 \nQ 37.359375 7.515625 41.375 12.890625 \nQ 45.40625 18.265625 45.40625 27.984375 \nz\nM 54.390625 6.78125 \nQ 54.390625 -7.171875 48.1875 -13.984375 \nQ 42 -20.796875 29.203125 -20.796875 \nQ 24.46875 -20.796875 20.265625 -20.09375 \nQ 16.0625 -19.390625 12.109375 -17.921875 \nL 12.109375 -9.1875 \nQ 16.0625 -11.328125 19.921875 -12.34375 \nQ 23.78125 -13.375 27.78125 -13.375 \nQ 36.625 -13.375 41.015625 -8.765625 \nQ 45.40625 -4.15625 45.40625 5.171875 \nL 45.40625 9.625 \nQ 42.625 4.78125 38.28125 2.390625 \nQ 33.9375 0 27.875 0 \nQ 17.828125 0 11.671875 7.65625 \nQ 5.515625 15.328125 5.515625 27.984375 \nQ 5.515625 40.671875 11.671875 48.328125 \nQ 17.828125 56 27.875 56 \nQ 33.9375 56 38.28125 53.609375 \nQ 42.625 51.21875 45.40625 46.390625 \nL 45.40625 54.6875 \nL 54.390625 54.6875 \nz\n\" id=\"DejaVuSans-103\"/>\n      <path d=\"M 18.3125 70.21875 \nL 18.3125 54.6875 \nL 36.8125 54.6875 \nL 36.8125 47.703125 \nL 18.3125 47.703125 \nL 18.3125 18.015625 \nQ 18.3125 11.328125 20.140625 9.421875 \nQ 21.96875 7.515625 27.59375 7.515625 \nL 36.8125 7.515625 \nL 36.8125 0 \nL 27.59375 0 \nQ 17.1875 0 13.234375 3.875 \nQ 9.28125 7.765625 9.28125 18.015625 \nL 9.28125 47.703125 \nL 2.6875 47.703125 \nL 2.6875 54.6875 \nL 9.28125 54.6875 \nL 9.28125 70.21875 \nz\n\" id=\"DejaVuSans-116\"/>\n      <path d=\"M 54.890625 33.015625 \nL 54.890625 0 \nL 45.90625 0 \nL 45.90625 32.71875 \nQ 45.90625 40.484375 42.875 44.328125 \nQ 39.84375 48.1875 33.796875 48.1875 \nQ 26.515625 48.1875 22.3125 43.546875 \nQ 18.109375 38.921875 18.109375 30.90625 \nL 18.109375 0 \nL 9.078125 0 \nL 9.078125 75.984375 \nL 18.109375 75.984375 \nL 18.109375 46.1875 \nQ 21.34375 51.125 25.703125 53.5625 \nQ 30.078125 56 35.796875 56 \nQ 45.21875 56 50.046875 50.171875 \nQ 54.890625 44.34375 54.890625 33.015625 \nz\n\" id=\"DejaVuSans-104\"/>\n     </defs>\n     <g transform=\"translate(84.901187 197.970313)scale(0.1 -0.1)\">\n      <use xlink:href=\"#DejaVuSans-115\"/>\n      <use x=\"52.099609\" xlink:href=\"#DejaVuSans-101\"/>\n      <use x=\"113.623047\" xlink:href=\"#DejaVuSans-112\"/>\n      <use x=\"177.099609\" xlink:href=\"#DejaVuSans-97\"/>\n      <use x=\"238.378906\" xlink:href=\"#DejaVuSans-108\"/>\n      <use x=\"266.162109\" xlink:href=\"#DejaVuSans-95\"/>\n      <use x=\"316.162109\" xlink:href=\"#DejaVuSans-108\"/>\n      <use x=\"343.945312\" xlink:href=\"#DejaVuSans-101\"/>\n      <use x=\"405.46875\" xlink:href=\"#DejaVuSans-110\"/>\n      <use x=\"468.847656\" xlink:href=\"#DejaVuSans-103\"/>\n      <use x=\"532.324219\" xlink:href=\"#DejaVuSans-116\"/>\n      <use x=\"571.533203\" xlink:href=\"#DejaVuSans-104\"/>\n     </g>\n    </g>\n   </g>\n   <g id=\"matplotlib.axis_2\">\n    <g id=\"ytick_1\">\n     <g id=\"line2d_3\">\n      <defs>\n       <path d=\"M 0 0 \nL -3.5 0 \n\" id=\"mf8054ca56d\" style=\"stroke:#000000;stroke-width:0.8;\"/>\n      </defs>\n      <g>\n       <use style=\"stroke:#000000;stroke-width:0.8;\" x=\"44.059375\" xlink:href=\"#mf8054ca56d\" y=\"160.077847\"/>\n      </g>\n     </g>\n     <g id=\"text_4\">\n      <!-- 2.0 -->\n      <defs>\n       <path d=\"M 19.1875 8.296875 \nL 53.609375 8.296875 \nL 53.609375 0 \nL 7.328125 0 \nL 7.328125 8.296875 \nQ 12.9375 14.109375 22.625 23.890625 \nQ 32.328125 33.6875 34.8125 36.53125 \nQ 39.546875 41.84375 41.421875 45.53125 \nQ 43.3125 49.21875 43.3125 52.78125 \nQ 43.3125 58.59375 39.234375 62.25 \nQ 35.15625 65.921875 28.609375 65.921875 \nQ 23.96875 65.921875 18.8125 64.3125 \nQ 13.671875 62.703125 7.8125 59.421875 \nL 7.8125 69.390625 \nQ 13.765625 71.78125 18.9375 73 \nQ 24.125 74.21875 28.421875 74.21875 \nQ 39.75 74.21875 46.484375 68.546875 \nQ 53.21875 62.890625 53.21875 53.421875 \nQ 53.21875 48.921875 51.53125 44.890625 \nQ 49.859375 40.875 45.40625 35.40625 \nQ 44.1875 33.984375 37.640625 27.21875 \nQ 31.109375 20.453125 19.1875 8.296875 \nz\n\" id=\"DejaVuSans-50\"/>\n       <path d=\"M 10.6875 12.40625 \nL 21 12.40625 \nL 21 0 \nL 10.6875 0 \nz\n\" id=\"DejaVuSans-46\"/>\n       <path d=\"M 31.78125 66.40625 \nQ 24.171875 66.40625 20.328125 58.90625 \nQ 16.5 51.421875 16.5 36.375 \nQ 16.5 21.390625 20.328125 13.890625 \nQ 24.171875 6.390625 31.78125 6.390625 \nQ 39.453125 6.390625 43.28125 13.890625 \nQ 47.125 21.390625 47.125 36.375 \nQ 47.125 51.421875 43.28125 58.90625 \nQ 39.453125 66.40625 31.78125 66.40625 \nz\nM 31.78125 74.21875 \nQ 44.046875 74.21875 50.515625 64.515625 \nQ 56.984375 54.828125 56.984375 36.375 \nQ 56.984375 17.96875 50.515625 8.265625 \nQ 44.046875 -1.421875 31.78125 -1.421875 \nQ 19.53125 -1.421875 13.0625 8.265625 \nQ 6.59375 17.96875 6.59375 36.375 \nQ 6.59375 54.828125 13.0625 64.515625 \nQ 19.53125 74.21875 31.78125 74.21875 \nz\n\" id=\"DejaVuSans-48\"/>\n      </defs>\n      <g transform=\"translate(21.15625 163.877066)scale(0.1 -0.1)\">\n       <use xlink:href=\"#DejaVuSans-50\"/>\n       <use x=\"63.623047\" xlink:href=\"#DejaVuSans-46\"/>\n       <use x=\"95.410156\" xlink:href=\"#DejaVuSans-48\"/>\n      </g>\n     </g>\n    </g>\n    <g id=\"ytick_2\">\n     <g id=\"line2d_4\">\n      <g>\n       <use style=\"stroke:#000000;stroke-width:0.8;\" x=\"44.059375\" xlink:href=\"#mf8054ca56d\" y=\"130.675043\"/>\n      </g>\n     </g>\n     <g id=\"text_5\">\n      <!-- 2.5 -->\n      <defs>\n       <path d=\"M 10.796875 72.90625 \nL 49.515625 72.90625 \nL 49.515625 64.59375 \nL 19.828125 64.59375 \nL 19.828125 46.734375 \nQ 21.96875 47.46875 24.109375 47.828125 \nQ 26.265625 48.1875 28.421875 48.1875 \nQ 40.625 48.1875 47.75 41.5 \nQ 54.890625 34.8125 54.890625 23.390625 \nQ 54.890625 11.625 47.5625 5.09375 \nQ 40.234375 -1.421875 26.90625 -1.421875 \nQ 22.3125 -1.421875 17.546875 -0.640625 \nQ 12.796875 0.140625 7.71875 1.703125 \nL 7.71875 11.625 \nQ 12.109375 9.234375 16.796875 8.0625 \nQ 21.484375 6.890625 26.703125 6.890625 \nQ 35.15625 6.890625 40.078125 11.328125 \nQ 45.015625 15.765625 45.015625 23.390625 \nQ 45.015625 31 40.078125 35.4375 \nQ 35.15625 39.890625 26.703125 39.890625 \nQ 22.75 39.890625 18.8125 39.015625 \nQ 14.890625 38.140625 10.796875 36.28125 \nz\n\" id=\"DejaVuSans-53\"/>\n      </defs>\n      <g transform=\"translate(21.15625 134.474262)scale(0.1 -0.1)\">\n       <use xlink:href=\"#DejaVuSans-50\"/>\n       <use x=\"63.623047\" xlink:href=\"#DejaVuSans-46\"/>\n       <use x=\"95.410156\" xlink:href=\"#DejaVuSans-53\"/>\n      </g>\n     </g>\n    </g>\n    <g id=\"ytick_3\">\n     <g id=\"line2d_5\">\n      <g>\n       <use style=\"stroke:#000000;stroke-width:0.8;\" x=\"44.059375\" xlink:href=\"#mf8054ca56d\" y=\"101.272239\"/>\n      </g>\n     </g>\n     <g id=\"text_6\">\n      <!-- 3.0 -->\n      <defs>\n       <path d=\"M 40.578125 39.3125 \nQ 47.65625 37.796875 51.625 33 \nQ 55.609375 28.21875 55.609375 21.1875 \nQ 55.609375 10.40625 48.1875 4.484375 \nQ 40.765625 -1.421875 27.09375 -1.421875 \nQ 22.515625 -1.421875 17.65625 -0.515625 \nQ 12.796875 0.390625 7.625 2.203125 \nL 7.625 11.71875 \nQ 11.71875 9.328125 16.59375 8.109375 \nQ 21.484375 6.890625 26.8125 6.890625 \nQ 36.078125 6.890625 40.9375 10.546875 \nQ 45.796875 14.203125 45.796875 21.1875 \nQ 45.796875 27.640625 41.28125 31.265625 \nQ 36.765625 34.90625 28.71875 34.90625 \nL 20.21875 34.90625 \nL 20.21875 43.015625 \nL 29.109375 43.015625 \nQ 36.375 43.015625 40.234375 45.921875 \nQ 44.09375 48.828125 44.09375 54.296875 \nQ 44.09375 59.90625 40.109375 62.90625 \nQ 36.140625 65.921875 28.71875 65.921875 \nQ 24.65625 65.921875 20.015625 65.03125 \nQ 15.375 64.15625 9.8125 62.3125 \nL 9.8125 71.09375 \nQ 15.4375 72.65625 20.34375 73.4375 \nQ 25.25 74.21875 29.59375 74.21875 \nQ 40.828125 74.21875 47.359375 69.109375 \nQ 53.90625 64.015625 53.90625 55.328125 \nQ 53.90625 49.265625 50.4375 45.09375 \nQ 46.96875 40.921875 40.578125 39.3125 \nz\n\" id=\"DejaVuSans-51\"/>\n      </defs>\n      <g transform=\"translate(21.15625 105.071457)scale(0.1 -0.1)\">\n       <use xlink:href=\"#DejaVuSans-51\"/>\n       <use x=\"63.623047\" xlink:href=\"#DejaVuSans-46\"/>\n       <use x=\"95.410156\" xlink:href=\"#DejaVuSans-48\"/>\n      </g>\n     </g>\n    </g>\n    <g id=\"ytick_4\">\n     <g id=\"line2d_6\">\n      <g>\n       <use style=\"stroke:#000000;stroke-width:0.8;\" x=\"44.059375\" xlink:href=\"#mf8054ca56d\" y=\"71.869434\"/>\n      </g>\n     </g>\n     <g id=\"text_7\">\n      <!-- 3.5 -->\n      <g transform=\"translate(21.15625 75.668653)scale(0.1 -0.1)\">\n       <use xlink:href=\"#DejaVuSans-51\"/>\n       <use x=\"63.623047\" xlink:href=\"#DejaVuSans-46\"/>\n       <use x=\"95.410156\" xlink:href=\"#DejaVuSans-53\"/>\n      </g>\n     </g>\n    </g>\n    <g id=\"ytick_5\">\n     <g id=\"line2d_7\">\n      <g>\n       <use style=\"stroke:#000000;stroke-width:0.8;\" x=\"44.059375\" xlink:href=\"#mf8054ca56d\" y=\"42.46663\"/>\n      </g>\n     </g>\n     <g id=\"text_8\">\n      <!-- 4.0 -->\n      <defs>\n       <path d=\"M 37.796875 64.3125 \nL 12.890625 25.390625 \nL 37.796875 25.390625 \nz\nM 35.203125 72.90625 \nL 47.609375 72.90625 \nL 47.609375 25.390625 \nL 58.015625 25.390625 \nL 58.015625 17.1875 \nL 47.609375 17.1875 \nL 47.609375 0 \nL 37.796875 0 \nL 37.796875 17.1875 \nL 4.890625 17.1875 \nL 4.890625 26.703125 \nz\n\" id=\"DejaVuSans-52\"/>\n      </defs>\n      <g transform=\"translate(21.15625 46.265849)scale(0.1 -0.1)\">\n       <use xlink:href=\"#DejaVuSans-52\"/>\n       <use x=\"63.623047\" xlink:href=\"#DejaVuSans-46\"/>\n       <use x=\"95.410156\" xlink:href=\"#DejaVuSans-48\"/>\n      </g>\n     </g>\n    </g>\n    <g id=\"ytick_6\">\n     <g id=\"line2d_8\">\n      <g>\n       <use style=\"stroke:#000000;stroke-width:0.8;\" x=\"44.059375\" xlink:href=\"#mf8054ca56d\" y=\"13.063826\"/>\n      </g>\n     </g>\n     <g id=\"text_9\">\n      <!-- 4.5 -->\n      <g transform=\"translate(21.15625 16.863045)scale(0.1 -0.1)\">\n       <use xlink:href=\"#DejaVuSans-52\"/>\n       <use x=\"63.623047\" xlink:href=\"#DejaVuSans-46\"/>\n       <use x=\"95.410156\" xlink:href=\"#DejaVuSans-53\"/>\n      </g>\n     </g>\n    </g>\n    <g id=\"text_10\">\n     <!-- sepal_width -->\n     <defs>\n      <path d=\"M 4.203125 54.6875 \nL 13.1875 54.6875 \nL 24.421875 12.015625 \nL 35.59375 54.6875 \nL 46.1875 54.6875 \nL 57.421875 12.015625 \nL 68.609375 54.6875 \nL 77.59375 54.6875 \nL 63.28125 0 \nL 52.6875 0 \nL 40.921875 44.828125 \nL 29.109375 0 \nL 18.5 0 \nz\n\" id=\"DejaVuSans-119\"/>\n      <path d=\"M 9.421875 54.6875 \nL 18.40625 54.6875 \nL 18.40625 0 \nL 9.421875 0 \nz\nM 9.421875 75.984375 \nL 18.40625 75.984375 \nL 18.40625 64.59375 \nL 9.421875 64.59375 \nz\n\" id=\"DejaVuSans-105\"/>\n      <path d=\"M 45.40625 46.390625 \nL 45.40625 75.984375 \nL 54.390625 75.984375 \nL 54.390625 0 \nL 45.40625 0 \nL 45.40625 8.203125 \nQ 42.578125 3.328125 38.25 0.953125 \nQ 33.9375 -1.421875 27.875 -1.421875 \nQ 17.96875 -1.421875 11.734375 6.484375 \nQ 5.515625 14.40625 5.515625 27.296875 \nQ 5.515625 40.1875 11.734375 48.09375 \nQ 17.96875 56 27.875 56 \nQ 33.9375 56 38.25 53.625 \nQ 42.578125 51.265625 45.40625 46.390625 \nz\nM 14.796875 27.296875 \nQ 14.796875 17.390625 18.875 11.75 \nQ 22.953125 6.109375 30.078125 6.109375 \nQ 37.203125 6.109375 41.296875 11.75 \nQ 45.40625 17.390625 45.40625 27.296875 \nQ 45.40625 37.203125 41.296875 42.84375 \nQ 37.203125 48.484375 30.078125 48.484375 \nQ 22.953125 48.484375 18.875 42.84375 \nQ 14.796875 37.203125 14.796875 27.296875 \nz\n\" id=\"DejaVuSans-100\"/>\n     </defs>\n     <g transform=\"translate(14.798438 119.786719)rotate(-90)scale(0.1 -0.1)\">\n      <use xlink:href=\"#DejaVuSans-115\"/>\n      <use x=\"52.099609\" xlink:href=\"#DejaVuSans-101\"/>\n      <use x=\"113.623047\" xlink:href=\"#DejaVuSans-112\"/>\n      <use x=\"177.099609\" xlink:href=\"#DejaVuSans-97\"/>\n      <use x=\"238.378906\" xlink:href=\"#DejaVuSans-108\"/>\n      <use x=\"266.162109\" xlink:href=\"#DejaVuSans-95\"/>\n      <use x=\"316.162109\" xlink:href=\"#DejaVuSans-119\"/>\n      <use x=\"397.949219\" xlink:href=\"#DejaVuSans-105\"/>\n      <use x=\"425.732422\" xlink:href=\"#DejaVuSans-100\"/>\n      <use x=\"489.208984\" xlink:href=\"#DejaVuSans-116\"/>\n      <use x=\"528.417969\" xlink:href=\"#DejaVuSans-104\"/>\n     </g>\n    </g>\n   </g>\n   <g id=\"patch_3\">\n    <path d=\"M 44.059375 169.69375 \nL 44.059375 10.7 \n\" style=\"fill:none;stroke:#000000;stroke-linecap:square;stroke-linejoin:miter;stroke-width:0.8;\"/>\n   </g>\n   <g id=\"patch_4\">\n    <path d=\"M 44.059375 169.69375 \nL 189.235187 169.69375 \n\" style=\"fill:none;stroke:#000000;stroke-linecap:square;stroke-linejoin:miter;stroke-width:0.8;\"/>\n   </g>\n  </g>\n  <g id=\"legend_1\">\n   <g id=\"text_11\">\n    <!-- species -->\n    <defs>\n     <path d=\"M 48.78125 52.59375 \nL 48.78125 44.1875 \nQ 44.96875 46.296875 41.140625 47.34375 \nQ 37.3125 48.390625 33.40625 48.390625 \nQ 24.65625 48.390625 19.8125 42.84375 \nQ 14.984375 37.3125 14.984375 27.296875 \nQ 14.984375 17.28125 19.8125 11.734375 \nQ 24.65625 6.203125 33.40625 6.203125 \nQ 37.3125 6.203125 41.140625 7.25 \nQ 44.96875 8.296875 48.78125 10.40625 \nL 48.78125 2.09375 \nQ 45.015625 0.34375 40.984375 -0.53125 \nQ 36.96875 -1.421875 32.421875 -1.421875 \nQ 20.0625 -1.421875 12.78125 6.34375 \nQ 5.515625 14.109375 5.515625 27.296875 \nQ 5.515625 40.671875 12.859375 48.328125 \nQ 20.21875 56 33.015625 56 \nQ 37.15625 56 41.109375 55.140625 \nQ 45.0625 54.296875 48.78125 52.59375 \nz\n\" id=\"DejaVuSans-99\"/>\n    </defs>\n    <g transform=\"translate(213.12003 84.50625)scale(0.1 -0.1)\">\n     <use xlink:href=\"#DejaVuSans-115\"/>\n     <use x=\"52.099609\" xlink:href=\"#DejaVuSans-112\"/>\n     <use x=\"115.576172\" xlink:href=\"#DejaVuSans-101\"/>\n     <use x=\"177.099609\" xlink:href=\"#DejaVuSans-99\"/>\n     <use x=\"232.080078\" xlink:href=\"#DejaVuSans-105\"/>\n     <use x=\"259.863281\" xlink:href=\"#DejaVuSans-101\"/>\n     <use x=\"321.386719\" xlink:href=\"#DejaVuSans-115\"/>\n    </g>\n   </g>\n   <g id=\"PathCollection_4\">\n    <g>\n     <use style=\"fill:#1f77b4;stroke:#1f77b4;\" x=\"203.397374\" xlink:href=\"#m37d724d56a\" y=\"96.559375\"/>\n    </g>\n   </g>\n   <g id=\"text_12\">\n    <!-- setosa -->\n    <defs>\n     <path d=\"M 30.609375 48.390625 \nQ 23.390625 48.390625 19.1875 42.75 \nQ 14.984375 37.109375 14.984375 27.296875 \nQ 14.984375 17.484375 19.15625 11.84375 \nQ 23.34375 6.203125 30.609375 6.203125 \nQ 37.796875 6.203125 41.984375 11.859375 \nQ 46.1875 17.53125 46.1875 27.296875 \nQ 46.1875 37.015625 41.984375 42.703125 \nQ 37.796875 48.390625 30.609375 48.390625 \nz\nM 30.609375 56 \nQ 42.328125 56 49.015625 48.375 \nQ 55.71875 40.765625 55.71875 27.296875 \nQ 55.71875 13.875 49.015625 6.21875 \nQ 42.328125 -1.421875 30.609375 -1.421875 \nQ 18.84375 -1.421875 12.171875 6.21875 \nQ 5.515625 13.875 5.515625 27.296875 \nQ 5.515625 40.765625 12.171875 48.375 \nQ 18.84375 56 30.609375 56 \nz\n\" id=\"DejaVuSans-111\"/>\n    </defs>\n    <g transform=\"translate(221.397374 99.184375)scale(0.1 -0.1)\">\n     <use xlink:href=\"#DejaVuSans-115\"/>\n     <use x=\"52.099609\" xlink:href=\"#DejaVuSans-101\"/>\n     <use x=\"113.623047\" xlink:href=\"#DejaVuSans-116\"/>\n     <use x=\"152.832031\" xlink:href=\"#DejaVuSans-111\"/>\n     <use x=\"214.013672\" xlink:href=\"#DejaVuSans-115\"/>\n     <use x=\"266.113281\" xlink:href=\"#DejaVuSans-97\"/>\n    </g>\n   </g>\n   <g id=\"PathCollection_5\">\n    <g>\n     <use style=\"fill:#ff7f0e;stroke:#ff7f0e;\" x=\"203.397374\" xlink:href=\"#mf9482d3c1b\" y=\"111.2375\"/>\n    </g>\n   </g>\n   <g id=\"text_13\">\n    <!-- versicolor -->\n    <defs>\n     <path d=\"M 2.984375 54.6875 \nL 12.5 54.6875 \nL 29.59375 8.796875 \nL 46.6875 54.6875 \nL 56.203125 54.6875 \nL 35.6875 0 \nL 23.484375 0 \nz\n\" id=\"DejaVuSans-118\"/>\n     <path d=\"M 41.109375 46.296875 \nQ 39.59375 47.171875 37.8125 47.578125 \nQ 36.03125 48 33.890625 48 \nQ 26.265625 48 22.1875 43.046875 \nQ 18.109375 38.09375 18.109375 28.8125 \nL 18.109375 0 \nL 9.078125 0 \nL 9.078125 54.6875 \nL 18.109375 54.6875 \nL 18.109375 46.1875 \nQ 20.953125 51.171875 25.484375 53.578125 \nQ 30.03125 56 36.53125 56 \nQ 37.453125 56 38.578125 55.875 \nQ 39.703125 55.765625 41.0625 55.515625 \nz\n\" id=\"DejaVuSans-114\"/>\n    </defs>\n    <g transform=\"translate(221.397374 113.8625)scale(0.1 -0.1)\">\n     <use xlink:href=\"#DejaVuSans-118\"/>\n     <use x=\"59.179688\" xlink:href=\"#DejaVuSans-101\"/>\n     <use x=\"120.703125\" xlink:href=\"#DejaVuSans-114\"/>\n     <use x=\"161.816406\" xlink:href=\"#DejaVuSans-115\"/>\n     <use x=\"213.916016\" xlink:href=\"#DejaVuSans-105\"/>\n     <use x=\"241.699219\" xlink:href=\"#DejaVuSans-99\"/>\n     <use x=\"296.679688\" xlink:href=\"#DejaVuSans-111\"/>\n     <use x=\"357.861328\" xlink:href=\"#DejaVuSans-108\"/>\n     <use x=\"385.644531\" xlink:href=\"#DejaVuSans-111\"/>\n     <use x=\"446.826172\" xlink:href=\"#DejaVuSans-114\"/>\n    </g>\n   </g>\n   <g id=\"PathCollection_6\">\n    <g>\n     <use style=\"fill:#2ca02c;stroke:#2ca02c;\" x=\"203.397374\" xlink:href=\"#m2c27eecdac\" y=\"125.915625\"/>\n    </g>\n   </g>\n   <g id=\"text_14\">\n    <!-- virginica -->\n    <g transform=\"translate(221.397374 128.540625)scale(0.1 -0.1)\">\n     <use xlink:href=\"#DejaVuSans-118\"/>\n     <use x=\"59.179688\" xlink:href=\"#DejaVuSans-105\"/>\n     <use x=\"86.962891\" xlink:href=\"#DejaVuSans-114\"/>\n     <use x=\"128.060547\" xlink:href=\"#DejaVuSans-103\"/>\n     <use x=\"191.537109\" xlink:href=\"#DejaVuSans-105\"/>\n     <use x=\"219.320312\" xlink:href=\"#DejaVuSans-110\"/>\n     <use x=\"282.699219\" xlink:href=\"#DejaVuSans-105\"/>\n     <use x=\"310.482422\" xlink:href=\"#DejaVuSans-99\"/>\n     <use x=\"365.462891\" xlink:href=\"#DejaVuSans-97\"/>\n    </g>\n   </g>\n  </g>\n </g>\n <defs>\n  <clipPath id=\"p2d6dea7ae5\">\n   <rect height=\"158.99375\" width=\"145.175812\" x=\"44.059375\" y=\"10.7\"/>\n  </clipPath>\n </defs>\n</svg>\n"
          },
          "metadata": {
            "tags": []
          }
        }
      ]
    },
    {
      "cell_type": "markdown",
      "metadata": {
        "id": "kyW1KUbYqBWe",
        "colab_type": "text"
      },
      "source": [
        "Aynı şekilde taç yaprak uzunluk ve genişliklerini bitki türleriyle birlikte çizdirelim."
      ]
    },
    {
      "cell_type": "code",
      "metadata": {
        "id": "c8-m_zzjeSof",
        "colab_type": "code",
        "outputId": "31e02730-3111-4af7-f122-a4996669e158",
        "colab": {
          "base_uri": "https://localhost:8080/",
          "height": 297
        }
      },
      "source": [
        "sns.FacetGrid(iris, hue = \"species\").map(plt.scatter, \n",
        "                                         \"petal_length\", \n",
        "                                         \"petal_width\").add_legend()\n",
        "\n",
        "plt.show()"
      ],
      "execution_count": 14,
      "outputs": [
        {
          "output_type": "display_data",
          "data": {
            "text/plain": [
              "<Figure size 300.75x216 with 1 Axes>"
            ],
            "image/svg+xml": "<?xml version=\"1.0\" encoding=\"utf-8\" standalone=\"no\"?>\n<!DOCTYPE svg PUBLIC \"-//W3C//DTD SVG 1.1//EN\"\n  \"http://www.w3.org/Graphics/SVG/1.1/DTD/svg11.dtd\">\n<!-- Created with matplotlib (https://matplotlib.org/) -->\n<svg height=\"207.528125pt\" version=\"1.1\" viewBox=\"0 0 279.192687 207.528125\" width=\"279.192687pt\" xmlns=\"http://www.w3.org/2000/svg\" xmlns:xlink=\"http://www.w3.org/1999/xlink\">\n <defs>\n  <style type=\"text/css\">\n*{stroke-linecap:butt;stroke-linejoin:round;}\n  </style>\n </defs>\n <g id=\"figure_1\">\n  <g id=\"patch_1\">\n   <path d=\"M 0 207.528125 \nL 279.192687 207.528125 \nL 279.192687 0 \nL 0 0 \nz\n\" style=\"fill:none;\"/>\n  </g>\n  <g id=\"axes_1\">\n   <g id=\"patch_2\">\n    <path d=\"M 44.059375 169.69375 \nL 189.235187 169.69375 \nL 189.235187 10.7 \nL 44.059375 10.7 \nz\n\" style=\"fill:#ffffff;\"/>\n   </g>\n   <g id=\"PathCollection_1\">\n    <defs>\n     <path d=\"M 0 3 \nC 0.795609 3 1.55874 2.683901 2.12132 2.12132 \nC 2.683901 1.55874 3 0.795609 3 0 \nC 3 -0.795609 2.683901 -1.55874 2.12132 -2.12132 \nC 1.55874 -2.683901 0.795609 -3 0 -3 \nC -0.795609 -3 -1.55874 -2.683901 -2.12132 -2.12132 \nC -2.683901 -1.55874 -3 -0.795609 -3 0 \nC -3 0.795609 -2.683901 1.55874 -2.12132 2.12132 \nC -1.55874 2.683901 -0.795609 3 0 3 \nz\n\" id=\"m22364b1a0a\" style=\"stroke:#1f77b4;\"/>\n    </defs>\n    <g clip-path=\"url(#pe263cfe71b)\">\n     <use style=\"fill:#1f77b4;stroke:#1f77b4;\" x=\"59.85744\" xlink:href=\"#m22364b1a0a\" y=\"155.546989\"/>\n     <use style=\"fill:#1f77b4;stroke:#1f77b4;\" x=\"59.85744\" xlink:href=\"#m22364b1a0a\" y=\"155.546989\"/>\n     <use style=\"fill:#1f77b4;stroke:#1f77b4;\" x=\"57.658465\" xlink:href=\"#m22364b1a0a\" y=\"155.546989\"/>\n     <use style=\"fill:#1f77b4;stroke:#1f77b4;\" x=\"62.056414\" xlink:href=\"#m22364b1a0a\" y=\"155.546989\"/>\n     <use style=\"fill:#1f77b4;stroke:#1f77b4;\" x=\"59.85744\" xlink:href=\"#m22364b1a0a\" y=\"155.546989\"/>\n     <use style=\"fill:#1f77b4;stroke:#1f77b4;\" x=\"66.454363\" xlink:href=\"#m22364b1a0a\" y=\"143.748676\"/>\n     <use style=\"fill:#1f77b4;stroke:#1f77b4;\" x=\"59.85744\" xlink:href=\"#m22364b1a0a\" y=\"149.647833\"/>\n     <use style=\"fill:#1f77b4;stroke:#1f77b4;\" x=\"62.056414\" xlink:href=\"#m22364b1a0a\" y=\"155.546989\"/>\n     <use style=\"fill:#1f77b4;stroke:#1f77b4;\" x=\"59.85744\" xlink:href=\"#m22364b1a0a\" y=\"155.546989\"/>\n     <use style=\"fill:#1f77b4;stroke:#1f77b4;\" x=\"62.056414\" xlink:href=\"#m22364b1a0a\" y=\"161.446146\"/>\n     <use style=\"fill:#1f77b4;stroke:#1f77b4;\" x=\"62.056414\" xlink:href=\"#m22364b1a0a\" y=\"155.546989\"/>\n     <use style=\"fill:#1f77b4;stroke:#1f77b4;\" x=\"64.255389\" xlink:href=\"#m22364b1a0a\" y=\"155.546989\"/>\n     <use style=\"fill:#1f77b4;stroke:#1f77b4;\" x=\"59.85744\" xlink:href=\"#m22364b1a0a\" y=\"161.446146\"/>\n     <use style=\"fill:#1f77b4;stroke:#1f77b4;\" x=\"53.260516\" xlink:href=\"#m22364b1a0a\" y=\"161.446146\"/>\n     <use style=\"fill:#1f77b4;stroke:#1f77b4;\" x=\"55.45949\" xlink:href=\"#m22364b1a0a\" y=\"155.546989\"/>\n     <use style=\"fill:#1f77b4;stroke:#1f77b4;\" x=\"62.056414\" xlink:href=\"#m22364b1a0a\" y=\"143.748676\"/>\n     <use style=\"fill:#1f77b4;stroke:#1f77b4;\" x=\"57.658465\" xlink:href=\"#m22364b1a0a\" y=\"143.748676\"/>\n     <use style=\"fill:#1f77b4;stroke:#1f77b4;\" x=\"59.85744\" xlink:href=\"#m22364b1a0a\" y=\"149.647833\"/>\n     <use style=\"fill:#1f77b4;stroke:#1f77b4;\" x=\"66.454363\" xlink:href=\"#m22364b1a0a\" y=\"149.647833\"/>\n     <use style=\"fill:#1f77b4;stroke:#1f77b4;\" x=\"62.056414\" xlink:href=\"#m22364b1a0a\" y=\"149.647833\"/>\n     <use style=\"fill:#1f77b4;stroke:#1f77b4;\" x=\"66.454363\" xlink:href=\"#m22364b1a0a\" y=\"155.546989\"/>\n     <use style=\"fill:#1f77b4;stroke:#1f77b4;\" x=\"62.056414\" xlink:href=\"#m22364b1a0a\" y=\"143.748676\"/>\n     <use style=\"fill:#1f77b4;stroke:#1f77b4;\" x=\"51.061541\" xlink:href=\"#m22364b1a0a\" y=\"155.546989\"/>\n     <use style=\"fill:#1f77b4;stroke:#1f77b4;\" x=\"66.454363\" xlink:href=\"#m22364b1a0a\" y=\"137.849519\"/>\n     <use style=\"fill:#1f77b4;stroke:#1f77b4;\" x=\"70.852312\" xlink:href=\"#m22364b1a0a\" y=\"155.546989\"/>\n     <use style=\"fill:#1f77b4;stroke:#1f77b4;\" x=\"64.255389\" xlink:href=\"#m22364b1a0a\" y=\"155.546989\"/>\n     <use style=\"fill:#1f77b4;stroke:#1f77b4;\" x=\"64.255389\" xlink:href=\"#m22364b1a0a\" y=\"143.748676\"/>\n     <use style=\"fill:#1f77b4;stroke:#1f77b4;\" x=\"62.056414\" xlink:href=\"#m22364b1a0a\" y=\"155.546989\"/>\n     <use style=\"fill:#1f77b4;stroke:#1f77b4;\" x=\"59.85744\" xlink:href=\"#m22364b1a0a\" y=\"155.546989\"/>\n     <use style=\"fill:#1f77b4;stroke:#1f77b4;\" x=\"64.255389\" xlink:href=\"#m22364b1a0a\" y=\"155.546989\"/>\n     <use style=\"fill:#1f77b4;stroke:#1f77b4;\" x=\"64.255389\" xlink:href=\"#m22364b1a0a\" y=\"155.546989\"/>\n     <use style=\"fill:#1f77b4;stroke:#1f77b4;\" x=\"62.056414\" xlink:href=\"#m22364b1a0a\" y=\"143.748676\"/>\n     <use style=\"fill:#1f77b4;stroke:#1f77b4;\" x=\"62.056414\" xlink:href=\"#m22364b1a0a\" y=\"161.446146\"/>\n     <use style=\"fill:#1f77b4;stroke:#1f77b4;\" x=\"59.85744\" xlink:href=\"#m22364b1a0a\" y=\"155.546989\"/>\n     <use style=\"fill:#1f77b4;stroke:#1f77b4;\" x=\"62.056414\" xlink:href=\"#m22364b1a0a\" y=\"161.446146\"/>\n     <use style=\"fill:#1f77b4;stroke:#1f77b4;\" x=\"55.45949\" xlink:href=\"#m22364b1a0a\" y=\"155.546989\"/>\n     <use style=\"fill:#1f77b4;stroke:#1f77b4;\" x=\"57.658465\" xlink:href=\"#m22364b1a0a\" y=\"155.546989\"/>\n     <use style=\"fill:#1f77b4;stroke:#1f77b4;\" x=\"62.056414\" xlink:href=\"#m22364b1a0a\" y=\"161.446146\"/>\n     <use style=\"fill:#1f77b4;stroke:#1f77b4;\" x=\"57.658465\" xlink:href=\"#m22364b1a0a\" y=\"155.546989\"/>\n     <use style=\"fill:#1f77b4;stroke:#1f77b4;\" x=\"62.056414\" xlink:href=\"#m22364b1a0a\" y=\"155.546989\"/>\n     <use style=\"fill:#1f77b4;stroke:#1f77b4;\" x=\"57.658465\" xlink:href=\"#m22364b1a0a\" y=\"149.647833\"/>\n     <use style=\"fill:#1f77b4;stroke:#1f77b4;\" x=\"57.658465\" xlink:href=\"#m22364b1a0a\" y=\"149.647833\"/>\n     <use style=\"fill:#1f77b4;stroke:#1f77b4;\" x=\"57.658465\" xlink:href=\"#m22364b1a0a\" y=\"155.546989\"/>\n     <use style=\"fill:#1f77b4;stroke:#1f77b4;\" x=\"64.255389\" xlink:href=\"#m22364b1a0a\" y=\"131.950362\"/>\n     <use style=\"fill:#1f77b4;stroke:#1f77b4;\" x=\"70.852312\" xlink:href=\"#m22364b1a0a\" y=\"143.748676\"/>\n     <use style=\"fill:#1f77b4;stroke:#1f77b4;\" x=\"59.85744\" xlink:href=\"#m22364b1a0a\" y=\"149.647833\"/>\n     <use style=\"fill:#1f77b4;stroke:#1f77b4;\" x=\"64.255389\" xlink:href=\"#m22364b1a0a\" y=\"155.546989\"/>\n     <use style=\"fill:#1f77b4;stroke:#1f77b4;\" x=\"59.85744\" xlink:href=\"#m22364b1a0a\" y=\"155.546989\"/>\n     <use style=\"fill:#1f77b4;stroke:#1f77b4;\" x=\"62.056414\" xlink:href=\"#m22364b1a0a\" y=\"155.546989\"/>\n     <use style=\"fill:#1f77b4;stroke:#1f77b4;\" x=\"59.85744\" xlink:href=\"#m22364b1a0a\" y=\"155.546989\"/>\n    </g>\n   </g>\n   <g id=\"PathCollection_2\">\n    <defs>\n     <path d=\"M 0 3 \nC 0.795609 3 1.55874 2.683901 2.12132 2.12132 \nC 2.683901 1.55874 3 0.795609 3 0 \nC 3 -0.795609 2.683901 -1.55874 2.12132 -2.12132 \nC 1.55874 -2.683901 0.795609 -3 0 -3 \nC -0.795609 -3 -1.55874 -2.683901 -2.12132 -2.12132 \nC -2.683901 -1.55874 -3 -0.795609 -3 0 \nC -3 0.795609 -2.683901 1.55874 -2.12132 2.12132 \nC -1.55874 2.683901 -0.795609 3 0 3 \nz\n\" id=\"m74cfe3dac1\" style=\"stroke:#ff7f0e;\"/>\n    </defs>\n    <g clip-path=\"url(#pe263cfe71b)\">\n     <use style=\"fill:#ff7f0e;stroke:#ff7f0e;\" x=\"132.4236\" xlink:href=\"#m74cfe3dac1\" y=\"84.757109\"/>\n     <use style=\"fill:#ff7f0e;stroke:#ff7f0e;\" x=\"128.025651\" xlink:href=\"#m74cfe3dac1\" y=\"78.857952\"/>\n     <use style=\"fill:#ff7f0e;stroke:#ff7f0e;\" x=\"136.821549\" xlink:href=\"#m74cfe3dac1\" y=\"78.857952\"/>\n     <use style=\"fill:#ff7f0e;stroke:#ff7f0e;\" x=\"117.030778\" xlink:href=\"#m74cfe3dac1\" y=\"90.656266\"/>\n     <use style=\"fill:#ff7f0e;stroke:#ff7f0e;\" x=\"130.224626\" xlink:href=\"#m74cfe3dac1\" y=\"78.857952\"/>\n     <use style=\"fill:#ff7f0e;stroke:#ff7f0e;\" x=\"128.025651\" xlink:href=\"#m74cfe3dac1\" y=\"90.656266\"/>\n     <use style=\"fill:#ff7f0e;stroke:#ff7f0e;\" x=\"132.4236\" xlink:href=\"#m74cfe3dac1\" y=\"72.958795\"/>\n     <use style=\"fill:#ff7f0e;stroke:#ff7f0e;\" x=\"101.637956\" xlink:href=\"#m74cfe3dac1\" y=\"108.353736\"/>\n     <use style=\"fill:#ff7f0e;stroke:#ff7f0e;\" x=\"130.224626\" xlink:href=\"#m74cfe3dac1\" y=\"90.656266\"/>\n     <use style=\"fill:#ff7f0e;stroke:#ff7f0e;\" x=\"114.831804\" xlink:href=\"#m74cfe3dac1\" y=\"84.757109\"/>\n     <use style=\"fill:#ff7f0e;stroke:#ff7f0e;\" x=\"106.035905\" xlink:href=\"#m74cfe3dac1\" y=\"108.353736\"/>\n     <use style=\"fill:#ff7f0e;stroke:#ff7f0e;\" x=\"121.428727\" xlink:href=\"#m74cfe3dac1\" y=\"78.857952\"/>\n     <use style=\"fill:#ff7f0e;stroke:#ff7f0e;\" x=\"117.030778\" xlink:href=\"#m74cfe3dac1\" y=\"108.353736\"/>\n     <use style=\"fill:#ff7f0e;stroke:#ff7f0e;\" x=\"132.4236\" xlink:href=\"#m74cfe3dac1\" y=\"84.757109\"/>\n     <use style=\"fill:#ff7f0e;stroke:#ff7f0e;\" x=\"108.23488\" xlink:href=\"#m74cfe3dac1\" y=\"90.656266\"/>\n     <use style=\"fill:#ff7f0e;stroke:#ff7f0e;\" x=\"125.826677\" xlink:href=\"#m74cfe3dac1\" y=\"84.757109\"/>\n     <use style=\"fill:#ff7f0e;stroke:#ff7f0e;\" x=\"128.025651\" xlink:href=\"#m74cfe3dac1\" y=\"78.857952\"/>\n     <use style=\"fill:#ff7f0e;stroke:#ff7f0e;\" x=\"119.229753\" xlink:href=\"#m74cfe3dac1\" y=\"108.353736\"/>\n     <use style=\"fill:#ff7f0e;stroke:#ff7f0e;\" x=\"128.025651\" xlink:href=\"#m74cfe3dac1\" y=\"78.857952\"/>\n     <use style=\"fill:#ff7f0e;stroke:#ff7f0e;\" x=\"114.831804\" xlink:href=\"#m74cfe3dac1\" y=\"102.454579\"/>\n     <use style=\"fill:#ff7f0e;stroke:#ff7f0e;\" x=\"134.622575\" xlink:href=\"#m74cfe3dac1\" y=\"61.160482\"/>\n     <use style=\"fill:#ff7f0e;stroke:#ff7f0e;\" x=\"117.030778\" xlink:href=\"#m74cfe3dac1\" y=\"90.656266\"/>\n     <use style=\"fill:#ff7f0e;stroke:#ff7f0e;\" x=\"136.821549\" xlink:href=\"#m74cfe3dac1\" y=\"78.857952\"/>\n     <use style=\"fill:#ff7f0e;stroke:#ff7f0e;\" x=\"132.4236\" xlink:href=\"#m74cfe3dac1\" y=\"96.555422\"/>\n     <use style=\"fill:#ff7f0e;stroke:#ff7f0e;\" x=\"123.627702\" xlink:href=\"#m74cfe3dac1\" y=\"90.656266\"/>\n     <use style=\"fill:#ff7f0e;stroke:#ff7f0e;\" x=\"125.826677\" xlink:href=\"#m74cfe3dac1\" y=\"84.757109\"/>\n     <use style=\"fill:#ff7f0e;stroke:#ff7f0e;\" x=\"134.622575\" xlink:href=\"#m74cfe3dac1\" y=\"84.757109\"/>\n     <use style=\"fill:#ff7f0e;stroke:#ff7f0e;\" x=\"139.020524\" xlink:href=\"#m74cfe3dac1\" y=\"67.059639\"/>\n     <use style=\"fill:#ff7f0e;stroke:#ff7f0e;\" x=\"128.025651\" xlink:href=\"#m74cfe3dac1\" y=\"78.857952\"/>\n     <use style=\"fill:#ff7f0e;stroke:#ff7f0e;\" x=\"106.035905\" xlink:href=\"#m74cfe3dac1\" y=\"108.353736\"/>\n     <use style=\"fill:#ff7f0e;stroke:#ff7f0e;\" x=\"112.632829\" xlink:href=\"#m74cfe3dac1\" y=\"102.454579\"/>\n     <use style=\"fill:#ff7f0e;stroke:#ff7f0e;\" x=\"110.433855\" xlink:href=\"#m74cfe3dac1\" y=\"108.353736\"/>\n     <use style=\"fill:#ff7f0e;stroke:#ff7f0e;\" x=\"114.831804\" xlink:href=\"#m74cfe3dac1\" y=\"96.555422\"/>\n     <use style=\"fill:#ff7f0e;stroke:#ff7f0e;\" x=\"141.219499\" xlink:href=\"#m74cfe3dac1\" y=\"72.958795\"/>\n     <use style=\"fill:#ff7f0e;stroke:#ff7f0e;\" x=\"128.025651\" xlink:href=\"#m74cfe3dac1\" y=\"78.857952\"/>\n     <use style=\"fill:#ff7f0e;stroke:#ff7f0e;\" x=\"128.025651\" xlink:href=\"#m74cfe3dac1\" y=\"72.958795\"/>\n     <use style=\"fill:#ff7f0e;stroke:#ff7f0e;\" x=\"132.4236\" xlink:href=\"#m74cfe3dac1\" y=\"78.857952\"/>\n     <use style=\"fill:#ff7f0e;stroke:#ff7f0e;\" x=\"125.826677\" xlink:href=\"#m74cfe3dac1\" y=\"90.656266\"/>\n     <use style=\"fill:#ff7f0e;stroke:#ff7f0e;\" x=\"119.229753\" xlink:href=\"#m74cfe3dac1\" y=\"90.656266\"/>\n     <use style=\"fill:#ff7f0e;stroke:#ff7f0e;\" x=\"117.030778\" xlink:href=\"#m74cfe3dac1\" y=\"90.656266\"/>\n     <use style=\"fill:#ff7f0e;stroke:#ff7f0e;\" x=\"125.826677\" xlink:href=\"#m74cfe3dac1\" y=\"96.555422\"/>\n     <use style=\"fill:#ff7f0e;stroke:#ff7f0e;\" x=\"130.224626\" xlink:href=\"#m74cfe3dac1\" y=\"84.757109\"/>\n     <use style=\"fill:#ff7f0e;stroke:#ff7f0e;\" x=\"117.030778\" xlink:href=\"#m74cfe3dac1\" y=\"96.555422\"/>\n     <use style=\"fill:#ff7f0e;stroke:#ff7f0e;\" x=\"101.637956\" xlink:href=\"#m74cfe3dac1\" y=\"108.353736\"/>\n     <use style=\"fill:#ff7f0e;stroke:#ff7f0e;\" x=\"121.428727\" xlink:href=\"#m74cfe3dac1\" y=\"90.656266\"/>\n     <use style=\"fill:#ff7f0e;stroke:#ff7f0e;\" x=\"121.428727\" xlink:href=\"#m74cfe3dac1\" y=\"96.555422\"/>\n     <use style=\"fill:#ff7f0e;stroke:#ff7f0e;\" x=\"121.428727\" xlink:href=\"#m74cfe3dac1\" y=\"90.656266\"/>\n     <use style=\"fill:#ff7f0e;stroke:#ff7f0e;\" x=\"123.627702\" xlink:href=\"#m74cfe3dac1\" y=\"90.656266\"/>\n     <use style=\"fill:#ff7f0e;stroke:#ff7f0e;\" x=\"95.041033\" xlink:href=\"#m74cfe3dac1\" y=\"102.454579\"/>\n     <use style=\"fill:#ff7f0e;stroke:#ff7f0e;\" x=\"119.229753\" xlink:href=\"#m74cfe3dac1\" y=\"90.656266\"/>\n    </g>\n   </g>\n   <g id=\"PathCollection_3\">\n    <defs>\n     <path d=\"M 0 3 \nC 0.795609 3 1.55874 2.683901 2.12132 2.12132 \nC 2.683901 1.55874 3 0.795609 3 0 \nC 3 -0.795609 2.683901 -1.55874 2.12132 -2.12132 \nC 1.55874 -2.683901 0.795609 -3 0 -3 \nC -0.795609 -3 -1.55874 -2.683901 -2.12132 -2.12132 \nC -2.683901 -1.55874 -3 -0.795609 -3 0 \nC -3 0.795609 -2.683901 1.55874 -2.12132 2.12132 \nC -1.55874 2.683901 -0.795609 3 0 3 \nz\n\" id=\"m07938b4390\" style=\"stroke:#2ca02c;\"/>\n    </defs>\n    <g clip-path=\"url(#pe263cfe71b)\">\n     <use style=\"fill:#2ca02c;stroke:#2ca02c;\" x=\"161.01027\" xlink:href=\"#m07938b4390\" y=\"19.866385\"/>\n     <use style=\"fill:#2ca02c;stroke:#2ca02c;\" x=\"141.219499\" xlink:href=\"#m07938b4390\" y=\"55.261325\"/>\n     <use style=\"fill:#2ca02c;stroke:#2ca02c;\" x=\"158.811295\" xlink:href=\"#m07938b4390\" y=\"43.463012\"/>\n     <use style=\"fill:#2ca02c;stroke:#2ca02c;\" x=\"152.214371\" xlink:href=\"#m07938b4390\" y=\"61.160482\"/>\n     <use style=\"fill:#2ca02c;stroke:#2ca02c;\" x=\"156.612321\" xlink:href=\"#m07938b4390\" y=\"37.563855\"/>\n     <use style=\"fill:#2ca02c;stroke:#2ca02c;\" x=\"174.204117\" xlink:href=\"#m07938b4390\" y=\"43.463012\"/>\n     <use style=\"fill:#2ca02c;stroke:#2ca02c;\" x=\"128.025651\" xlink:href=\"#m07938b4390\" y=\"67.059639\"/>\n     <use style=\"fill:#2ca02c;stroke:#2ca02c;\" x=\"167.607193\" xlink:href=\"#m07938b4390\" y=\"61.160482\"/>\n     <use style=\"fill:#2ca02c;stroke:#2ca02c;\" x=\"156.612321\" xlink:href=\"#m07938b4390\" y=\"61.160482\"/>\n     <use style=\"fill:#2ca02c;stroke:#2ca02c;\" x=\"163.209244\" xlink:href=\"#m07938b4390\" y=\"19.866385\"/>\n     <use style=\"fill:#2ca02c;stroke:#2ca02c;\" x=\"141.219499\" xlink:href=\"#m07938b4390\" y=\"49.362169\"/>\n     <use style=\"fill:#2ca02c;stroke:#2ca02c;\" x=\"145.617448\" xlink:href=\"#m07938b4390\" y=\"55.261325\"/>\n     <use style=\"fill:#2ca02c;stroke:#2ca02c;\" x=\"150.015397\" xlink:href=\"#m07938b4390\" y=\"43.463012\"/>\n     <use style=\"fill:#2ca02c;stroke:#2ca02c;\" x=\"139.020524\" xlink:href=\"#m07938b4390\" y=\"49.362169\"/>\n     <use style=\"fill:#2ca02c;stroke:#2ca02c;\" x=\"141.219499\" xlink:href=\"#m07938b4390\" y=\"25.765542\"/>\n     <use style=\"fill:#2ca02c;stroke:#2ca02c;\" x=\"145.617448\" xlink:href=\"#m07938b4390\" y=\"31.664698\"/>\n     <use style=\"fill:#2ca02c;stroke:#2ca02c;\" x=\"150.015397\" xlink:href=\"#m07938b4390\" y=\"61.160482\"/>\n     <use style=\"fill:#2ca02c;stroke:#2ca02c;\" x=\"176.403092\" xlink:href=\"#m07938b4390\" y=\"37.563855\"/>\n     <use style=\"fill:#2ca02c;stroke:#2ca02c;\" x=\"180.801041\" xlink:href=\"#m07938b4390\" y=\"31.664698\"/>\n     <use style=\"fill:#2ca02c;stroke:#2ca02c;\" x=\"139.020524\" xlink:href=\"#m07938b4390\" y=\"78.857952\"/>\n     <use style=\"fill:#2ca02c;stroke:#2ca02c;\" x=\"154.413346\" xlink:href=\"#m07938b4390\" y=\"31.664698\"/>\n     <use style=\"fill:#2ca02c;stroke:#2ca02c;\" x=\"136.821549\" xlink:href=\"#m07938b4390\" y=\"49.362169\"/>\n     <use style=\"fill:#2ca02c;stroke:#2ca02c;\" x=\"176.403092\" xlink:href=\"#m07938b4390\" y=\"49.362169\"/>\n     <use style=\"fill:#2ca02c;stroke:#2ca02c;\" x=\"136.821549\" xlink:href=\"#m07938b4390\" y=\"61.160482\"/>\n     <use style=\"fill:#2ca02c;stroke:#2ca02c;\" x=\"154.413346\" xlink:href=\"#m07938b4390\" y=\"43.463012\"/>\n     <use style=\"fill:#2ca02c;stroke:#2ca02c;\" x=\"161.01027\" xlink:href=\"#m07938b4390\" y=\"61.160482\"/>\n     <use style=\"fill:#2ca02c;stroke:#2ca02c;\" x=\"134.622575\" xlink:href=\"#m07938b4390\" y=\"61.160482\"/>\n     <use style=\"fill:#2ca02c;stroke:#2ca02c;\" x=\"136.821549\" xlink:href=\"#m07938b4390\" y=\"61.160482\"/>\n     <use style=\"fill:#2ca02c;stroke:#2ca02c;\" x=\"152.214371\" xlink:href=\"#m07938b4390\" y=\"43.463012\"/>\n     <use style=\"fill:#2ca02c;stroke:#2ca02c;\" x=\"156.612321\" xlink:href=\"#m07938b4390\" y=\"72.958795\"/>\n     <use style=\"fill:#2ca02c;stroke:#2ca02c;\" x=\"163.209244\" xlink:href=\"#m07938b4390\" y=\"55.261325\"/>\n     <use style=\"fill:#2ca02c;stroke:#2ca02c;\" x=\"169.806168\" xlink:href=\"#m07938b4390\" y=\"49.362169\"/>\n     <use style=\"fill:#2ca02c;stroke:#2ca02c;\" x=\"152.214371\" xlink:href=\"#m07938b4390\" y=\"37.563855\"/>\n     <use style=\"fill:#2ca02c;stroke:#2ca02c;\" x=\"141.219499\" xlink:href=\"#m07938b4390\" y=\"78.857952\"/>\n     <use style=\"fill:#2ca02c;stroke:#2ca02c;\" x=\"152.214371\" xlink:href=\"#m07938b4390\" y=\"84.757109\"/>\n     <use style=\"fill:#2ca02c;stroke:#2ca02c;\" x=\"163.209244\" xlink:href=\"#m07938b4390\" y=\"31.664698\"/>\n     <use style=\"fill:#2ca02c;stroke:#2ca02c;\" x=\"152.214371\" xlink:href=\"#m07938b4390\" y=\"25.765542\"/>\n     <use style=\"fill:#2ca02c;stroke:#2ca02c;\" x=\"150.015397\" xlink:href=\"#m07938b4390\" y=\"61.160482\"/>\n     <use style=\"fill:#2ca02c;stroke:#2ca02c;\" x=\"134.622575\" xlink:href=\"#m07938b4390\" y=\"61.160482\"/>\n     <use style=\"fill:#2ca02c;stroke:#2ca02c;\" x=\"147.816422\" xlink:href=\"#m07938b4390\" y=\"43.463012\"/>\n     <use style=\"fill:#2ca02c;stroke:#2ca02c;\" x=\"152.214371\" xlink:href=\"#m07938b4390\" y=\"25.765542\"/>\n     <use style=\"fill:#2ca02c;stroke:#2ca02c;\" x=\"141.219499\" xlink:href=\"#m07938b4390\" y=\"31.664698\"/>\n     <use style=\"fill:#2ca02c;stroke:#2ca02c;\" x=\"141.219499\" xlink:href=\"#m07938b4390\" y=\"55.261325\"/>\n     <use style=\"fill:#2ca02c;stroke:#2ca02c;\" x=\"158.811295\" xlink:href=\"#m07938b4390\" y=\"31.664698\"/>\n     <use style=\"fill:#2ca02c;stroke:#2ca02c;\" x=\"154.413346\" xlink:href=\"#m07938b4390\" y=\"19.866385\"/>\n     <use style=\"fill:#2ca02c;stroke:#2ca02c;\" x=\"143.418473\" xlink:href=\"#m07938b4390\" y=\"31.664698\"/>\n     <use style=\"fill:#2ca02c;stroke:#2ca02c;\" x=\"139.020524\" xlink:href=\"#m07938b4390\" y=\"55.261325\"/>\n     <use style=\"fill:#2ca02c;stroke:#2ca02c;\" x=\"143.418473\" xlink:href=\"#m07938b4390\" y=\"49.362169\"/>\n     <use style=\"fill:#2ca02c;stroke:#2ca02c;\" x=\"147.816422\" xlink:href=\"#m07938b4390\" y=\"31.664698\"/>\n     <use style=\"fill:#2ca02c;stroke:#2ca02c;\" x=\"141.219499\" xlink:href=\"#m07938b4390\" y=\"61.160482\"/>\n    </g>\n   </g>\n   <g id=\"matplotlib.axis_1\">\n    <g id=\"xtick_1\">\n     <g id=\"line2d_1\">\n      <defs>\n       <path d=\"M 0 0 \nL 0 3.5 \n\" id=\"mca8fe4e9a9\" style=\"stroke:#000000;stroke-width:0.8;\"/>\n      </defs>\n      <g>\n       <use style=\"stroke:#000000;stroke-width:0.8;\" x=\"73.051287\" xlink:href=\"#mca8fe4e9a9\" y=\"169.69375\"/>\n      </g>\n     </g>\n     <g id=\"text_1\">\n      <!-- 2 -->\n      <defs>\n       <path d=\"M 19.1875 8.296875 \nL 53.609375 8.296875 \nL 53.609375 0 \nL 7.328125 0 \nL 7.328125 8.296875 \nQ 12.9375 14.109375 22.625 23.890625 \nQ 32.328125 33.6875 34.8125 36.53125 \nQ 39.546875 41.84375 41.421875 45.53125 \nQ 43.3125 49.21875 43.3125 52.78125 \nQ 43.3125 58.59375 39.234375 62.25 \nQ 35.15625 65.921875 28.609375 65.921875 \nQ 23.96875 65.921875 18.8125 64.3125 \nQ 13.671875 62.703125 7.8125 59.421875 \nL 7.8125 69.390625 \nQ 13.765625 71.78125 18.9375 73 \nQ 24.125 74.21875 28.421875 74.21875 \nQ 39.75 74.21875 46.484375 68.546875 \nQ 53.21875 62.890625 53.21875 53.421875 \nQ 53.21875 48.921875 51.53125 44.890625 \nQ 49.859375 40.875 45.40625 35.40625 \nQ 44.1875 33.984375 37.640625 27.21875 \nQ 31.109375 20.453125 19.1875 8.296875 \nz\n\" id=\"DejaVuSans-50\"/>\n      </defs>\n      <g transform=\"translate(69.870037 184.292188)scale(0.1 -0.1)\">\n       <use xlink:href=\"#DejaVuSans-50\"/>\n      </g>\n     </g>\n    </g>\n    <g id=\"xtick_2\">\n     <g id=\"line2d_2\">\n      <g>\n       <use style=\"stroke:#000000;stroke-width:0.8;\" x=\"117.030778\" xlink:href=\"#mca8fe4e9a9\" y=\"169.69375\"/>\n      </g>\n     </g>\n     <g id=\"text_2\">\n      <!-- 4 -->\n      <defs>\n       <path d=\"M 37.796875 64.3125 \nL 12.890625 25.390625 \nL 37.796875 25.390625 \nz\nM 35.203125 72.90625 \nL 47.609375 72.90625 \nL 47.609375 25.390625 \nL 58.015625 25.390625 \nL 58.015625 17.1875 \nL 47.609375 17.1875 \nL 47.609375 0 \nL 37.796875 0 \nL 37.796875 17.1875 \nL 4.890625 17.1875 \nL 4.890625 26.703125 \nz\n\" id=\"DejaVuSans-52\"/>\n      </defs>\n      <g transform=\"translate(113.849528 184.292188)scale(0.1 -0.1)\">\n       <use xlink:href=\"#DejaVuSans-52\"/>\n      </g>\n     </g>\n    </g>\n    <g id=\"xtick_3\">\n     <g id=\"line2d_3\">\n      <g>\n       <use style=\"stroke:#000000;stroke-width:0.8;\" x=\"161.01027\" xlink:href=\"#mca8fe4e9a9\" y=\"169.69375\"/>\n      </g>\n     </g>\n     <g id=\"text_3\">\n      <!-- 6 -->\n      <defs>\n       <path d=\"M 33.015625 40.375 \nQ 26.375 40.375 22.484375 35.828125 \nQ 18.609375 31.296875 18.609375 23.390625 \nQ 18.609375 15.53125 22.484375 10.953125 \nQ 26.375 6.390625 33.015625 6.390625 \nQ 39.65625 6.390625 43.53125 10.953125 \nQ 47.40625 15.53125 47.40625 23.390625 \nQ 47.40625 31.296875 43.53125 35.828125 \nQ 39.65625 40.375 33.015625 40.375 \nz\nM 52.59375 71.296875 \nL 52.59375 62.3125 \nQ 48.875 64.0625 45.09375 64.984375 \nQ 41.3125 65.921875 37.59375 65.921875 \nQ 27.828125 65.921875 22.671875 59.328125 \nQ 17.53125 52.734375 16.796875 39.40625 \nQ 19.671875 43.65625 24.015625 45.921875 \nQ 28.375 48.1875 33.59375 48.1875 \nQ 44.578125 48.1875 50.953125 41.515625 \nQ 57.328125 34.859375 57.328125 23.390625 \nQ 57.328125 12.15625 50.6875 5.359375 \nQ 44.046875 -1.421875 33.015625 -1.421875 \nQ 20.359375 -1.421875 13.671875 8.265625 \nQ 6.984375 17.96875 6.984375 36.375 \nQ 6.984375 53.65625 15.1875 63.9375 \nQ 23.390625 74.21875 37.203125 74.21875 \nQ 40.921875 74.21875 44.703125 73.484375 \nQ 48.484375 72.75 52.59375 71.296875 \nz\n\" id=\"DejaVuSans-54\"/>\n      </defs>\n      <g transform=\"translate(157.82902 184.292188)scale(0.1 -0.1)\">\n       <use xlink:href=\"#DejaVuSans-54\"/>\n      </g>\n     </g>\n    </g>\n    <g id=\"text_4\">\n     <!-- petal_length -->\n     <defs>\n      <path d=\"M 18.109375 8.203125 \nL 18.109375 -20.796875 \nL 9.078125 -20.796875 \nL 9.078125 54.6875 \nL 18.109375 54.6875 \nL 18.109375 46.390625 \nQ 20.953125 51.265625 25.265625 53.625 \nQ 29.59375 56 35.59375 56 \nQ 45.5625 56 51.78125 48.09375 \nQ 58.015625 40.1875 58.015625 27.296875 \nQ 58.015625 14.40625 51.78125 6.484375 \nQ 45.5625 -1.421875 35.59375 -1.421875 \nQ 29.59375 -1.421875 25.265625 0.953125 \nQ 20.953125 3.328125 18.109375 8.203125 \nz\nM 48.6875 27.296875 \nQ 48.6875 37.203125 44.609375 42.84375 \nQ 40.53125 48.484375 33.40625 48.484375 \nQ 26.265625 48.484375 22.1875 42.84375 \nQ 18.109375 37.203125 18.109375 27.296875 \nQ 18.109375 17.390625 22.1875 11.75 \nQ 26.265625 6.109375 33.40625 6.109375 \nQ 40.53125 6.109375 44.609375 11.75 \nQ 48.6875 17.390625 48.6875 27.296875 \nz\n\" id=\"DejaVuSans-112\"/>\n      <path d=\"M 56.203125 29.59375 \nL 56.203125 25.203125 \nL 14.890625 25.203125 \nQ 15.484375 15.921875 20.484375 11.0625 \nQ 25.484375 6.203125 34.421875 6.203125 \nQ 39.59375 6.203125 44.453125 7.46875 \nQ 49.3125 8.734375 54.109375 11.28125 \nL 54.109375 2.78125 \nQ 49.265625 0.734375 44.1875 -0.34375 \nQ 39.109375 -1.421875 33.890625 -1.421875 \nQ 20.796875 -1.421875 13.15625 6.1875 \nQ 5.515625 13.8125 5.515625 26.8125 \nQ 5.515625 40.234375 12.765625 48.109375 \nQ 20.015625 56 32.328125 56 \nQ 43.359375 56 49.78125 48.890625 \nQ 56.203125 41.796875 56.203125 29.59375 \nz\nM 47.21875 32.234375 \nQ 47.125 39.59375 43.09375 43.984375 \nQ 39.0625 48.390625 32.421875 48.390625 \nQ 24.90625 48.390625 20.390625 44.140625 \nQ 15.875 39.890625 15.1875 32.171875 \nz\n\" id=\"DejaVuSans-101\"/>\n      <path d=\"M 18.3125 70.21875 \nL 18.3125 54.6875 \nL 36.8125 54.6875 \nL 36.8125 47.703125 \nL 18.3125 47.703125 \nL 18.3125 18.015625 \nQ 18.3125 11.328125 20.140625 9.421875 \nQ 21.96875 7.515625 27.59375 7.515625 \nL 36.8125 7.515625 \nL 36.8125 0 \nL 27.59375 0 \nQ 17.1875 0 13.234375 3.875 \nQ 9.28125 7.765625 9.28125 18.015625 \nL 9.28125 47.703125 \nL 2.6875 47.703125 \nL 2.6875 54.6875 \nL 9.28125 54.6875 \nL 9.28125 70.21875 \nz\n\" id=\"DejaVuSans-116\"/>\n      <path d=\"M 34.28125 27.484375 \nQ 23.390625 27.484375 19.1875 25 \nQ 14.984375 22.515625 14.984375 16.5 \nQ 14.984375 11.71875 18.140625 8.90625 \nQ 21.296875 6.109375 26.703125 6.109375 \nQ 34.1875 6.109375 38.703125 11.40625 \nQ 43.21875 16.703125 43.21875 25.484375 \nL 43.21875 27.484375 \nz\nM 52.203125 31.203125 \nL 52.203125 0 \nL 43.21875 0 \nL 43.21875 8.296875 \nQ 40.140625 3.328125 35.546875 0.953125 \nQ 30.953125 -1.421875 24.3125 -1.421875 \nQ 15.921875 -1.421875 10.953125 3.296875 \nQ 6 8.015625 6 15.921875 \nQ 6 25.140625 12.171875 29.828125 \nQ 18.359375 34.515625 30.609375 34.515625 \nL 43.21875 34.515625 \nL 43.21875 35.40625 \nQ 43.21875 41.609375 39.140625 45 \nQ 35.0625 48.390625 27.6875 48.390625 \nQ 23 48.390625 18.546875 47.265625 \nQ 14.109375 46.140625 10.015625 43.890625 \nL 10.015625 52.203125 \nQ 14.9375 54.109375 19.578125 55.046875 \nQ 24.21875 56 28.609375 56 \nQ 40.484375 56 46.34375 49.84375 \nQ 52.203125 43.703125 52.203125 31.203125 \nz\n\" id=\"DejaVuSans-97\"/>\n      <path d=\"M 9.421875 75.984375 \nL 18.40625 75.984375 \nL 18.40625 0 \nL 9.421875 0 \nz\n\" id=\"DejaVuSans-108\"/>\n      <path d=\"M 50.984375 -16.609375 \nL 50.984375 -23.578125 \nL -0.984375 -23.578125 \nL -0.984375 -16.609375 \nz\n\" id=\"DejaVuSans-95\"/>\n      <path d=\"M 54.890625 33.015625 \nL 54.890625 0 \nL 45.90625 0 \nL 45.90625 32.71875 \nQ 45.90625 40.484375 42.875 44.328125 \nQ 39.84375 48.1875 33.796875 48.1875 \nQ 26.515625 48.1875 22.3125 43.546875 \nQ 18.109375 38.921875 18.109375 30.90625 \nL 18.109375 0 \nL 9.078125 0 \nL 9.078125 54.6875 \nL 18.109375 54.6875 \nL 18.109375 46.1875 \nQ 21.34375 51.125 25.703125 53.5625 \nQ 30.078125 56 35.796875 56 \nQ 45.21875 56 50.046875 50.171875 \nQ 54.890625 44.34375 54.890625 33.015625 \nz\n\" id=\"DejaVuSans-110\"/>\n      <path d=\"M 45.40625 27.984375 \nQ 45.40625 37.75 41.375 43.109375 \nQ 37.359375 48.484375 30.078125 48.484375 \nQ 22.859375 48.484375 18.828125 43.109375 \nQ 14.796875 37.75 14.796875 27.984375 \nQ 14.796875 18.265625 18.828125 12.890625 \nQ 22.859375 7.515625 30.078125 7.515625 \nQ 37.359375 7.515625 41.375 12.890625 \nQ 45.40625 18.265625 45.40625 27.984375 \nz\nM 54.390625 6.78125 \nQ 54.390625 -7.171875 48.1875 -13.984375 \nQ 42 -20.796875 29.203125 -20.796875 \nQ 24.46875 -20.796875 20.265625 -20.09375 \nQ 16.0625 -19.390625 12.109375 -17.921875 \nL 12.109375 -9.1875 \nQ 16.0625 -11.328125 19.921875 -12.34375 \nQ 23.78125 -13.375 27.78125 -13.375 \nQ 36.625 -13.375 41.015625 -8.765625 \nQ 45.40625 -4.15625 45.40625 5.171875 \nL 45.40625 9.625 \nQ 42.625 4.78125 38.28125 2.390625 \nQ 33.9375 0 27.875 0 \nQ 17.828125 0 11.671875 7.65625 \nQ 5.515625 15.328125 5.515625 27.984375 \nQ 5.515625 40.671875 11.671875 48.328125 \nQ 17.828125 56 27.875 56 \nQ 33.9375 56 38.28125 53.609375 \nQ 42.625 51.21875 45.40625 46.390625 \nL 45.40625 54.6875 \nL 54.390625 54.6875 \nz\n\" id=\"DejaVuSans-103\"/>\n      <path d=\"M 54.890625 33.015625 \nL 54.890625 0 \nL 45.90625 0 \nL 45.90625 32.71875 \nQ 45.90625 40.484375 42.875 44.328125 \nQ 39.84375 48.1875 33.796875 48.1875 \nQ 26.515625 48.1875 22.3125 43.546875 \nQ 18.109375 38.921875 18.109375 30.90625 \nL 18.109375 0 \nL 9.078125 0 \nL 9.078125 75.984375 \nL 18.109375 75.984375 \nL 18.109375 46.1875 \nQ 21.34375 51.125 25.703125 53.5625 \nQ 30.078125 56 35.796875 56 \nQ 45.21875 56 50.046875 50.171875 \nQ 54.890625 44.34375 54.890625 33.015625 \nz\n\" id=\"DejaVuSans-104\"/>\n     </defs>\n     <g transform=\"translate(85.545718 197.970313)scale(0.1 -0.1)\">\n      <use xlink:href=\"#DejaVuSans-112\"/>\n      <use x=\"63.476562\" xlink:href=\"#DejaVuSans-101\"/>\n      <use x=\"125\" xlink:href=\"#DejaVuSans-116\"/>\n      <use x=\"164.208984\" xlink:href=\"#DejaVuSans-97\"/>\n      <use x=\"225.488281\" xlink:href=\"#DejaVuSans-108\"/>\n      <use x=\"253.271484\" xlink:href=\"#DejaVuSans-95\"/>\n      <use x=\"303.271484\" xlink:href=\"#DejaVuSans-108\"/>\n      <use x=\"331.054688\" xlink:href=\"#DejaVuSans-101\"/>\n      <use x=\"392.578125\" xlink:href=\"#DejaVuSans-110\"/>\n      <use x=\"455.957031\" xlink:href=\"#DejaVuSans-103\"/>\n      <use x=\"519.433594\" xlink:href=\"#DejaVuSans-116\"/>\n      <use x=\"558.642578\" xlink:href=\"#DejaVuSans-104\"/>\n     </g>\n    </g>\n   </g>\n   <g id=\"matplotlib.axis_2\">\n    <g id=\"ytick_1\">\n     <g id=\"line2d_4\">\n      <defs>\n       <path d=\"M 0 0 \nL -3.5 0 \n\" id=\"m4c59f9ba80\" style=\"stroke:#000000;stroke-width:0.8;\"/>\n      </defs>\n      <g>\n       <use style=\"stroke:#000000;stroke-width:0.8;\" x=\"44.059375\" xlink:href=\"#m4c59f9ba80\" y=\"167.345303\"/>\n      </g>\n     </g>\n     <g id=\"text_5\">\n      <!-- 0.0 -->\n      <defs>\n       <path d=\"M 31.78125 66.40625 \nQ 24.171875 66.40625 20.328125 58.90625 \nQ 16.5 51.421875 16.5 36.375 \nQ 16.5 21.390625 20.328125 13.890625 \nQ 24.171875 6.390625 31.78125 6.390625 \nQ 39.453125 6.390625 43.28125 13.890625 \nQ 47.125 21.390625 47.125 36.375 \nQ 47.125 51.421875 43.28125 58.90625 \nQ 39.453125 66.40625 31.78125 66.40625 \nz\nM 31.78125 74.21875 \nQ 44.046875 74.21875 50.515625 64.515625 \nQ 56.984375 54.828125 56.984375 36.375 \nQ 56.984375 17.96875 50.515625 8.265625 \nQ 44.046875 -1.421875 31.78125 -1.421875 \nQ 19.53125 -1.421875 13.0625 8.265625 \nQ 6.59375 17.96875 6.59375 36.375 \nQ 6.59375 54.828125 13.0625 64.515625 \nQ 19.53125 74.21875 31.78125 74.21875 \nz\n\" id=\"DejaVuSans-48\"/>\n       <path d=\"M 10.6875 12.40625 \nL 21 12.40625 \nL 21 0 \nL 10.6875 0 \nz\n\" id=\"DejaVuSans-46\"/>\n      </defs>\n      <g transform=\"translate(21.15625 171.144521)scale(0.1 -0.1)\">\n       <use xlink:href=\"#DejaVuSans-48\"/>\n       <use x=\"63.623047\" xlink:href=\"#DejaVuSans-46\"/>\n       <use x=\"95.410156\" xlink:href=\"#DejaVuSans-48\"/>\n      </g>\n     </g>\n    </g>\n    <g id=\"ytick_2\">\n     <g id=\"line2d_5\">\n      <g>\n       <use style=\"stroke:#000000;stroke-width:0.8;\" x=\"44.059375\" xlink:href=\"#m4c59f9ba80\" y=\"137.849519\"/>\n      </g>\n     </g>\n     <g id=\"text_6\">\n      <!-- 0.5 -->\n      <defs>\n       <path d=\"M 10.796875 72.90625 \nL 49.515625 72.90625 \nL 49.515625 64.59375 \nL 19.828125 64.59375 \nL 19.828125 46.734375 \nQ 21.96875 47.46875 24.109375 47.828125 \nQ 26.265625 48.1875 28.421875 48.1875 \nQ 40.625 48.1875 47.75 41.5 \nQ 54.890625 34.8125 54.890625 23.390625 \nQ 54.890625 11.625 47.5625 5.09375 \nQ 40.234375 -1.421875 26.90625 -1.421875 \nQ 22.3125 -1.421875 17.546875 -0.640625 \nQ 12.796875 0.140625 7.71875 1.703125 \nL 7.71875 11.625 \nQ 12.109375 9.234375 16.796875 8.0625 \nQ 21.484375 6.890625 26.703125 6.890625 \nQ 35.15625 6.890625 40.078125 11.328125 \nQ 45.015625 15.765625 45.015625 23.390625 \nQ 45.015625 31 40.078125 35.4375 \nQ 35.15625 39.890625 26.703125 39.890625 \nQ 22.75 39.890625 18.8125 39.015625 \nQ 14.890625 38.140625 10.796875 36.28125 \nz\n\" id=\"DejaVuSans-53\"/>\n      </defs>\n      <g transform=\"translate(21.15625 141.648738)scale(0.1 -0.1)\">\n       <use xlink:href=\"#DejaVuSans-48\"/>\n       <use x=\"63.623047\" xlink:href=\"#DejaVuSans-46\"/>\n       <use x=\"95.410156\" xlink:href=\"#DejaVuSans-53\"/>\n      </g>\n     </g>\n    </g>\n    <g id=\"ytick_3\">\n     <g id=\"line2d_6\">\n      <g>\n       <use style=\"stroke:#000000;stroke-width:0.8;\" x=\"44.059375\" xlink:href=\"#m4c59f9ba80\" y=\"108.353736\"/>\n      </g>\n     </g>\n     <g id=\"text_7\">\n      <!-- 1.0 -->\n      <defs>\n       <path d=\"M 12.40625 8.296875 \nL 28.515625 8.296875 \nL 28.515625 63.921875 \nL 10.984375 60.40625 \nL 10.984375 69.390625 \nL 28.421875 72.90625 \nL 38.28125 72.90625 \nL 38.28125 8.296875 \nL 54.390625 8.296875 \nL 54.390625 0 \nL 12.40625 0 \nz\n\" id=\"DejaVuSans-49\"/>\n      </defs>\n      <g transform=\"translate(21.15625 112.152954)scale(0.1 -0.1)\">\n       <use xlink:href=\"#DejaVuSans-49\"/>\n       <use x=\"63.623047\" xlink:href=\"#DejaVuSans-46\"/>\n       <use x=\"95.410156\" xlink:href=\"#DejaVuSans-48\"/>\n      </g>\n     </g>\n    </g>\n    <g id=\"ytick_4\">\n     <g id=\"line2d_7\">\n      <g>\n       <use style=\"stroke:#000000;stroke-width:0.8;\" x=\"44.059375\" xlink:href=\"#m4c59f9ba80\" y=\"78.857952\"/>\n      </g>\n     </g>\n     <g id=\"text_8\">\n      <!-- 1.5 -->\n      <g transform=\"translate(21.15625 82.657171)scale(0.1 -0.1)\">\n       <use xlink:href=\"#DejaVuSans-49\"/>\n       <use x=\"63.623047\" xlink:href=\"#DejaVuSans-46\"/>\n       <use x=\"95.410156\" xlink:href=\"#DejaVuSans-53\"/>\n      </g>\n     </g>\n    </g>\n    <g id=\"ytick_5\">\n     <g id=\"line2d_8\">\n      <g>\n       <use style=\"stroke:#000000;stroke-width:0.8;\" x=\"44.059375\" xlink:href=\"#m4c59f9ba80\" y=\"49.362169\"/>\n      </g>\n     </g>\n     <g id=\"text_9\">\n      <!-- 2.0 -->\n      <g transform=\"translate(21.15625 53.161387)scale(0.1 -0.1)\">\n       <use xlink:href=\"#DejaVuSans-50\"/>\n       <use x=\"63.623047\" xlink:href=\"#DejaVuSans-46\"/>\n       <use x=\"95.410156\" xlink:href=\"#DejaVuSans-48\"/>\n      </g>\n     </g>\n    </g>\n    <g id=\"ytick_6\">\n     <g id=\"line2d_9\">\n      <g>\n       <use style=\"stroke:#000000;stroke-width:0.8;\" x=\"44.059375\" xlink:href=\"#m4c59f9ba80\" y=\"19.866385\"/>\n      </g>\n     </g>\n     <g id=\"text_10\">\n      <!-- 2.5 -->\n      <g transform=\"translate(21.15625 23.665604)scale(0.1 -0.1)\">\n       <use xlink:href=\"#DejaVuSans-50\"/>\n       <use x=\"63.623047\" xlink:href=\"#DejaVuSans-46\"/>\n       <use x=\"95.410156\" xlink:href=\"#DejaVuSans-53\"/>\n      </g>\n     </g>\n    </g>\n    <g id=\"text_11\">\n     <!-- petal_width -->\n     <defs>\n      <path d=\"M 4.203125 54.6875 \nL 13.1875 54.6875 \nL 24.421875 12.015625 \nL 35.59375 54.6875 \nL 46.1875 54.6875 \nL 57.421875 12.015625 \nL 68.609375 54.6875 \nL 77.59375 54.6875 \nL 63.28125 0 \nL 52.6875 0 \nL 40.921875 44.828125 \nL 29.109375 0 \nL 18.5 0 \nz\n\" id=\"DejaVuSans-119\"/>\n      <path d=\"M 9.421875 54.6875 \nL 18.40625 54.6875 \nL 18.40625 0 \nL 9.421875 0 \nz\nM 9.421875 75.984375 \nL 18.40625 75.984375 \nL 18.40625 64.59375 \nL 9.421875 64.59375 \nz\n\" id=\"DejaVuSans-105\"/>\n      <path d=\"M 45.40625 46.390625 \nL 45.40625 75.984375 \nL 54.390625 75.984375 \nL 54.390625 0 \nL 45.40625 0 \nL 45.40625 8.203125 \nQ 42.578125 3.328125 38.25 0.953125 \nQ 33.9375 -1.421875 27.875 -1.421875 \nQ 17.96875 -1.421875 11.734375 6.484375 \nQ 5.515625 14.40625 5.515625 27.296875 \nQ 5.515625 40.1875 11.734375 48.09375 \nQ 17.96875 56 27.875 56 \nQ 33.9375 56 38.25 53.625 \nQ 42.578125 51.265625 45.40625 46.390625 \nz\nM 14.796875 27.296875 \nQ 14.796875 17.390625 18.875 11.75 \nQ 22.953125 6.109375 30.078125 6.109375 \nQ 37.203125 6.109375 41.296875 11.75 \nQ 45.40625 17.390625 45.40625 27.296875 \nQ 45.40625 37.203125 41.296875 42.84375 \nQ 37.203125 48.484375 30.078125 48.484375 \nQ 22.953125 48.484375 18.875 42.84375 \nQ 14.796875 37.203125 14.796875 27.296875 \nz\n\" id=\"DejaVuSans-100\"/>\n     </defs>\n     <g transform=\"translate(14.798438 119.142188)rotate(-90)scale(0.1 -0.1)\">\n      <use xlink:href=\"#DejaVuSans-112\"/>\n      <use x=\"63.476562\" xlink:href=\"#DejaVuSans-101\"/>\n      <use x=\"125\" xlink:href=\"#DejaVuSans-116\"/>\n      <use x=\"164.208984\" xlink:href=\"#DejaVuSans-97\"/>\n      <use x=\"225.488281\" xlink:href=\"#DejaVuSans-108\"/>\n      <use x=\"253.271484\" xlink:href=\"#DejaVuSans-95\"/>\n      <use x=\"303.271484\" xlink:href=\"#DejaVuSans-119\"/>\n      <use x=\"385.058594\" xlink:href=\"#DejaVuSans-105\"/>\n      <use x=\"412.841797\" xlink:href=\"#DejaVuSans-100\"/>\n      <use x=\"476.318359\" xlink:href=\"#DejaVuSans-116\"/>\n      <use x=\"515.527344\" xlink:href=\"#DejaVuSans-104\"/>\n     </g>\n    </g>\n   </g>\n   <g id=\"patch_3\">\n    <path d=\"M 44.059375 169.69375 \nL 44.059375 10.7 \n\" style=\"fill:none;stroke:#000000;stroke-linecap:square;stroke-linejoin:miter;stroke-width:0.8;\"/>\n   </g>\n   <g id=\"patch_4\">\n    <path d=\"M 44.059375 169.69375 \nL 189.235187 169.69375 \n\" style=\"fill:none;stroke:#000000;stroke-linecap:square;stroke-linejoin:miter;stroke-width:0.8;\"/>\n   </g>\n  </g>\n  <g id=\"legend_1\">\n   <g id=\"text_12\">\n    <!-- species -->\n    <defs>\n     <path d=\"M 44.28125 53.078125 \nL 44.28125 44.578125 \nQ 40.484375 46.53125 36.375 47.5 \nQ 32.28125 48.484375 27.875 48.484375 \nQ 21.1875 48.484375 17.84375 46.4375 \nQ 14.5 44.390625 14.5 40.28125 \nQ 14.5 37.15625 16.890625 35.375 \nQ 19.28125 33.59375 26.515625 31.984375 \nL 29.59375 31.296875 \nQ 39.15625 29.25 43.1875 25.515625 \nQ 47.21875 21.78125 47.21875 15.09375 \nQ 47.21875 7.46875 41.1875 3.015625 \nQ 35.15625 -1.421875 24.609375 -1.421875 \nQ 20.21875 -1.421875 15.453125 -0.5625 \nQ 10.6875 0.296875 5.421875 2 \nL 5.421875 11.28125 \nQ 10.40625 8.6875 15.234375 7.390625 \nQ 20.0625 6.109375 24.8125 6.109375 \nQ 31.15625 6.109375 34.5625 8.28125 \nQ 37.984375 10.453125 37.984375 14.40625 \nQ 37.984375 18.0625 35.515625 20.015625 \nQ 33.0625 21.96875 24.703125 23.78125 \nL 21.578125 24.515625 \nQ 13.234375 26.265625 9.515625 29.90625 \nQ 5.8125 33.546875 5.8125 39.890625 \nQ 5.8125 47.609375 11.28125 51.796875 \nQ 16.75 56 26.8125 56 \nQ 31.78125 56 36.171875 55.265625 \nQ 40.578125 54.546875 44.28125 53.078125 \nz\n\" id=\"DejaVuSans-115\"/>\n     <path d=\"M 48.78125 52.59375 \nL 48.78125 44.1875 \nQ 44.96875 46.296875 41.140625 47.34375 \nQ 37.3125 48.390625 33.40625 48.390625 \nQ 24.65625 48.390625 19.8125 42.84375 \nQ 14.984375 37.3125 14.984375 27.296875 \nQ 14.984375 17.28125 19.8125 11.734375 \nQ 24.65625 6.203125 33.40625 6.203125 \nQ 37.3125 6.203125 41.140625 7.25 \nQ 44.96875 8.296875 48.78125 10.40625 \nL 48.78125 2.09375 \nQ 45.015625 0.34375 40.984375 -0.53125 \nQ 36.96875 -1.421875 32.421875 -1.421875 \nQ 20.0625 -1.421875 12.78125 6.34375 \nQ 5.515625 14.109375 5.515625 27.296875 \nQ 5.515625 40.671875 12.859375 48.328125 \nQ 20.21875 56 33.015625 56 \nQ 37.15625 56 41.109375 55.140625 \nQ 45.0625 54.296875 48.78125 52.59375 \nz\n\" id=\"DejaVuSans-99\"/>\n    </defs>\n    <g transform=\"translate(213.12003 84.50625)scale(0.1 -0.1)\">\n     <use xlink:href=\"#DejaVuSans-115\"/>\n     <use x=\"52.099609\" xlink:href=\"#DejaVuSans-112\"/>\n     <use x=\"115.576172\" xlink:href=\"#DejaVuSans-101\"/>\n     <use x=\"177.099609\" xlink:href=\"#DejaVuSans-99\"/>\n     <use x=\"232.080078\" xlink:href=\"#DejaVuSans-105\"/>\n     <use x=\"259.863281\" xlink:href=\"#DejaVuSans-101\"/>\n     <use x=\"321.386719\" xlink:href=\"#DejaVuSans-115\"/>\n    </g>\n   </g>\n   <g id=\"PathCollection_4\">\n    <g>\n     <use style=\"fill:#1f77b4;stroke:#1f77b4;\" x=\"203.397374\" xlink:href=\"#m22364b1a0a\" y=\"96.559375\"/>\n    </g>\n   </g>\n   <g id=\"text_13\">\n    <!-- setosa -->\n    <defs>\n     <path d=\"M 30.609375 48.390625 \nQ 23.390625 48.390625 19.1875 42.75 \nQ 14.984375 37.109375 14.984375 27.296875 \nQ 14.984375 17.484375 19.15625 11.84375 \nQ 23.34375 6.203125 30.609375 6.203125 \nQ 37.796875 6.203125 41.984375 11.859375 \nQ 46.1875 17.53125 46.1875 27.296875 \nQ 46.1875 37.015625 41.984375 42.703125 \nQ 37.796875 48.390625 30.609375 48.390625 \nz\nM 30.609375 56 \nQ 42.328125 56 49.015625 48.375 \nQ 55.71875 40.765625 55.71875 27.296875 \nQ 55.71875 13.875 49.015625 6.21875 \nQ 42.328125 -1.421875 30.609375 -1.421875 \nQ 18.84375 -1.421875 12.171875 6.21875 \nQ 5.515625 13.875 5.515625 27.296875 \nQ 5.515625 40.765625 12.171875 48.375 \nQ 18.84375 56 30.609375 56 \nz\n\" id=\"DejaVuSans-111\"/>\n    </defs>\n    <g transform=\"translate(221.397374 99.184375)scale(0.1 -0.1)\">\n     <use xlink:href=\"#DejaVuSans-115\"/>\n     <use x=\"52.099609\" xlink:href=\"#DejaVuSans-101\"/>\n     <use x=\"113.623047\" xlink:href=\"#DejaVuSans-116\"/>\n     <use x=\"152.832031\" xlink:href=\"#DejaVuSans-111\"/>\n     <use x=\"214.013672\" xlink:href=\"#DejaVuSans-115\"/>\n     <use x=\"266.113281\" xlink:href=\"#DejaVuSans-97\"/>\n    </g>\n   </g>\n   <g id=\"PathCollection_5\">\n    <g>\n     <use style=\"fill:#ff7f0e;stroke:#ff7f0e;\" x=\"203.397374\" xlink:href=\"#m74cfe3dac1\" y=\"111.2375\"/>\n    </g>\n   </g>\n   <g id=\"text_14\">\n    <!-- versicolor -->\n    <defs>\n     <path d=\"M 2.984375 54.6875 \nL 12.5 54.6875 \nL 29.59375 8.796875 \nL 46.6875 54.6875 \nL 56.203125 54.6875 \nL 35.6875 0 \nL 23.484375 0 \nz\n\" id=\"DejaVuSans-118\"/>\n     <path d=\"M 41.109375 46.296875 \nQ 39.59375 47.171875 37.8125 47.578125 \nQ 36.03125 48 33.890625 48 \nQ 26.265625 48 22.1875 43.046875 \nQ 18.109375 38.09375 18.109375 28.8125 \nL 18.109375 0 \nL 9.078125 0 \nL 9.078125 54.6875 \nL 18.109375 54.6875 \nL 18.109375 46.1875 \nQ 20.953125 51.171875 25.484375 53.578125 \nQ 30.03125 56 36.53125 56 \nQ 37.453125 56 38.578125 55.875 \nQ 39.703125 55.765625 41.0625 55.515625 \nz\n\" id=\"DejaVuSans-114\"/>\n    </defs>\n    <g transform=\"translate(221.397374 113.8625)scale(0.1 -0.1)\">\n     <use xlink:href=\"#DejaVuSans-118\"/>\n     <use x=\"59.179688\" xlink:href=\"#DejaVuSans-101\"/>\n     <use x=\"120.703125\" xlink:href=\"#DejaVuSans-114\"/>\n     <use x=\"161.816406\" xlink:href=\"#DejaVuSans-115\"/>\n     <use x=\"213.916016\" xlink:href=\"#DejaVuSans-105\"/>\n     <use x=\"241.699219\" xlink:href=\"#DejaVuSans-99\"/>\n     <use x=\"296.679688\" xlink:href=\"#DejaVuSans-111\"/>\n     <use x=\"357.861328\" xlink:href=\"#DejaVuSans-108\"/>\n     <use x=\"385.644531\" xlink:href=\"#DejaVuSans-111\"/>\n     <use x=\"446.826172\" xlink:href=\"#DejaVuSans-114\"/>\n    </g>\n   </g>\n   <g id=\"PathCollection_6\">\n    <g>\n     <use style=\"fill:#2ca02c;stroke:#2ca02c;\" x=\"203.397374\" xlink:href=\"#m07938b4390\" y=\"125.915625\"/>\n    </g>\n   </g>\n   <g id=\"text_15\">\n    <!-- virginica -->\n    <g transform=\"translate(221.397374 128.540625)scale(0.1 -0.1)\">\n     <use xlink:href=\"#DejaVuSans-118\"/>\n     <use x=\"59.179688\" xlink:href=\"#DejaVuSans-105\"/>\n     <use x=\"86.962891\" xlink:href=\"#DejaVuSans-114\"/>\n     <use x=\"128.060547\" xlink:href=\"#DejaVuSans-103\"/>\n     <use x=\"191.537109\" xlink:href=\"#DejaVuSans-105\"/>\n     <use x=\"219.320312\" xlink:href=\"#DejaVuSans-110\"/>\n     <use x=\"282.699219\" xlink:href=\"#DejaVuSans-105\"/>\n     <use x=\"310.482422\" xlink:href=\"#DejaVuSans-99\"/>\n     <use x=\"365.462891\" xlink:href=\"#DejaVuSans-97\"/>\n    </g>\n   </g>\n  </g>\n </g>\n <defs>\n  <clipPath id=\"pe263cfe71b\">\n   <rect height=\"158.99375\" width=\"145.175812\" x=\"44.059375\" y=\"10.7\"/>\n  </clipPath>\n </defs>\n</svg>\n"
          },
          "metadata": {
            "tags": []
          }
        }
      ]
    },
    {
      "cell_type": "code",
      "metadata": {
        "id": "bzgUiRLMi1cP",
        "colab_type": "code",
        "outputId": "db831278-5f3c-4acf-8767-a817d9d21422",
        "colab": {
          "base_uri": "https://localhost:8080/",
          "height": 197
        }
      },
      "source": [
        "iris.head()"
      ],
      "execution_count": 15,
      "outputs": [
        {
          "output_type": "execute_result",
          "data": {
            "text/html": [
              "<div>\n",
              "<style scoped>\n",
              "    .dataframe tbody tr th:only-of-type {\n",
              "        vertical-align: middle;\n",
              "    }\n",
              "\n",
              "    .dataframe tbody tr th {\n",
              "        vertical-align: top;\n",
              "    }\n",
              "\n",
              "    .dataframe thead th {\n",
              "        text-align: right;\n",
              "    }\n",
              "</style>\n",
              "<table border=\"1\" class=\"dataframe\">\n",
              "  <thead>\n",
              "    <tr style=\"text-align: right;\">\n",
              "      <th></th>\n",
              "      <th>sepal_length</th>\n",
              "      <th>sepal_width</th>\n",
              "      <th>petal_length</th>\n",
              "      <th>petal_width</th>\n",
              "      <th>species</th>\n",
              "    </tr>\n",
              "  </thead>\n",
              "  <tbody>\n",
              "    <tr>\n",
              "      <th>0</th>\n",
              "      <td>5.1</td>\n",
              "      <td>3.5</td>\n",
              "      <td>1.4</td>\n",
              "      <td>0.2</td>\n",
              "      <td>setosa</td>\n",
              "    </tr>\n",
              "    <tr>\n",
              "      <th>1</th>\n",
              "      <td>4.9</td>\n",
              "      <td>3.0</td>\n",
              "      <td>1.4</td>\n",
              "      <td>0.2</td>\n",
              "      <td>setosa</td>\n",
              "    </tr>\n",
              "    <tr>\n",
              "      <th>2</th>\n",
              "      <td>4.7</td>\n",
              "      <td>3.2</td>\n",
              "      <td>1.3</td>\n",
              "      <td>0.2</td>\n",
              "      <td>setosa</td>\n",
              "    </tr>\n",
              "    <tr>\n",
              "      <th>3</th>\n",
              "      <td>4.6</td>\n",
              "      <td>3.1</td>\n",
              "      <td>1.5</td>\n",
              "      <td>0.2</td>\n",
              "      <td>setosa</td>\n",
              "    </tr>\n",
              "    <tr>\n",
              "      <th>4</th>\n",
              "      <td>5.0</td>\n",
              "      <td>3.6</td>\n",
              "      <td>1.4</td>\n",
              "      <td>0.2</td>\n",
              "      <td>setosa</td>\n",
              "    </tr>\n",
              "  </tbody>\n",
              "</table>\n",
              "</div>"
            ],
            "text/plain": [
              "   sepal_length  sepal_width  petal_length  petal_width species\n",
              "0           5.1          3.5           1.4          0.2  setosa\n",
              "1           4.9          3.0           1.4          0.2  setosa\n",
              "2           4.7          3.2           1.3          0.2  setosa\n",
              "3           4.6          3.1           1.5          0.2  setosa\n",
              "4           5.0          3.6           1.4          0.2  setosa"
            ]
          },
          "metadata": {
            "tags": []
          },
          "execution_count": 15
        }
      ]
    },
    {
      "cell_type": "markdown",
      "metadata": {
        "id": "bkgBgJG7qYA7",
        "colab_type": "text"
      },
      "source": [
        "Bitki türlerini Numpy dizisine çevirelim."
      ]
    },
    {
      "cell_type": "markdown",
      "metadata": {
        "id": "wRggfz5H5_FZ",
        "colab_type": "text"
      },
      "source": [
        ""
      ]
    },
    {
      "cell_type": "code",
      "metadata": {
        "id": "w-BAq4ExeSrB",
        "colab_type": "code",
        "colab": {}
      },
      "source": [
        "labels = np.asarray(iris.species)"
      ],
      "execution_count": 0,
      "outputs": []
    },
    {
      "cell_type": "code",
      "metadata": {
        "id": "DiUV6U6_ITEx",
        "colab_type": "code",
        "outputId": "1cceb19f-342b-496c-ea30-ade8477f9cc6",
        "colab": {
          "base_uri": "https://localhost:8080/",
          "height": 567
        }
      },
      "source": [
        "labels"
      ],
      "execution_count": 0,
      "outputs": [
        {
          "output_type": "execute_result",
          "data": {
            "text/plain": [
              "array(['setosa', 'setosa', 'setosa', 'setosa', 'setosa', 'setosa',\n",
              "       'setosa', 'setosa', 'setosa', 'setosa', 'setosa', 'setosa',\n",
              "       'setosa', 'setosa', 'setosa', 'setosa', 'setosa', 'setosa',\n",
              "       'setosa', 'setosa', 'setosa', 'setosa', 'setosa', 'setosa',\n",
              "       'setosa', 'setosa', 'setosa', 'setosa', 'setosa', 'setosa',\n",
              "       'setosa', 'setosa', 'setosa', 'setosa', 'setosa', 'setosa',\n",
              "       'setosa', 'setosa', 'setosa', 'setosa', 'setosa', 'setosa',\n",
              "       'setosa', 'setosa', 'setosa', 'setosa', 'setosa', 'setosa',\n",
              "       'setosa', 'setosa', 'versicolor', 'versicolor', 'versicolor',\n",
              "       'versicolor', 'versicolor', 'versicolor', 'versicolor',\n",
              "       'versicolor', 'versicolor', 'versicolor', 'versicolor',\n",
              "       'versicolor', 'versicolor', 'versicolor', 'versicolor',\n",
              "       'versicolor', 'versicolor', 'versicolor', 'versicolor',\n",
              "       'versicolor', 'versicolor', 'versicolor', 'versicolor',\n",
              "       'versicolor', 'versicolor', 'versicolor', 'versicolor',\n",
              "       'versicolor', 'versicolor', 'versicolor', 'versicolor',\n",
              "       'versicolor', 'versicolor', 'versicolor', 'versicolor',\n",
              "       'versicolor', 'versicolor', 'versicolor', 'versicolor',\n",
              "       'versicolor', 'versicolor', 'versicolor', 'versicolor',\n",
              "       'versicolor', 'versicolor', 'versicolor', 'versicolor',\n",
              "       'versicolor', 'versicolor', 'versicolor', 'virginica', 'virginica',\n",
              "       'virginica', 'virginica', 'virginica', 'virginica', 'virginica',\n",
              "       'virginica', 'virginica', 'virginica', 'virginica', 'virginica',\n",
              "       'virginica', 'virginica', 'virginica', 'virginica', 'virginica',\n",
              "       'virginica', 'virginica', 'virginica', 'virginica', 'virginica',\n",
              "       'virginica', 'virginica', 'virginica', 'virginica', 'virginica',\n",
              "       'virginica', 'virginica', 'virginica', 'virginica', 'virginica',\n",
              "       'virginica', 'virginica', 'virginica', 'virginica', 'virginica',\n",
              "       'virginica', 'virginica', 'virginica', 'virginica', 'virginica',\n",
              "       'virginica', 'virginica', 'virginica', 'virginica', 'virginica',\n",
              "       'virginica', 'virginica', 'virginica'], dtype=object)"
            ]
          },
          "metadata": {
            "tags": []
          },
          "execution_count": 16
        }
      ]
    },
    {
      "cell_type": "code",
      "metadata": {
        "id": "n5UbR_AowbYa",
        "colab_type": "code",
        "outputId": "4e6bfe78-a4f7-4179-9dc7-166b70ca3002",
        "colab": {
          "base_uri": "https://localhost:8080/",
          "height": 34
        }
      },
      "source": [
        "type(labels)"
      ],
      "execution_count": 17,
      "outputs": [
        {
          "output_type": "execute_result",
          "data": {
            "text/plain": [
              "numpy.ndarray"
            ]
          },
          "metadata": {
            "tags": []
          },
          "execution_count": 17
        }
      ]
    },
    {
      "cell_type": "markdown",
      "metadata": {
        "id": "368f--AXqnCk",
        "colab_type": "text"
      },
      "source": [
        "Bitki türleri kelimelerden oluştuğu için bunları sayısal değerlere çevirelim. \n",
        "\n",
        "Bunun için `LabelEncoder()` kullanacağız."
      ]
    },
    {
      "cell_type": "code",
      "metadata": {
        "id": "OPnxqA08TLb6",
        "colab_type": "code",
        "colab": {}
      },
      "source": [
        "from sklearn.preprocessing import LabelEncoder\n",
        "\n",
        "le = LabelEncoder()\n",
        "le.fit(labels)\n",
        "\n",
        "labels = le.transform(labels)"
      ],
      "execution_count": 0,
      "outputs": []
    },
    {
      "cell_type": "code",
      "metadata": {
        "id": "pHNUAqi5hlwD",
        "colab_type": "code",
        "outputId": "02eeb4e4-012c-49c2-96d7-ce0da7b24d99",
        "colab": {
          "base_uri": "https://localhost:8080/",
          "height": 141
        }
      },
      "source": [
        "labels"
      ],
      "execution_count": 19,
      "outputs": [
        {
          "output_type": "execute_result",
          "data": {
            "text/plain": [
              "array([0, 0, 0, 0, 0, 0, 0, 0, 0, 0, 0, 0, 0, 0, 0, 0, 0, 0, 0, 0, 0, 0,\n",
              "       0, 0, 0, 0, 0, 0, 0, 0, 0, 0, 0, 0, 0, 0, 0, 0, 0, 0, 0, 0, 0, 0,\n",
              "       0, 0, 0, 0, 0, 0, 1, 1, 1, 1, 1, 1, 1, 1, 1, 1, 1, 1, 1, 1, 1, 1,\n",
              "       1, 1, 1, 1, 1, 1, 1, 1, 1, 1, 1, 1, 1, 1, 1, 1, 1, 1, 1, 1, 1, 1,\n",
              "       1, 1, 1, 1, 1, 1, 1, 1, 1, 1, 1, 1, 2, 2, 2, 2, 2, 2, 2, 2, 2, 2,\n",
              "       2, 2, 2, 2, 2, 2, 2, 2, 2, 2, 2, 2, 2, 2, 2, 2, 2, 2, 2, 2, 2, 2,\n",
              "       2, 2, 2, 2, 2, 2, 2, 2, 2, 2, 2, 2, 2, 2, 2, 2, 2, 2])"
            ]
          },
          "metadata": {
            "tags": []
          },
          "execution_count": 19
        }
      ]
    },
    {
      "cell_type": "code",
      "metadata": {
        "id": "8ltHSe_Hhqmj",
        "colab_type": "code",
        "outputId": "9fb3f5d0-fcab-4c50-ca74-061c2dccb5ca",
        "colab": {
          "base_uri": "https://localhost:8080/",
          "height": 567
        }
      },
      "source": [
        "le.inverse_transform(labels)"
      ],
      "execution_count": 20,
      "outputs": [
        {
          "output_type": "execute_result",
          "data": {
            "text/plain": [
              "array(['setosa', 'setosa', 'setosa', 'setosa', 'setosa', 'setosa',\n",
              "       'setosa', 'setosa', 'setosa', 'setosa', 'setosa', 'setosa',\n",
              "       'setosa', 'setosa', 'setosa', 'setosa', 'setosa', 'setosa',\n",
              "       'setosa', 'setosa', 'setosa', 'setosa', 'setosa', 'setosa',\n",
              "       'setosa', 'setosa', 'setosa', 'setosa', 'setosa', 'setosa',\n",
              "       'setosa', 'setosa', 'setosa', 'setosa', 'setosa', 'setosa',\n",
              "       'setosa', 'setosa', 'setosa', 'setosa', 'setosa', 'setosa',\n",
              "       'setosa', 'setosa', 'setosa', 'setosa', 'setosa', 'setosa',\n",
              "       'setosa', 'setosa', 'versicolor', 'versicolor', 'versicolor',\n",
              "       'versicolor', 'versicolor', 'versicolor', 'versicolor',\n",
              "       'versicolor', 'versicolor', 'versicolor', 'versicolor',\n",
              "       'versicolor', 'versicolor', 'versicolor', 'versicolor',\n",
              "       'versicolor', 'versicolor', 'versicolor', 'versicolor',\n",
              "       'versicolor', 'versicolor', 'versicolor', 'versicolor',\n",
              "       'versicolor', 'versicolor', 'versicolor', 'versicolor',\n",
              "       'versicolor', 'versicolor', 'versicolor', 'versicolor',\n",
              "       'versicolor', 'versicolor', 'versicolor', 'versicolor',\n",
              "       'versicolor', 'versicolor', 'versicolor', 'versicolor',\n",
              "       'versicolor', 'versicolor', 'versicolor', 'versicolor',\n",
              "       'versicolor', 'versicolor', 'versicolor', 'versicolor',\n",
              "       'versicolor', 'versicolor', 'versicolor', 'virginica', 'virginica',\n",
              "       'virginica', 'virginica', 'virginica', 'virginica', 'virginica',\n",
              "       'virginica', 'virginica', 'virginica', 'virginica', 'virginica',\n",
              "       'virginica', 'virginica', 'virginica', 'virginica', 'virginica',\n",
              "       'virginica', 'virginica', 'virginica', 'virginica', 'virginica',\n",
              "       'virginica', 'virginica', 'virginica', 'virginica', 'virginica',\n",
              "       'virginica', 'virginica', 'virginica', 'virginica', 'virginica',\n",
              "       'virginica', 'virginica', 'virginica', 'virginica', 'virginica',\n",
              "       'virginica', 'virginica', 'virginica', 'virginica', 'virginica',\n",
              "       'virginica', 'virginica', 'virginica', 'virginica', 'virginica',\n",
              "       'virginica', 'virginica', 'virginica'], dtype=object)"
            ]
          },
          "metadata": {
            "tags": []
          },
          "execution_count": 20
        }
      ]
    },
    {
      "cell_type": "markdown",
      "metadata": {
        "id": "bYbYUhjzlu5-",
        "colab_type": "text"
      },
      "source": [
        "* setosa: 0\n",
        "* versicolor: 1\n",
        "* virginica: 2\n"
      ]
    },
    {
      "cell_type": "code",
      "metadata": {
        "id": "y9VCCeZqiM5c",
        "colab_type": "code",
        "outputId": "f758ded6-ec70-43b0-81b5-f24763b1fdea",
        "colab": {
          "base_uri": "https://localhost:8080/",
          "height": 197
        }
      },
      "source": [
        "iris.head()"
      ],
      "execution_count": 21,
      "outputs": [
        {
          "output_type": "execute_result",
          "data": {
            "text/html": [
              "<div>\n",
              "<style scoped>\n",
              "    .dataframe tbody tr th:only-of-type {\n",
              "        vertical-align: middle;\n",
              "    }\n",
              "\n",
              "    .dataframe tbody tr th {\n",
              "        vertical-align: top;\n",
              "    }\n",
              "\n",
              "    .dataframe thead th {\n",
              "        text-align: right;\n",
              "    }\n",
              "</style>\n",
              "<table border=\"1\" class=\"dataframe\">\n",
              "  <thead>\n",
              "    <tr style=\"text-align: right;\">\n",
              "      <th></th>\n",
              "      <th>sepal_length</th>\n",
              "      <th>sepal_width</th>\n",
              "      <th>petal_length</th>\n",
              "      <th>petal_width</th>\n",
              "      <th>species</th>\n",
              "    </tr>\n",
              "  </thead>\n",
              "  <tbody>\n",
              "    <tr>\n",
              "      <th>0</th>\n",
              "      <td>5.1</td>\n",
              "      <td>3.5</td>\n",
              "      <td>1.4</td>\n",
              "      <td>0.2</td>\n",
              "      <td>setosa</td>\n",
              "    </tr>\n",
              "    <tr>\n",
              "      <th>1</th>\n",
              "      <td>4.9</td>\n",
              "      <td>3.0</td>\n",
              "      <td>1.4</td>\n",
              "      <td>0.2</td>\n",
              "      <td>setosa</td>\n",
              "    </tr>\n",
              "    <tr>\n",
              "      <th>2</th>\n",
              "      <td>4.7</td>\n",
              "      <td>3.2</td>\n",
              "      <td>1.3</td>\n",
              "      <td>0.2</td>\n",
              "      <td>setosa</td>\n",
              "    </tr>\n",
              "    <tr>\n",
              "      <th>3</th>\n",
              "      <td>4.6</td>\n",
              "      <td>3.1</td>\n",
              "      <td>1.5</td>\n",
              "      <td>0.2</td>\n",
              "      <td>setosa</td>\n",
              "    </tr>\n",
              "    <tr>\n",
              "      <th>4</th>\n",
              "      <td>5.0</td>\n",
              "      <td>3.6</td>\n",
              "      <td>1.4</td>\n",
              "      <td>0.2</td>\n",
              "      <td>setosa</td>\n",
              "    </tr>\n",
              "  </tbody>\n",
              "</table>\n",
              "</div>"
            ],
            "text/plain": [
              "   sepal_length  sepal_width  petal_length  petal_width species\n",
              "0           5.1          3.5           1.4          0.2  setosa\n",
              "1           4.9          3.0           1.4          0.2  setosa\n",
              "2           4.7          3.2           1.3          0.2  setosa\n",
              "3           4.6          3.1           1.5          0.2  setosa\n",
              "4           5.0          3.6           1.4          0.2  setosa"
            ]
          },
          "metadata": {
            "tags": []
          },
          "execution_count": 21
        }
      ]
    },
    {
      "cell_type": "markdown",
      "metadata": {
        "id": "SFJg6FjasazJ",
        "colab_type": "text"
      },
      "source": [
        "**petal_length** ve **petal_width** kullanacağımız için diğer sütunları silelim."
      ]
    },
    {
      "cell_type": "code",
      "metadata": {
        "id": "MN_la_n4hy8X",
        "colab_type": "code",
        "colab": {}
      },
      "source": [
        "df_selected = iris.drop(['sepal_length', 'sepal_width', \"species\"], \n",
        "                        axis = 1)"
      ],
      "execution_count": 0,
      "outputs": []
    },
    {
      "cell_type": "code",
      "metadata": {
        "id": "PfRKvHWYibii",
        "colab_type": "code",
        "outputId": "50ce3a77-8a76-4f6e-b62c-a15e6e666eb8",
        "colab": {
          "base_uri": "https://localhost:8080/",
          "height": 197
        }
      },
      "source": [
        "df_selected.head()"
      ],
      "execution_count": 23,
      "outputs": [
        {
          "output_type": "execute_result",
          "data": {
            "text/html": [
              "<div>\n",
              "<style scoped>\n",
              "    .dataframe tbody tr th:only-of-type {\n",
              "        vertical-align: middle;\n",
              "    }\n",
              "\n",
              "    .dataframe tbody tr th {\n",
              "        vertical-align: top;\n",
              "    }\n",
              "\n",
              "    .dataframe thead th {\n",
              "        text-align: right;\n",
              "    }\n",
              "</style>\n",
              "<table border=\"1\" class=\"dataframe\">\n",
              "  <thead>\n",
              "    <tr style=\"text-align: right;\">\n",
              "      <th></th>\n",
              "      <th>petal_length</th>\n",
              "      <th>petal_width</th>\n",
              "    </tr>\n",
              "  </thead>\n",
              "  <tbody>\n",
              "    <tr>\n",
              "      <th>0</th>\n",
              "      <td>1.4</td>\n",
              "      <td>0.2</td>\n",
              "    </tr>\n",
              "    <tr>\n",
              "      <th>1</th>\n",
              "      <td>1.4</td>\n",
              "      <td>0.2</td>\n",
              "    </tr>\n",
              "    <tr>\n",
              "      <th>2</th>\n",
              "      <td>1.3</td>\n",
              "      <td>0.2</td>\n",
              "    </tr>\n",
              "    <tr>\n",
              "      <th>3</th>\n",
              "      <td>1.5</td>\n",
              "      <td>0.2</td>\n",
              "    </tr>\n",
              "    <tr>\n",
              "      <th>4</th>\n",
              "      <td>1.4</td>\n",
              "      <td>0.2</td>\n",
              "    </tr>\n",
              "  </tbody>\n",
              "</table>\n",
              "</div>"
            ],
            "text/plain": [
              "   petal_length  petal_width\n",
              "0           1.4          0.2\n",
              "1           1.4          0.2\n",
              "2           1.3          0.2\n",
              "3           1.5          0.2\n",
              "4           1.4          0.2"
            ]
          },
          "metadata": {
            "tags": []
          },
          "execution_count": 23
        }
      ]
    },
    {
      "cell_type": "code",
      "metadata": {
        "id": "7tsc8HhVM2m_",
        "colab_type": "code",
        "outputId": "1cc1b085-ab7f-4feb-eeb4-cc6362ca9e78",
        "colab": {
          "base_uri": "https://localhost:8080/",
          "height": 34
        }
      },
      "source": [
        "type(df_selected)"
      ],
      "execution_count": 24,
      "outputs": [
        {
          "output_type": "execute_result",
          "data": {
            "text/plain": [
              "pandas.core.frame.DataFrame"
            ]
          },
          "metadata": {
            "tags": []
          },
          "execution_count": 24
        }
      ]
    },
    {
      "cell_type": "code",
      "metadata": {
        "id": "ZB9RS_Fnid5_",
        "colab_type": "code",
        "colab": {}
      },
      "source": [
        "df_features = df_selected.to_dict(orient = 'records')"
      ],
      "execution_count": 0,
      "outputs": []
    },
    {
      "cell_type": "code",
      "metadata": {
        "id": "VR6D4rRVzR6W",
        "colab_type": "code",
        "outputId": "b46bfaf9-639a-4861-e7c0-0031ae732347",
        "colab": {
          "base_uri": "https://localhost:8080/",
          "height": 2683
        }
      },
      "source": [
        "df_features"
      ],
      "execution_count": 26,
      "outputs": [
        {
          "output_type": "execute_result",
          "data": {
            "text/plain": [
              "[{'petal_length': 1.4, 'petal_width': 0.2},\n",
              " {'petal_length': 1.4, 'petal_width': 0.2},\n",
              " {'petal_length': 1.3, 'petal_width': 0.2},\n",
              " {'petal_length': 1.5, 'petal_width': 0.2},\n",
              " {'petal_length': 1.4, 'petal_width': 0.2},\n",
              " {'petal_length': 1.7, 'petal_width': 0.4},\n",
              " {'petal_length': 1.4, 'petal_width': 0.3},\n",
              " {'petal_length': 1.5, 'petal_width': 0.2},\n",
              " {'petal_length': 1.4, 'petal_width': 0.2},\n",
              " {'petal_length': 1.5, 'petal_width': 0.1},\n",
              " {'petal_length': 1.5, 'petal_width': 0.2},\n",
              " {'petal_length': 1.6, 'petal_width': 0.2},\n",
              " {'petal_length': 1.4, 'petal_width': 0.1},\n",
              " {'petal_length': 1.1, 'petal_width': 0.1},\n",
              " {'petal_length': 1.2, 'petal_width': 0.2},\n",
              " {'petal_length': 1.5, 'petal_width': 0.4},\n",
              " {'petal_length': 1.3, 'petal_width': 0.4},\n",
              " {'petal_length': 1.4, 'petal_width': 0.3},\n",
              " {'petal_length': 1.7, 'petal_width': 0.3},\n",
              " {'petal_length': 1.5, 'petal_width': 0.3},\n",
              " {'petal_length': 1.7, 'petal_width': 0.2},\n",
              " {'petal_length': 1.5, 'petal_width': 0.4},\n",
              " {'petal_length': 1.0, 'petal_width': 0.2},\n",
              " {'petal_length': 1.7, 'petal_width': 0.5},\n",
              " {'petal_length': 1.9, 'petal_width': 0.2},\n",
              " {'petal_length': 1.6, 'petal_width': 0.2},\n",
              " {'petal_length': 1.6, 'petal_width': 0.4},\n",
              " {'petal_length': 1.5, 'petal_width': 0.2},\n",
              " {'petal_length': 1.4, 'petal_width': 0.2},\n",
              " {'petal_length': 1.6, 'petal_width': 0.2},\n",
              " {'petal_length': 1.6, 'petal_width': 0.2},\n",
              " {'petal_length': 1.5, 'petal_width': 0.4},\n",
              " {'petal_length': 1.5, 'petal_width': 0.1},\n",
              " {'petal_length': 1.4, 'petal_width': 0.2},\n",
              " {'petal_length': 1.5, 'petal_width': 0.1},\n",
              " {'petal_length': 1.2, 'petal_width': 0.2},\n",
              " {'petal_length': 1.3, 'petal_width': 0.2},\n",
              " {'petal_length': 1.5, 'petal_width': 0.1},\n",
              " {'petal_length': 1.3, 'petal_width': 0.2},\n",
              " {'petal_length': 1.5, 'petal_width': 0.2},\n",
              " {'petal_length': 1.3, 'petal_width': 0.3},\n",
              " {'petal_length': 1.3, 'petal_width': 0.3},\n",
              " {'petal_length': 1.3, 'petal_width': 0.2},\n",
              " {'petal_length': 1.6, 'petal_width': 0.6},\n",
              " {'petal_length': 1.9, 'petal_width': 0.4},\n",
              " {'petal_length': 1.4, 'petal_width': 0.3},\n",
              " {'petal_length': 1.6, 'petal_width': 0.2},\n",
              " {'petal_length': 1.4, 'petal_width': 0.2},\n",
              " {'petal_length': 1.5, 'petal_width': 0.2},\n",
              " {'petal_length': 1.4, 'petal_width': 0.2},\n",
              " {'petal_length': 4.7, 'petal_width': 1.4},\n",
              " {'petal_length': 4.5, 'petal_width': 1.5},\n",
              " {'petal_length': 4.9, 'petal_width': 1.5},\n",
              " {'petal_length': 4.0, 'petal_width': 1.3},\n",
              " {'petal_length': 4.6, 'petal_width': 1.5},\n",
              " {'petal_length': 4.5, 'petal_width': 1.3},\n",
              " {'petal_length': 4.7, 'petal_width': 1.6},\n",
              " {'petal_length': 3.3, 'petal_width': 1.0},\n",
              " {'petal_length': 4.6, 'petal_width': 1.3},\n",
              " {'petal_length': 3.9, 'petal_width': 1.4},\n",
              " {'petal_length': 3.5, 'petal_width': 1.0},\n",
              " {'petal_length': 4.2, 'petal_width': 1.5},\n",
              " {'petal_length': 4.0, 'petal_width': 1.0},\n",
              " {'petal_length': 4.7, 'petal_width': 1.4},\n",
              " {'petal_length': 3.6, 'petal_width': 1.3},\n",
              " {'petal_length': 4.4, 'petal_width': 1.4},\n",
              " {'petal_length': 4.5, 'petal_width': 1.5},\n",
              " {'petal_length': 4.1, 'petal_width': 1.0},\n",
              " {'petal_length': 4.5, 'petal_width': 1.5},\n",
              " {'petal_length': 3.9, 'petal_width': 1.1},\n",
              " {'petal_length': 4.8, 'petal_width': 1.8},\n",
              " {'petal_length': 4.0, 'petal_width': 1.3},\n",
              " {'petal_length': 4.9, 'petal_width': 1.5},\n",
              " {'petal_length': 4.7, 'petal_width': 1.2},\n",
              " {'petal_length': 4.3, 'petal_width': 1.3},\n",
              " {'petal_length': 4.4, 'petal_width': 1.4},\n",
              " {'petal_length': 4.8, 'petal_width': 1.4},\n",
              " {'petal_length': 5.0, 'petal_width': 1.7},\n",
              " {'petal_length': 4.5, 'petal_width': 1.5},\n",
              " {'petal_length': 3.5, 'petal_width': 1.0},\n",
              " {'petal_length': 3.8, 'petal_width': 1.1},\n",
              " {'petal_length': 3.7, 'petal_width': 1.0},\n",
              " {'petal_length': 3.9, 'petal_width': 1.2},\n",
              " {'petal_length': 5.1, 'petal_width': 1.6},\n",
              " {'petal_length': 4.5, 'petal_width': 1.5},\n",
              " {'petal_length': 4.5, 'petal_width': 1.6},\n",
              " {'petal_length': 4.7, 'petal_width': 1.5},\n",
              " {'petal_length': 4.4, 'petal_width': 1.3},\n",
              " {'petal_length': 4.1, 'petal_width': 1.3},\n",
              " {'petal_length': 4.0, 'petal_width': 1.3},\n",
              " {'petal_length': 4.4, 'petal_width': 1.2},\n",
              " {'petal_length': 4.6, 'petal_width': 1.4},\n",
              " {'petal_length': 4.0, 'petal_width': 1.2},\n",
              " {'petal_length': 3.3, 'petal_width': 1.0},\n",
              " {'petal_length': 4.2, 'petal_width': 1.3},\n",
              " {'petal_length': 4.2, 'petal_width': 1.2},\n",
              " {'petal_length': 4.2, 'petal_width': 1.3},\n",
              " {'petal_length': 4.3, 'petal_width': 1.3},\n",
              " {'petal_length': 3.0, 'petal_width': 1.1},\n",
              " {'petal_length': 4.1, 'petal_width': 1.3},\n",
              " {'petal_length': 6.0, 'petal_width': 2.5},\n",
              " {'petal_length': 5.1, 'petal_width': 1.9},\n",
              " {'petal_length': 5.9, 'petal_width': 2.1},\n",
              " {'petal_length': 5.6, 'petal_width': 1.8},\n",
              " {'petal_length': 5.8, 'petal_width': 2.2},\n",
              " {'petal_length': 6.6, 'petal_width': 2.1},\n",
              " {'petal_length': 4.5, 'petal_width': 1.7},\n",
              " {'petal_length': 6.3, 'petal_width': 1.8},\n",
              " {'petal_length': 5.8, 'petal_width': 1.8},\n",
              " {'petal_length': 6.1, 'petal_width': 2.5},\n",
              " {'petal_length': 5.1, 'petal_width': 2.0},\n",
              " {'petal_length': 5.3, 'petal_width': 1.9},\n",
              " {'petal_length': 5.5, 'petal_width': 2.1},\n",
              " {'petal_length': 5.0, 'petal_width': 2.0},\n",
              " {'petal_length': 5.1, 'petal_width': 2.4},\n",
              " {'petal_length': 5.3, 'petal_width': 2.3},\n",
              " {'petal_length': 5.5, 'petal_width': 1.8},\n",
              " {'petal_length': 6.7, 'petal_width': 2.2},\n",
              " {'petal_length': 6.9, 'petal_width': 2.3},\n",
              " {'petal_length': 5.0, 'petal_width': 1.5},\n",
              " {'petal_length': 5.7, 'petal_width': 2.3},\n",
              " {'petal_length': 4.9, 'petal_width': 2.0},\n",
              " {'petal_length': 6.7, 'petal_width': 2.0},\n",
              " {'petal_length': 4.9, 'petal_width': 1.8},\n",
              " {'petal_length': 5.7, 'petal_width': 2.1},\n",
              " {'petal_length': 6.0, 'petal_width': 1.8},\n",
              " {'petal_length': 4.8, 'petal_width': 1.8},\n",
              " {'petal_length': 4.9, 'petal_width': 1.8},\n",
              " {'petal_length': 5.6, 'petal_width': 2.1},\n",
              " {'petal_length': 5.8, 'petal_width': 1.6},\n",
              " {'petal_length': 6.1, 'petal_width': 1.9},\n",
              " {'petal_length': 6.4, 'petal_width': 2.0},\n",
              " {'petal_length': 5.6, 'petal_width': 2.2},\n",
              " {'petal_length': 5.1, 'petal_width': 1.5},\n",
              " {'petal_length': 5.6, 'petal_width': 1.4},\n",
              " {'petal_length': 6.1, 'petal_width': 2.3},\n",
              " {'petal_length': 5.6, 'petal_width': 2.4},\n",
              " {'petal_length': 5.5, 'petal_width': 1.8},\n",
              " {'petal_length': 4.8, 'petal_width': 1.8},\n",
              " {'petal_length': 5.4, 'petal_width': 2.1},\n",
              " {'petal_length': 5.6, 'petal_width': 2.4},\n",
              " {'petal_length': 5.1, 'petal_width': 2.3},\n",
              " {'petal_length': 5.1, 'petal_width': 1.9},\n",
              " {'petal_length': 5.9, 'petal_width': 2.3},\n",
              " {'petal_length': 5.7, 'petal_width': 2.5},\n",
              " {'petal_length': 5.2, 'petal_width': 2.3},\n",
              " {'petal_length': 5.0, 'petal_width': 1.9},\n",
              " {'petal_length': 5.2, 'petal_width': 2.0},\n",
              " {'petal_length': 5.4, 'petal_width': 2.3},\n",
              " {'petal_length': 5.1, 'petal_width': 1.8}]"
            ]
          },
          "metadata": {
            "tags": []
          },
          "execution_count": 26
        }
      ]
    },
    {
      "cell_type": "code",
      "metadata": {
        "id": "-9sNBzSpjfGe",
        "colab_type": "code",
        "colab": {}
      },
      "source": [
        "from sklearn.feature_extraction import DictVectorizer\n",
        "\n",
        "vec = DictVectorizer()\n",
        "features = vec.fit_transform(df_features).toarray()"
      ],
      "execution_count": 0,
      "outputs": []
    },
    {
      "cell_type": "code",
      "metadata": {
        "id": "b7RYd_IczRSi",
        "colab_type": "code",
        "outputId": "a4e219d0-0ae2-4860-b922-b91ee22ab7b6",
        "colab": {
          "base_uri": "https://localhost:8080/",
          "height": 34
        }
      },
      "source": [
        "type(features)"
      ],
      "execution_count": 28,
      "outputs": [
        {
          "output_type": "execute_result",
          "data": {
            "text/plain": [
              "numpy.ndarray"
            ]
          },
          "metadata": {
            "tags": []
          },
          "execution_count": 28
        }
      ]
    },
    {
      "cell_type": "code",
      "metadata": {
        "id": "zg_EOwF2lM-G",
        "colab_type": "code",
        "outputId": "59b3ffdd-28b8-44c3-96ba-c3ed1ba7298b",
        "colab": {
          "base_uri": "https://localhost:8080/",
          "height": 2683
        }
      },
      "source": [
        "features"
      ],
      "execution_count": 29,
      "outputs": [
        {
          "output_type": "execute_result",
          "data": {
            "text/plain": [
              "array([[1.4, 0.2],\n",
              "       [1.4, 0.2],\n",
              "       [1.3, 0.2],\n",
              "       [1.5, 0.2],\n",
              "       [1.4, 0.2],\n",
              "       [1.7, 0.4],\n",
              "       [1.4, 0.3],\n",
              "       [1.5, 0.2],\n",
              "       [1.4, 0.2],\n",
              "       [1.5, 0.1],\n",
              "       [1.5, 0.2],\n",
              "       [1.6, 0.2],\n",
              "       [1.4, 0.1],\n",
              "       [1.1, 0.1],\n",
              "       [1.2, 0.2],\n",
              "       [1.5, 0.4],\n",
              "       [1.3, 0.4],\n",
              "       [1.4, 0.3],\n",
              "       [1.7, 0.3],\n",
              "       [1.5, 0.3],\n",
              "       [1.7, 0.2],\n",
              "       [1.5, 0.4],\n",
              "       [1. , 0.2],\n",
              "       [1.7, 0.5],\n",
              "       [1.9, 0.2],\n",
              "       [1.6, 0.2],\n",
              "       [1.6, 0.4],\n",
              "       [1.5, 0.2],\n",
              "       [1.4, 0.2],\n",
              "       [1.6, 0.2],\n",
              "       [1.6, 0.2],\n",
              "       [1.5, 0.4],\n",
              "       [1.5, 0.1],\n",
              "       [1.4, 0.2],\n",
              "       [1.5, 0.1],\n",
              "       [1.2, 0.2],\n",
              "       [1.3, 0.2],\n",
              "       [1.5, 0.1],\n",
              "       [1.3, 0.2],\n",
              "       [1.5, 0.2],\n",
              "       [1.3, 0.3],\n",
              "       [1.3, 0.3],\n",
              "       [1.3, 0.2],\n",
              "       [1.6, 0.6],\n",
              "       [1.9, 0.4],\n",
              "       [1.4, 0.3],\n",
              "       [1.6, 0.2],\n",
              "       [1.4, 0.2],\n",
              "       [1.5, 0.2],\n",
              "       [1.4, 0.2],\n",
              "       [4.7, 1.4],\n",
              "       [4.5, 1.5],\n",
              "       [4.9, 1.5],\n",
              "       [4. , 1.3],\n",
              "       [4.6, 1.5],\n",
              "       [4.5, 1.3],\n",
              "       [4.7, 1.6],\n",
              "       [3.3, 1. ],\n",
              "       [4.6, 1.3],\n",
              "       [3.9, 1.4],\n",
              "       [3.5, 1. ],\n",
              "       [4.2, 1.5],\n",
              "       [4. , 1. ],\n",
              "       [4.7, 1.4],\n",
              "       [3.6, 1.3],\n",
              "       [4.4, 1.4],\n",
              "       [4.5, 1.5],\n",
              "       [4.1, 1. ],\n",
              "       [4.5, 1.5],\n",
              "       [3.9, 1.1],\n",
              "       [4.8, 1.8],\n",
              "       [4. , 1.3],\n",
              "       [4.9, 1.5],\n",
              "       [4.7, 1.2],\n",
              "       [4.3, 1.3],\n",
              "       [4.4, 1.4],\n",
              "       [4.8, 1.4],\n",
              "       [5. , 1.7],\n",
              "       [4.5, 1.5],\n",
              "       [3.5, 1. ],\n",
              "       [3.8, 1.1],\n",
              "       [3.7, 1. ],\n",
              "       [3.9, 1.2],\n",
              "       [5.1, 1.6],\n",
              "       [4.5, 1.5],\n",
              "       [4.5, 1.6],\n",
              "       [4.7, 1.5],\n",
              "       [4.4, 1.3],\n",
              "       [4.1, 1.3],\n",
              "       [4. , 1.3],\n",
              "       [4.4, 1.2],\n",
              "       [4.6, 1.4],\n",
              "       [4. , 1.2],\n",
              "       [3.3, 1. ],\n",
              "       [4.2, 1.3],\n",
              "       [4.2, 1.2],\n",
              "       [4.2, 1.3],\n",
              "       [4.3, 1.3],\n",
              "       [3. , 1.1],\n",
              "       [4.1, 1.3],\n",
              "       [6. , 2.5],\n",
              "       [5.1, 1.9],\n",
              "       [5.9, 2.1],\n",
              "       [5.6, 1.8],\n",
              "       [5.8, 2.2],\n",
              "       [6.6, 2.1],\n",
              "       [4.5, 1.7],\n",
              "       [6.3, 1.8],\n",
              "       [5.8, 1.8],\n",
              "       [6.1, 2.5],\n",
              "       [5.1, 2. ],\n",
              "       [5.3, 1.9],\n",
              "       [5.5, 2.1],\n",
              "       [5. , 2. ],\n",
              "       [5.1, 2.4],\n",
              "       [5.3, 2.3],\n",
              "       [5.5, 1.8],\n",
              "       [6.7, 2.2],\n",
              "       [6.9, 2.3],\n",
              "       [5. , 1.5],\n",
              "       [5.7, 2.3],\n",
              "       [4.9, 2. ],\n",
              "       [6.7, 2. ],\n",
              "       [4.9, 1.8],\n",
              "       [5.7, 2.1],\n",
              "       [6. , 1.8],\n",
              "       [4.8, 1.8],\n",
              "       [4.9, 1.8],\n",
              "       [5.6, 2.1],\n",
              "       [5.8, 1.6],\n",
              "       [6.1, 1.9],\n",
              "       [6.4, 2. ],\n",
              "       [5.6, 2.2],\n",
              "       [5.1, 1.5],\n",
              "       [5.6, 1.4],\n",
              "       [6.1, 2.3],\n",
              "       [5.6, 2.4],\n",
              "       [5.5, 1.8],\n",
              "       [4.8, 1.8],\n",
              "       [5.4, 2.1],\n",
              "       [5.6, 2.4],\n",
              "       [5.1, 2.3],\n",
              "       [5.1, 1.9],\n",
              "       [5.9, 2.3],\n",
              "       [5.7, 2.5],\n",
              "       [5.2, 2.3],\n",
              "       [5. , 1.9],\n",
              "       [5.2, 2. ],\n",
              "       [5.4, 2.3],\n",
              "       [5.1, 1.8]])"
            ]
          },
          "metadata": {
            "tags": []
          },
          "execution_count": 29
        }
      ]
    },
    {
      "cell_type": "code",
      "metadata": {
        "id": "PJGQQ-Av1uxX",
        "colab_type": "code",
        "outputId": "e8f0e0d0-d904-48de-e799-2018e7220324",
        "colab": {
          "base_uri": "https://localhost:8080/",
          "height": 34
        }
      },
      "source": [
        "features.shape"
      ],
      "execution_count": 30,
      "outputs": [
        {
          "output_type": "execute_result",
          "data": {
            "text/plain": [
              "(150, 2)"
            ]
          },
          "metadata": {
            "tags": []
          },
          "execution_count": 30
        }
      ]
    },
    {
      "cell_type": "code",
      "metadata": {
        "id": "YYQ1Ye8B1jx9",
        "colab_type": "code",
        "outputId": "445e9055-208f-47fa-b8f3-e5e95dee0860",
        "colab": {
          "base_uri": "https://localhost:8080/",
          "height": 34
        }
      },
      "source": [
        "len(labels)"
      ],
      "execution_count": 31,
      "outputs": [
        {
          "output_type": "execute_result",
          "data": {
            "text/plain": [
              "150"
            ]
          },
          "metadata": {
            "tags": []
          },
          "execution_count": 31
        }
      ]
    },
    {
      "cell_type": "code",
      "metadata": {
        "id": "Enf14zda1w2i",
        "colab_type": "code",
        "outputId": "65bee1aa-8eeb-4109-9298-dac4a5fe32aa",
        "colab": {
          "base_uri": "https://localhost:8080/",
          "height": 34
        }
      },
      "source": [
        "labels.shape"
      ],
      "execution_count": 32,
      "outputs": [
        {
          "output_type": "execute_result",
          "data": {
            "text/plain": [
              "(150,)"
            ]
          },
          "metadata": {
            "tags": []
          },
          "execution_count": 32
        }
      ]
    },
    {
      "cell_type": "code",
      "metadata": {
        "id": "hcsVFPHyn52u",
        "colab_type": "code",
        "outputId": "b2f1e81a-df62-4620-dea5-4fde4c191293",
        "colab": {
          "base_uri": "https://localhost:8080/",
          "height": 34
        }
      },
      "source": [
        "features.shape"
      ],
      "execution_count": 33,
      "outputs": [
        {
          "output_type": "execute_result",
          "data": {
            "text/plain": [
              "(150, 2)"
            ]
          },
          "metadata": {
            "tags": []
          },
          "execution_count": 33
        }
      ]
    },
    {
      "cell_type": "code",
      "metadata": {
        "id": "8Bka-jH8jhzf",
        "colab_type": "code",
        "colab": {}
      },
      "source": [
        "from sklearn.model_selection import train_test_split\n",
        "\n",
        "features_train, features_test, labels_train, labels_test = train_test_split(features, \n",
        "                                                                            labels, \n",
        "                                                                            test_size = 0.20, \n",
        "                                                                            random_state = 999)"
      ],
      "execution_count": 0,
      "outputs": []
    },
    {
      "cell_type": "code",
      "metadata": {
        "id": "0bw2ln0V3y5M",
        "colab_type": "code",
        "outputId": "7442e10e-c326-4d51-9ed0-263728ffadcb",
        "colab": {
          "base_uri": "https://localhost:8080/",
          "height": 34
        }
      },
      "source": [
        "len(features_train)"
      ],
      "execution_count": 35,
      "outputs": [
        {
          "output_type": "execute_result",
          "data": {
            "text/plain": [
              "120"
            ]
          },
          "metadata": {
            "tags": []
          },
          "execution_count": 35
        }
      ]
    },
    {
      "cell_type": "code",
      "metadata": {
        "id": "ulc9Z0KT33gF",
        "colab_type": "code",
        "outputId": "de16b45d-c12d-4caf-a2fa-9ba1a73fa6d2",
        "colab": {
          "base_uri": "https://localhost:8080/",
          "height": 34
        }
      },
      "source": [
        "len(labels_test)"
      ],
      "execution_count": 36,
      "outputs": [
        {
          "output_type": "execute_result",
          "data": {
            "text/plain": [
              "30"
            ]
          },
          "metadata": {
            "tags": []
          },
          "execution_count": 36
        }
      ]
    },
    {
      "cell_type": "code",
      "metadata": {
        "id": "UOX6URHa36_Z",
        "colab_type": "code",
        "outputId": "e5cc2e55-f474-4658-d512-d0cd49ce14a8",
        "colab": {
          "base_uri": "https://localhost:8080/",
          "height": 550
        }
      },
      "source": [
        "features_test"
      ],
      "execution_count": 37,
      "outputs": [
        {
          "output_type": "execute_result",
          "data": {
            "text/plain": [
              "array([[4.2, 1.5],\n",
              "       [3.6, 1.3],\n",
              "       [3.8, 1.1],\n",
              "       [1.3, 0.3],\n",
              "       [1.3, 0.2],\n",
              "       [1.4, 0.2],\n",
              "       [1.9, 0.4],\n",
              "       [3.9, 1.2],\n",
              "       [4.8, 1.8],\n",
              "       [1.4, 0.3],\n",
              "       [1.6, 0.4],\n",
              "       [5.9, 2.3],\n",
              "       [1.4, 0.2],\n",
              "       [5.6, 1.4],\n",
              "       [3.5, 1. ],\n",
              "       [5.8, 2.2],\n",
              "       [5.1, 1.8],\n",
              "       [5.3, 1.9],\n",
              "       [5.1, 1.9],\n",
              "       [1.7, 0.3],\n",
              "       [1.6, 0.2],\n",
              "       [1.5, 0.2],\n",
              "       [1.7, 0.2],\n",
              "       [5.2, 2.3],\n",
              "       [5.1, 1.6],\n",
              "       [1.4, 0.3],\n",
              "       [5.5, 1.8],\n",
              "       [5.1, 2.4],\n",
              "       [6.1, 1.9],\n",
              "       [5. , 1.5]])"
            ]
          },
          "metadata": {
            "tags": []
          },
          "execution_count": 37
        }
      ]
    },
    {
      "cell_type": "markdown",
      "metadata": {
        "id": "qjG_hhlnkLdO",
        "colab_type": "text"
      },
      "source": [
        "# Sınıflandırıcı Seçmek\n",
        "\n",
        "LightGBM Classification algoritmasını kullandım.\n",
        "\n",
        "I used the LightGBM Classification algorithm."
      ]
    },
    {
      "cell_type": "code",
      "metadata": {
        "id": "7CLOmaCDj9FW",
        "colab_type": "code",
        "outputId": "ec9d5640-d16a-4e64-ac80-e1681e582e59",
        "colab": {
          "base_uri": "https://localhost:8080/",
          "height": 123
        }
      },
      "source": [
        "\n",
        "import lightgbm as lgbm\n",
        "lgbm_reg=lgbm.LGBMClassifier()\n",
        "\n",
        "\n",
        "\n",
        "lgbm_reg.fit(features_train, labels_train)"
      ],
      "execution_count": 38,
      "outputs": [
        {
          "output_type": "execute_result",
          "data": {
            "text/plain": [
              "LGBMClassifier(boosting_type='gbdt', class_weight=None, colsample_bytree=1.0,\n",
              "               importance_type='split', learning_rate=0.1, max_depth=-1,\n",
              "               min_child_samples=20, min_child_weight=0.001, min_split_gain=0.0,\n",
              "               n_estimators=100, n_jobs=-1, num_leaves=31, objective=None,\n",
              "               random_state=None, reg_alpha=0.0, reg_lambda=0.0, silent=True,\n",
              "               subsample=1.0, subsample_for_bin=200000, subsample_freq=0)"
            ]
          },
          "metadata": {
            "tags": []
          },
          "execution_count": 38
        }
      ]
    },
    {
      "cell_type": "markdown",
      "metadata": {
        "id": "pPtuXq6AdNm-",
        "colab_type": "text"
      },
      "source": [
        ""
      ]
    },
    {
      "cell_type": "code",
      "metadata": {
        "id": "1wVYAMx1kON0",
        "colab_type": "code",
        "outputId": "eb5ae8d7-24c3-478d-a438-f0ac1acf2eb7",
        "colab": {
          "base_uri": "https://localhost:8080/",
          "height": 34
        }
      },
      "source": [
        "acc_test = lgbm_reg.score(features_test, labels_test)\n",
        "\n",
        "print (\"Test Verilerinde Başarı:\", acc_test)"
      ],
      "execution_count": 39,
      "outputs": [
        {
          "output_type": "stream",
          "text": [
            "Test Verilerinde Başarı: 0.9333333333333333\n"
          ],
          "name": "stdout"
        }
      ]
    },
    {
      "cell_type": "code",
      "metadata": {
        "id": "aw5DjeK6kXTp",
        "colab_type": "code",
        "outputId": "53f236c9-0b4f-4b16-b41f-66d6f02509cc",
        "colab": {
          "base_uri": "https://localhost:8080/",
          "height": 34
        }
      },
      "source": [
        "acc_train = lgbm_reg.score(features_train, labels_train)\n",
        "\n",
        "print (\"Eğitim Verilerinde Başarı:\", acc_train)"
      ],
      "execution_count": 40,
      "outputs": [
        {
          "output_type": "stream",
          "text": [
            "Eğitim Verilerinde Başarı: 0.9833333333333333\n"
          ],
          "name": "stdout"
        }
      ]
    },
    {
      "cell_type": "code",
      "metadata": {
        "id": "HeUG_y0J58u0",
        "colab_type": "code",
        "outputId": "a6f801b8-831a-4103-d1f7-c660bc67fdbe",
        "colab": {
          "base_uri": "https://localhost:8080/",
          "height": 1906
        }
      },
      "source": [
        "iris"
      ],
      "execution_count": 41,
      "outputs": [
        {
          "output_type": "execute_result",
          "data": {
            "text/html": [
              "<div>\n",
              "<style scoped>\n",
              "    .dataframe tbody tr th:only-of-type {\n",
              "        vertical-align: middle;\n",
              "    }\n",
              "\n",
              "    .dataframe tbody tr th {\n",
              "        vertical-align: top;\n",
              "    }\n",
              "\n",
              "    .dataframe thead th {\n",
              "        text-align: right;\n",
              "    }\n",
              "</style>\n",
              "<table border=\"1\" class=\"dataframe\">\n",
              "  <thead>\n",
              "    <tr style=\"text-align: right;\">\n",
              "      <th></th>\n",
              "      <th>sepal_length</th>\n",
              "      <th>sepal_width</th>\n",
              "      <th>petal_length</th>\n",
              "      <th>petal_width</th>\n",
              "      <th>species</th>\n",
              "    </tr>\n",
              "  </thead>\n",
              "  <tbody>\n",
              "    <tr>\n",
              "      <th>0</th>\n",
              "      <td>5.1</td>\n",
              "      <td>3.5</td>\n",
              "      <td>1.4</td>\n",
              "      <td>0.2</td>\n",
              "      <td>setosa</td>\n",
              "    </tr>\n",
              "    <tr>\n",
              "      <th>1</th>\n",
              "      <td>4.9</td>\n",
              "      <td>3.0</td>\n",
              "      <td>1.4</td>\n",
              "      <td>0.2</td>\n",
              "      <td>setosa</td>\n",
              "    </tr>\n",
              "    <tr>\n",
              "      <th>2</th>\n",
              "      <td>4.7</td>\n",
              "      <td>3.2</td>\n",
              "      <td>1.3</td>\n",
              "      <td>0.2</td>\n",
              "      <td>setosa</td>\n",
              "    </tr>\n",
              "    <tr>\n",
              "      <th>3</th>\n",
              "      <td>4.6</td>\n",
              "      <td>3.1</td>\n",
              "      <td>1.5</td>\n",
              "      <td>0.2</td>\n",
              "      <td>setosa</td>\n",
              "    </tr>\n",
              "    <tr>\n",
              "      <th>4</th>\n",
              "      <td>5.0</td>\n",
              "      <td>3.6</td>\n",
              "      <td>1.4</td>\n",
              "      <td>0.2</td>\n",
              "      <td>setosa</td>\n",
              "    </tr>\n",
              "    <tr>\n",
              "      <th>5</th>\n",
              "      <td>5.4</td>\n",
              "      <td>3.9</td>\n",
              "      <td>1.7</td>\n",
              "      <td>0.4</td>\n",
              "      <td>setosa</td>\n",
              "    </tr>\n",
              "    <tr>\n",
              "      <th>6</th>\n",
              "      <td>4.6</td>\n",
              "      <td>3.4</td>\n",
              "      <td>1.4</td>\n",
              "      <td>0.3</td>\n",
              "      <td>setosa</td>\n",
              "    </tr>\n",
              "    <tr>\n",
              "      <th>7</th>\n",
              "      <td>5.0</td>\n",
              "      <td>3.4</td>\n",
              "      <td>1.5</td>\n",
              "      <td>0.2</td>\n",
              "      <td>setosa</td>\n",
              "    </tr>\n",
              "    <tr>\n",
              "      <th>8</th>\n",
              "      <td>4.4</td>\n",
              "      <td>2.9</td>\n",
              "      <td>1.4</td>\n",
              "      <td>0.2</td>\n",
              "      <td>setosa</td>\n",
              "    </tr>\n",
              "    <tr>\n",
              "      <th>9</th>\n",
              "      <td>4.9</td>\n",
              "      <td>3.1</td>\n",
              "      <td>1.5</td>\n",
              "      <td>0.1</td>\n",
              "      <td>setosa</td>\n",
              "    </tr>\n",
              "    <tr>\n",
              "      <th>10</th>\n",
              "      <td>5.4</td>\n",
              "      <td>3.7</td>\n",
              "      <td>1.5</td>\n",
              "      <td>0.2</td>\n",
              "      <td>setosa</td>\n",
              "    </tr>\n",
              "    <tr>\n",
              "      <th>11</th>\n",
              "      <td>4.8</td>\n",
              "      <td>3.4</td>\n",
              "      <td>1.6</td>\n",
              "      <td>0.2</td>\n",
              "      <td>setosa</td>\n",
              "    </tr>\n",
              "    <tr>\n",
              "      <th>12</th>\n",
              "      <td>4.8</td>\n",
              "      <td>3.0</td>\n",
              "      <td>1.4</td>\n",
              "      <td>0.1</td>\n",
              "      <td>setosa</td>\n",
              "    </tr>\n",
              "    <tr>\n",
              "      <th>13</th>\n",
              "      <td>4.3</td>\n",
              "      <td>3.0</td>\n",
              "      <td>1.1</td>\n",
              "      <td>0.1</td>\n",
              "      <td>setosa</td>\n",
              "    </tr>\n",
              "    <tr>\n",
              "      <th>14</th>\n",
              "      <td>5.8</td>\n",
              "      <td>4.0</td>\n",
              "      <td>1.2</td>\n",
              "      <td>0.2</td>\n",
              "      <td>setosa</td>\n",
              "    </tr>\n",
              "    <tr>\n",
              "      <th>15</th>\n",
              "      <td>5.7</td>\n",
              "      <td>4.4</td>\n",
              "      <td>1.5</td>\n",
              "      <td>0.4</td>\n",
              "      <td>setosa</td>\n",
              "    </tr>\n",
              "    <tr>\n",
              "      <th>16</th>\n",
              "      <td>5.4</td>\n",
              "      <td>3.9</td>\n",
              "      <td>1.3</td>\n",
              "      <td>0.4</td>\n",
              "      <td>setosa</td>\n",
              "    </tr>\n",
              "    <tr>\n",
              "      <th>17</th>\n",
              "      <td>5.1</td>\n",
              "      <td>3.5</td>\n",
              "      <td>1.4</td>\n",
              "      <td>0.3</td>\n",
              "      <td>setosa</td>\n",
              "    </tr>\n",
              "    <tr>\n",
              "      <th>18</th>\n",
              "      <td>5.7</td>\n",
              "      <td>3.8</td>\n",
              "      <td>1.7</td>\n",
              "      <td>0.3</td>\n",
              "      <td>setosa</td>\n",
              "    </tr>\n",
              "    <tr>\n",
              "      <th>19</th>\n",
              "      <td>5.1</td>\n",
              "      <td>3.8</td>\n",
              "      <td>1.5</td>\n",
              "      <td>0.3</td>\n",
              "      <td>setosa</td>\n",
              "    </tr>\n",
              "    <tr>\n",
              "      <th>20</th>\n",
              "      <td>5.4</td>\n",
              "      <td>3.4</td>\n",
              "      <td>1.7</td>\n",
              "      <td>0.2</td>\n",
              "      <td>setosa</td>\n",
              "    </tr>\n",
              "    <tr>\n",
              "      <th>21</th>\n",
              "      <td>5.1</td>\n",
              "      <td>3.7</td>\n",
              "      <td>1.5</td>\n",
              "      <td>0.4</td>\n",
              "      <td>setosa</td>\n",
              "    </tr>\n",
              "    <tr>\n",
              "      <th>22</th>\n",
              "      <td>4.6</td>\n",
              "      <td>3.6</td>\n",
              "      <td>1.0</td>\n",
              "      <td>0.2</td>\n",
              "      <td>setosa</td>\n",
              "    </tr>\n",
              "    <tr>\n",
              "      <th>23</th>\n",
              "      <td>5.1</td>\n",
              "      <td>3.3</td>\n",
              "      <td>1.7</td>\n",
              "      <td>0.5</td>\n",
              "      <td>setosa</td>\n",
              "    </tr>\n",
              "    <tr>\n",
              "      <th>24</th>\n",
              "      <td>4.8</td>\n",
              "      <td>3.4</td>\n",
              "      <td>1.9</td>\n",
              "      <td>0.2</td>\n",
              "      <td>setosa</td>\n",
              "    </tr>\n",
              "    <tr>\n",
              "      <th>25</th>\n",
              "      <td>5.0</td>\n",
              "      <td>3.0</td>\n",
              "      <td>1.6</td>\n",
              "      <td>0.2</td>\n",
              "      <td>setosa</td>\n",
              "    </tr>\n",
              "    <tr>\n",
              "      <th>26</th>\n",
              "      <td>5.0</td>\n",
              "      <td>3.4</td>\n",
              "      <td>1.6</td>\n",
              "      <td>0.4</td>\n",
              "      <td>setosa</td>\n",
              "    </tr>\n",
              "    <tr>\n",
              "      <th>27</th>\n",
              "      <td>5.2</td>\n",
              "      <td>3.5</td>\n",
              "      <td>1.5</td>\n",
              "      <td>0.2</td>\n",
              "      <td>setosa</td>\n",
              "    </tr>\n",
              "    <tr>\n",
              "      <th>28</th>\n",
              "      <td>5.2</td>\n",
              "      <td>3.4</td>\n",
              "      <td>1.4</td>\n",
              "      <td>0.2</td>\n",
              "      <td>setosa</td>\n",
              "    </tr>\n",
              "    <tr>\n",
              "      <th>29</th>\n",
              "      <td>4.7</td>\n",
              "      <td>3.2</td>\n",
              "      <td>1.6</td>\n",
              "      <td>0.2</td>\n",
              "      <td>setosa</td>\n",
              "    </tr>\n",
              "    <tr>\n",
              "      <th>...</th>\n",
              "      <td>...</td>\n",
              "      <td>...</td>\n",
              "      <td>...</td>\n",
              "      <td>...</td>\n",
              "      <td>...</td>\n",
              "    </tr>\n",
              "    <tr>\n",
              "      <th>120</th>\n",
              "      <td>6.9</td>\n",
              "      <td>3.2</td>\n",
              "      <td>5.7</td>\n",
              "      <td>2.3</td>\n",
              "      <td>virginica</td>\n",
              "    </tr>\n",
              "    <tr>\n",
              "      <th>121</th>\n",
              "      <td>5.6</td>\n",
              "      <td>2.8</td>\n",
              "      <td>4.9</td>\n",
              "      <td>2.0</td>\n",
              "      <td>virginica</td>\n",
              "    </tr>\n",
              "    <tr>\n",
              "      <th>122</th>\n",
              "      <td>7.7</td>\n",
              "      <td>2.8</td>\n",
              "      <td>6.7</td>\n",
              "      <td>2.0</td>\n",
              "      <td>virginica</td>\n",
              "    </tr>\n",
              "    <tr>\n",
              "      <th>123</th>\n",
              "      <td>6.3</td>\n",
              "      <td>2.7</td>\n",
              "      <td>4.9</td>\n",
              "      <td>1.8</td>\n",
              "      <td>virginica</td>\n",
              "    </tr>\n",
              "    <tr>\n",
              "      <th>124</th>\n",
              "      <td>6.7</td>\n",
              "      <td>3.3</td>\n",
              "      <td>5.7</td>\n",
              "      <td>2.1</td>\n",
              "      <td>virginica</td>\n",
              "    </tr>\n",
              "    <tr>\n",
              "      <th>125</th>\n",
              "      <td>7.2</td>\n",
              "      <td>3.2</td>\n",
              "      <td>6.0</td>\n",
              "      <td>1.8</td>\n",
              "      <td>virginica</td>\n",
              "    </tr>\n",
              "    <tr>\n",
              "      <th>126</th>\n",
              "      <td>6.2</td>\n",
              "      <td>2.8</td>\n",
              "      <td>4.8</td>\n",
              "      <td>1.8</td>\n",
              "      <td>virginica</td>\n",
              "    </tr>\n",
              "    <tr>\n",
              "      <th>127</th>\n",
              "      <td>6.1</td>\n",
              "      <td>3.0</td>\n",
              "      <td>4.9</td>\n",
              "      <td>1.8</td>\n",
              "      <td>virginica</td>\n",
              "    </tr>\n",
              "    <tr>\n",
              "      <th>128</th>\n",
              "      <td>6.4</td>\n",
              "      <td>2.8</td>\n",
              "      <td>5.6</td>\n",
              "      <td>2.1</td>\n",
              "      <td>virginica</td>\n",
              "    </tr>\n",
              "    <tr>\n",
              "      <th>129</th>\n",
              "      <td>7.2</td>\n",
              "      <td>3.0</td>\n",
              "      <td>5.8</td>\n",
              "      <td>1.6</td>\n",
              "      <td>virginica</td>\n",
              "    </tr>\n",
              "    <tr>\n",
              "      <th>130</th>\n",
              "      <td>7.4</td>\n",
              "      <td>2.8</td>\n",
              "      <td>6.1</td>\n",
              "      <td>1.9</td>\n",
              "      <td>virginica</td>\n",
              "    </tr>\n",
              "    <tr>\n",
              "      <th>131</th>\n",
              "      <td>7.9</td>\n",
              "      <td>3.8</td>\n",
              "      <td>6.4</td>\n",
              "      <td>2.0</td>\n",
              "      <td>virginica</td>\n",
              "    </tr>\n",
              "    <tr>\n",
              "      <th>132</th>\n",
              "      <td>6.4</td>\n",
              "      <td>2.8</td>\n",
              "      <td>5.6</td>\n",
              "      <td>2.2</td>\n",
              "      <td>virginica</td>\n",
              "    </tr>\n",
              "    <tr>\n",
              "      <th>133</th>\n",
              "      <td>6.3</td>\n",
              "      <td>2.8</td>\n",
              "      <td>5.1</td>\n",
              "      <td>1.5</td>\n",
              "      <td>virginica</td>\n",
              "    </tr>\n",
              "    <tr>\n",
              "      <th>134</th>\n",
              "      <td>6.1</td>\n",
              "      <td>2.6</td>\n",
              "      <td>5.6</td>\n",
              "      <td>1.4</td>\n",
              "      <td>virginica</td>\n",
              "    </tr>\n",
              "    <tr>\n",
              "      <th>135</th>\n",
              "      <td>7.7</td>\n",
              "      <td>3.0</td>\n",
              "      <td>6.1</td>\n",
              "      <td>2.3</td>\n",
              "      <td>virginica</td>\n",
              "    </tr>\n",
              "    <tr>\n",
              "      <th>136</th>\n",
              "      <td>6.3</td>\n",
              "      <td>3.4</td>\n",
              "      <td>5.6</td>\n",
              "      <td>2.4</td>\n",
              "      <td>virginica</td>\n",
              "    </tr>\n",
              "    <tr>\n",
              "      <th>137</th>\n",
              "      <td>6.4</td>\n",
              "      <td>3.1</td>\n",
              "      <td>5.5</td>\n",
              "      <td>1.8</td>\n",
              "      <td>virginica</td>\n",
              "    </tr>\n",
              "    <tr>\n",
              "      <th>138</th>\n",
              "      <td>6.0</td>\n",
              "      <td>3.0</td>\n",
              "      <td>4.8</td>\n",
              "      <td>1.8</td>\n",
              "      <td>virginica</td>\n",
              "    </tr>\n",
              "    <tr>\n",
              "      <th>139</th>\n",
              "      <td>6.9</td>\n",
              "      <td>3.1</td>\n",
              "      <td>5.4</td>\n",
              "      <td>2.1</td>\n",
              "      <td>virginica</td>\n",
              "    </tr>\n",
              "    <tr>\n",
              "      <th>140</th>\n",
              "      <td>6.7</td>\n",
              "      <td>3.1</td>\n",
              "      <td>5.6</td>\n",
              "      <td>2.4</td>\n",
              "      <td>virginica</td>\n",
              "    </tr>\n",
              "    <tr>\n",
              "      <th>141</th>\n",
              "      <td>6.9</td>\n",
              "      <td>3.1</td>\n",
              "      <td>5.1</td>\n",
              "      <td>2.3</td>\n",
              "      <td>virginica</td>\n",
              "    </tr>\n",
              "    <tr>\n",
              "      <th>142</th>\n",
              "      <td>5.8</td>\n",
              "      <td>2.7</td>\n",
              "      <td>5.1</td>\n",
              "      <td>1.9</td>\n",
              "      <td>virginica</td>\n",
              "    </tr>\n",
              "    <tr>\n",
              "      <th>143</th>\n",
              "      <td>6.8</td>\n",
              "      <td>3.2</td>\n",
              "      <td>5.9</td>\n",
              "      <td>2.3</td>\n",
              "      <td>virginica</td>\n",
              "    </tr>\n",
              "    <tr>\n",
              "      <th>144</th>\n",
              "      <td>6.7</td>\n",
              "      <td>3.3</td>\n",
              "      <td>5.7</td>\n",
              "      <td>2.5</td>\n",
              "      <td>virginica</td>\n",
              "    </tr>\n",
              "    <tr>\n",
              "      <th>145</th>\n",
              "      <td>6.7</td>\n",
              "      <td>3.0</td>\n",
              "      <td>5.2</td>\n",
              "      <td>2.3</td>\n",
              "      <td>virginica</td>\n",
              "    </tr>\n",
              "    <tr>\n",
              "      <th>146</th>\n",
              "      <td>6.3</td>\n",
              "      <td>2.5</td>\n",
              "      <td>5.0</td>\n",
              "      <td>1.9</td>\n",
              "      <td>virginica</td>\n",
              "    </tr>\n",
              "    <tr>\n",
              "      <th>147</th>\n",
              "      <td>6.5</td>\n",
              "      <td>3.0</td>\n",
              "      <td>5.2</td>\n",
              "      <td>2.0</td>\n",
              "      <td>virginica</td>\n",
              "    </tr>\n",
              "    <tr>\n",
              "      <th>148</th>\n",
              "      <td>6.2</td>\n",
              "      <td>3.4</td>\n",
              "      <td>5.4</td>\n",
              "      <td>2.3</td>\n",
              "      <td>virginica</td>\n",
              "    </tr>\n",
              "    <tr>\n",
              "      <th>149</th>\n",
              "      <td>5.9</td>\n",
              "      <td>3.0</td>\n",
              "      <td>5.1</td>\n",
              "      <td>1.8</td>\n",
              "      <td>virginica</td>\n",
              "    </tr>\n",
              "  </tbody>\n",
              "</table>\n",
              "<p>150 rows × 5 columns</p>\n",
              "</div>"
            ],
            "text/plain": [
              "     sepal_length  sepal_width  petal_length  petal_width    species\n",
              "0             5.1          3.5           1.4          0.2     setosa\n",
              "1             4.9          3.0           1.4          0.2     setosa\n",
              "2             4.7          3.2           1.3          0.2     setosa\n",
              "3             4.6          3.1           1.5          0.2     setosa\n",
              "4             5.0          3.6           1.4          0.2     setosa\n",
              "5             5.4          3.9           1.7          0.4     setosa\n",
              "6             4.6          3.4           1.4          0.3     setosa\n",
              "7             5.0          3.4           1.5          0.2     setosa\n",
              "8             4.4          2.9           1.4          0.2     setosa\n",
              "9             4.9          3.1           1.5          0.1     setosa\n",
              "10            5.4          3.7           1.5          0.2     setosa\n",
              "11            4.8          3.4           1.6          0.2     setosa\n",
              "12            4.8          3.0           1.4          0.1     setosa\n",
              "13            4.3          3.0           1.1          0.1     setosa\n",
              "14            5.8          4.0           1.2          0.2     setosa\n",
              "15            5.7          4.4           1.5          0.4     setosa\n",
              "16            5.4          3.9           1.3          0.4     setosa\n",
              "17            5.1          3.5           1.4          0.3     setosa\n",
              "18            5.7          3.8           1.7          0.3     setosa\n",
              "19            5.1          3.8           1.5          0.3     setosa\n",
              "20            5.4          3.4           1.7          0.2     setosa\n",
              "21            5.1          3.7           1.5          0.4     setosa\n",
              "22            4.6          3.6           1.0          0.2     setosa\n",
              "23            5.1          3.3           1.7          0.5     setosa\n",
              "24            4.8          3.4           1.9          0.2     setosa\n",
              "25            5.0          3.0           1.6          0.2     setosa\n",
              "26            5.0          3.4           1.6          0.4     setosa\n",
              "27            5.2          3.5           1.5          0.2     setosa\n",
              "28            5.2          3.4           1.4          0.2     setosa\n",
              "29            4.7          3.2           1.6          0.2     setosa\n",
              "..            ...          ...           ...          ...        ...\n",
              "120           6.9          3.2           5.7          2.3  virginica\n",
              "121           5.6          2.8           4.9          2.0  virginica\n",
              "122           7.7          2.8           6.7          2.0  virginica\n",
              "123           6.3          2.7           4.9          1.8  virginica\n",
              "124           6.7          3.3           5.7          2.1  virginica\n",
              "125           7.2          3.2           6.0          1.8  virginica\n",
              "126           6.2          2.8           4.8          1.8  virginica\n",
              "127           6.1          3.0           4.9          1.8  virginica\n",
              "128           6.4          2.8           5.6          2.1  virginica\n",
              "129           7.2          3.0           5.8          1.6  virginica\n",
              "130           7.4          2.8           6.1          1.9  virginica\n",
              "131           7.9          3.8           6.4          2.0  virginica\n",
              "132           6.4          2.8           5.6          2.2  virginica\n",
              "133           6.3          2.8           5.1          1.5  virginica\n",
              "134           6.1          2.6           5.6          1.4  virginica\n",
              "135           7.7          3.0           6.1          2.3  virginica\n",
              "136           6.3          3.4           5.6          2.4  virginica\n",
              "137           6.4          3.1           5.5          1.8  virginica\n",
              "138           6.0          3.0           4.8          1.8  virginica\n",
              "139           6.9          3.1           5.4          2.1  virginica\n",
              "140           6.7          3.1           5.6          2.4  virginica\n",
              "141           6.9          3.1           5.1          2.3  virginica\n",
              "142           5.8          2.7           5.1          1.9  virginica\n",
              "143           6.8          3.2           5.9          2.3  virginica\n",
              "144           6.7          3.3           5.7          2.5  virginica\n",
              "145           6.7          3.0           5.2          2.3  virginica\n",
              "146           6.3          2.5           5.0          1.9  virginica\n",
              "147           6.5          3.0           5.2          2.0  virginica\n",
              "148           6.2          3.4           5.4          2.3  virginica\n",
              "149           5.9          3.0           5.1          1.8  virginica\n",
              "\n",
              "[150 rows x 5 columns]"
            ]
          },
          "metadata": {
            "tags": []
          },
          "execution_count": 41
        }
      ]
    },
    {
      "cell_type": "code",
      "metadata": {
        "id": "eWQoDH0GtQcJ",
        "colab_type": "code",
        "outputId": "9557563a-4b16-46dc-9edd-735a8522b757",
        "colab": {
          "base_uri": "https://localhost:8080/",
          "height": 34
        }
      },
      "source": [
        "features_test[27]"
      ],
      "execution_count": 42,
      "outputs": [
        {
          "output_type": "execute_result",
          "data": {
            "text/plain": [
              "array([5.1, 2.4])"
            ]
          },
          "metadata": {
            "tags": []
          },
          "execution_count": 42
        }
      ]
    },
    {
      "cell_type": "code",
      "metadata": {
        "id": "5UsFlu3CtbrC",
        "colab_type": "code",
        "outputId": "d2916d96-f3b9-4270-dbd7-219a5bab0937",
        "colab": {
          "base_uri": "https://localhost:8080/",
          "height": 34
        }
      },
      "source": [
        "labels_test[27]"
      ],
      "execution_count": 43,
      "outputs": [
        {
          "output_type": "execute_result",
          "data": {
            "text/plain": [
              "2"
            ]
          },
          "metadata": {
            "tags": []
          },
          "execution_count": 43
        }
      ]
    },
    {
      "cell_type": "code",
      "metadata": {
        "id": "XBJ8U1sGkic0",
        "colab_type": "code",
        "outputId": "dba26bba-cf5e-4f9c-df4c-244cf1787b15",
        "colab": {
          "base_uri": "https://localhost:8080/",
          "height": 34
        }
      },
      "source": [
        "bitki = np.array([[5.1,2.4]])\n",
        "sınıf = lgbm_reg.predict(bitki)\n",
        "\n",
        "print(sınıf)"
      ],
      "execution_count": 44,
      "outputs": [
        {
          "output_type": "stream",
          "text": [
            "[2]\n"
          ],
          "name": "stdout"
        }
      ]
    },
    {
      "cell_type": "code",
      "metadata": {
        "id": "oEV9cVkzlhsk",
        "colab_type": "code",
        "outputId": "a4d026a9-f263-4bff-e14e-4a0895cca3b6",
        "colab": {
          "base_uri": "https://localhost:8080/",
          "height": 1697
        }
      },
      "source": [
        "iris.head(55)"
      ],
      "execution_count": 45,
      "outputs": [
        {
          "output_type": "execute_result",
          "data": {
            "text/html": [
              "<div>\n",
              "<style scoped>\n",
              "    .dataframe tbody tr th:only-of-type {\n",
              "        vertical-align: middle;\n",
              "    }\n",
              "\n",
              "    .dataframe tbody tr th {\n",
              "        vertical-align: top;\n",
              "    }\n",
              "\n",
              "    .dataframe thead th {\n",
              "        text-align: right;\n",
              "    }\n",
              "</style>\n",
              "<table border=\"1\" class=\"dataframe\">\n",
              "  <thead>\n",
              "    <tr style=\"text-align: right;\">\n",
              "      <th></th>\n",
              "      <th>sepal_length</th>\n",
              "      <th>sepal_width</th>\n",
              "      <th>petal_length</th>\n",
              "      <th>petal_width</th>\n",
              "      <th>species</th>\n",
              "    </tr>\n",
              "  </thead>\n",
              "  <tbody>\n",
              "    <tr>\n",
              "      <th>0</th>\n",
              "      <td>5.1</td>\n",
              "      <td>3.5</td>\n",
              "      <td>1.4</td>\n",
              "      <td>0.2</td>\n",
              "      <td>setosa</td>\n",
              "    </tr>\n",
              "    <tr>\n",
              "      <th>1</th>\n",
              "      <td>4.9</td>\n",
              "      <td>3.0</td>\n",
              "      <td>1.4</td>\n",
              "      <td>0.2</td>\n",
              "      <td>setosa</td>\n",
              "    </tr>\n",
              "    <tr>\n",
              "      <th>2</th>\n",
              "      <td>4.7</td>\n",
              "      <td>3.2</td>\n",
              "      <td>1.3</td>\n",
              "      <td>0.2</td>\n",
              "      <td>setosa</td>\n",
              "    </tr>\n",
              "    <tr>\n",
              "      <th>3</th>\n",
              "      <td>4.6</td>\n",
              "      <td>3.1</td>\n",
              "      <td>1.5</td>\n",
              "      <td>0.2</td>\n",
              "      <td>setosa</td>\n",
              "    </tr>\n",
              "    <tr>\n",
              "      <th>4</th>\n",
              "      <td>5.0</td>\n",
              "      <td>3.6</td>\n",
              "      <td>1.4</td>\n",
              "      <td>0.2</td>\n",
              "      <td>setosa</td>\n",
              "    </tr>\n",
              "    <tr>\n",
              "      <th>5</th>\n",
              "      <td>5.4</td>\n",
              "      <td>3.9</td>\n",
              "      <td>1.7</td>\n",
              "      <td>0.4</td>\n",
              "      <td>setosa</td>\n",
              "    </tr>\n",
              "    <tr>\n",
              "      <th>6</th>\n",
              "      <td>4.6</td>\n",
              "      <td>3.4</td>\n",
              "      <td>1.4</td>\n",
              "      <td>0.3</td>\n",
              "      <td>setosa</td>\n",
              "    </tr>\n",
              "    <tr>\n",
              "      <th>7</th>\n",
              "      <td>5.0</td>\n",
              "      <td>3.4</td>\n",
              "      <td>1.5</td>\n",
              "      <td>0.2</td>\n",
              "      <td>setosa</td>\n",
              "    </tr>\n",
              "    <tr>\n",
              "      <th>8</th>\n",
              "      <td>4.4</td>\n",
              "      <td>2.9</td>\n",
              "      <td>1.4</td>\n",
              "      <td>0.2</td>\n",
              "      <td>setosa</td>\n",
              "    </tr>\n",
              "    <tr>\n",
              "      <th>9</th>\n",
              "      <td>4.9</td>\n",
              "      <td>3.1</td>\n",
              "      <td>1.5</td>\n",
              "      <td>0.1</td>\n",
              "      <td>setosa</td>\n",
              "    </tr>\n",
              "    <tr>\n",
              "      <th>10</th>\n",
              "      <td>5.4</td>\n",
              "      <td>3.7</td>\n",
              "      <td>1.5</td>\n",
              "      <td>0.2</td>\n",
              "      <td>setosa</td>\n",
              "    </tr>\n",
              "    <tr>\n",
              "      <th>11</th>\n",
              "      <td>4.8</td>\n",
              "      <td>3.4</td>\n",
              "      <td>1.6</td>\n",
              "      <td>0.2</td>\n",
              "      <td>setosa</td>\n",
              "    </tr>\n",
              "    <tr>\n",
              "      <th>12</th>\n",
              "      <td>4.8</td>\n",
              "      <td>3.0</td>\n",
              "      <td>1.4</td>\n",
              "      <td>0.1</td>\n",
              "      <td>setosa</td>\n",
              "    </tr>\n",
              "    <tr>\n",
              "      <th>13</th>\n",
              "      <td>4.3</td>\n",
              "      <td>3.0</td>\n",
              "      <td>1.1</td>\n",
              "      <td>0.1</td>\n",
              "      <td>setosa</td>\n",
              "    </tr>\n",
              "    <tr>\n",
              "      <th>14</th>\n",
              "      <td>5.8</td>\n",
              "      <td>4.0</td>\n",
              "      <td>1.2</td>\n",
              "      <td>0.2</td>\n",
              "      <td>setosa</td>\n",
              "    </tr>\n",
              "    <tr>\n",
              "      <th>15</th>\n",
              "      <td>5.7</td>\n",
              "      <td>4.4</td>\n",
              "      <td>1.5</td>\n",
              "      <td>0.4</td>\n",
              "      <td>setosa</td>\n",
              "    </tr>\n",
              "    <tr>\n",
              "      <th>16</th>\n",
              "      <td>5.4</td>\n",
              "      <td>3.9</td>\n",
              "      <td>1.3</td>\n",
              "      <td>0.4</td>\n",
              "      <td>setosa</td>\n",
              "    </tr>\n",
              "    <tr>\n",
              "      <th>17</th>\n",
              "      <td>5.1</td>\n",
              "      <td>3.5</td>\n",
              "      <td>1.4</td>\n",
              "      <td>0.3</td>\n",
              "      <td>setosa</td>\n",
              "    </tr>\n",
              "    <tr>\n",
              "      <th>18</th>\n",
              "      <td>5.7</td>\n",
              "      <td>3.8</td>\n",
              "      <td>1.7</td>\n",
              "      <td>0.3</td>\n",
              "      <td>setosa</td>\n",
              "    </tr>\n",
              "    <tr>\n",
              "      <th>19</th>\n",
              "      <td>5.1</td>\n",
              "      <td>3.8</td>\n",
              "      <td>1.5</td>\n",
              "      <td>0.3</td>\n",
              "      <td>setosa</td>\n",
              "    </tr>\n",
              "    <tr>\n",
              "      <th>20</th>\n",
              "      <td>5.4</td>\n",
              "      <td>3.4</td>\n",
              "      <td>1.7</td>\n",
              "      <td>0.2</td>\n",
              "      <td>setosa</td>\n",
              "    </tr>\n",
              "    <tr>\n",
              "      <th>21</th>\n",
              "      <td>5.1</td>\n",
              "      <td>3.7</td>\n",
              "      <td>1.5</td>\n",
              "      <td>0.4</td>\n",
              "      <td>setosa</td>\n",
              "    </tr>\n",
              "    <tr>\n",
              "      <th>22</th>\n",
              "      <td>4.6</td>\n",
              "      <td>3.6</td>\n",
              "      <td>1.0</td>\n",
              "      <td>0.2</td>\n",
              "      <td>setosa</td>\n",
              "    </tr>\n",
              "    <tr>\n",
              "      <th>23</th>\n",
              "      <td>5.1</td>\n",
              "      <td>3.3</td>\n",
              "      <td>1.7</td>\n",
              "      <td>0.5</td>\n",
              "      <td>setosa</td>\n",
              "    </tr>\n",
              "    <tr>\n",
              "      <th>24</th>\n",
              "      <td>4.8</td>\n",
              "      <td>3.4</td>\n",
              "      <td>1.9</td>\n",
              "      <td>0.2</td>\n",
              "      <td>setosa</td>\n",
              "    </tr>\n",
              "    <tr>\n",
              "      <th>25</th>\n",
              "      <td>5.0</td>\n",
              "      <td>3.0</td>\n",
              "      <td>1.6</td>\n",
              "      <td>0.2</td>\n",
              "      <td>setosa</td>\n",
              "    </tr>\n",
              "    <tr>\n",
              "      <th>26</th>\n",
              "      <td>5.0</td>\n",
              "      <td>3.4</td>\n",
              "      <td>1.6</td>\n",
              "      <td>0.4</td>\n",
              "      <td>setosa</td>\n",
              "    </tr>\n",
              "    <tr>\n",
              "      <th>27</th>\n",
              "      <td>5.2</td>\n",
              "      <td>3.5</td>\n",
              "      <td>1.5</td>\n",
              "      <td>0.2</td>\n",
              "      <td>setosa</td>\n",
              "    </tr>\n",
              "    <tr>\n",
              "      <th>28</th>\n",
              "      <td>5.2</td>\n",
              "      <td>3.4</td>\n",
              "      <td>1.4</td>\n",
              "      <td>0.2</td>\n",
              "      <td>setosa</td>\n",
              "    </tr>\n",
              "    <tr>\n",
              "      <th>29</th>\n",
              "      <td>4.7</td>\n",
              "      <td>3.2</td>\n",
              "      <td>1.6</td>\n",
              "      <td>0.2</td>\n",
              "      <td>setosa</td>\n",
              "    </tr>\n",
              "    <tr>\n",
              "      <th>30</th>\n",
              "      <td>4.8</td>\n",
              "      <td>3.1</td>\n",
              "      <td>1.6</td>\n",
              "      <td>0.2</td>\n",
              "      <td>setosa</td>\n",
              "    </tr>\n",
              "    <tr>\n",
              "      <th>31</th>\n",
              "      <td>5.4</td>\n",
              "      <td>3.4</td>\n",
              "      <td>1.5</td>\n",
              "      <td>0.4</td>\n",
              "      <td>setosa</td>\n",
              "    </tr>\n",
              "    <tr>\n",
              "      <th>32</th>\n",
              "      <td>5.2</td>\n",
              "      <td>4.1</td>\n",
              "      <td>1.5</td>\n",
              "      <td>0.1</td>\n",
              "      <td>setosa</td>\n",
              "    </tr>\n",
              "    <tr>\n",
              "      <th>33</th>\n",
              "      <td>5.5</td>\n",
              "      <td>4.2</td>\n",
              "      <td>1.4</td>\n",
              "      <td>0.2</td>\n",
              "      <td>setosa</td>\n",
              "    </tr>\n",
              "    <tr>\n",
              "      <th>34</th>\n",
              "      <td>4.9</td>\n",
              "      <td>3.1</td>\n",
              "      <td>1.5</td>\n",
              "      <td>0.1</td>\n",
              "      <td>setosa</td>\n",
              "    </tr>\n",
              "    <tr>\n",
              "      <th>35</th>\n",
              "      <td>5.0</td>\n",
              "      <td>3.2</td>\n",
              "      <td>1.2</td>\n",
              "      <td>0.2</td>\n",
              "      <td>setosa</td>\n",
              "    </tr>\n",
              "    <tr>\n",
              "      <th>36</th>\n",
              "      <td>5.5</td>\n",
              "      <td>3.5</td>\n",
              "      <td>1.3</td>\n",
              "      <td>0.2</td>\n",
              "      <td>setosa</td>\n",
              "    </tr>\n",
              "    <tr>\n",
              "      <th>37</th>\n",
              "      <td>4.9</td>\n",
              "      <td>3.1</td>\n",
              "      <td>1.5</td>\n",
              "      <td>0.1</td>\n",
              "      <td>setosa</td>\n",
              "    </tr>\n",
              "    <tr>\n",
              "      <th>38</th>\n",
              "      <td>4.4</td>\n",
              "      <td>3.0</td>\n",
              "      <td>1.3</td>\n",
              "      <td>0.2</td>\n",
              "      <td>setosa</td>\n",
              "    </tr>\n",
              "    <tr>\n",
              "      <th>39</th>\n",
              "      <td>5.1</td>\n",
              "      <td>3.4</td>\n",
              "      <td>1.5</td>\n",
              "      <td>0.2</td>\n",
              "      <td>setosa</td>\n",
              "    </tr>\n",
              "    <tr>\n",
              "      <th>40</th>\n",
              "      <td>5.0</td>\n",
              "      <td>3.5</td>\n",
              "      <td>1.3</td>\n",
              "      <td>0.3</td>\n",
              "      <td>setosa</td>\n",
              "    </tr>\n",
              "    <tr>\n",
              "      <th>41</th>\n",
              "      <td>4.5</td>\n",
              "      <td>2.3</td>\n",
              "      <td>1.3</td>\n",
              "      <td>0.3</td>\n",
              "      <td>setosa</td>\n",
              "    </tr>\n",
              "    <tr>\n",
              "      <th>42</th>\n",
              "      <td>4.4</td>\n",
              "      <td>3.2</td>\n",
              "      <td>1.3</td>\n",
              "      <td>0.2</td>\n",
              "      <td>setosa</td>\n",
              "    </tr>\n",
              "    <tr>\n",
              "      <th>43</th>\n",
              "      <td>5.0</td>\n",
              "      <td>3.5</td>\n",
              "      <td>1.6</td>\n",
              "      <td>0.6</td>\n",
              "      <td>setosa</td>\n",
              "    </tr>\n",
              "    <tr>\n",
              "      <th>44</th>\n",
              "      <td>5.1</td>\n",
              "      <td>3.8</td>\n",
              "      <td>1.9</td>\n",
              "      <td>0.4</td>\n",
              "      <td>setosa</td>\n",
              "    </tr>\n",
              "    <tr>\n",
              "      <th>45</th>\n",
              "      <td>4.8</td>\n",
              "      <td>3.0</td>\n",
              "      <td>1.4</td>\n",
              "      <td>0.3</td>\n",
              "      <td>setosa</td>\n",
              "    </tr>\n",
              "    <tr>\n",
              "      <th>46</th>\n",
              "      <td>5.1</td>\n",
              "      <td>3.8</td>\n",
              "      <td>1.6</td>\n",
              "      <td>0.2</td>\n",
              "      <td>setosa</td>\n",
              "    </tr>\n",
              "    <tr>\n",
              "      <th>47</th>\n",
              "      <td>4.6</td>\n",
              "      <td>3.2</td>\n",
              "      <td>1.4</td>\n",
              "      <td>0.2</td>\n",
              "      <td>setosa</td>\n",
              "    </tr>\n",
              "    <tr>\n",
              "      <th>48</th>\n",
              "      <td>5.3</td>\n",
              "      <td>3.7</td>\n",
              "      <td>1.5</td>\n",
              "      <td>0.2</td>\n",
              "      <td>setosa</td>\n",
              "    </tr>\n",
              "    <tr>\n",
              "      <th>49</th>\n",
              "      <td>5.0</td>\n",
              "      <td>3.3</td>\n",
              "      <td>1.4</td>\n",
              "      <td>0.2</td>\n",
              "      <td>setosa</td>\n",
              "    </tr>\n",
              "    <tr>\n",
              "      <th>50</th>\n",
              "      <td>7.0</td>\n",
              "      <td>3.2</td>\n",
              "      <td>4.7</td>\n",
              "      <td>1.4</td>\n",
              "      <td>versicolor</td>\n",
              "    </tr>\n",
              "    <tr>\n",
              "      <th>51</th>\n",
              "      <td>6.4</td>\n",
              "      <td>3.2</td>\n",
              "      <td>4.5</td>\n",
              "      <td>1.5</td>\n",
              "      <td>versicolor</td>\n",
              "    </tr>\n",
              "    <tr>\n",
              "      <th>52</th>\n",
              "      <td>6.9</td>\n",
              "      <td>3.1</td>\n",
              "      <td>4.9</td>\n",
              "      <td>1.5</td>\n",
              "      <td>versicolor</td>\n",
              "    </tr>\n",
              "    <tr>\n",
              "      <th>53</th>\n",
              "      <td>5.5</td>\n",
              "      <td>2.3</td>\n",
              "      <td>4.0</td>\n",
              "      <td>1.3</td>\n",
              "      <td>versicolor</td>\n",
              "    </tr>\n",
              "    <tr>\n",
              "      <th>54</th>\n",
              "      <td>6.5</td>\n",
              "      <td>2.8</td>\n",
              "      <td>4.6</td>\n",
              "      <td>1.5</td>\n",
              "      <td>versicolor</td>\n",
              "    </tr>\n",
              "  </tbody>\n",
              "</table>\n",
              "</div>"
            ],
            "text/plain": [
              "    sepal_length  sepal_width  petal_length  petal_width     species\n",
              "0            5.1          3.5           1.4          0.2      setosa\n",
              "1            4.9          3.0           1.4          0.2      setosa\n",
              "2            4.7          3.2           1.3          0.2      setosa\n",
              "3            4.6          3.1           1.5          0.2      setosa\n",
              "4            5.0          3.6           1.4          0.2      setosa\n",
              "5            5.4          3.9           1.7          0.4      setosa\n",
              "6            4.6          3.4           1.4          0.3      setosa\n",
              "7            5.0          3.4           1.5          0.2      setosa\n",
              "8            4.4          2.9           1.4          0.2      setosa\n",
              "9            4.9          3.1           1.5          0.1      setosa\n",
              "10           5.4          3.7           1.5          0.2      setosa\n",
              "11           4.8          3.4           1.6          0.2      setosa\n",
              "12           4.8          3.0           1.4          0.1      setosa\n",
              "13           4.3          3.0           1.1          0.1      setosa\n",
              "14           5.8          4.0           1.2          0.2      setosa\n",
              "15           5.7          4.4           1.5          0.4      setosa\n",
              "16           5.4          3.9           1.3          0.4      setosa\n",
              "17           5.1          3.5           1.4          0.3      setosa\n",
              "18           5.7          3.8           1.7          0.3      setosa\n",
              "19           5.1          3.8           1.5          0.3      setosa\n",
              "20           5.4          3.4           1.7          0.2      setosa\n",
              "21           5.1          3.7           1.5          0.4      setosa\n",
              "22           4.6          3.6           1.0          0.2      setosa\n",
              "23           5.1          3.3           1.7          0.5      setosa\n",
              "24           4.8          3.4           1.9          0.2      setosa\n",
              "25           5.0          3.0           1.6          0.2      setosa\n",
              "26           5.0          3.4           1.6          0.4      setosa\n",
              "27           5.2          3.5           1.5          0.2      setosa\n",
              "28           5.2          3.4           1.4          0.2      setosa\n",
              "29           4.7          3.2           1.6          0.2      setosa\n",
              "30           4.8          3.1           1.6          0.2      setosa\n",
              "31           5.4          3.4           1.5          0.4      setosa\n",
              "32           5.2          4.1           1.5          0.1      setosa\n",
              "33           5.5          4.2           1.4          0.2      setosa\n",
              "34           4.9          3.1           1.5          0.1      setosa\n",
              "35           5.0          3.2           1.2          0.2      setosa\n",
              "36           5.5          3.5           1.3          0.2      setosa\n",
              "37           4.9          3.1           1.5          0.1      setosa\n",
              "38           4.4          3.0           1.3          0.2      setosa\n",
              "39           5.1          3.4           1.5          0.2      setosa\n",
              "40           5.0          3.5           1.3          0.3      setosa\n",
              "41           4.5          2.3           1.3          0.3      setosa\n",
              "42           4.4          3.2           1.3          0.2      setosa\n",
              "43           5.0          3.5           1.6          0.6      setosa\n",
              "44           5.1          3.8           1.9          0.4      setosa\n",
              "45           4.8          3.0           1.4          0.3      setosa\n",
              "46           5.1          3.8           1.6          0.2      setosa\n",
              "47           4.6          3.2           1.4          0.2      setosa\n",
              "48           5.3          3.7           1.5          0.2      setosa\n",
              "49           5.0          3.3           1.4          0.2      setosa\n",
              "50           7.0          3.2           4.7          1.4  versicolor\n",
              "51           6.4          3.2           4.5          1.5  versicolor\n",
              "52           6.9          3.1           4.9          1.5  versicolor\n",
              "53           5.5          2.3           4.0          1.3  versicolor\n",
              "54           6.5          2.8           4.6          1.5  versicolor"
            ]
          },
          "metadata": {
            "tags": []
          },
          "execution_count": 45
        }
      ]
    },
    {
      "cell_type": "code",
      "metadata": {
        "id": "NEnxhE2bmAfI",
        "colab_type": "code",
        "outputId": "0678dc02-8ef8-46f1-ff4d-f33fe95298d9",
        "colab": {
          "base_uri": "https://localhost:8080/",
          "height": 34
        }
      },
      "source": [
        "bitki = np.array([[5.1,2.4]])\n",
        "sınıf_no = lgbm_reg.predict(bitki) \n",
        "\n",
        "sınıf_isim = le.inverse_transform(sınıf_no)\n",
        "print(sınıf_isim) "
      ],
      "execution_count": 46,
      "outputs": [
        {
          "output_type": "stream",
          "text": [
            "['virginica']\n"
          ],
          "name": "stdout"
        }
      ]
    }
  ]
}