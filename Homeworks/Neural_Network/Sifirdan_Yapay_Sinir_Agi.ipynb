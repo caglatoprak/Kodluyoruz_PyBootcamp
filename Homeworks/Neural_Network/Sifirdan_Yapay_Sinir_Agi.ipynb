{
  "nbformat": 4,
  "nbformat_minor": 0,
  "metadata": {
    "colab": {
      "name": "Sifirdan_Yapay_Sinir_Agi",
      "version": "0.3.2",
      "provenance": []
    },
    "kernelspec": {
      "name": "python3",
      "display_name": "Python 3"
    }
  },
  "cells": [
    {
      "cell_type": "markdown",
      "metadata": {
        "id": "xeJirXgVM0VX",
        "colab_type": "text"
      },
      "source": [
        "# Sıfırdan Yapay Sinir Ağı Yazma\n",
        "![alt text](https://i.hizliresim.com/r0dkq7.jpg)\n",
        "\n",
        "Şekilde görülen yapay sinir ağı (neural network) için ileri yönlü hesaplamayı Python'da yapınız.\n",
        "\n",
        "Mavi ile gösterilen nöronlarda aktivasyon fonksiyonu uygulamayı unutmayınız. Aktivasyon fonksiyonu olarak sigmoid kullanınız.\n",
        "Sizden istenenler:\n",
        "\n",
        "Verilen giriş, ağırlık ve bias değerlerine göre ileri yönlü hesaplamayı yapabilen Python programını yazmak.\n",
        "o1 ve o2 nöronlarının çıktılarını hesaplamak."
      ]
    },
    {
      "cell_type": "code",
      "metadata": {
        "id": "yHN8petmMu5R",
        "colab_type": "code",
        "colab": {}
      },
      "source": [
        "import numpy as np"
      ],
      "execution_count": 0,
      "outputs": []
    },
    {
      "cell_type": "code",
      "metadata": {
        "id": "T03VgOBrM9Pm",
        "colab_type": "code",
        "colab": {}
      },
      "source": [
        "\n",
        "i1, i2 = 0.05, 0.10\n",
        "w1, w2, w3, w4 = 0.15, 0.20, 0.25, 0.30\n",
        "b1, b2 = 0.35, 0.60\n",
        "w5, w6, w7, w8 = 0.40, 0.45, 0.50, 0.55\n",
        "n=0.5"
      ],
      "execution_count": 0,
      "outputs": []
    },
    {
      "cell_type": "code",
      "metadata": {
        "id": "3n5bKwV2NAik",
        "colab_type": "code",
        "colab": {}
      },
      "source": [
        "def sigmoid (x):\n",
        "  return 1/(1+np.exp(-x))\n",
        "  "
      ],
      "execution_count": 0,
      "outputs": []
    },
    {
      "cell_type": "code",
      "metadata": {
        "id": "ICVRDF2INCyW",
        "colab_type": "code",
        "colab": {
          "base_uri": "https://localhost:8080/",
          "height": 34
        },
        "outputId": "58c16117-3fca-419a-d139-5a6cc95db3a2"
      },
      "source": [
        "training_inputs_1 = np.array([i1,i2])\n",
        "training_inputs_1.resize(1,2)\n",
        "print(training_inputs_1)"
      ],
      "execution_count": 8,
      "outputs": [
        {
          "output_type": "stream",
          "text": [
            "[[0.05 0.1 ]]\n"
          ],
          "name": "stdout"
        }
      ]
    },
    {
      "cell_type": "code",
      "metadata": {
        "id": "77O3ap6_NNP0",
        "colab_type": "code",
        "colab": {
          "base_uri": "https://localhost:8080/",
          "height": 70
        },
        "outputId": "1fd53a26-82d6-4ed1-9e3c-d7ea0f2fd977"
      },
      "source": [
        "weights_1 = np.array([w1,w2])\n",
        "weights_1.resize(2,1)\n",
        "print(weights_1)\n",
        "h1 = float(sigmoid(np.dot(training_inputs_1,weights_1) + b1))\n",
        "print(\"h1:\",h1)"
      ],
      "execution_count": 9,
      "outputs": [
        {
          "output_type": "stream",
          "text": [
            "[[0.15]\n",
            " [0.2 ]]\n",
            "h1: 0.5932699921071872\n"
          ],
          "name": "stdout"
        }
      ]
    },
    {
      "cell_type": "code",
      "metadata": {
        "id": "qWtBp5RINQKl",
        "colab_type": "code",
        "colab": {
          "base_uri": "https://localhost:8080/",
          "height": 70
        },
        "outputId": "35a922de-0a1a-4a0f-bba7-0d85ce6e5254"
      },
      "source": [
        "weights_2= np.array([w3,w4])\n",
        "weights_2.resize(2,1)\n",
        "print(weights_2)\n",
        "h2 = float(sigmoid(np.dot(training_inputs_1,weights_2) + b1))\n",
        "print(\"h2:\", h2)"
      ],
      "execution_count": 10,
      "outputs": [
        {
          "output_type": "stream",
          "text": [
            "[[0.25]\n",
            " [0.3 ]]\n",
            "h2: 0.596884378259767\n"
          ],
          "name": "stdout"
        }
      ]
    },
    {
      "cell_type": "code",
      "metadata": {
        "id": "x3eWK7R2NUfl",
        "colab_type": "code",
        "colab": {
          "base_uri": "https://localhost:8080/",
          "height": 34
        },
        "outputId": "a6c8c4d9-72b3-4cc2-a0f4-962f814fb6ed"
      },
      "source": [
        "training_inputs_2 = np.array([h1,h2])\n",
        "training_inputs_2.resize(1,2)\n",
        "print(training_inputs_2)"
      ],
      "execution_count": 11,
      "outputs": [
        {
          "output_type": "stream",
          "text": [
            "[[0.59326999 0.59688438]]\n"
          ],
          "name": "stdout"
        }
      ]
    },
    {
      "cell_type": "code",
      "metadata": {
        "id": "9Y8zT4_CNW6t",
        "colab_type": "code",
        "colab": {
          "base_uri": "https://localhost:8080/",
          "height": 70
        },
        "outputId": "373b3250-5fa1-42fd-8461-136930d3af49"
      },
      "source": [
        "weights_3= np.array([w5,w6])\n",
        "weights_3.resize(2,1)\n",
        "print(weights_3)\n",
        "o1 = float(sigmoid(np.dot(training_inputs_2,weights_3) + b2))\n",
        "print(\"o1:\",o1)"
      ],
      "execution_count": 12,
      "outputs": [
        {
          "output_type": "stream",
          "text": [
            "[[0.4 ]\n",
            " [0.45]]\n",
            "o1: 0.7513650695523157\n"
          ],
          "name": "stdout"
        }
      ]
    },
    {
      "cell_type": "code",
      "metadata": {
        "id": "mpOnRNTxNZoc",
        "colab_type": "code",
        "colab": {
          "base_uri": "https://localhost:8080/",
          "height": 70
        },
        "outputId": "9288d05f-742f-4177-aa0b-7be2e626445b"
      },
      "source": [
        "weights_4 = np.array([w7,w8])\n",
        "weights_4.resize(2,1)\n",
        "print(weights_4)\n",
        "o2 = float(sigmoid(np.dot(training_inputs_2, weights_4) + b2))\n",
        "print(\"o2:\",o2)"
      ],
      "execution_count": 13,
      "outputs": [
        {
          "output_type": "stream",
          "text": [
            "[[0.5 ]\n",
            " [0.55]]\n",
            "o2: 0.7729284653214625\n"
          ],
          "name": "stdout"
        }
      ]
    },
    {
      "cell_type": "code",
      "metadata": {
        "id": "cmQXBs40NcNR",
        "colab_type": "code",
        "colab": {
          "base_uri": "https://localhost:8080/",
          "height": 34
        },
        "outputId": "994e2b7d-c0e8-46e9-f655-1079dc8a0f9d"
      },
      "source": [
        "output_inputs = np.array([o1,o2])\n",
        "output_inputs.resize(1,2)\n",
        "print(output_inputs)"
      ],
      "execution_count": 14,
      "outputs": [
        {
          "output_type": "stream",
          "text": [
            "[[0.75136507 0.77292847]]\n"
          ],
          "name": "stdout"
        }
      ]
    }
  ]
}