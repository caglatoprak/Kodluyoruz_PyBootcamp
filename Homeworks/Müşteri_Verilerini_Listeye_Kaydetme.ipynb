{
  "nbformat": 4,
  "nbformat_minor": 0,
  "metadata": {
    "colab": {
      "name": "Müşteri Verilerini Listeye Kaydetme",
      "version": "0.3.2",
      "provenance": []
    },
    "kernelspec": {
      "name": "python3",
      "display_name": "Python 3"
    }
  },
  "cells": [
    {
      "cell_type": "markdown",
      "metadata": {
        "id": "WJfSqAgk13Dn",
        "colab_type": "text"
      },
      "source": [
        "Müşteri Verilerini  Listeye Kaydetme\n",
        "\n",
        "İstenenler:\n",
        "Müşterilerin isim, soy isim ve doğum yılını kaydeden,\n",
        "Kayıt edilen verileri bir listeye yazan,\n",
        "Ekrana bu bilgileri her bir yeni satırda yazdıran bir program yazınız."
      ]
    },
    {
      "cell_type": "code",
      "metadata": {
        "id": "auQRYkFzsMfP",
        "colab_type": "code",
        "outputId": "35838d9b-98f8-45a4-db3c-cbfc75437293",
        "colab": {
          "base_uri": "https://localhost:8080/",
          "height": 123
        }
      },
      "source": [
        "list=[]\n",
        "müsteri_isim = input(\"İsminizi giriniz:\")\n",
        "müsteri_soyismi = input(\"Soyisminizi giriniz:\")\n",
        "müsteri_dogum_yılı = int(input(\"Doğum yılınızı giriniz:\"))\n",
        "\n",
        "list.append(müsteri_isim)\n",
        "list.append(müsteri_soyismi)\n",
        "list.append(müsteri_dogum_yılı)\n",
        "\n",
        "for liste in list:\n",
        "  print(liste)"
      ],
      "execution_count": 0,
      "outputs": [
        {
          "output_type": "stream",
          "text": [
            "İsminizi giriniz:cagla\n",
            "Soyisminizi giriniz:toprak\n",
            "Doğum yılınızı giriniz:1994\n",
            "cagla\n",
            "toprak\n",
            "1994\n"
          ],
          "name": "stdout"
        }
      ]
    }
  ]
}